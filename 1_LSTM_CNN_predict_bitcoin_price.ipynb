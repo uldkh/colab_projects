{
  "nbformat": 4,
  "nbformat_minor": 0,
  "metadata": {
    "colab": {
      "name": "1 LSTM CNN - predict bitcoin price",
      "provenance": [],
      "collapsed_sections": [],
      "machine_shape": "hm",
      "authorship_tag": "ABX9TyOWI62g5rPm681ZWJQ47xjO",
      "include_colab_link": true
    },
    "kernelspec": {
      "name": "python3",
      "display_name": "Python 3"
    },
    "language_info": {
      "name": "python"
    },
    "accelerator": "GPU"
  },
  "cells": [
    {
      "cell_type": "markdown",
      "metadata": {
        "id": "view-in-github",
        "colab_type": "text"
      },
      "source": [
        "<a href=\"https://colab.research.google.com/github/uldkh/colab_projects/blob/main/1_LSTM_CNN_predict_bitcoin_price.ipynb\" target=\"_parent\"><img src=\"https://colab.research.google.com/assets/colab-badge.svg\" alt=\"Open In Colab\"/></a>"
      ]
    },
    {
      "cell_type": "code",
      "source": [
        "from google.colab import drive\n",
        "from google.colab import files\n",
        "\n",
        "import pandas as pd \n",
        "import numpy as np\n",
        "import matplotlib.pyplot as plt\n",
        "import mplfinance as mpf\n",
        "import seaborn as sns\n",
        "from statsmodels.graphics.tsaplots import plot_acf\n",
        "\n",
        "import keras.backend as K\n",
        "import keras_tuner as kt\n",
        "from tensorflow.keras.callbacks import ModelCheckpoint, EarlyStopping, ReduceLROnPlateau, LambdaCallback\n",
        "from tensorflow.keras import utils\n",
        "from tensorflow.keras.optimizers import Adam\n",
        "from tensorflow.keras.models import Sequential, Model\n",
        "from tensorflow.keras.layers import concatenate, Input, Dense, Dropout, BatchNormalization, Flatten, Conv1D, Conv2D, GlobalMaxPooling1D, LSTM, RepeatVector, TimeDistributed, MaxPooling1D\n",
        "from tensorflow.keras.preprocessing.sequence import TimeseriesGenerator\n",
        "\n",
        "from sklearn.decomposition import PCA\n",
        "from sklearn.preprocessing import StandardScaler, MinMaxScaler\n",
        "from factor_analyzer.factor_analyzer import calculate_kmo\n",
        "from statsmodels.tsa.stattools import acf, ccf\n",
        "\n",
        "import os\n",
        "import gc\n",
        "import requests\n",
        "import pickle\n",
        "import time\n",
        "from tqdm import tqdm"
      ],
      "metadata": {
        "id": "WA046CM_8SRS"
      },
      "execution_count": null,
      "outputs": []
    },
    {
      "cell_type": "code",
      "source": [
        "def set_plt_params(fontsize=11, linewidth=2.3, figsize=(17.87, 10.45)):\n",
        "\n",
        "  plt.rcParams['axes.prop_cycle'] = plt.cycler(color=['#0072B2', '#009E73', '#D55E00', '#CC79A7', '#F0E442', '#56B4E9'])\n",
        "  plt.rcParams['lines.linewidth'] = linewidth\n",
        "  plt.rc(\"axes\", facecolor=\"#181c27\", edgecolor=\"#2a2e39\", grid=True)\n",
        "  plt.rc(\"figure\", figsize=figsize, facecolor=\"#181c27\", edgecolor=\"#2a2e39\")\n",
        "  plt.rc(\"grid\", color=\"#2a2e39\", linestyle=\"dashed\")\n",
        "  plt.rc(\"xtick\", labelsize=fontsize, color=\"#b2b5be\", bottom=False)\n",
        "  plt.rc(\"ytick\", labelsize=fontsize, color=\"#b2b5be\", left=False)\n",
        "  plt.rc(\"legend\", handleheight=1, handlelength=2)\n",
        "  plt.rc(\"text\", color=\"#b2b5be\")\n",
        "\n",
        "set_plt_params()"
      ],
      "metadata": {
        "id": "vivtl3q2Eqmq"
      },
      "execution_count": null,
      "outputs": []
    },
    {
      "cell_type": "code",
      "source": [
        "drive.mount(\"/content/drive\")"
      ],
      "metadata": {
        "id": "P0AVgYr-R45J",
        "colab": {
          "base_uri": "https://localhost:8080/"
        },
        "outputId": "3a60c347-c6c3-4788-caae-63ae20c5c885"
      },
      "execution_count": null,
      "outputs": [
        {
          "output_type": "stream",
          "name": "stdout",
          "text": [
            "Mounted at /content/drive\n"
          ]
        }
      ]
    },
    {
      "cell_type": "code",
      "source": [
        "!unrar x \"/content/drive/My Drive/DataBases/btc_data\""
      ],
      "metadata": {
        "id": "NlFz2DCAR470",
        "colab": {
          "base_uri": "https://localhost:8080/"
        },
        "outputId": "22e9f5f0-a316-4672-a946-70ed3f14ef3b"
      },
      "execution_count": null,
      "outputs": [
        {
          "output_type": "stream",
          "name": "stdout",
          "text": [
            "\n",
            "UNRAR 5.50 freeware      Copyright (c) 1993-2017 Alexander Roshal\n",
            "\n",
            "\n",
            "Extracting from /content/drive/My Drive/DataBases/btc_data.rar\n",
            "\n",
            "Creating    btc_data                                                  OK\n",
            "Extracting  btc_data/Bitstamp_BTCUSD_2017_minute.csv                     \b\b\b\b  0%\b\b\b\b  1%\b\b\b\b  2%\b\b\b\b  3%\b\b\b\b  4%\b\b\b\b  5%\b\b\b\b  6%\b\b\b\b  7%\b\b\b\b  8%\b\b\b\b  9%\b\b\b\b 10%\b\b\b\b 11%\b\b\b\b 12%\b\b\b\b 13%\b\b\b\b 14%\b\b\b\b 15%\b\b\b\b 16%\b\b\b\b 17%\b\b\b\b 18%\b\b\b\b\b  OK \n",
            "Extracting  btc_data/Bitstamp_BTCUSD_2018_minute.csv                     \b\b\b\b 18%\b\b\b\b 19%\b\b\b\b 20%\b\b\b\b 21%\b\b\b\b 22%\b\b\b\b 23%\b\b\b\b 24%\b\b\b\b 25%\b\b\b\b 26%\b\b\b\b 27%\b\b\b\b 28%\b\b\b\b 29%\b\b\b\b 30%\b\b\b\b 31%\b\b\b\b 32%\b\b\b\b 33%\b\b\b\b 34%\b\b\b\b 35%\b\b\b\b 36%\b\b\b\b 37%\b\b\b\b 38%\b\b\b\b\b  OK \n",
            "Extracting  btc_data/Bitstamp_BTCUSD_2019_minute.csv                     \b\b\b\b 38%\b\b\b\b 39%\b\b\b\b 40%\b\b\b\b 41%\b\b\b\b 42%\b\b\b\b 43%\b\b\b\b 44%\b\b\b\b 45%\b\b\b\b 46%\b\b\b\b 47%\b\b\b\b 48%\b\b\b\b 49%\b\b\b\b 50%\b\b\b\b 51%\b\b\b\b 52%\b\b\b\b 53%\b\b\b\b 54%\b\b\b\b 55%\b\b\b\b 56%\b\b\b\b 57%\b\b\b\b 58%\b\b\b\b\b  OK \n",
            "Extracting  btc_data/Bitstamp_BTCUSD_2020_minute.csv                     \b\b\b\b 58%\b\b\b\b 59%\b\b\b\b 60%\b\b\b\b 61%\b\b\b\b 62%\b\b\b\b 63%\b\b\b\b 64%\b\b\b\b 65%\b\b\b\b 66%\b\b\b\b 67%\b\b\b\b 68%\b\b\b\b 69%\b\b\b\b 70%\b\b\b\b 71%\b\b\b\b 72%\b\b\b\b 73%\b\b\b\b 74%\b\b\b\b 75%\b\b\b\b 76%\b\b\b\b 77%\b\b\b\b 78%\b\b\b\b\b  OK \n",
            "Extracting  btc_data/Bitstamp_BTCUSD_2021_minute.csv                     \b\b\b\b 78%\b\b\b\b 79%\b\b\b\b 80%\b\b\b\b 81%\b\b\b\b 82%\b\b\b\b 83%\b\b\b\b 84%\b\b\b\b 85%\b\b\b\b 86%\b\b\b\b 87%\b\b\b\b 88%\b\b\b\b 89%\b\b\b\b 90%\b\b\b\b 91%\b\b\b\b 92%\b\b\b\b 93%\b\b\b\b 94%\b\b\b\b 95%\b\b\b\b 96%\b\b\b\b 97%\b\b\b\b 98%\b\b\b\b 99%\b\b\b\b\b  OK \n",
            "All OK\n"
          ]
        }
      ]
    },
    {
      "cell_type": "markdown",
      "source": [
        "#Сбор и конкат данных по цене"
      ],
      "metadata": {
        "id": "ElOou3gf54hh"
      }
    },
    {
      "cell_type": "code",
      "source": [
        "dir = \"/content/btc_data/\"\n",
        "\n",
        "for i in tqdm(os.listdir(dir)):\n",
        "  if \"2017\" in dir + i:\n",
        "    btc_data_2017 = pd.read_csv(dir + i)\n",
        "  elif \"2018\" in dir + i:\n",
        "    btc_data_2018 = pd.read_csv(dir + i)\n",
        "  elif \"2019\" in dir + i:\n",
        "    btc_data_2019 = pd.read_csv(dir + i)\n",
        "  elif \"2020\" in dir + i:\n",
        "    btc_data_2020 = pd.read_csv(dir + i)\n",
        "  elif \"2021\" in dir + i:\n",
        "    btc_data_2021 = pd.read_csv(dir + i)"
      ],
      "metadata": {
        "colab": {
          "base_uri": "https://localhost:8080/"
        },
        "id": "cWt01FslR4-K",
        "outputId": "7b0578a3-8bcf-40fe-f98f-a4094b765b34"
      },
      "execution_count": null,
      "outputs": [
        {
          "output_type": "stream",
          "name": "stderr",
          "text": [
            "100%|██████████| 5/5 [00:03<00:00,  1.56it/s]\n"
          ]
        }
      ]
    },
    {
      "cell_type": "code",
      "source": [
        "btc_data_2017.shape, btc_data_2018.shape, btc_data_2019.shape, btc_data_2020.shape, btc_data_2021.shape"
      ],
      "metadata": {
        "colab": {
          "base_uri": "https://localhost:8080/"
        },
        "id": "mrh_KRs4e5AR",
        "outputId": "3837c390-e3d8-48e9-9702-a4d46de7c6a9"
      },
      "execution_count": null,
      "outputs": [
        {
          "output_type": "execute_result",
          "data": {
            "text/plain": [
              "((525599, 9), (525599, 9), (525599, 9), (487722, 9), (497487, 9))"
            ]
          },
          "metadata": {},
          "execution_count": 9
        }
      ]
    },
    {
      "cell_type": "code",
      "source": [
        "btc_data_2017.head()"
      ],
      "metadata": {
        "colab": {
          "base_uri": "https://localhost:8080/",
          "height": 206
        },
        "id": "RBFTTPC_AX7M",
        "outputId": "f719f33a-0487-4172-fcb7-dfe16f1485f4"
      },
      "execution_count": null,
      "outputs": [
        {
          "output_type": "execute_result",
          "data": {
            "text/html": [
              "\n",
              "  <div id=\"df-8e9cf634-6b22-41fd-861a-e77474d2c8b7\">\n",
              "    <div class=\"colab-df-container\">\n",
              "      <div>\n",
              "<style scoped>\n",
              "    .dataframe tbody tr th:only-of-type {\n",
              "        vertical-align: middle;\n",
              "    }\n",
              "\n",
              "    .dataframe tbody tr th {\n",
              "        vertical-align: top;\n",
              "    }\n",
              "\n",
              "    .dataframe thead th {\n",
              "        text-align: right;\n",
              "    }\n",
              "</style>\n",
              "<table border=\"1\" class=\"dataframe\">\n",
              "  <thead>\n",
              "    <tr style=\"text-align: right;\">\n",
              "      <th></th>\n",
              "      <th>unix</th>\n",
              "      <th>date</th>\n",
              "      <th>symbol</th>\n",
              "      <th>open</th>\n",
              "      <th>high</th>\n",
              "      <th>low</th>\n",
              "      <th>close</th>\n",
              "      <th>Volume BTC</th>\n",
              "      <th>Volume USD</th>\n",
              "    </tr>\n",
              "  </thead>\n",
              "  <tbody>\n",
              "    <tr>\n",
              "      <th>0</th>\n",
              "      <td>1514764740</td>\n",
              "      <td>2017-12-31 23:59:00</td>\n",
              "      <td>BTC/USD</td>\n",
              "      <td>13913.28</td>\n",
              "      <td>13913.28</td>\n",
              "      <td>13867.18</td>\n",
              "      <td>13880.00</td>\n",
              "      <td>0.591748</td>\n",
              "      <td>8213.456549</td>\n",
              "    </tr>\n",
              "    <tr>\n",
              "      <th>1</th>\n",
              "      <td>1514764680</td>\n",
              "      <td>2017-12-31 23:58:00</td>\n",
              "      <td>BTC/USD</td>\n",
              "      <td>13913.26</td>\n",
              "      <td>13953.83</td>\n",
              "      <td>13884.69</td>\n",
              "      <td>13953.77</td>\n",
              "      <td>1.398784</td>\n",
              "      <td>19518.309658</td>\n",
              "    </tr>\n",
              "    <tr>\n",
              "      <th>2</th>\n",
              "      <td>1514764620</td>\n",
              "      <td>2017-12-31 23:57:00</td>\n",
              "      <td>BTC/USD</td>\n",
              "      <td>13908.73</td>\n",
              "      <td>13913.26</td>\n",
              "      <td>13874.99</td>\n",
              "      <td>13913.26</td>\n",
              "      <td>0.775012</td>\n",
              "      <td>10782.944294</td>\n",
              "    </tr>\n",
              "    <tr>\n",
              "      <th>3</th>\n",
              "      <td>1514764560</td>\n",
              "      <td>2017-12-31 23:56:00</td>\n",
              "      <td>BTC/USD</td>\n",
              "      <td>13827.00</td>\n",
              "      <td>13908.69</td>\n",
              "      <td>13827.00</td>\n",
              "      <td>13859.58</td>\n",
              "      <td>0.666459</td>\n",
              "      <td>9236.841134</td>\n",
              "    </tr>\n",
              "    <tr>\n",
              "      <th>4</th>\n",
              "      <td>1514764500</td>\n",
              "      <td>2017-12-31 23:55:00</td>\n",
              "      <td>BTC/USD</td>\n",
              "      <td>13825.05</td>\n",
              "      <td>13825.05</td>\n",
              "      <td>13825.05</td>\n",
              "      <td>13825.05</td>\n",
              "      <td>0.065501</td>\n",
              "      <td>905.560130</td>\n",
              "    </tr>\n",
              "  </tbody>\n",
              "</table>\n",
              "</div>\n",
              "      <button class=\"colab-df-convert\" onclick=\"convertToInteractive('df-8e9cf634-6b22-41fd-861a-e77474d2c8b7')\"\n",
              "              title=\"Convert this dataframe to an interactive table.\"\n",
              "              style=\"display:none;\">\n",
              "        \n",
              "  <svg xmlns=\"http://www.w3.org/2000/svg\" height=\"24px\"viewBox=\"0 0 24 24\"\n",
              "       width=\"24px\">\n",
              "    <path d=\"M0 0h24v24H0V0z\" fill=\"none\"/>\n",
              "    <path d=\"M18.56 5.44l.94 2.06.94-2.06 2.06-.94-2.06-.94-.94-2.06-.94 2.06-2.06.94zm-11 1L8.5 8.5l.94-2.06 2.06-.94-2.06-.94L8.5 2.5l-.94 2.06-2.06.94zm10 10l.94 2.06.94-2.06 2.06-.94-2.06-.94-.94-2.06-.94 2.06-2.06.94z\"/><path d=\"M17.41 7.96l-1.37-1.37c-.4-.4-.92-.59-1.43-.59-.52 0-1.04.2-1.43.59L10.3 9.45l-7.72 7.72c-.78.78-.78 2.05 0 2.83L4 21.41c.39.39.9.59 1.41.59.51 0 1.02-.2 1.41-.59l7.78-7.78 2.81-2.81c.8-.78.8-2.07 0-2.86zM5.41 20L4 18.59l7.72-7.72 1.47 1.35L5.41 20z\"/>\n",
              "  </svg>\n",
              "      </button>\n",
              "      \n",
              "  <style>\n",
              "    .colab-df-container {\n",
              "      display:flex;\n",
              "      flex-wrap:wrap;\n",
              "      gap: 12px;\n",
              "    }\n",
              "\n",
              "    .colab-df-convert {\n",
              "      background-color: #E8F0FE;\n",
              "      border: none;\n",
              "      border-radius: 50%;\n",
              "      cursor: pointer;\n",
              "      display: none;\n",
              "      fill: #1967D2;\n",
              "      height: 32px;\n",
              "      padding: 0 0 0 0;\n",
              "      width: 32px;\n",
              "    }\n",
              "\n",
              "    .colab-df-convert:hover {\n",
              "      background-color: #E2EBFA;\n",
              "      box-shadow: 0px 1px 2px rgba(60, 64, 67, 0.3), 0px 1px 3px 1px rgba(60, 64, 67, 0.15);\n",
              "      fill: #174EA6;\n",
              "    }\n",
              "\n",
              "    [theme=dark] .colab-df-convert {\n",
              "      background-color: #3B4455;\n",
              "      fill: #D2E3FC;\n",
              "    }\n",
              "\n",
              "    [theme=dark] .colab-df-convert:hover {\n",
              "      background-color: #434B5C;\n",
              "      box-shadow: 0px 1px 3px 1px rgba(0, 0, 0, 0.15);\n",
              "      filter: drop-shadow(0px 1px 2px rgba(0, 0, 0, 0.3));\n",
              "      fill: #FFFFFF;\n",
              "    }\n",
              "  </style>\n",
              "\n",
              "      <script>\n",
              "        const buttonEl =\n",
              "          document.querySelector('#df-8e9cf634-6b22-41fd-861a-e77474d2c8b7 button.colab-df-convert');\n",
              "        buttonEl.style.display =\n",
              "          google.colab.kernel.accessAllowed ? 'block' : 'none';\n",
              "\n",
              "        async function convertToInteractive(key) {\n",
              "          const element = document.querySelector('#df-8e9cf634-6b22-41fd-861a-e77474d2c8b7');\n",
              "          const dataTable =\n",
              "            await google.colab.kernel.invokeFunction('convertToInteractive',\n",
              "                                                     [key], {});\n",
              "          if (!dataTable) return;\n",
              "\n",
              "          const docLinkHtml = 'Like what you see? Visit the ' +\n",
              "            '<a target=\"_blank\" href=https://colab.research.google.com/notebooks/data_table.ipynb>data table notebook</a>'\n",
              "            + ' to learn more about interactive tables.';\n",
              "          element.innerHTML = '';\n",
              "          dataTable['output_type'] = 'display_data';\n",
              "          await google.colab.output.renderOutput(dataTable, element);\n",
              "          const docLink = document.createElement('div');\n",
              "          docLink.innerHTML = docLinkHtml;\n",
              "          element.appendChild(docLink);\n",
              "        }\n",
              "      </script>\n",
              "    </div>\n",
              "  </div>\n",
              "  "
            ],
            "text/plain": [
              "         unix                 date   symbol  ...     close  Volume BTC    Volume USD\n",
              "0  1514764740  2017-12-31 23:59:00  BTC/USD  ...  13880.00    0.591748   8213.456549\n",
              "1  1514764680  2017-12-31 23:58:00  BTC/USD  ...  13953.77    1.398784  19518.309658\n",
              "2  1514764620  2017-12-31 23:57:00  BTC/USD  ...  13913.26    0.775012  10782.944294\n",
              "3  1514764560  2017-12-31 23:56:00  BTC/USD  ...  13859.58    0.666459   9236.841134\n",
              "4  1514764500  2017-12-31 23:55:00  BTC/USD  ...  13825.05    0.065501    905.560130\n",
              "\n",
              "[5 rows x 9 columns]"
            ]
          },
          "metadata": {},
          "execution_count": 10
        }
      ]
    },
    {
      "cell_type": "code",
      "source": [
        "btc_data = pd.concat([btc_data_2019, btc_data_2018, btc_data_2017], ignore_index=True)"
      ],
      "metadata": {
        "id": "KCPyKj9Dhh-q"
      },
      "execution_count": null,
      "outputs": []
    },
    {
      "cell_type": "code",
      "source": [
        "btc_data.head()"
      ],
      "metadata": {
        "colab": {
          "base_uri": "https://localhost:8080/",
          "height": 206
        },
        "id": "HlWjziC6ARhy",
        "outputId": "baa6b42a-abec-49c0-da4a-a7a1617d7aaa"
      },
      "execution_count": null,
      "outputs": [
        {
          "output_type": "execute_result",
          "data": {
            "text/html": [
              "\n",
              "  <div id=\"df-ae7a8e31-96e4-4d44-b8a2-488acb6f3896\">\n",
              "    <div class=\"colab-df-container\">\n",
              "      <div>\n",
              "<style scoped>\n",
              "    .dataframe tbody tr th:only-of-type {\n",
              "        vertical-align: middle;\n",
              "    }\n",
              "\n",
              "    .dataframe tbody tr th {\n",
              "        vertical-align: top;\n",
              "    }\n",
              "\n",
              "    .dataframe thead th {\n",
              "        text-align: right;\n",
              "    }\n",
              "</style>\n",
              "<table border=\"1\" class=\"dataframe\">\n",
              "  <thead>\n",
              "    <tr style=\"text-align: right;\">\n",
              "      <th></th>\n",
              "      <th>unix</th>\n",
              "      <th>date</th>\n",
              "      <th>symbol</th>\n",
              "      <th>open</th>\n",
              "      <th>high</th>\n",
              "      <th>low</th>\n",
              "      <th>close</th>\n",
              "      <th>Volume BTC</th>\n",
              "      <th>Volume USD</th>\n",
              "    </tr>\n",
              "  </thead>\n",
              "  <tbody>\n",
              "    <tr>\n",
              "      <th>0</th>\n",
              "      <td>1577836740</td>\n",
              "      <td>2019-12-31 23:59:00</td>\n",
              "      <td>BTC/USD</td>\n",
              "      <td>7167.30</td>\n",
              "      <td>7171.22</td>\n",
              "      <td>7167.30</td>\n",
              "      <td>7168.36</td>\n",
              "      <td>0.191448</td>\n",
              "      <td>1372.366393</td>\n",
              "    </tr>\n",
              "    <tr>\n",
              "      <th>1</th>\n",
              "      <td>1577836680</td>\n",
              "      <td>2019-12-31 23:58:00</td>\n",
              "      <td>BTC/USD</td>\n",
              "      <td>7166.89</td>\n",
              "      <td>7167.30</td>\n",
              "      <td>7161.99</td>\n",
              "      <td>7167.30</td>\n",
              "      <td>0.568868</td>\n",
              "      <td>4077.245538</td>\n",
              "    </tr>\n",
              "    <tr>\n",
              "      <th>2</th>\n",
              "      <td>1577836620</td>\n",
              "      <td>2019-12-31 23:57:00</td>\n",
              "      <td>BTC/USD</td>\n",
              "      <td>7164.22</td>\n",
              "      <td>7170.80</td>\n",
              "      <td>7161.65</td>\n",
              "      <td>7166.89</td>\n",
              "      <td>3.959440</td>\n",
              "      <td>28376.874525</td>\n",
              "    </tr>\n",
              "    <tr>\n",
              "      <th>3</th>\n",
              "      <td>1577836560</td>\n",
              "      <td>2019-12-31 23:56:00</td>\n",
              "      <td>BTC/USD</td>\n",
              "      <td>7182.49</td>\n",
              "      <td>7182.49</td>\n",
              "      <td>7170.20</td>\n",
              "      <td>7170.20</td>\n",
              "      <td>6.248892</td>\n",
              "      <td>44805.802550</td>\n",
              "    </tr>\n",
              "    <tr>\n",
              "      <th>4</th>\n",
              "      <td>1577836500</td>\n",
              "      <td>2019-12-31 23:55:00</td>\n",
              "      <td>BTC/USD</td>\n",
              "      <td>7175.69</td>\n",
              "      <td>7176.68</td>\n",
              "      <td>7175.69</td>\n",
              "      <td>7176.68</td>\n",
              "      <td>0.016877</td>\n",
              "      <td>121.122623</td>\n",
              "    </tr>\n",
              "  </tbody>\n",
              "</table>\n",
              "</div>\n",
              "      <button class=\"colab-df-convert\" onclick=\"convertToInteractive('df-ae7a8e31-96e4-4d44-b8a2-488acb6f3896')\"\n",
              "              title=\"Convert this dataframe to an interactive table.\"\n",
              "              style=\"display:none;\">\n",
              "        \n",
              "  <svg xmlns=\"http://www.w3.org/2000/svg\" height=\"24px\"viewBox=\"0 0 24 24\"\n",
              "       width=\"24px\">\n",
              "    <path d=\"M0 0h24v24H0V0z\" fill=\"none\"/>\n",
              "    <path d=\"M18.56 5.44l.94 2.06.94-2.06 2.06-.94-2.06-.94-.94-2.06-.94 2.06-2.06.94zm-11 1L8.5 8.5l.94-2.06 2.06-.94-2.06-.94L8.5 2.5l-.94 2.06-2.06.94zm10 10l.94 2.06.94-2.06 2.06-.94-2.06-.94-.94-2.06-.94 2.06-2.06.94z\"/><path d=\"M17.41 7.96l-1.37-1.37c-.4-.4-.92-.59-1.43-.59-.52 0-1.04.2-1.43.59L10.3 9.45l-7.72 7.72c-.78.78-.78 2.05 0 2.83L4 21.41c.39.39.9.59 1.41.59.51 0 1.02-.2 1.41-.59l7.78-7.78 2.81-2.81c.8-.78.8-2.07 0-2.86zM5.41 20L4 18.59l7.72-7.72 1.47 1.35L5.41 20z\"/>\n",
              "  </svg>\n",
              "      </button>\n",
              "      \n",
              "  <style>\n",
              "    .colab-df-container {\n",
              "      display:flex;\n",
              "      flex-wrap:wrap;\n",
              "      gap: 12px;\n",
              "    }\n",
              "\n",
              "    .colab-df-convert {\n",
              "      background-color: #E8F0FE;\n",
              "      border: none;\n",
              "      border-radius: 50%;\n",
              "      cursor: pointer;\n",
              "      display: none;\n",
              "      fill: #1967D2;\n",
              "      height: 32px;\n",
              "      padding: 0 0 0 0;\n",
              "      width: 32px;\n",
              "    }\n",
              "\n",
              "    .colab-df-convert:hover {\n",
              "      background-color: #E2EBFA;\n",
              "      box-shadow: 0px 1px 2px rgba(60, 64, 67, 0.3), 0px 1px 3px 1px rgba(60, 64, 67, 0.15);\n",
              "      fill: #174EA6;\n",
              "    }\n",
              "\n",
              "    [theme=dark] .colab-df-convert {\n",
              "      background-color: #3B4455;\n",
              "      fill: #D2E3FC;\n",
              "    }\n",
              "\n",
              "    [theme=dark] .colab-df-convert:hover {\n",
              "      background-color: #434B5C;\n",
              "      box-shadow: 0px 1px 3px 1px rgba(0, 0, 0, 0.15);\n",
              "      filter: drop-shadow(0px 1px 2px rgba(0, 0, 0, 0.3));\n",
              "      fill: #FFFFFF;\n",
              "    }\n",
              "  </style>\n",
              "\n",
              "      <script>\n",
              "        const buttonEl =\n",
              "          document.querySelector('#df-ae7a8e31-96e4-4d44-b8a2-488acb6f3896 button.colab-df-convert');\n",
              "        buttonEl.style.display =\n",
              "          google.colab.kernel.accessAllowed ? 'block' : 'none';\n",
              "\n",
              "        async function convertToInteractive(key) {\n",
              "          const element = document.querySelector('#df-ae7a8e31-96e4-4d44-b8a2-488acb6f3896');\n",
              "          const dataTable =\n",
              "            await google.colab.kernel.invokeFunction('convertToInteractive',\n",
              "                                                     [key], {});\n",
              "          if (!dataTable) return;\n",
              "\n",
              "          const docLinkHtml = 'Like what you see? Visit the ' +\n",
              "            '<a target=\"_blank\" href=https://colab.research.google.com/notebooks/data_table.ipynb>data table notebook</a>'\n",
              "            + ' to learn more about interactive tables.';\n",
              "          element.innerHTML = '';\n",
              "          dataTable['output_type'] = 'display_data';\n",
              "          await google.colab.output.renderOutput(dataTable, element);\n",
              "          const docLink = document.createElement('div');\n",
              "          docLink.innerHTML = docLinkHtml;\n",
              "          element.appendChild(docLink);\n",
              "        }\n",
              "      </script>\n",
              "    </div>\n",
              "  </div>\n",
              "  "
            ],
            "text/plain": [
              "         unix                 date   symbol  ...    close  Volume BTC    Volume USD\n",
              "0  1577836740  2019-12-31 23:59:00  BTC/USD  ...  7168.36    0.191448   1372.366393\n",
              "1  1577836680  2019-12-31 23:58:00  BTC/USD  ...  7167.30    0.568868   4077.245538\n",
              "2  1577836620  2019-12-31 23:57:00  BTC/USD  ...  7166.89    3.959440  28376.874525\n",
              "3  1577836560  2019-12-31 23:56:00  BTC/USD  ...  7170.20    6.248892  44805.802550\n",
              "4  1577836500  2019-12-31 23:55:00  BTC/USD  ...  7176.68    0.016877    121.122623\n",
              "\n",
              "[5 rows x 9 columns]"
            ]
          },
          "metadata": {},
          "execution_count": 12
        }
      ]
    },
    {
      "cell_type": "code",
      "source": [
        "(abs(btc_data.close - btc_data[\"Volume USD\"] / btc_data[\"Volume BTC\"])).max()"
      ],
      "metadata": {
        "colab": {
          "base_uri": "https://localhost:8080/"
        },
        "id": "8z_hfzd_FG-d",
        "outputId": "7ff62503-a278-49ab-9975-1abb38c2a867"
      },
      "execution_count": null,
      "outputs": [
        {
          "output_type": "execute_result",
          "data": {
            "text/plain": [
              "7.275957614183426e-12"
            ]
          },
          "metadata": {},
          "execution_count": 13
        }
      ]
    },
    {
      "cell_type": "code",
      "source": [
        "pd.to_datetime(btc_data_2020.iloc[0, 0], unit=\"s\") - pd.to_datetime(btc_data_2020.iloc[-1, 0], unit=\"s\")"
      ],
      "metadata": {
        "colab": {
          "base_uri": "https://localhost:8080/"
        },
        "id": "MMFo_QqghjeQ",
        "outputId": "7941ccc9-0147-4980-92f6-8f5ac276476a"
      },
      "execution_count": null,
      "outputs": [
        {
          "output_type": "execute_result",
          "data": {
            "text/plain": [
              "Timedelta('365 days 23:58:00')"
            ]
          },
          "metadata": {},
          "execution_count": 14
        }
      ]
    },
    {
      "cell_type": "code",
      "source": [
        "def check_date(series_unix_data):\n",
        "  missed_date_indexes = []\n",
        "  cur_time = series_unix_data[0]\n",
        "\n",
        "  for i, v in enumerate(series_unix_data):\n",
        "\n",
        "    if v != cur_time:\n",
        "      missed_date_indexes.append(i)\n",
        "    cur_time = v - 60\n",
        "\n",
        "  return missed_date_indexes"
      ],
      "metadata": {
        "id": "9bIteW4ChiJO"
      },
      "execution_count": null,
      "outputs": []
    },
    {
      "cell_type": "code",
      "source": [
        "missed_date_indexes = check_date(btc_data.unix)\n",
        "len(missed_date_indexes)"
      ],
      "metadata": {
        "colab": {
          "base_uri": "https://localhost:8080/"
        },
        "id": "0k0kOv_XWtw_",
        "outputId": "c809c344-0b58-43ee-cc6f-aa950932d82e"
      },
      "execution_count": null,
      "outputs": [
        {
          "output_type": "execute_result",
          "data": {
            "text/plain": [
              "2"
            ]
          },
          "metadata": {},
          "execution_count": 16
        }
      ]
    },
    {
      "cell_type": "code",
      "source": [
        "missed_date_indexes"
      ],
      "metadata": {
        "colab": {
          "base_uri": "https://localhost:8080/"
        },
        "id": "3JTz8NsjWz0U",
        "outputId": "6399027e-cc3c-4912-aaa3-1d7650724413"
      },
      "execution_count": null,
      "outputs": [
        {
          "output_type": "execute_result",
          "data": {
            "text/plain": [
              "[525599, 1051198]"
            ]
          },
          "metadata": {},
          "execution_count": 17
        }
      ]
    },
    {
      "cell_type": "code",
      "source": [
        "for i in missed_date_indexes:\n",
        "  print(btc_data.date[i-1 : i+1])"
      ],
      "metadata": {
        "colab": {
          "base_uri": "https://localhost:8080/"
        },
        "id": "oJcY7BjWW2bl",
        "outputId": "090c36fe-cd2c-47ad-8f48-a31332f02466"
      },
      "execution_count": null,
      "outputs": [
        {
          "output_type": "stream",
          "name": "stdout",
          "text": [
            "525598    2019-01-01 00:01:00\n",
            "525599    2018-12-31 23:59:00\n",
            "Name: date, dtype: object\n",
            "1051197    2018-01-01 00:01:00\n",
            "1051198    2017-12-31 23:59:00\n",
            "Name: date, dtype: object\n"
          ]
        }
      ]
    },
    {
      "cell_type": "code",
      "source": [
        "btc_data.info()"
      ],
      "metadata": {
        "colab": {
          "base_uri": "https://localhost:8080/"
        },
        "id": "G4QZNJHxZRAc",
        "outputId": "8dc3de10-0016-483b-bbb3-a10eb173015e"
      },
      "execution_count": null,
      "outputs": [
        {
          "output_type": "stream",
          "name": "stdout",
          "text": [
            "<class 'pandas.core.frame.DataFrame'>\n",
            "RangeIndex: 1576797 entries, 0 to 1576796\n",
            "Data columns (total 9 columns):\n",
            " #   Column      Non-Null Count    Dtype  \n",
            "---  ------      --------------    -----  \n",
            " 0   unix        1576797 non-null  int64  \n",
            " 1   date        1576797 non-null  object \n",
            " 2   symbol      1576797 non-null  object \n",
            " 3   open        1576797 non-null  float64\n",
            " 4   high        1576797 non-null  float64\n",
            " 5   low         1576797 non-null  float64\n",
            " 6   close       1576797 non-null  float64\n",
            " 7   Volume BTC  1576797 non-null  float64\n",
            " 8   Volume USD  1576797 non-null  float64\n",
            "dtypes: float64(6), int64(1), object(2)\n",
            "memory usage: 108.3+ MB\n"
          ]
        }
      ]
    },
    {
      "cell_type": "code",
      "source": [
        "def insert_row(df, row_number, row_value):\n",
        "\n",
        "    df1 = df[:row_number]\n",
        "    df2 = df[row_number:]\n",
        "    df1.loc[row_number] = row_value\n",
        "    df_result = pd.concat([df1, df2])\n",
        "    df_result.index = [*range(df_result.shape[0])]\n",
        "  \n",
        "    return df_result"
      ],
      "metadata": {
        "id": "pyiD-6_igR-1"
      },
      "execution_count": null,
      "outputs": []
    },
    {
      "cell_type": "code",
      "source": [
        "row_value_1 = [1546300800, \"2019-01-01 00:00:00\", \"BTC/USD\", 3693.30, 3696.30, 3692.62, 3694.72, 9.738855, 35982.841473]\n",
        "btc_data = insert_row(btc_data, missed_date_indexes[0], row_value_1)"
      ],
      "metadata": {
        "id": "RCVFd8VQb3A1"
      },
      "execution_count": null,
      "outputs": []
    },
    {
      "cell_type": "code",
      "source": [
        "btc_data[missed_date_indexes[0]-1: missed_date_indexes[0] +2]"
      ],
      "metadata": {
        "id": "Ivsidh9ZhZx2",
        "colab": {
          "base_uri": "https://localhost:8080/",
          "height": 143
        },
        "outputId": "ede1cdb0-ec3f-4622-a3c5-da5bd7188b71"
      },
      "execution_count": null,
      "outputs": [
        {
          "output_type": "execute_result",
          "data": {
            "text/html": [
              "\n",
              "  <div id=\"df-fb3ef2db-d2e9-4b70-99a0-5dd816823ef5\">\n",
              "    <div class=\"colab-df-container\">\n",
              "      <div>\n",
              "<style scoped>\n",
              "    .dataframe tbody tr th:only-of-type {\n",
              "        vertical-align: middle;\n",
              "    }\n",
              "\n",
              "    .dataframe tbody tr th {\n",
              "        vertical-align: top;\n",
              "    }\n",
              "\n",
              "    .dataframe thead th {\n",
              "        text-align: right;\n",
              "    }\n",
              "</style>\n",
              "<table border=\"1\" class=\"dataframe\">\n",
              "  <thead>\n",
              "    <tr style=\"text-align: right;\">\n",
              "      <th></th>\n",
              "      <th>unix</th>\n",
              "      <th>date</th>\n",
              "      <th>symbol</th>\n",
              "      <th>open</th>\n",
              "      <th>high</th>\n",
              "      <th>low</th>\n",
              "      <th>close</th>\n",
              "      <th>Volume BTC</th>\n",
              "      <th>Volume USD</th>\n",
              "    </tr>\n",
              "  </thead>\n",
              "  <tbody>\n",
              "    <tr>\n",
              "      <th>525598</th>\n",
              "      <td>1546300860</td>\n",
              "      <td>2019-01-01 00:01:00</td>\n",
              "      <td>BTC/USD</td>\n",
              "      <td>3694.72</td>\n",
              "      <td>3694.72</td>\n",
              "      <td>3690.65</td>\n",
              "      <td>3690.65</td>\n",
              "      <td>9.500151</td>\n",
              "      <td>35061.732362</td>\n",
              "    </tr>\n",
              "    <tr>\n",
              "      <th>525599</th>\n",
              "      <td>1546300800</td>\n",
              "      <td>2019-01-01 00:00:00</td>\n",
              "      <td>BTC/USD</td>\n",
              "      <td>3693.30</td>\n",
              "      <td>3696.30</td>\n",
              "      <td>3692.62</td>\n",
              "      <td>3694.72</td>\n",
              "      <td>9.738855</td>\n",
              "      <td>35982.841473</td>\n",
              "    </tr>\n",
              "    <tr>\n",
              "      <th>525600</th>\n",
              "      <td>1546300740</td>\n",
              "      <td>2018-12-31 23:59:00</td>\n",
              "      <td>BTC/USD</td>\n",
              "      <td>3689.26</td>\n",
              "      <td>3693.30</td>\n",
              "      <td>3689.26</td>\n",
              "      <td>3693.30</td>\n",
              "      <td>9.838855</td>\n",
              "      <td>36337.841473</td>\n",
              "    </tr>\n",
              "  </tbody>\n",
              "</table>\n",
              "</div>\n",
              "      <button class=\"colab-df-convert\" onclick=\"convertToInteractive('df-fb3ef2db-d2e9-4b70-99a0-5dd816823ef5')\"\n",
              "              title=\"Convert this dataframe to an interactive table.\"\n",
              "              style=\"display:none;\">\n",
              "        \n",
              "  <svg xmlns=\"http://www.w3.org/2000/svg\" height=\"24px\"viewBox=\"0 0 24 24\"\n",
              "       width=\"24px\">\n",
              "    <path d=\"M0 0h24v24H0V0z\" fill=\"none\"/>\n",
              "    <path d=\"M18.56 5.44l.94 2.06.94-2.06 2.06-.94-2.06-.94-.94-2.06-.94 2.06-2.06.94zm-11 1L8.5 8.5l.94-2.06 2.06-.94-2.06-.94L8.5 2.5l-.94 2.06-2.06.94zm10 10l.94 2.06.94-2.06 2.06-.94-2.06-.94-.94-2.06-.94 2.06-2.06.94z\"/><path d=\"M17.41 7.96l-1.37-1.37c-.4-.4-.92-.59-1.43-.59-.52 0-1.04.2-1.43.59L10.3 9.45l-7.72 7.72c-.78.78-.78 2.05 0 2.83L4 21.41c.39.39.9.59 1.41.59.51 0 1.02-.2 1.41-.59l7.78-7.78 2.81-2.81c.8-.78.8-2.07 0-2.86zM5.41 20L4 18.59l7.72-7.72 1.47 1.35L5.41 20z\"/>\n",
              "  </svg>\n",
              "      </button>\n",
              "      \n",
              "  <style>\n",
              "    .colab-df-container {\n",
              "      display:flex;\n",
              "      flex-wrap:wrap;\n",
              "      gap: 12px;\n",
              "    }\n",
              "\n",
              "    .colab-df-convert {\n",
              "      background-color: #E8F0FE;\n",
              "      border: none;\n",
              "      border-radius: 50%;\n",
              "      cursor: pointer;\n",
              "      display: none;\n",
              "      fill: #1967D2;\n",
              "      height: 32px;\n",
              "      padding: 0 0 0 0;\n",
              "      width: 32px;\n",
              "    }\n",
              "\n",
              "    .colab-df-convert:hover {\n",
              "      background-color: #E2EBFA;\n",
              "      box-shadow: 0px 1px 2px rgba(60, 64, 67, 0.3), 0px 1px 3px 1px rgba(60, 64, 67, 0.15);\n",
              "      fill: #174EA6;\n",
              "    }\n",
              "\n",
              "    [theme=dark] .colab-df-convert {\n",
              "      background-color: #3B4455;\n",
              "      fill: #D2E3FC;\n",
              "    }\n",
              "\n",
              "    [theme=dark] .colab-df-convert:hover {\n",
              "      background-color: #434B5C;\n",
              "      box-shadow: 0px 1px 3px 1px rgba(0, 0, 0, 0.15);\n",
              "      filter: drop-shadow(0px 1px 2px rgba(0, 0, 0, 0.3));\n",
              "      fill: #FFFFFF;\n",
              "    }\n",
              "  </style>\n",
              "\n",
              "      <script>\n",
              "        const buttonEl =\n",
              "          document.querySelector('#df-fb3ef2db-d2e9-4b70-99a0-5dd816823ef5 button.colab-df-convert');\n",
              "        buttonEl.style.display =\n",
              "          google.colab.kernel.accessAllowed ? 'block' : 'none';\n",
              "\n",
              "        async function convertToInteractive(key) {\n",
              "          const element = document.querySelector('#df-fb3ef2db-d2e9-4b70-99a0-5dd816823ef5');\n",
              "          const dataTable =\n",
              "            await google.colab.kernel.invokeFunction('convertToInteractive',\n",
              "                                                     [key], {});\n",
              "          if (!dataTable) return;\n",
              "\n",
              "          const docLinkHtml = 'Like what you see? Visit the ' +\n",
              "            '<a target=\"_blank\" href=https://colab.research.google.com/notebooks/data_table.ipynb>data table notebook</a>'\n",
              "            + ' to learn more about interactive tables.';\n",
              "          element.innerHTML = '';\n",
              "          dataTable['output_type'] = 'display_data';\n",
              "          await google.colab.output.renderOutput(dataTable, element);\n",
              "          const docLink = document.createElement('div');\n",
              "          docLink.innerHTML = docLinkHtml;\n",
              "          element.appendChild(docLink);\n",
              "        }\n",
              "      </script>\n",
              "    </div>\n",
              "  </div>\n",
              "  "
            ],
            "text/plain": [
              "              unix                 date  ... Volume BTC    Volume USD\n",
              "525598  1546300860  2019-01-01 00:01:00  ...   9.500151  35061.732362\n",
              "525599  1546300800  2019-01-01 00:00:00  ...   9.738855  35982.841473\n",
              "525600  1546300740  2018-12-31 23:59:00  ...   9.838855  36337.841473\n",
              "\n",
              "[3 rows x 9 columns]"
            ]
          },
          "metadata": {},
          "execution_count": 22
        }
      ]
    },
    {
      "cell_type": "code",
      "source": [
        "missed_date_indexes = check_date(btc_data.unix)\n",
        "missed_date_indexes"
      ],
      "metadata": {
        "colab": {
          "base_uri": "https://localhost:8080/"
        },
        "id": "PaVRIHmyhiI-",
        "outputId": "3b1a7b9b-8c9e-4781-8099-d062ae7b0c2d"
      },
      "execution_count": null,
      "outputs": [
        {
          "output_type": "execute_result",
          "data": {
            "text/plain": [
              "[1051199]"
            ]
          },
          "metadata": {},
          "execution_count": 23
        }
      ]
    },
    {
      "cell_type": "code",
      "source": [
        "row_value_2 = [1514764800, \"2018-01-01 00:00:00\", \"BTC/USD\", 13880.00, 13890.41, 13839.04, 13841.01, 0.738855, 10226.841473]\n",
        "btc_data = insert_row(btc_data, missed_date_indexes[0], row_value_2)"
      ],
      "metadata": {
        "id": "U0gYLgw5fIW6"
      },
      "execution_count": null,
      "outputs": []
    },
    {
      "cell_type": "code",
      "source": [
        "btc_data[missed_date_indexes[0]-1: missed_date_indexes[0] +2]"
      ],
      "metadata": {
        "colab": {
          "base_uri": "https://localhost:8080/",
          "height": 143
        },
        "id": "0YACgFkKgdQz",
        "outputId": "6c872f25-912a-4d4a-b446-8664448a8a88"
      },
      "execution_count": null,
      "outputs": [
        {
          "output_type": "execute_result",
          "data": {
            "text/html": [
              "\n",
              "  <div id=\"df-ba8f14a2-8eae-46e5-b8e1-917fb279b1d6\">\n",
              "    <div class=\"colab-df-container\">\n",
              "      <div>\n",
              "<style scoped>\n",
              "    .dataframe tbody tr th:only-of-type {\n",
              "        vertical-align: middle;\n",
              "    }\n",
              "\n",
              "    .dataframe tbody tr th {\n",
              "        vertical-align: top;\n",
              "    }\n",
              "\n",
              "    .dataframe thead th {\n",
              "        text-align: right;\n",
              "    }\n",
              "</style>\n",
              "<table border=\"1\" class=\"dataframe\">\n",
              "  <thead>\n",
              "    <tr style=\"text-align: right;\">\n",
              "      <th></th>\n",
              "      <th>unix</th>\n",
              "      <th>date</th>\n",
              "      <th>symbol</th>\n",
              "      <th>open</th>\n",
              "      <th>high</th>\n",
              "      <th>low</th>\n",
              "      <th>close</th>\n",
              "      <th>Volume BTC</th>\n",
              "      <th>Volume USD</th>\n",
              "    </tr>\n",
              "  </thead>\n",
              "  <tbody>\n",
              "    <tr>\n",
              "      <th>1051198</th>\n",
              "      <td>1514764860</td>\n",
              "      <td>2018-01-01 00:01:00</td>\n",
              "      <td>BTC/USD</td>\n",
              "      <td>13841.01</td>\n",
              "      <td>13890.43</td>\n",
              "      <td>13841.01</td>\n",
              "      <td>13890.43</td>\n",
              "      <td>1.665850</td>\n",
              "      <td>23139.366704</td>\n",
              "    </tr>\n",
              "    <tr>\n",
              "      <th>1051199</th>\n",
              "      <td>1514764800</td>\n",
              "      <td>2018-01-01 00:00:00</td>\n",
              "      <td>BTC/USD</td>\n",
              "      <td>13880.00</td>\n",
              "      <td>13890.41</td>\n",
              "      <td>13839.04</td>\n",
              "      <td>13841.01</td>\n",
              "      <td>0.738855</td>\n",
              "      <td>10226.841473</td>\n",
              "    </tr>\n",
              "    <tr>\n",
              "      <th>1051200</th>\n",
              "      <td>1514764740</td>\n",
              "      <td>2017-12-31 23:59:00</td>\n",
              "      <td>BTC/USD</td>\n",
              "      <td>13913.28</td>\n",
              "      <td>13913.28</td>\n",
              "      <td>13867.18</td>\n",
              "      <td>13880.00</td>\n",
              "      <td>0.591748</td>\n",
              "      <td>8213.456549</td>\n",
              "    </tr>\n",
              "  </tbody>\n",
              "</table>\n",
              "</div>\n",
              "      <button class=\"colab-df-convert\" onclick=\"convertToInteractive('df-ba8f14a2-8eae-46e5-b8e1-917fb279b1d6')\"\n",
              "              title=\"Convert this dataframe to an interactive table.\"\n",
              "              style=\"display:none;\">\n",
              "        \n",
              "  <svg xmlns=\"http://www.w3.org/2000/svg\" height=\"24px\"viewBox=\"0 0 24 24\"\n",
              "       width=\"24px\">\n",
              "    <path d=\"M0 0h24v24H0V0z\" fill=\"none\"/>\n",
              "    <path d=\"M18.56 5.44l.94 2.06.94-2.06 2.06-.94-2.06-.94-.94-2.06-.94 2.06-2.06.94zm-11 1L8.5 8.5l.94-2.06 2.06-.94-2.06-.94L8.5 2.5l-.94 2.06-2.06.94zm10 10l.94 2.06.94-2.06 2.06-.94-2.06-.94-.94-2.06-.94 2.06-2.06.94z\"/><path d=\"M17.41 7.96l-1.37-1.37c-.4-.4-.92-.59-1.43-.59-.52 0-1.04.2-1.43.59L10.3 9.45l-7.72 7.72c-.78.78-.78 2.05 0 2.83L4 21.41c.39.39.9.59 1.41.59.51 0 1.02-.2 1.41-.59l7.78-7.78 2.81-2.81c.8-.78.8-2.07 0-2.86zM5.41 20L4 18.59l7.72-7.72 1.47 1.35L5.41 20z\"/>\n",
              "  </svg>\n",
              "      </button>\n",
              "      \n",
              "  <style>\n",
              "    .colab-df-container {\n",
              "      display:flex;\n",
              "      flex-wrap:wrap;\n",
              "      gap: 12px;\n",
              "    }\n",
              "\n",
              "    .colab-df-convert {\n",
              "      background-color: #E8F0FE;\n",
              "      border: none;\n",
              "      border-radius: 50%;\n",
              "      cursor: pointer;\n",
              "      display: none;\n",
              "      fill: #1967D2;\n",
              "      height: 32px;\n",
              "      padding: 0 0 0 0;\n",
              "      width: 32px;\n",
              "    }\n",
              "\n",
              "    .colab-df-convert:hover {\n",
              "      background-color: #E2EBFA;\n",
              "      box-shadow: 0px 1px 2px rgba(60, 64, 67, 0.3), 0px 1px 3px 1px rgba(60, 64, 67, 0.15);\n",
              "      fill: #174EA6;\n",
              "    }\n",
              "\n",
              "    [theme=dark] .colab-df-convert {\n",
              "      background-color: #3B4455;\n",
              "      fill: #D2E3FC;\n",
              "    }\n",
              "\n",
              "    [theme=dark] .colab-df-convert:hover {\n",
              "      background-color: #434B5C;\n",
              "      box-shadow: 0px 1px 3px 1px rgba(0, 0, 0, 0.15);\n",
              "      filter: drop-shadow(0px 1px 2px rgba(0, 0, 0, 0.3));\n",
              "      fill: #FFFFFF;\n",
              "    }\n",
              "  </style>\n",
              "\n",
              "      <script>\n",
              "        const buttonEl =\n",
              "          document.querySelector('#df-ba8f14a2-8eae-46e5-b8e1-917fb279b1d6 button.colab-df-convert');\n",
              "        buttonEl.style.display =\n",
              "          google.colab.kernel.accessAllowed ? 'block' : 'none';\n",
              "\n",
              "        async function convertToInteractive(key) {\n",
              "          const element = document.querySelector('#df-ba8f14a2-8eae-46e5-b8e1-917fb279b1d6');\n",
              "          const dataTable =\n",
              "            await google.colab.kernel.invokeFunction('convertToInteractive',\n",
              "                                                     [key], {});\n",
              "          if (!dataTable) return;\n",
              "\n",
              "          const docLinkHtml = 'Like what you see? Visit the ' +\n",
              "            '<a target=\"_blank\" href=https://colab.research.google.com/notebooks/data_table.ipynb>data table notebook</a>'\n",
              "            + ' to learn more about interactive tables.';\n",
              "          element.innerHTML = '';\n",
              "          dataTable['output_type'] = 'display_data';\n",
              "          await google.colab.output.renderOutput(dataTable, element);\n",
              "          const docLink = document.createElement('div');\n",
              "          docLink.innerHTML = docLinkHtml;\n",
              "          element.appendChild(docLink);\n",
              "        }\n",
              "      </script>\n",
              "    </div>\n",
              "  </div>\n",
              "  "
            ],
            "text/plain": [
              "               unix                 date  ... Volume BTC    Volume USD\n",
              "1051198  1514764860  2018-01-01 00:01:00  ...   1.665850  23139.366704\n",
              "1051199  1514764800  2018-01-01 00:00:00  ...   0.738855  10226.841473\n",
              "1051200  1514764740  2017-12-31 23:59:00  ...   0.591748   8213.456549\n",
              "\n",
              "[3 rows x 9 columns]"
            ]
          },
          "metadata": {},
          "execution_count": 25
        }
      ]
    },
    {
      "cell_type": "code",
      "source": [
        "missed_date_indexes = check_date(btc_data.unix)\n",
        "len(missed_date_indexes)"
      ],
      "metadata": {
        "colab": {
          "base_uri": "https://localhost:8080/"
        },
        "id": "tWMdTMN4BxAW",
        "outputId": "b71412dd-e4b6-4ecf-94c8-71cc39493375"
      },
      "execution_count": null,
      "outputs": [
        {
          "output_type": "execute_result",
          "data": {
            "text/plain": [
              "0"
            ]
          },
          "metadata": {},
          "execution_count": 26
        }
      ]
    },
    {
      "cell_type": "code",
      "source": [
        "missed_date_indexes = check_date(btc_data_2021.unix)\n",
        "len(missed_date_indexes)"
      ],
      "metadata": {
        "colab": {
          "base_uri": "https://localhost:8080/"
        },
        "id": "sJ-eTODn1mhp",
        "outputId": "5b679146-bb82-42c1-93b4-ab67616f522a"
      },
      "execution_count": null,
      "outputs": [
        {
          "output_type": "execute_result",
          "data": {
            "text/plain": [
              "0"
            ]
          },
          "metadata": {},
          "execution_count": 27
        }
      ]
    },
    {
      "cell_type": "code",
      "source": [
        "missed_date_indexes = check_date(btc_data_2020.unix)\n",
        "len(missed_date_indexes)"
      ],
      "metadata": {
        "colab": {
          "base_uri": "https://localhost:8080/"
        },
        "id": "J3rlHx4GpRhN",
        "outputId": "4db169a4-2246-49fa-c3d7-b8a9e5b422b6"
      },
      "execution_count": null,
      "outputs": [
        {
          "output_type": "execute_result",
          "data": {
            "text/plain": [
              "2"
            ]
          },
          "metadata": {},
          "execution_count": 28
        }
      ]
    },
    {
      "cell_type": "code",
      "source": [
        "missed_date_indexes"
      ],
      "metadata": {
        "colab": {
          "base_uri": "https://localhost:8080/"
        },
        "id": "VrEVJksJhiQd",
        "outputId": "0cacd8de-f3aa-48e1-e1a6-6fedd22dbb52"
      },
      "execution_count": null,
      "outputs": [
        {
          "output_type": "execute_result",
          "data": {
            "text/plain": [
              "[16807, 16808]"
            ]
          },
          "metadata": {},
          "execution_count": 29
        }
      ]
    },
    {
      "cell_type": "code",
      "source": [
        "btc_data_2020.iloc[16806:16809]"
      ],
      "metadata": {
        "colab": {
          "base_uri": "https://localhost:8080/",
          "height": 143
        },
        "id": "b_dB3BlAhiSz",
        "outputId": "32be77a5-258b-4762-a2e7-a1adc2bd69b5"
      },
      "execution_count": null,
      "outputs": [
        {
          "output_type": "execute_result",
          "data": {
            "text/html": [
              "\n",
              "  <div id=\"df-09845be7-dcf2-4851-adf0-01b94d700e88\">\n",
              "    <div class=\"colab-df-container\">\n",
              "      <div>\n",
              "<style scoped>\n",
              "    .dataframe tbody tr th:only-of-type {\n",
              "        vertical-align: middle;\n",
              "    }\n",
              "\n",
              "    .dataframe tbody tr th {\n",
              "        vertical-align: top;\n",
              "    }\n",
              "\n",
              "    .dataframe thead th {\n",
              "        text-align: right;\n",
              "    }\n",
              "</style>\n",
              "<table border=\"1\" class=\"dataframe\">\n",
              "  <thead>\n",
              "    <tr style=\"text-align: right;\">\n",
              "      <th></th>\n",
              "      <th>unix</th>\n",
              "      <th>date</th>\n",
              "      <th>symbol</th>\n",
              "      <th>open</th>\n",
              "      <th>high</th>\n",
              "      <th>low</th>\n",
              "      <th>close</th>\n",
              "      <th>Volume BTC</th>\n",
              "      <th>Volume USD</th>\n",
              "    </tr>\n",
              "  </thead>\n",
              "  <tbody>\n",
              "    <tr>\n",
              "      <th>16806</th>\n",
              "      <td>1608450780</td>\n",
              "      <td>2020-12-20 07:53:00</td>\n",
              "      <td>BTC/USD</td>\n",
              "      <td>23573.41</td>\n",
              "      <td>23592.83</td>\n",
              "      <td>23568.19</td>\n",
              "      <td>23592.83</td>\n",
              "      <td>6.861060</td>\n",
              "      <td>161871.822436</td>\n",
              "    </tr>\n",
              "    <tr>\n",
              "      <th>16807</th>\n",
              "      <td>1606091760</td>\n",
              "      <td>2020-11-23 00:36:00</td>\n",
              "      <td>BTC/USD</td>\n",
              "      <td>18247.67</td>\n",
              "      <td>18247.67</td>\n",
              "      <td>18208.72</td>\n",
              "      <td>18214.47</td>\n",
              "      <td>6.347324</td>\n",
              "      <td>115613.140757</td>\n",
              "    </tr>\n",
              "    <tr>\n",
              "      <th>16808</th>\n",
              "      <td>1606091640</td>\n",
              "      <td>2020-11-23 00:34:00</td>\n",
              "      <td>BTC/USD</td>\n",
              "      <td>18216.04</td>\n",
              "      <td>18315.42</td>\n",
              "      <td>18216.04</td>\n",
              "      <td>18291.86</td>\n",
              "      <td>5.136150</td>\n",
              "      <td>93949.734910</td>\n",
              "    </tr>\n",
              "  </tbody>\n",
              "</table>\n",
              "</div>\n",
              "      <button class=\"colab-df-convert\" onclick=\"convertToInteractive('df-09845be7-dcf2-4851-adf0-01b94d700e88')\"\n",
              "              title=\"Convert this dataframe to an interactive table.\"\n",
              "              style=\"display:none;\">\n",
              "        \n",
              "  <svg xmlns=\"http://www.w3.org/2000/svg\" height=\"24px\"viewBox=\"0 0 24 24\"\n",
              "       width=\"24px\">\n",
              "    <path d=\"M0 0h24v24H0V0z\" fill=\"none\"/>\n",
              "    <path d=\"M18.56 5.44l.94 2.06.94-2.06 2.06-.94-2.06-.94-.94-2.06-.94 2.06-2.06.94zm-11 1L8.5 8.5l.94-2.06 2.06-.94-2.06-.94L8.5 2.5l-.94 2.06-2.06.94zm10 10l.94 2.06.94-2.06 2.06-.94-2.06-.94-.94-2.06-.94 2.06-2.06.94z\"/><path d=\"M17.41 7.96l-1.37-1.37c-.4-.4-.92-.59-1.43-.59-.52 0-1.04.2-1.43.59L10.3 9.45l-7.72 7.72c-.78.78-.78 2.05 0 2.83L4 21.41c.39.39.9.59 1.41.59.51 0 1.02-.2 1.41-.59l7.78-7.78 2.81-2.81c.8-.78.8-2.07 0-2.86zM5.41 20L4 18.59l7.72-7.72 1.47 1.35L5.41 20z\"/>\n",
              "  </svg>\n",
              "      </button>\n",
              "      \n",
              "  <style>\n",
              "    .colab-df-container {\n",
              "      display:flex;\n",
              "      flex-wrap:wrap;\n",
              "      gap: 12px;\n",
              "    }\n",
              "\n",
              "    .colab-df-convert {\n",
              "      background-color: #E8F0FE;\n",
              "      border: none;\n",
              "      border-radius: 50%;\n",
              "      cursor: pointer;\n",
              "      display: none;\n",
              "      fill: #1967D2;\n",
              "      height: 32px;\n",
              "      padding: 0 0 0 0;\n",
              "      width: 32px;\n",
              "    }\n",
              "\n",
              "    .colab-df-convert:hover {\n",
              "      background-color: #E2EBFA;\n",
              "      box-shadow: 0px 1px 2px rgba(60, 64, 67, 0.3), 0px 1px 3px 1px rgba(60, 64, 67, 0.15);\n",
              "      fill: #174EA6;\n",
              "    }\n",
              "\n",
              "    [theme=dark] .colab-df-convert {\n",
              "      background-color: #3B4455;\n",
              "      fill: #D2E3FC;\n",
              "    }\n",
              "\n",
              "    [theme=dark] .colab-df-convert:hover {\n",
              "      background-color: #434B5C;\n",
              "      box-shadow: 0px 1px 3px 1px rgba(0, 0, 0, 0.15);\n",
              "      filter: drop-shadow(0px 1px 2px rgba(0, 0, 0, 0.3));\n",
              "      fill: #FFFFFF;\n",
              "    }\n",
              "  </style>\n",
              "\n",
              "      <script>\n",
              "        const buttonEl =\n",
              "          document.querySelector('#df-09845be7-dcf2-4851-adf0-01b94d700e88 button.colab-df-convert');\n",
              "        buttonEl.style.display =\n",
              "          google.colab.kernel.accessAllowed ? 'block' : 'none';\n",
              "\n",
              "        async function convertToInteractive(key) {\n",
              "          const element = document.querySelector('#df-09845be7-dcf2-4851-adf0-01b94d700e88');\n",
              "          const dataTable =\n",
              "            await google.colab.kernel.invokeFunction('convertToInteractive',\n",
              "                                                     [key], {});\n",
              "          if (!dataTable) return;\n",
              "\n",
              "          const docLinkHtml = 'Like what you see? Visit the ' +\n",
              "            '<a target=\"_blank\" href=https://colab.research.google.com/notebooks/data_table.ipynb>data table notebook</a>'\n",
              "            + ' to learn more about interactive tables.';\n",
              "          element.innerHTML = '';\n",
              "          dataTable['output_type'] = 'display_data';\n",
              "          await google.colab.output.renderOutput(dataTable, element);\n",
              "          const docLink = document.createElement('div');\n",
              "          docLink.innerHTML = docLinkHtml;\n",
              "          element.appendChild(docLink);\n",
              "        }\n",
              "      </script>\n",
              "    </div>\n",
              "  </div>\n",
              "  "
            ],
            "text/plain": [
              "             unix                 date  ... Volume BTC     Volume USD\n",
              "16806  1608450780  2020-12-20 07:53:00  ...   6.861060  161871.822436\n",
              "16807  1606091760  2020-11-23 00:36:00  ...   6.347324  115613.140757\n",
              "16808  1606091640  2020-11-23 00:34:00  ...   5.136150   93949.734910\n",
              "\n",
              "[3 rows x 9 columns]"
            ]
          },
          "metadata": {},
          "execution_count": 30
        }
      ]
    },
    {
      "cell_type": "code",
      "source": [
        "btc_data_2019_2021 = pd.read_csv(\"/content/drive/MyDrive/DataBases/Binance_BTCUSDT_minute.csv\")"
      ],
      "metadata": {
        "id": "bJmlfnMihiVT"
      },
      "execution_count": null,
      "outputs": []
    },
    {
      "cell_type": "code",
      "source": [
        "btc_data_2019_2021"
      ],
      "metadata": {
        "colab": {
          "base_uri": "https://localhost:8080/",
          "height": 424
        },
        "id": "YVfisO21hiXz",
        "outputId": "070cb7f1-ae3b-485d-bf25-d28a96295ea1"
      },
      "execution_count": null,
      "outputs": [
        {
          "output_type": "execute_result",
          "data": {
            "text/html": [
              "\n",
              "  <div id=\"df-45426943-1bfb-4db2-8f08-86c882ada38c\">\n",
              "    <div class=\"colab-df-container\">\n",
              "      <div>\n",
              "<style scoped>\n",
              "    .dataframe tbody tr th:only-of-type {\n",
              "        vertical-align: middle;\n",
              "    }\n",
              "\n",
              "    .dataframe tbody tr th {\n",
              "        vertical-align: top;\n",
              "    }\n",
              "\n",
              "    .dataframe thead th {\n",
              "        text-align: right;\n",
              "    }\n",
              "</style>\n",
              "<table border=\"1\" class=\"dataframe\">\n",
              "  <thead>\n",
              "    <tr style=\"text-align: right;\">\n",
              "      <th></th>\n",
              "      <th>unix</th>\n",
              "      <th>date</th>\n",
              "      <th>symbol</th>\n",
              "      <th>open</th>\n",
              "      <th>high</th>\n",
              "      <th>low</th>\n",
              "      <th>close</th>\n",
              "      <th>Volume BTC</th>\n",
              "      <th>Volume USDT</th>\n",
              "      <th>tradecount</th>\n",
              "    </tr>\n",
              "  </thead>\n",
              "  <tbody>\n",
              "    <tr>\n",
              "      <th>0</th>\n",
              "      <td>1639281900000</td>\n",
              "      <td>2021-12-12 04:05:00</td>\n",
              "      <td>BTC/USDT</td>\n",
              "      <td>49176.92</td>\n",
              "      <td>49202.25</td>\n",
              "      <td>49130.00</td>\n",
              "      <td>49160.00</td>\n",
              "      <td>50.81359</td>\n",
              "      <td>2.498029e+06</td>\n",
              "      <td>1200</td>\n",
              "    </tr>\n",
              "    <tr>\n",
              "      <th>1</th>\n",
              "      <td>1639281840000</td>\n",
              "      <td>2021-12-12 04:04:00</td>\n",
              "      <td>BTC/USDT</td>\n",
              "      <td>49243.24</td>\n",
              "      <td>49246.64</td>\n",
              "      <td>49150.00</td>\n",
              "      <td>49176.93</td>\n",
              "      <td>49.22467</td>\n",
              "      <td>2.421988e+06</td>\n",
              "      <td>1356</td>\n",
              "    </tr>\n",
              "    <tr>\n",
              "      <th>2</th>\n",
              "      <td>1639281780000</td>\n",
              "      <td>2021-12-12 04:03:00</td>\n",
              "      <td>BTC/USDT</td>\n",
              "      <td>49275.85</td>\n",
              "      <td>49284.20</td>\n",
              "      <td>49241.06</td>\n",
              "      <td>49243.25</td>\n",
              "      <td>13.65856</td>\n",
              "      <td>6.728304e+05</td>\n",
              "      <td>589</td>\n",
              "    </tr>\n",
              "    <tr>\n",
              "      <th>3</th>\n",
              "      <td>1639281720000</td>\n",
              "      <td>2021-12-12 04:02:00</td>\n",
              "      <td>BTC/USDT</td>\n",
              "      <td>49321.79</td>\n",
              "      <td>49321.79</td>\n",
              "      <td>49267.40</td>\n",
              "      <td>49275.86</td>\n",
              "      <td>13.57473</td>\n",
              "      <td>6.691039e+05</td>\n",
              "      <td>631</td>\n",
              "    </tr>\n",
              "    <tr>\n",
              "      <th>4</th>\n",
              "      <td>1639281660000</td>\n",
              "      <td>2021-12-12 04:01:00</td>\n",
              "      <td>BTC/USDT</td>\n",
              "      <td>49327.18</td>\n",
              "      <td>49347.53</td>\n",
              "      <td>49321.78</td>\n",
              "      <td>49321.79</td>\n",
              "      <td>5.62087</td>\n",
              "      <td>2.773197e+05</td>\n",
              "      <td>375</td>\n",
              "    </tr>\n",
              "    <tr>\n",
              "      <th>...</th>\n",
              "      <td>...</td>\n",
              "      <td>...</td>\n",
              "      <td>...</td>\n",
              "      <td>...</td>\n",
              "      <td>...</td>\n",
              "      <td>...</td>\n",
              "      <td>...</td>\n",
              "      <td>...</td>\n",
              "      <td>...</td>\n",
              "      <td>...</td>\n",
              "    </tr>\n",
              "    <tr>\n",
              "      <th>1048569</th>\n",
              "      <td>1576043280000</td>\n",
              "      <td>2019-12-11 05:48:00</td>\n",
              "      <td>BTC/USDT</td>\n",
              "      <td>7204.79</td>\n",
              "      <td>7205.29</td>\n",
              "      <td>7204.79</td>\n",
              "      <td>7204.80</td>\n",
              "      <td>4.97200</td>\n",
              "      <td>3.582276e+04</td>\n",
              "      <td>25</td>\n",
              "    </tr>\n",
              "    <tr>\n",
              "      <th>1048570</th>\n",
              "      <td>1576043220000</td>\n",
              "      <td>2019-12-11 05:47:00</td>\n",
              "      <td>BTC/USDT</td>\n",
              "      <td>7207.85</td>\n",
              "      <td>7208.45</td>\n",
              "      <td>7204.80</td>\n",
              "      <td>7204.87</td>\n",
              "      <td>51.71100</td>\n",
              "      <td>3.726488e+05</td>\n",
              "      <td>61</td>\n",
              "    </tr>\n",
              "    <tr>\n",
              "      <th>1048571</th>\n",
              "      <td>1576043160000</td>\n",
              "      <td>2019-12-11 05:46:00</td>\n",
              "      <td>BTC/USDT</td>\n",
              "      <td>7207.00</td>\n",
              "      <td>7208.46</td>\n",
              "      <td>7206.56</td>\n",
              "      <td>7208.46</td>\n",
              "      <td>30.66500</td>\n",
              "      <td>2.210292e+05</td>\n",
              "      <td>49</td>\n",
              "    </tr>\n",
              "    <tr>\n",
              "      <th>1048572</th>\n",
              "      <td>1576043100000</td>\n",
              "      <td>2019-12-11 05:45:00</td>\n",
              "      <td>BTC/USDT</td>\n",
              "      <td>7204.50</td>\n",
              "      <td>7208.00</td>\n",
              "      <td>7204.50</td>\n",
              "      <td>7206.84</td>\n",
              "      <td>70.77700</td>\n",
              "      <td>5.100601e+05</td>\n",
              "      <td>134</td>\n",
              "    </tr>\n",
              "    <tr>\n",
              "      <th>1048573</th>\n",
              "      <td>1576043040000</td>\n",
              "      <td>2019-12-11 05:44:00</td>\n",
              "      <td>BTC/USDT</td>\n",
              "      <td>7204.96</td>\n",
              "      <td>7205.15</td>\n",
              "      <td>7203.09</td>\n",
              "      <td>7204.46</td>\n",
              "      <td>31.03600</td>\n",
              "      <td>2.235951e+05</td>\n",
              "      <td>51</td>\n",
              "    </tr>\n",
              "  </tbody>\n",
              "</table>\n",
              "<p>1048574 rows × 10 columns</p>\n",
              "</div>\n",
              "      <button class=\"colab-df-convert\" onclick=\"convertToInteractive('df-45426943-1bfb-4db2-8f08-86c882ada38c')\"\n",
              "              title=\"Convert this dataframe to an interactive table.\"\n",
              "              style=\"display:none;\">\n",
              "        \n",
              "  <svg xmlns=\"http://www.w3.org/2000/svg\" height=\"24px\"viewBox=\"0 0 24 24\"\n",
              "       width=\"24px\">\n",
              "    <path d=\"M0 0h24v24H0V0z\" fill=\"none\"/>\n",
              "    <path d=\"M18.56 5.44l.94 2.06.94-2.06 2.06-.94-2.06-.94-.94-2.06-.94 2.06-2.06.94zm-11 1L8.5 8.5l.94-2.06 2.06-.94-2.06-.94L8.5 2.5l-.94 2.06-2.06.94zm10 10l.94 2.06.94-2.06 2.06-.94-2.06-.94-.94-2.06-.94 2.06-2.06.94z\"/><path d=\"M17.41 7.96l-1.37-1.37c-.4-.4-.92-.59-1.43-.59-.52 0-1.04.2-1.43.59L10.3 9.45l-7.72 7.72c-.78.78-.78 2.05 0 2.83L4 21.41c.39.39.9.59 1.41.59.51 0 1.02-.2 1.41-.59l7.78-7.78 2.81-2.81c.8-.78.8-2.07 0-2.86zM5.41 20L4 18.59l7.72-7.72 1.47 1.35L5.41 20z\"/>\n",
              "  </svg>\n",
              "      </button>\n",
              "      \n",
              "  <style>\n",
              "    .colab-df-container {\n",
              "      display:flex;\n",
              "      flex-wrap:wrap;\n",
              "      gap: 12px;\n",
              "    }\n",
              "\n",
              "    .colab-df-convert {\n",
              "      background-color: #E8F0FE;\n",
              "      border: none;\n",
              "      border-radius: 50%;\n",
              "      cursor: pointer;\n",
              "      display: none;\n",
              "      fill: #1967D2;\n",
              "      height: 32px;\n",
              "      padding: 0 0 0 0;\n",
              "      width: 32px;\n",
              "    }\n",
              "\n",
              "    .colab-df-convert:hover {\n",
              "      background-color: #E2EBFA;\n",
              "      box-shadow: 0px 1px 2px rgba(60, 64, 67, 0.3), 0px 1px 3px 1px rgba(60, 64, 67, 0.15);\n",
              "      fill: #174EA6;\n",
              "    }\n",
              "\n",
              "    [theme=dark] .colab-df-convert {\n",
              "      background-color: #3B4455;\n",
              "      fill: #D2E3FC;\n",
              "    }\n",
              "\n",
              "    [theme=dark] .colab-df-convert:hover {\n",
              "      background-color: #434B5C;\n",
              "      box-shadow: 0px 1px 3px 1px rgba(0, 0, 0, 0.15);\n",
              "      filter: drop-shadow(0px 1px 2px rgba(0, 0, 0, 0.3));\n",
              "      fill: #FFFFFF;\n",
              "    }\n",
              "  </style>\n",
              "\n",
              "      <script>\n",
              "        const buttonEl =\n",
              "          document.querySelector('#df-45426943-1bfb-4db2-8f08-86c882ada38c button.colab-df-convert');\n",
              "        buttonEl.style.display =\n",
              "          google.colab.kernel.accessAllowed ? 'block' : 'none';\n",
              "\n",
              "        async function convertToInteractive(key) {\n",
              "          const element = document.querySelector('#df-45426943-1bfb-4db2-8f08-86c882ada38c');\n",
              "          const dataTable =\n",
              "            await google.colab.kernel.invokeFunction('convertToInteractive',\n",
              "                                                     [key], {});\n",
              "          if (!dataTable) return;\n",
              "\n",
              "          const docLinkHtml = 'Like what you see? Visit the ' +\n",
              "            '<a target=\"_blank\" href=https://colab.research.google.com/notebooks/data_table.ipynb>data table notebook</a>'\n",
              "            + ' to learn more about interactive tables.';\n",
              "          element.innerHTML = '';\n",
              "          dataTable['output_type'] = 'display_data';\n",
              "          await google.colab.output.renderOutput(dataTable, element);\n",
              "          const docLink = document.createElement('div');\n",
              "          docLink.innerHTML = docLinkHtml;\n",
              "          element.appendChild(docLink);\n",
              "        }\n",
              "      </script>\n",
              "    </div>\n",
              "  </div>\n",
              "  "
            ],
            "text/plain": [
              "                  unix                 date  ...   Volume USDT  tradecount\n",
              "0        1639281900000  2021-12-12 04:05:00  ...  2.498029e+06        1200\n",
              "1        1639281840000  2021-12-12 04:04:00  ...  2.421988e+06        1356\n",
              "2        1639281780000  2021-12-12 04:03:00  ...  6.728304e+05         589\n",
              "3        1639281720000  2021-12-12 04:02:00  ...  6.691039e+05         631\n",
              "4        1639281660000  2021-12-12 04:01:00  ...  2.773197e+05         375\n",
              "...                ...                  ...  ...           ...         ...\n",
              "1048569  1576043280000  2019-12-11 05:48:00  ...  3.582276e+04          25\n",
              "1048570  1576043220000  2019-12-11 05:47:00  ...  3.726488e+05          61\n",
              "1048571  1576043160000  2019-12-11 05:46:00  ...  2.210292e+05          49\n",
              "1048572  1576043100000  2019-12-11 05:45:00  ...  5.100601e+05         134\n",
              "1048573  1576043040000  2019-12-11 05:44:00  ...  2.235951e+05          51\n",
              "\n",
              "[1048574 rows x 10 columns]"
            ]
          },
          "metadata": {},
          "execution_count": 32
        }
      ]
    },
    {
      "cell_type": "code",
      "source": [
        "(abs(btc_data_2019_2021.close - btc_data_2019_2021[\"Volume USDT\"] / btc_data_2019_2021[\"Volume BTC\"])).max()"
      ],
      "metadata": {
        "colab": {
          "base_uri": "https://localhost:8080/"
        },
        "id": "agu-UlEjFt84",
        "outputId": "c13e0fd7-1d49-495d-b3b7-61a7fdda3942"
      },
      "execution_count": null,
      "outputs": [
        {
          "output_type": "execute_result",
          "data": {
            "text/plain": [
              "1022.6069590680854"
            ]
          },
          "metadata": {},
          "execution_count": 33
        }
      ]
    },
    {
      "cell_type": "code",
      "source": [
        "(abs(btc_data_2019_2021.close - btc_data_2019_2021[\"Volume USDT\"] / btc_data_2019_2021[\"Volume BTC\"]) > btc_data_2019_2021.close * 0.01).sum()"
      ],
      "metadata": {
        "colab": {
          "base_uri": "https://localhost:8080/"
        },
        "id": "AnOj6uowF-fk",
        "outputId": "369ad62e-7a0a-47ea-9cd0-e9668010fd2f"
      },
      "execution_count": null,
      "outputs": [
        {
          "output_type": "execute_result",
          "data": {
            "text/plain": [
              "191"
            ]
          },
          "metadata": {},
          "execution_count": 34
        }
      ]
    },
    {
      "cell_type": "code",
      "source": [
        "btc_data_2021.drop([\"Volume USD\", \"symbol\"], axis=1, inplace=True)\n",
        "btc_data_2020.drop([\"Volume USD\", \"symbol\"], axis=1, inplace=True)\n",
        "btc_data.drop([\"Volume USD\", \"symbol\"], axis=1, inplace=True)\n",
        "btc_data_2019_2021.drop([\"Volume USDT\", \"symbol\"], axis=1, inplace=True)"
      ],
      "metadata": {
        "id": "7UiobFAxG1jM"
      },
      "execution_count": null,
      "outputs": []
    },
    {
      "cell_type": "code",
      "source": [
        "btc_data_2019_2021[[\"unix\"]] = btc_data_2019_2021[[\"unix\"]].apply(lambda x: x//1000)"
      ],
      "metadata": {
        "id": "y0NBvWToLMQR"
      },
      "execution_count": null,
      "outputs": []
    },
    {
      "cell_type": "code",
      "source": [
        "missed_date_indexes = check_date(btc_data_2019_2021.unix)\n",
        "len(missed_date_indexes)"
      ],
      "metadata": {
        "colab": {
          "base_uri": "https://localhost:8080/"
        },
        "id": "3gILI5xbhiad",
        "outputId": "38f15f80-c922-473f-fc3e-2e3c8fd64154"
      },
      "execution_count": null,
      "outputs": [
        {
          "output_type": "execute_result",
          "data": {
            "text/plain": [
              "10"
            ]
          },
          "metadata": {},
          "execution_count": 37
        }
      ]
    },
    {
      "cell_type": "code",
      "source": [
        "missed_date_indexes"
      ],
      "metadata": {
        "colab": {
          "base_uri": "https://localhost:8080/"
        },
        "id": "kUCl5MvfqL7W",
        "outputId": "2c6c54d2-aeed-4fcb-c763-933c6e614147"
      },
      "execution_count": null,
      "outputs": [
        {
          "output_type": "execute_result",
          "data": {
            "text/plain": [
              "[106266,\n",
              " 173976,\n",
              " 282315,\n",
              " 327906,\n",
              " 335077,\n",
              " 399787,\n",
              " 432727,\n",
              " 501888,\n",
              " 506688,\n",
              " 537358]"
            ]
          },
          "metadata": {},
          "execution_count": 38
        }
      ]
    },
    {
      "cell_type": "code",
      "source": [
        "btc_data_2019_2021[missed_date_indexes[0] - 1 : missed_date_indexes[0] + 2]"
      ],
      "metadata": {
        "colab": {
          "base_uri": "https://localhost:8080/",
          "height": 143
        },
        "id": "HK7D1SP2p7bO",
        "outputId": "7896bdfe-4c03-44bb-bf80-a9e4b2e6cc47"
      },
      "execution_count": null,
      "outputs": [
        {
          "output_type": "execute_result",
          "data": {
            "text/html": [
              "\n",
              "  <div id=\"df-e80eb530-7b93-4399-ae49-7f4e17d2ef9a\">\n",
              "    <div class=\"colab-df-container\">\n",
              "      <div>\n",
              "<style scoped>\n",
              "    .dataframe tbody tr th:only-of-type {\n",
              "        vertical-align: middle;\n",
              "    }\n",
              "\n",
              "    .dataframe tbody tr th {\n",
              "        vertical-align: top;\n",
              "    }\n",
              "\n",
              "    .dataframe thead th {\n",
              "        text-align: right;\n",
              "    }\n",
              "</style>\n",
              "<table border=\"1\" class=\"dataframe\">\n",
              "  <thead>\n",
              "    <tr style=\"text-align: right;\">\n",
              "      <th></th>\n",
              "      <th>unix</th>\n",
              "      <th>date</th>\n",
              "      <th>open</th>\n",
              "      <th>high</th>\n",
              "      <th>low</th>\n",
              "      <th>close</th>\n",
              "      <th>Volume BTC</th>\n",
              "      <th>tradecount</th>\n",
              "    </tr>\n",
              "  </thead>\n",
              "  <tbody>\n",
              "    <tr>\n",
              "      <th>106265</th>\n",
              "      <td>1632906000</td>\n",
              "      <td>2021-09-29 09:00:00</td>\n",
              "      <td>42442.00</td>\n",
              "      <td>42442.02</td>\n",
              "      <td>42000.0</td>\n",
              "      <td>42250.01</td>\n",
              "      <td>35.69196</td>\n",
              "      <td>1900</td>\n",
              "    </tr>\n",
              "    <tr>\n",
              "      <th>106266</th>\n",
              "      <td>1632898740</td>\n",
              "      <td>2021-09-29 06:59:00</td>\n",
              "      <td>42420.41</td>\n",
              "      <td>42456.39</td>\n",
              "      <td>42420.0</td>\n",
              "      <td>42450.25</td>\n",
              "      <td>8.91879</td>\n",
              "      <td>336</td>\n",
              "    </tr>\n",
              "    <tr>\n",
              "      <th>106267</th>\n",
              "      <td>1632898680</td>\n",
              "      <td>2021-09-29 06:58:00</td>\n",
              "      <td>42385.76</td>\n",
              "      <td>42420.41</td>\n",
              "      <td>42381.8</td>\n",
              "      <td>42420.00</td>\n",
              "      <td>5.36774</td>\n",
              "      <td>236</td>\n",
              "    </tr>\n",
              "  </tbody>\n",
              "</table>\n",
              "</div>\n",
              "      <button class=\"colab-df-convert\" onclick=\"convertToInteractive('df-e80eb530-7b93-4399-ae49-7f4e17d2ef9a')\"\n",
              "              title=\"Convert this dataframe to an interactive table.\"\n",
              "              style=\"display:none;\">\n",
              "        \n",
              "  <svg xmlns=\"http://www.w3.org/2000/svg\" height=\"24px\"viewBox=\"0 0 24 24\"\n",
              "       width=\"24px\">\n",
              "    <path d=\"M0 0h24v24H0V0z\" fill=\"none\"/>\n",
              "    <path d=\"M18.56 5.44l.94 2.06.94-2.06 2.06-.94-2.06-.94-.94-2.06-.94 2.06-2.06.94zm-11 1L8.5 8.5l.94-2.06 2.06-.94-2.06-.94L8.5 2.5l-.94 2.06-2.06.94zm10 10l.94 2.06.94-2.06 2.06-.94-2.06-.94-.94-2.06-.94 2.06-2.06.94z\"/><path d=\"M17.41 7.96l-1.37-1.37c-.4-.4-.92-.59-1.43-.59-.52 0-1.04.2-1.43.59L10.3 9.45l-7.72 7.72c-.78.78-.78 2.05 0 2.83L4 21.41c.39.39.9.59 1.41.59.51 0 1.02-.2 1.41-.59l7.78-7.78 2.81-2.81c.8-.78.8-2.07 0-2.86zM5.41 20L4 18.59l7.72-7.72 1.47 1.35L5.41 20z\"/>\n",
              "  </svg>\n",
              "      </button>\n",
              "      \n",
              "  <style>\n",
              "    .colab-df-container {\n",
              "      display:flex;\n",
              "      flex-wrap:wrap;\n",
              "      gap: 12px;\n",
              "    }\n",
              "\n",
              "    .colab-df-convert {\n",
              "      background-color: #E8F0FE;\n",
              "      border: none;\n",
              "      border-radius: 50%;\n",
              "      cursor: pointer;\n",
              "      display: none;\n",
              "      fill: #1967D2;\n",
              "      height: 32px;\n",
              "      padding: 0 0 0 0;\n",
              "      width: 32px;\n",
              "    }\n",
              "\n",
              "    .colab-df-convert:hover {\n",
              "      background-color: #E2EBFA;\n",
              "      box-shadow: 0px 1px 2px rgba(60, 64, 67, 0.3), 0px 1px 3px 1px rgba(60, 64, 67, 0.15);\n",
              "      fill: #174EA6;\n",
              "    }\n",
              "\n",
              "    [theme=dark] .colab-df-convert {\n",
              "      background-color: #3B4455;\n",
              "      fill: #D2E3FC;\n",
              "    }\n",
              "\n",
              "    [theme=dark] .colab-df-convert:hover {\n",
              "      background-color: #434B5C;\n",
              "      box-shadow: 0px 1px 3px 1px rgba(0, 0, 0, 0.15);\n",
              "      filter: drop-shadow(0px 1px 2px rgba(0, 0, 0, 0.3));\n",
              "      fill: #FFFFFF;\n",
              "    }\n",
              "  </style>\n",
              "\n",
              "      <script>\n",
              "        const buttonEl =\n",
              "          document.querySelector('#df-e80eb530-7b93-4399-ae49-7f4e17d2ef9a button.colab-df-convert');\n",
              "        buttonEl.style.display =\n",
              "          google.colab.kernel.accessAllowed ? 'block' : 'none';\n",
              "\n",
              "        async function convertToInteractive(key) {\n",
              "          const element = document.querySelector('#df-e80eb530-7b93-4399-ae49-7f4e17d2ef9a');\n",
              "          const dataTable =\n",
              "            await google.colab.kernel.invokeFunction('convertToInteractive',\n",
              "                                                     [key], {});\n",
              "          if (!dataTable) return;\n",
              "\n",
              "          const docLinkHtml = 'Like what you see? Visit the ' +\n",
              "            '<a target=\"_blank\" href=https://colab.research.google.com/notebooks/data_table.ipynb>data table notebook</a>'\n",
              "            + ' to learn more about interactive tables.';\n",
              "          element.innerHTML = '';\n",
              "          dataTable['output_type'] = 'display_data';\n",
              "          await google.colab.output.renderOutput(dataTable, element);\n",
              "          const docLink = document.createElement('div');\n",
              "          docLink.innerHTML = docLinkHtml;\n",
              "          element.appendChild(docLink);\n",
              "        }\n",
              "      </script>\n",
              "    </div>\n",
              "  </div>\n",
              "  "
            ],
            "text/plain": [
              "              unix                 date  ...  Volume BTC  tradecount\n",
              "106265  1632906000  2021-09-29 09:00:00  ...    35.69196        1900\n",
              "106266  1632898740  2021-09-29 06:59:00  ...     8.91879         336\n",
              "106267  1632898680  2021-09-29 06:58:00  ...     5.36774         236\n",
              "\n",
              "[3 rows x 8 columns]"
            ]
          },
          "metadata": {},
          "execution_count": 39
        }
      ]
    },
    {
      "cell_type": "code",
      "source": [
        "fig, axs = plt.subplots(1, 4, figsize=(25, 5))\n",
        "\n",
        "axs[0].hist(btc_data[\"Volume BTC\"][btc_data[\"Volume BTC\"] < 1500], bins=50, density=True, label=\"Volume BTC\")\n",
        "axs[1].hist(btc_data_2019_2021[\"Volume BTC\"][btc_data_2019_2021[\"Volume BTC\"] < 2000], bins=50, density=True, label=\"Volume BTC\")\n",
        "axs[2].hist(btc_data_2020[\"Volume BTC\"][btc_data_2020[\"Volume BTC\"] < 2500], bins=50, density=True, label=\"Volume BTC\")\n",
        "axs[3].hist(btc_data_2021[\"Volume BTC\"][btc_data_2021[\"Volume BTC\"] < 2000], bins=50, density=True, label=\"Volume BTC\")\n",
        "\n",
        "axs[0].set_title(\"btc_data\")\n",
        "axs[1].set_title(\"btc_data_2019_2021\")\n",
        "axs[2].set_title(\"btc_data_2020\")\n",
        "axs[3].set_title(\"btc_data_2021\")\n",
        "\n",
        "\n",
        "axs[0].legend(fontsize = 12)\n",
        "axs[1].legend(fontsize = 12)\n",
        "axs[2].legend(fontsize = 12)\n",
        "axs[3].legend(fontsize = 12)\n",
        "\n",
        "plt.show()"
      ],
      "metadata": {
        "colab": {
          "base_uri": "https://localhost:8080/",
          "height": 336
        },
        "id": "Z0-wBEOyL6PZ",
        "outputId": "3986c969-6989-4ef2-9b99-2d03b4ca4bfc"
      },
      "execution_count": null,
      "outputs": [
        {
          "output_type": "display_data",
          "data": {
            "image/png": "[encoded data removed]",
            "text/plain": [
              "<Figure size 1800x360 with 4 Axes>"
            ]
          },
          "metadata": {}
        }
      ]
    },
    {
      "cell_type": "code",
      "source": [
        "print(\"Volume BTC - mean, std:\", btc_data[\"Volume BTC\"].mean(), btc_data[\"Volume BTC\"].std())\n",
        "print(\"Volume BTC - mean, std:\", btc_data_2020[\"Volume BTC\"].mean(), btc_data_2020[\"Volume BTC\"].std())\n",
        "print(\"Volume BTC - mean, std:\", btc_data_2021[\"Volume BTC\"].mean(), btc_data_2021[\"Volume BTC\"].std())"
      ],
      "metadata": {
        "colab": {
          "base_uri": "https://localhost:8080/"
        },
        "id": "8HFjHZNqrv2J",
        "outputId": "3b3784e3-f0db-447f-ff69-239b192c5c65"
      },
      "execution_count": null,
      "outputs": [
        {
          "output_type": "stream",
          "name": "stdout",
          "text": [
            "Volume BTC - mean, std: 7.3692024850069915 18.260403656109876\n",
            "Volume BTC - mean, std: 5.839294922335728 16.853527268033012\n",
            "Volume BTC - mean, std: 3.55669377617116 8.452848547438057\n"
          ]
        }
      ]
    },
    {
      "cell_type": "code",
      "source": [
        "print(\"Volume BTC - mean, std:\", btc_data_2019_2021[\"Volume BTC\"].mean(), btc_data_2019_2021[\"Volume BTC\"].std())"
      ],
      "metadata": {
        "colab": {
          "base_uri": "https://localhost:8080/"
        },
        "id": "UiMInPgor0mG",
        "outputId": "09e5bd21-2273-46fd-c5a9-e8c5585690db"
      },
      "execution_count": null,
      "outputs": [
        {
          "output_type": "stream",
          "name": "stdout",
          "text": [
            "Volume BTC - mean, std: 96.66165554860252 225.36511754287588\n"
          ]
        }
      ]
    },
    {
      "cell_type": "code",
      "source": [
        "btc_data[[\"date\"]] = pd.to_datetime(btc_data.date)\n",
        "btc_data_2020[[\"date\"]] = pd.to_datetime(btc_data_2020.date)\n",
        "btc_data_2021[[\"date\"]] = pd.to_datetime(btc_data_2021.date)\n",
        "btc_data_2019_2021[[\"date\"]] = pd.to_datetime(btc_data_2019_2021.date)"
      ],
      "metadata": {
        "id": "O_AI_NWaCL5G"
      },
      "execution_count": null,
      "outputs": []
    },
    {
      "cell_type": "code",
      "source": [
        "btc_data[[\"Volume BTC\"]] = btc_data[[\"Volume BTC\"]].apply(lambda x: x * 13)\n",
        "btc_data_2020[[\"Volume BTC\"]] = btc_data_2020[[\"Volume BTC\"]].apply(lambda x: x * 17)\n",
        "btc_data_2021[[\"Volume BTC\"]] = btc_data_2021[[\"Volume BTC\"]].apply(lambda x: x * 27)"
      ],
      "metadata": {
        "id": "l54qrGdswN9E"
      },
      "execution_count": null,
      "outputs": []
    },
    {
      "cell_type": "code",
      "source": [
        "btc_data = pd.concat([btc_data_2021, btc_data_2020, btc_data], ignore_index=True)"
      ],
      "metadata": {
        "id": "wd1e8FiuHjOI"
      },
      "execution_count": null,
      "outputs": []
    },
    {
      "cell_type": "code",
      "source": [
        "for i in missed_date_indexes:\n",
        "  print(btc_data_2019_2021.date[i-1 : i+1])"
      ],
      "metadata": {
        "colab": {
          "base_uri": "https://localhost:8080/"
        },
        "id": "WwXj4mDbvDV1",
        "outputId": "8367621e-673e-4107-c081-91711c4b59f6"
      },
      "execution_count": null,
      "outputs": [
        {
          "output_type": "stream",
          "name": "stdout",
          "text": [
            "106265   2021-09-29 09:00:00\n",
            "106266   2021-09-29 06:59:00\n",
            "Name: date, dtype: datetime64[ns]\n",
            "173975   2021-08-13 06:30:00\n",
            "173976   2021-08-13 01:59:00\n",
            "Name: date, dtype: datetime64[ns]\n",
            "282314   2021-05-29 20:21:00\n",
            "282315   2021-05-27 00:35:00\n",
            "Name: date, dtype: datetime64[ns]\n",
            "327905   2021-04-25 08:45:00\n",
            "327906   2021-04-25 04:00:00\n",
            "Name: date, dtype: datetime64[ns]\n",
            "335076   2021-04-20 04:30:00\n",
            "335077   2021-04-20 01:59:00\n",
            "Name: date, dtype: datetime64[ns]\n",
            "399786   2021-03-06 03:30:00\n",
            "399787   2021-03-06 01:59:00\n",
            "Name: date, dtype: datetime64[ns]\n",
            "432726   2021-02-11 05:00:00\n",
            "432727   2021-02-11 03:40:00\n",
            "Name: date, dtype: datetime64[ns]\n",
            "501887   2020-12-25 03:00:00\n",
            "501888   2020-12-25 01:59:00\n",
            "Name: date, dtype: datetime64[ns]\n",
            "506687   2020-12-21 18:00:00\n",
            "506688   2020-12-21 14:09:00\n",
            "Name: date, dtype: datetime64[ns]\n",
            "537357   2020-11-30 07:00:00\n",
            "537358   2020-11-30 05:59:00\n",
            "Name: date, dtype: datetime64[ns]\n"
          ]
        }
      ]
    },
    {
      "cell_type": "code",
      "source": [
        "missed_date_indexes = check_date(btc_data.unix)\n",
        "len(missed_date_indexes)"
      ],
      "metadata": {
        "colab": {
          "base_uri": "https://localhost:8080/"
        },
        "id": "H50PUREznKx7",
        "outputId": "832065de-e208-412d-a8cd-079ce27ff439"
      },
      "execution_count": null,
      "outputs": [
        {
          "output_type": "execute_result",
          "data": {
            "text/plain": [
              "4"
            ]
          },
          "metadata": {},
          "execution_count": 47
        }
      ]
    },
    {
      "cell_type": "code",
      "source": [
        "for i in missed_date_indexes:\n",
        "  print(btc_data.date[i-1 : i+1])"
      ],
      "metadata": {
        "colab": {
          "base_uri": "https://localhost:8080/"
        },
        "id": "B3FXg1b2nTbU",
        "outputId": "b730cdfa-95f2-4e7c-d67f-0e97c15610a3"
      },
      "execution_count": null,
      "outputs": [
        {
          "output_type": "stream",
          "name": "stdout",
          "text": [
            "497486   2021-01-01 00:01:00\n",
            "497487   2020-12-31 23:59:00\n",
            "Name: date, dtype: datetime64[ns]\n",
            "514293   2020-12-20 07:53:00\n",
            "514294   2020-11-23 00:36:00\n",
            "Name: date, dtype: datetime64[ns]\n",
            "514294   2020-11-23 00:36:00\n",
            "514295   2020-11-23 00:34:00\n",
            "Name: date, dtype: datetime64[ns]\n",
            "985208   2020-01-01 00:01:00\n",
            "985209   2019-12-31 23:59:00\n",
            "Name: date, dtype: datetime64[ns]\n"
          ]
        }
      ]
    },
    {
      "cell_type": "code",
      "source": [
        "btc_data = btc_data_2019_2021.merge(btc_data, how=\"outer\", on=[\"unix\", \"date\"])\n",
        "btc_data = btc_data[btc_data[\"date\"] <= \"2021-12-12 04:05:00\"]\n",
        "btc_data.head()"
      ],
      "metadata": {
        "id": "XrfqMO9KIyy1",
        "colab": {
          "base_uri": "https://localhost:8080/",
          "height": 206
        },
        "outputId": "61fbdde2-39fe-43dc-d48a-2e8e37d870e5"
      },
      "execution_count": null,
      "outputs": [
        {
          "output_type": "execute_result",
          "data": {
            "text/html": [
              "\n",
              "  <div id=\"df-d2f15a40-5d64-4d45-a6c7-096fd0e57824\">\n",
              "    <div class=\"colab-df-container\">\n",
              "      <div>\n",
              "<style scoped>\n",
              "    .dataframe tbody tr th:only-of-type {\n",
              "        vertical-align: middle;\n",
              "    }\n",
              "\n",
              "    .dataframe tbody tr th {\n",
              "        vertical-align: top;\n",
              "    }\n",
              "\n",
              "    .dataframe thead th {\n",
              "        text-align: right;\n",
              "    }\n",
              "</style>\n",
              "<table border=\"1\" class=\"dataframe\">\n",
              "  <thead>\n",
              "    <tr style=\"text-align: right;\">\n",
              "      <th></th>\n",
              "      <th>unix</th>\n",
              "      <th>date</th>\n",
              "      <th>open_x</th>\n",
              "      <th>high_x</th>\n",
              "      <th>low_x</th>\n",
              "      <th>close_x</th>\n",
              "      <th>Volume BTC_x</th>\n",
              "      <th>tradecount</th>\n",
              "      <th>open_y</th>\n",
              "      <th>high_y</th>\n",
              "      <th>low_y</th>\n",
              "      <th>close_y</th>\n",
              "      <th>Volume BTC_y</th>\n",
              "    </tr>\n",
              "  </thead>\n",
              "  <tbody>\n",
              "    <tr>\n",
              "      <th>0</th>\n",
              "      <td>1639281900</td>\n",
              "      <td>2021-12-12 04:05:00</td>\n",
              "      <td>49176.92</td>\n",
              "      <td>49202.25</td>\n",
              "      <td>49130.00</td>\n",
              "      <td>49160.00</td>\n",
              "      <td>50.81359</td>\n",
              "      <td>1200.0</td>\n",
              "      <td>49207.29</td>\n",
              "      <td>49207.29</td>\n",
              "      <td>49171.57</td>\n",
              "      <td>49199.09</td>\n",
              "      <td>41.213501</td>\n",
              "    </tr>\n",
              "    <tr>\n",
              "      <th>1</th>\n",
              "      <td>1639281840</td>\n",
              "      <td>2021-12-12 04:04:00</td>\n",
              "      <td>49243.24</td>\n",
              "      <td>49246.64</td>\n",
              "      <td>49150.00</td>\n",
              "      <td>49176.93</td>\n",
              "      <td>49.22467</td>\n",
              "      <td>1356.0</td>\n",
              "      <td>49264.39</td>\n",
              "      <td>49264.39</td>\n",
              "      <td>49221.35</td>\n",
              "      <td>49222.23</td>\n",
              "      <td>1.810929</td>\n",
              "    </tr>\n",
              "    <tr>\n",
              "      <th>2</th>\n",
              "      <td>1639281780</td>\n",
              "      <td>2021-12-12 04:03:00</td>\n",
              "      <td>49275.85</td>\n",
              "      <td>49284.20</td>\n",
              "      <td>49241.06</td>\n",
              "      <td>49243.25</td>\n",
              "      <td>13.65856</td>\n",
              "      <td>589.0</td>\n",
              "      <td>49310.33</td>\n",
              "      <td>49314.15</td>\n",
              "      <td>49271.97</td>\n",
              "      <td>49282.15</td>\n",
              "      <td>7.685820</td>\n",
              "    </tr>\n",
              "    <tr>\n",
              "      <th>3</th>\n",
              "      <td>1639281720</td>\n",
              "      <td>2021-12-12 04:02:00</td>\n",
              "      <td>49321.79</td>\n",
              "      <td>49321.79</td>\n",
              "      <td>49267.40</td>\n",
              "      <td>49275.86</td>\n",
              "      <td>13.57473</td>\n",
              "      <td>631.0</td>\n",
              "      <td>49341.59</td>\n",
              "      <td>49341.59</td>\n",
              "      <td>49319.29</td>\n",
              "      <td>49319.29</td>\n",
              "      <td>0.350190</td>\n",
              "    </tr>\n",
              "    <tr>\n",
              "      <th>4</th>\n",
              "      <td>1639281660</td>\n",
              "      <td>2021-12-12 04:01:00</td>\n",
              "      <td>49327.18</td>\n",
              "      <td>49347.53</td>\n",
              "      <td>49321.78</td>\n",
              "      <td>49321.79</td>\n",
              "      <td>5.62087</td>\n",
              "      <td>375.0</td>\n",
              "      <td>49366.00</td>\n",
              "      <td>49377.00</td>\n",
              "      <td>49358.72</td>\n",
              "      <td>49358.72</td>\n",
              "      <td>0.167059</td>\n",
              "    </tr>\n",
              "  </tbody>\n",
              "</table>\n",
              "</div>\n",
              "      <button class=\"colab-df-convert\" onclick=\"convertToInteractive('df-d2f15a40-5d64-4d45-a6c7-096fd0e57824')\"\n",
              "              title=\"Convert this dataframe to an interactive table.\"\n",
              "              style=\"display:none;\">\n",
              "        \n",
              "  <svg xmlns=\"http://www.w3.org/2000/svg\" height=\"24px\"viewBox=\"0 0 24 24\"\n",
              "       width=\"24px\">\n",
              "    <path d=\"M0 0h24v24H0V0z\" fill=\"none\"/>\n",
              "    <path d=\"M18.56 5.44l.94 2.06.94-2.06 2.06-.94-2.06-.94-.94-2.06-.94 2.06-2.06.94zm-11 1L8.5 8.5l.94-2.06 2.06-.94-2.06-.94L8.5 2.5l-.94 2.06-2.06.94zm10 10l.94 2.06.94-2.06 2.06-.94-2.06-.94-.94-2.06-.94 2.06-2.06.94z\"/><path d=\"M17.41 7.96l-1.37-1.37c-.4-.4-.92-.59-1.43-.59-.52 0-1.04.2-1.43.59L10.3 9.45l-7.72 7.72c-.78.78-.78 2.05 0 2.83L4 21.41c.39.39.9.59 1.41.59.51 0 1.02-.2 1.41-.59l7.78-7.78 2.81-2.81c.8-.78.8-2.07 0-2.86zM5.41 20L4 18.59l7.72-7.72 1.47 1.35L5.41 20z\"/>\n",
              "  </svg>\n",
              "      </button>\n",
              "      \n",
              "  <style>\n",
              "    .colab-df-container {\n",
              "      display:flex;\n",
              "      flex-wrap:wrap;\n",
              "      gap: 12px;\n",
              "    }\n",
              "\n",
              "    .colab-df-convert {\n",
              "      background-color: #E8F0FE;\n",
              "      border: none;\n",
              "      border-radius: 50%;\n",
              "      cursor: pointer;\n",
              "      display: none;\n",
              "      fill: #1967D2;\n",
              "      height: 32px;\n",
              "      padding: 0 0 0 0;\n",
              "      width: 32px;\n",
              "    }\n",
              "\n",
              "    .colab-df-convert:hover {\n",
              "      background-color: #E2EBFA;\n",
              "      box-shadow: 0px 1px 2px rgba(60, 64, 67, 0.3), 0px 1px 3px 1px rgba(60, 64, 67, 0.15);\n",
              "      fill: #174EA6;\n",
              "    }\n",
              "\n",
              "    [theme=dark] .colab-df-convert {\n",
              "      background-color: #3B4455;\n",
              "      fill: #D2E3FC;\n",
              "    }\n",
              "\n",
              "    [theme=dark] .colab-df-convert:hover {\n",
              "      background-color: #434B5C;\n",
              "      box-shadow: 0px 1px 3px 1px rgba(0, 0, 0, 0.15);\n",
              "      filter: drop-shadow(0px 1px 2px rgba(0, 0, 0, 0.3));\n",
              "      fill: #FFFFFF;\n",
              "    }\n",
              "  </style>\n",
              "\n",
              "      <script>\n",
              "        const buttonEl =\n",
              "          document.querySelector('#df-d2f15a40-5d64-4d45-a6c7-096fd0e57824 button.colab-df-convert');\n",
              "        buttonEl.style.display =\n",
              "          google.colab.kernel.accessAllowed ? 'block' : 'none';\n",
              "\n",
              "        async function convertToInteractive(key) {\n",
              "          const element = document.querySelector('#df-d2f15a40-5d64-4d45-a6c7-096fd0e57824');\n",
              "          const dataTable =\n",
              "            await google.colab.kernel.invokeFunction('convertToInteractive',\n",
              "                                                     [key], {});\n",
              "          if (!dataTable) return;\n",
              "\n",
              "          const docLinkHtml = 'Like what you see? Visit the ' +\n",
              "            '<a target=\"_blank\" href=https://colab.research.google.com/notebooks/data_table.ipynb>data table notebook</a>'\n",
              "            + ' to learn more about interactive tables.';\n",
              "          element.innerHTML = '';\n",
              "          dataTable['output_type'] = 'display_data';\n",
              "          await google.colab.output.renderOutput(dataTable, element);\n",
              "          const docLink = document.createElement('div');\n",
              "          docLink.innerHTML = docLinkHtml;\n",
              "          element.appendChild(docLink);\n",
              "        }\n",
              "      </script>\n",
              "    </div>\n",
              "  </div>\n",
              "  "
            ],
            "text/plain": [
              "         unix                date    open_x  ...     low_y   close_y  Volume BTC_y\n",
              "0  1639281900 2021-12-12 04:05:00  49176.92  ...  49171.57  49199.09     41.213501\n",
              "1  1639281840 2021-12-12 04:04:00  49243.24  ...  49221.35  49222.23      1.810929\n",
              "2  1639281780 2021-12-12 04:03:00  49275.85  ...  49271.97  49282.15      7.685820\n",
              "3  1639281720 2021-12-12 04:02:00  49321.79  ...  49319.29  49319.29      0.350190\n",
              "4  1639281660 2021-12-12 04:01:00  49327.18  ...  49358.72  49358.72      0.167059\n",
              "\n",
              "[5 rows x 13 columns]"
            ]
          },
          "metadata": {},
          "execution_count": 49
        }
      ]
    },
    {
      "cell_type": "code",
      "source": [
        "btc_data.set_index(\"unix\", drop=True, inplace=True)\n",
        "btc_data.sort_index(ascending=False,inplace=True)\n",
        "btc_data.reset_index(inplace=True)\n",
        "btc_data.head()"
      ],
      "metadata": {
        "id": "J8027p1mUJqI",
        "colab": {
          "base_uri": "https://localhost:8080/",
          "height": 206
        },
        "outputId": "4db6a549-d2a4-4d91-fe29-4bd001978353"
      },
      "execution_count": null,
      "outputs": [
        {
          "output_type": "execute_result",
          "data": {
            "text/html": [
              "\n",
              "  <div id=\"df-416c414c-a4f8-4345-80d2-564dca3e1245\">\n",
              "    <div class=\"colab-df-container\">\n",
              "      <div>\n",
              "<style scoped>\n",
              "    .dataframe tbody tr th:only-of-type {\n",
              "        vertical-align: middle;\n",
              "    }\n",
              "\n",
              "    .dataframe tbody tr th {\n",
              "        vertical-align: top;\n",
              "    }\n",
              "\n",
              "    .dataframe thead th {\n",
              "        text-align: right;\n",
              "    }\n",
              "</style>\n",
              "<table border=\"1\" class=\"dataframe\">\n",
              "  <thead>\n",
              "    <tr style=\"text-align: right;\">\n",
              "      <th></th>\n",
              "      <th>unix</th>\n",
              "      <th>date</th>\n",
              "      <th>open_x</th>\n",
              "      <th>high_x</th>\n",
              "      <th>low_x</th>\n",
              "      <th>close_x</th>\n",
              "      <th>Volume BTC_x</th>\n",
              "      <th>tradecount</th>\n",
              "      <th>open_y</th>\n",
              "      <th>high_y</th>\n",
              "      <th>low_y</th>\n",
              "      <th>close_y</th>\n",
              "      <th>Volume BTC_y</th>\n",
              "    </tr>\n",
              "  </thead>\n",
              "  <tbody>\n",
              "    <tr>\n",
              "      <th>0</th>\n",
              "      <td>1639281900</td>\n",
              "      <td>2021-12-12 04:05:00</td>\n",
              "      <td>49176.92</td>\n",
              "      <td>49202.25</td>\n",
              "      <td>49130.00</td>\n",
              "      <td>49160.00</td>\n",
              "      <td>50.81359</td>\n",
              "      <td>1200.0</td>\n",
              "      <td>49207.29</td>\n",
              "      <td>49207.29</td>\n",
              "      <td>49171.57</td>\n",
              "      <td>49199.09</td>\n",
              "      <td>41.213501</td>\n",
              "    </tr>\n",
              "    <tr>\n",
              "      <th>1</th>\n",
              "      <td>1639281840</td>\n",
              "      <td>2021-12-12 04:04:00</td>\n",
              "      <td>49243.24</td>\n",
              "      <td>49246.64</td>\n",
              "      <td>49150.00</td>\n",
              "      <td>49176.93</td>\n",
              "      <td>49.22467</td>\n",
              "      <td>1356.0</td>\n",
              "      <td>49264.39</td>\n",
              "      <td>49264.39</td>\n",
              "      <td>49221.35</td>\n",
              "      <td>49222.23</td>\n",
              "      <td>1.810929</td>\n",
              "    </tr>\n",
              "    <tr>\n",
              "      <th>2</th>\n",
              "      <td>1639281780</td>\n",
              "      <td>2021-12-12 04:03:00</td>\n",
              "      <td>49275.85</td>\n",
              "      <td>49284.20</td>\n",
              "      <td>49241.06</td>\n",
              "      <td>49243.25</td>\n",
              "      <td>13.65856</td>\n",
              "      <td>589.0</td>\n",
              "      <td>49310.33</td>\n",
              "      <td>49314.15</td>\n",
              "      <td>49271.97</td>\n",
              "      <td>49282.15</td>\n",
              "      <td>7.685820</td>\n",
              "    </tr>\n",
              "    <tr>\n",
              "      <th>3</th>\n",
              "      <td>1639281720</td>\n",
              "      <td>2021-12-12 04:02:00</td>\n",
              "      <td>49321.79</td>\n",
              "      <td>49321.79</td>\n",
              "      <td>49267.40</td>\n",
              "      <td>49275.86</td>\n",
              "      <td>13.57473</td>\n",
              "      <td>631.0</td>\n",
              "      <td>49341.59</td>\n",
              "      <td>49341.59</td>\n",
              "      <td>49319.29</td>\n",
              "      <td>49319.29</td>\n",
              "      <td>0.350190</td>\n",
              "    </tr>\n",
              "    <tr>\n",
              "      <th>4</th>\n",
              "      <td>1639281660</td>\n",
              "      <td>2021-12-12 04:01:00</td>\n",
              "      <td>49327.18</td>\n",
              "      <td>49347.53</td>\n",
              "      <td>49321.78</td>\n",
              "      <td>49321.79</td>\n",
              "      <td>5.62087</td>\n",
              "      <td>375.0</td>\n",
              "      <td>49366.00</td>\n",
              "      <td>49377.00</td>\n",
              "      <td>49358.72</td>\n",
              "      <td>49358.72</td>\n",
              "      <td>0.167059</td>\n",
              "    </tr>\n",
              "  </tbody>\n",
              "</table>\n",
              "</div>\n",
              "      <button class=\"colab-df-convert\" onclick=\"convertToInteractive('df-416c414c-a4f8-4345-80d2-564dca3e1245')\"\n",
              "              title=\"Convert this dataframe to an interactive table.\"\n",
              "              style=\"display:none;\">\n",
              "        \n",
              "  <svg xmlns=\"http://www.w3.org/2000/svg\" height=\"24px\"viewBox=\"0 0 24 24\"\n",
              "       width=\"24px\">\n",
              "    <path d=\"M0 0h24v24H0V0z\" fill=\"none\"/>\n",
              "    <path d=\"M18.56 5.44l.94 2.06.94-2.06 2.06-.94-2.06-.94-.94-2.06-.94 2.06-2.06.94zm-11 1L8.5 8.5l.94-2.06 2.06-.94-2.06-.94L8.5 2.5l-.94 2.06-2.06.94zm10 10l.94 2.06.94-2.06 2.06-.94-2.06-.94-.94-2.06-.94 2.06-2.06.94z\"/><path d=\"M17.41 7.96l-1.37-1.37c-.4-.4-.92-.59-1.43-.59-.52 0-1.04.2-1.43.59L10.3 9.45l-7.72 7.72c-.78.78-.78 2.05 0 2.83L4 21.41c.39.39.9.59 1.41.59.51 0 1.02-.2 1.41-.59l7.78-7.78 2.81-2.81c.8-.78.8-2.07 0-2.86zM5.41 20L4 18.59l7.72-7.72 1.47 1.35L5.41 20z\"/>\n",
              "  </svg>\n",
              "      </button>\n",
              "      \n",
              "  <style>\n",
              "    .colab-df-container {\n",
              "      display:flex;\n",
              "      flex-wrap:wrap;\n",
              "      gap: 12px;\n",
              "    }\n",
              "\n",
              "    .colab-df-convert {\n",
              "      background-color: #E8F0FE;\n",
              "      border: none;\n",
              "      border-radius: 50%;\n",
              "      cursor: pointer;\n",
              "      display: none;\n",
              "      fill: #1967D2;\n",
              "      height: 32px;\n",
              "      padding: 0 0 0 0;\n",
              "      width: 32px;\n",
              "    }\n",
              "\n",
              "    .colab-df-convert:hover {\n",
              "      background-color: #E2EBFA;\n",
              "      box-shadow: 0px 1px 2px rgba(60, 64, 67, 0.3), 0px 1px 3px 1px rgba(60, 64, 67, 0.15);\n",
              "      fill: #174EA6;\n",
              "    }\n",
              "\n",
              "    [theme=dark] .colab-df-convert {\n",
              "      background-color: #3B4455;\n",
              "      fill: #D2E3FC;\n",
              "    }\n",
              "\n",
              "    [theme=dark] .colab-df-convert:hover {\n",
              "      background-color: #434B5C;\n",
              "      box-shadow: 0px 1px 3px 1px rgba(0, 0, 0, 0.15);\n",
              "      filter: drop-shadow(0px 1px 2px rgba(0, 0, 0, 0.3));\n",
              "      fill: #FFFFFF;\n",
              "    }\n",
              "  </style>\n",
              "\n",
              "      <script>\n",
              "        const buttonEl =\n",
              "          document.querySelector('#df-416c414c-a4f8-4345-80d2-564dca3e1245 button.colab-df-convert');\n",
              "        buttonEl.style.display =\n",
              "          google.colab.kernel.accessAllowed ? 'block' : 'none';\n",
              "\n",
              "        async function convertToInteractive(key) {\n",
              "          const element = document.querySelector('#df-416c414c-a4f8-4345-80d2-564dca3e1245');\n",
              "          const dataTable =\n",
              "            await google.colab.kernel.invokeFunction('convertToInteractive',\n",
              "                                                     [key], {});\n",
              "          if (!dataTable) return;\n",
              "\n",
              "          const docLinkHtml = 'Like what you see? Visit the ' +\n",
              "            '<a target=\"_blank\" href=https://colab.research.google.com/notebooks/data_table.ipynb>data table notebook</a>'\n",
              "            + ' to learn more about interactive tables.';\n",
              "          element.innerHTML = '';\n",
              "          dataTable['output_type'] = 'display_data';\n",
              "          await google.colab.output.renderOutput(dataTable, element);\n",
              "          const docLink = document.createElement('div');\n",
              "          docLink.innerHTML = docLinkHtml;\n",
              "          element.appendChild(docLink);\n",
              "        }\n",
              "      </script>\n",
              "    </div>\n",
              "  </div>\n",
              "  "
            ],
            "text/plain": [
              "         unix                date    open_x  ...     low_y   close_y  Volume BTC_y\n",
              "0  1639281900 2021-12-12 04:05:00  49176.92  ...  49171.57  49199.09     41.213501\n",
              "1  1639281840 2021-12-12 04:04:00  49243.24  ...  49221.35  49222.23      1.810929\n",
              "2  1639281780 2021-12-12 04:03:00  49275.85  ...  49271.97  49282.15      7.685820\n",
              "3  1639281720 2021-12-12 04:02:00  49321.79  ...  49319.29  49319.29      0.350190\n",
              "4  1639281660 2021-12-12 04:01:00  49327.18  ...  49358.72  49358.72      0.167059\n",
              "\n",
              "[5 rows x 13 columns]"
            ]
          },
          "metadata": {},
          "execution_count": 50
        }
      ]
    },
    {
      "cell_type": "code",
      "source": [
        "missed_date_indexes = check_date(btc_data.unix)\n",
        "len(missed_date_indexes)\n",
        "missed_date_indexes"
      ],
      "metadata": {
        "colab": {
          "base_uri": "https://localhost:8080/"
        },
        "id": "4_mBVZkfJ5to",
        "outputId": "cac6e3b0-6983-4a52-8656-3aa794e674d5"
      },
      "execution_count": null,
      "outputs": [
        {
          "output_type": "execute_result",
          "data": {
            "text/plain": [
              "[542706]"
            ]
          },
          "metadata": {},
          "execution_count": 51
        }
      ]
    },
    {
      "cell_type": "code",
      "source": [
        "btc_data[missed_date_indexes[0] - 1 : missed_date_indexes[0] + 2]"
      ],
      "metadata": {
        "id": "eTkTB6PfvDoc",
        "colab": {
          "base_uri": "https://localhost:8080/",
          "height": 143
        },
        "outputId": "a5540aa4-4a28-4416-bf74-e1b81394a941"
      },
      "execution_count": null,
      "outputs": [
        {
          "output_type": "execute_result",
          "data": {
            "text/html": [
              "\n",
              "  <div id=\"df-0b548f76-28e8-472a-9f0f-f0ee9325ad28\">\n",
              "    <div class=\"colab-df-container\">\n",
              "      <div>\n",
              "<style scoped>\n",
              "    .dataframe tbody tr th:only-of-type {\n",
              "        vertical-align: middle;\n",
              "    }\n",
              "\n",
              "    .dataframe tbody tr th {\n",
              "        vertical-align: top;\n",
              "    }\n",
              "\n",
              "    .dataframe thead th {\n",
              "        text-align: right;\n",
              "    }\n",
              "</style>\n",
              "<table border=\"1\" class=\"dataframe\">\n",
              "  <thead>\n",
              "    <tr style=\"text-align: right;\">\n",
              "      <th></th>\n",
              "      <th>unix</th>\n",
              "      <th>date</th>\n",
              "      <th>open_x</th>\n",
              "      <th>high_x</th>\n",
              "      <th>low_x</th>\n",
              "      <th>close_x</th>\n",
              "      <th>Volume BTC_x</th>\n",
              "      <th>tradecount</th>\n",
              "      <th>open_y</th>\n",
              "      <th>high_y</th>\n",
              "      <th>low_y</th>\n",
              "      <th>close_y</th>\n",
              "      <th>Volume BTC_y</th>\n",
              "    </tr>\n",
              "  </thead>\n",
              "  <tbody>\n",
              "    <tr>\n",
              "      <th>542705</th>\n",
              "      <td>1606719600</td>\n",
              "      <td>2020-11-30 07:00:00</td>\n",
              "      <td>18520.27</td>\n",
              "      <td>18559.77</td>\n",
              "      <td>18512.90</td>\n",
              "      <td>18528.76</td>\n",
              "      <td>65.068932</td>\n",
              "      <td>986.0</td>\n",
              "      <td>NaN</td>\n",
              "      <td>NaN</td>\n",
              "      <td>NaN</td>\n",
              "      <td>NaN</td>\n",
              "      <td>NaN</td>\n",
              "    </tr>\n",
              "    <tr>\n",
              "      <th>542706</th>\n",
              "      <td>1606715940</td>\n",
              "      <td>2020-11-30 05:59:00</td>\n",
              "      <td>18516.15</td>\n",
              "      <td>18524.07</td>\n",
              "      <td>18515.78</td>\n",
              "      <td>18520.47</td>\n",
              "      <td>5.437391</td>\n",
              "      <td>176.0</td>\n",
              "      <td>NaN</td>\n",
              "      <td>NaN</td>\n",
              "      <td>NaN</td>\n",
              "      <td>NaN</td>\n",
              "      <td>NaN</td>\n",
              "    </tr>\n",
              "    <tr>\n",
              "      <th>542707</th>\n",
              "      <td>1606715880</td>\n",
              "      <td>2020-11-30 05:58:00</td>\n",
              "      <td>18516.38</td>\n",
              "      <td>18522.35</td>\n",
              "      <td>18514.79</td>\n",
              "      <td>18515.78</td>\n",
              "      <td>15.437851</td>\n",
              "      <td>281.0</td>\n",
              "      <td>NaN</td>\n",
              "      <td>NaN</td>\n",
              "      <td>NaN</td>\n",
              "      <td>NaN</td>\n",
              "      <td>NaN</td>\n",
              "    </tr>\n",
              "  </tbody>\n",
              "</table>\n",
              "</div>\n",
              "      <button class=\"colab-df-convert\" onclick=\"convertToInteractive('df-0b548f76-28e8-472a-9f0f-f0ee9325ad28')\"\n",
              "              title=\"Convert this dataframe to an interactive table.\"\n",
              "              style=\"display:none;\">\n",
              "        \n",
              "  <svg xmlns=\"http://www.w3.org/2000/svg\" height=\"24px\"viewBox=\"0 0 24 24\"\n",
              "       width=\"24px\">\n",
              "    <path d=\"M0 0h24v24H0V0z\" fill=\"none\"/>\n",
              "    <path d=\"M18.56 5.44l.94 2.06.94-2.06 2.06-.94-2.06-.94-.94-2.06-.94 2.06-2.06.94zm-11 1L8.5 8.5l.94-2.06 2.06-.94-2.06-.94L8.5 2.5l-.94 2.06-2.06.94zm10 10l.94 2.06.94-2.06 2.06-.94-2.06-.94-.94-2.06-.94 2.06-2.06.94z\"/><path d=\"M17.41 7.96l-1.37-1.37c-.4-.4-.92-.59-1.43-.59-.52 0-1.04.2-1.43.59L10.3 9.45l-7.72 7.72c-.78.78-.78 2.05 0 2.83L4 21.41c.39.39.9.59 1.41.59.51 0 1.02-.2 1.41-.59l7.78-7.78 2.81-2.81c.8-.78.8-2.07 0-2.86zM5.41 20L4 18.59l7.72-7.72 1.47 1.35L5.41 20z\"/>\n",
              "  </svg>\n",
              "      </button>\n",
              "      \n",
              "  <style>\n",
              "    .colab-df-container {\n",
              "      display:flex;\n",
              "      flex-wrap:wrap;\n",
              "      gap: 12px;\n",
              "    }\n",
              "\n",
              "    .colab-df-convert {\n",
              "      background-color: #E8F0FE;\n",
              "      border: none;\n",
              "      border-radius: 50%;\n",
              "      cursor: pointer;\n",
              "      display: none;\n",
              "      fill: #1967D2;\n",
              "      height: 32px;\n",
              "      padding: 0 0 0 0;\n",
              "      width: 32px;\n",
              "    }\n",
              "\n",
              "    .colab-df-convert:hover {\n",
              "      background-color: #E2EBFA;\n",
              "      box-shadow: 0px 1px 2px rgba(60, 64, 67, 0.3), 0px 1px 3px 1px rgba(60, 64, 67, 0.15);\n",
              "      fill: #174EA6;\n",
              "    }\n",
              "\n",
              "    [theme=dark] .colab-df-convert {\n",
              "      background-color: #3B4455;\n",
              "      fill: #D2E3FC;\n",
              "    }\n",
              "\n",
              "    [theme=dark] .colab-df-convert:hover {\n",
              "      background-color: #434B5C;\n",
              "      box-shadow: 0px 1px 3px 1px rgba(0, 0, 0, 0.15);\n",
              "      filter: drop-shadow(0px 1px 2px rgba(0, 0, 0, 0.3));\n",
              "      fill: #FFFFFF;\n",
              "    }\n",
              "  </style>\n",
              "\n",
              "      <script>\n",
              "        const buttonEl =\n",
              "          document.querySelector('#df-0b548f76-28e8-472a-9f0f-f0ee9325ad28 button.colab-df-convert');\n",
              "        buttonEl.style.display =\n",
              "          google.colab.kernel.accessAllowed ? 'block' : 'none';\n",
              "\n",
              "        async function convertToInteractive(key) {\n",
              "          const element = document.querySelector('#df-0b548f76-28e8-472a-9f0f-f0ee9325ad28');\n",
              "          const dataTable =\n",
              "            await google.colab.kernel.invokeFunction('convertToInteractive',\n",
              "                                                     [key], {});\n",
              "          if (!dataTable) return;\n",
              "\n",
              "          const docLinkHtml = 'Like what you see? Visit the ' +\n",
              "            '<a target=\"_blank\" href=https://colab.research.google.com/notebooks/data_table.ipynb>data table notebook</a>'\n",
              "            + ' to learn more about interactive tables.';\n",
              "          element.innerHTML = '';\n",
              "          dataTable['output_type'] = 'display_data';\n",
              "          await google.colab.output.renderOutput(dataTable, element);\n",
              "          const docLink = document.createElement('div');\n",
              "          docLink.innerHTML = docLinkHtml;\n",
              "          element.appendChild(docLink);\n",
              "        }\n",
              "      </script>\n",
              "    </div>\n",
              "  </div>\n",
              "  "
            ],
            "text/plain": [
              "              unix                date    open_x  ...  low_y  close_y  Volume BTC_y\n",
              "542705  1606719600 2020-11-30 07:00:00  18520.27  ...    NaN      NaN           NaN\n",
              "542706  1606715940 2020-11-30 05:59:00  18516.15  ...    NaN      NaN           NaN\n",
              "542707  1606715880 2020-11-30 05:58:00  18516.38  ...    NaN      NaN           NaN\n",
              "\n",
              "[3 rows x 13 columns]"
            ]
          },
          "metadata": {},
          "execution_count": 52
        }
      ]
    },
    {
      "cell_type": "code",
      "source": [
        "files.upload()"
      ],
      "metadata": {
        "id": "wQru6pUKiPWu",
        "colab": {
          "resources": {
            "http://localhost:8080/nbextensions/google.colab/files.js": {
              "data": "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",
              "ok": true,
              "headers": [
                [
                  "content-type",
                  "application/javascript"
                ]
              ],
              "status": 200,
              "status_text": ""
            }
          },
          "base_uri": "https://localhost:8080/",
          "height": 93
        },
        "outputId": "4450cdac-d7f3-4c99-db30-6d5f3d48f2d7"
      },
      "execution_count": null,
      "outputs": [
        {
          "output_type": "display_data",
          "data": {
            "text/html": [
              "\n",
              "     <input type=\"file\" id=\"files-9814f5ca-e9a5-4e7e-a2f9-3653f08b9b9e\" name=\"files[]\" multiple disabled\n",
              "        style=\"border:none\" />\n",
              "     <output id=\"result-9814f5ca-e9a5-4e7e-a2f9-3653f08b9b9e\">\n",
              "      Upload widget is only available when the cell has been executed in the\n",
              "      current browser session. Please rerun this cell to enable.\n",
              "      </output>\n",
              "      <script src=\"/nbextensions/google.colab/files.js\"></script> "
            ],
            "text/plain": [
              "<IPython.core.display.HTML object>"
            ]
          },
          "metadata": {}
        },
        {
          "output_type": "stream",
          "name": "stdout",
          "text": [
            "Saving add_data_btc_csv.csv to add_data_btc_csv.csv\n"
          ]
        },
        {
          "output_type": "execute_result",
          "data": {
            "text/plain": [
              "{'add_data_btc_csv.csv': b'1606719540000,2020-11-30 06:59:00,BTC/USD,18552.0,18556,18549,18549,10758.97480059,0.58002991\\r\\n1606719480000,2020-11-30 06:58:00,BTC/USD,18560.83504422,18561,18553,18553,12725.678953499999,0.6859095\\r\\n1606719420000,2020-11-30 06:57:00,BTC/USD,18559.0,18560.835044220003,18559,18560,7956.59666336,0.42871904\\r\\n1606719360000,2020-11-30 06:56:00,BTC/USD,18556.0,18562,18555,18557,41570.9385483,2.24041706\\r\\n1606719300000,2020-11-30 06:55:00,BTC/USD,18556.0,18559,18555,18559,55967.6249991,3.01630962\\r\\n1606719240000,2020-11-30 06:54:00,BTC/USD,18554.84999487,18556,18551,18555,12580.62648583,0.67816433\\r\\n1606719180000,2020-11-30 06:53:00,BTC/USD,18556.0,18561,18556,18561,1206.14,0.065\\r\\n1606719120000,2020-11-30 06:52:00,BTC/USD,18558.0,18558,18558,18558,185.58,0.01\\r\\n1606719060000,2020-11-30 06:51:00,BTC/USD,18551.0,18557,18551,18557,27823.05340971,1.49981421\\r\\n1606719000000,2020-11-30 06:50:00,BTC/USD,18561.0,18561.37812,18551,18551,643.26649907,0.03467557\\r\\n1606718940000,2020-11-30 06:49:00,BTC/USD,18559.0,18561,18558,18560,23654.84539338,1.27464411\\r\\n1606718880000,2020-11-30 06:48:00,BTC/USD,18550.0,18560,18550,18559,115825.92546,6.2439852\\r\\n1606718820000,2020-11-30 06:47:00,BTC/USD,18549.82673694,18550,18549,18550,7656.601314959999,0.41277704\\r\\n1606718760000,2020-11-30 06:46:00,BTC/USD,18545.01559814,18549,18545,18549,95654.51489095,5.15796791\\r\\n1606718700000,2020-11-30 06:45:00,BTC/USD,18539.0,18544.076895909995,18539,18544.076895909995,16855.81341526,0.90920834\\r\\n1606718640000,2020-11-30 06:44:00,BTC/USD,18541.0,18544,18539,18539,8075.39800447,0.43558973\\r\\n1606718580000,2020-11-30 06:43:00,BTC/USD,18538.0,18544.75814061,18537,18541,93913.65757031999,5.06628136\\r\\n1606718520000,2020-11-30 06:42:00,BTC/USD,18538.0,18539,18538,18538,956.97475354,0.05162233\\r\\n1606718460000,2020-11-30 06:41:00,BTC/USD,18540.0,18543,18537,18538,186611.979,10.067\\r\\n1606718400000,2020-11-30 06:40:00,BTC/USD,18538.0,18543.56039094,18538,18542.515996819995,93597.7993717,5.04896965\\r\\n1606718340000,2020-11-30 06:39:00,BTC/USD,18539.0,18541,18537,18537,278257.498188,15.010924\\r\\n1606718280000,2020-11-30 06:38:00,BTC/USD,18541.0,18542,18536,18536,94105.42321936,5.07690026\\r\\n1606718220000,2020-11-30 06:37:00,BTC/USD,18526.0,18574,18526,18541,1124565.43726,60.70201\\r\\n1606718160000,2020-11-30 06:36:00,BTC/USD,18523.0,18523,18517,18523,337946.83386486,18.25062558\\r\\n1606718100000,2020-11-30 06:35:00,BTC/USD,18527.0,18529,18521,18521,21701.169604149996,1.17170615\\r\\n1606718040000,2020-11-30 06:34:00,BTC/USD,18532.78064391,18532.780643909995,18527,18527,129836.40322051,7.007956129999999\\r\\n1606717980000,2020-11-30 06:33:00,BTC/USD,18525.0,18532.2445,18525,18532.2445,35156.55975,1.89779\\r\\n1606717920000,2020-11-30 06:32:00,BTC/USD,18524.0,18524,18521,18521,9538.315,0.515\\r\\n1606717860000,2020-11-30 06:31:00,BTC/USD,18516.0,18525,18504,18524,101279.81710008,5.47340127\\r\\n1606717800000,2020-11-30 06:30:00,BTC/USD,18520.0,18521,18513,18517,143034.88456521,7.72618617\\r\\n1606717740000,2020-11-30 06:29:00,BTC/USD,18526.0,18526,18520,18520,57294.1226076,3.09363513\\r\\n1606717680000,2020-11-30 06:28:00,BTC/USD,18532.0,18532,18525,18525,173179.143345,9.3484018\\r\\n1606717620000,2020-11-30 06:27:00,BTC/USD,18528.0,18533.576915439997,18526.54232,18533.576915439997,13062.407482845065,0.70506451\\r\\n1606717560000,2020-11-30 06:26:00,BTC/USD,18531.0,18533,18531,18532,5987.39871456,0.32310176\\r\\n1606717500000,2020-11-30 06:25:00,BTC/USD,18537.16962226,18537.16962226,18527,18527,53852.134468,2.906684\\r\\n1606717440000,2020-11-30 06:24:00,BTC/USD,18543.0,18543,18537,18537.16962226,13165.4575083,0.7102259\\r\\n1606717380000,2020-11-30 06:23:00,BTC/USD,18542.0,18542,18537.16962226,18542,8011.875933758506,0.43220600000000003\\r\\n1606717320000,2020-11-30 06:22:00,BTC/USD,18551.0,18551,18540,18540,112094.694,6.0461\\r\\n1606717260000,2020-11-30 06:21:00,BTC/USD,18560.0,18560,18551,18552,19578.725400000003,1.0554000000000001\\r\\n1606717200000,2020-11-30 06:20:00,BTC/USD,18569.0,18569,18560,18560,19766.9449216,1.06502936\\r\\n1606717140000,2020-11-30 06:19:00,BTC/USD,18575.0,18575,18568,18568,928.4000000000001,0.05\\r\\n1606717080000,2020-11-30 06:18:00,BTC/USD,18578.0,18585.07237986,18571,18577,29481.70373729,1.58751299\\r\\n1606717020000,2020-11-30 06:17:00,BTC/USD,18579.0,18579,18572,18575,2738.15743412,0.14743471\\r\\n1606716960000,2020-11-30 06:16:00,BTC/USD,18579.0,18579,18578,18579,700.07997584,0.03768328\\r\\n1606716900000,2020-11-30 06:15:00,BTC/USD,18578.0,18578,18578,18578,20962.61114416,1.12835672\\r\\n1606716840000,2020-11-30 06:14:00,BTC/USD,18577.0,18578,18576,18578,21434.5547568,1.1538843\\r\\n1606716780000,2020-11-30 06:13:00,BTC/USD,18568.0,18578,18568,18578,32725.153960400003,1.76244905\\r\\n1606716720000,2020-11-30 06:12:00,BTC/USD,18571.0,18572,18555,18567,622457.28267975,33.54660645\\r\\n1606716660000,2020-11-30 06:11:00,BTC/USD,18568.0,18573,18568,18573,210972.89807968002,11.36217676\\r\\n1606716600000,2020-11-30 06:10:00,BTC/USD,18567.14323554,18568.000000000004,18567.14323554,18567.999999999996,102.81964043831456,0.00553772\\r\\n1606716540000,2020-11-30 06:09:00,BTC/USD,18551.0,18567,18550.41522224,18567,18087.515580950312,0.9750464\\r\\n1606716480000,2020-11-30 06:08:00,BTC/USD,18549.08104393,18550.999999999996,18549.08104393,18551.000000000004,1767.727423486529,0.0953\\r\\n1606716420000,2020-11-30 06:07:00,BTC/USD,18544.0,18551,18544,18551,2874.32,0.155\\r\\n1606716360000,2020-11-30 06:06:00,BTC/USD,18540.0,18544,18540,18544,2873.7,0.155\\r\\n1606716300000,2020-11-30 06:05:00,BTC/USD,18538.0,18539,18538,18539,1067.455116,0.057582\\r\\n1606716240000,2020-11-30 06:04:00,BTC/USD,18537.34478474,18538,18537,18537,648.7950000000001,0.035\\r\\n1606716180000,2020-11-30 06:03:00,BTC/USD,18543.0,18542.999999999996,18537.34478474,18537.34478474,111594.8156041348,6.0200000000000005\\r\\n1606716120000,2020-11-30 06:02:00,BTC/USD,18543.33191244,18543.331912440004,18542.103132,18542.103132,1576.07876622,0.085\\r\\n1606716060000,2020-11-30 06:01:00,BTC/USD,18559.0,18558.999999999996,18546.92418906,18547.000000000004,5128.738288075127,0.2765277\\r\\n1606716000000,2020-11-30 06:00:00,BTC/USD,18549.08104393,18559.434900000004,18549.08104393,18559.000000000004,20516.727495055038,1.10607784\\r\\n'}"
            ]
          },
          "metadata": {},
          "execution_count": 53
        }
      ]
    },
    {
      "cell_type": "code",
      "source": [
        "add_data = pd.read_csv(\"/content/add_data_btc_csv.csv\", names=btc_data_2017.columns)"
      ],
      "metadata": {
        "id": "I5g1QSi-iPZd"
      },
      "execution_count": null,
      "outputs": []
    },
    {
      "cell_type": "code",
      "source": [
        "add_data.drop([\"symbol\", \"Volume BTC\"], axis=1, inplace=True)\n",
        "add_data.rename(columns={\"Volume USD\": \"Volume BTC\"}, inplace=True)\n",
        "add_data[[\"date\"]] = pd.to_datetime(add_data.date)\n",
        "add_data[[\"unix\"]] = add_data.unix.apply(lambda x: x//1000)"
      ],
      "metadata": {
        "id": "CroCF0NJRYHT"
      },
      "execution_count": null,
      "outputs": []
    },
    {
      "cell_type": "code",
      "source": [
        "add_data[\"Volume BTC\"].mean()"
      ],
      "metadata": {
        "id": "Azw5Hl4ziPhK",
        "colab": {
          "base_uri": "https://localhost:8080/"
        },
        "outputId": "f13372c3-dbb7-417e-98a1-884ee5936248"
      },
      "execution_count": null,
      "outputs": [
        {
          "output_type": "execute_result",
          "data": {
            "text/plain": [
              "4.202793480833334"
            ]
          },
          "metadata": {},
          "execution_count": 56
        }
      ]
    },
    {
      "cell_type": "code",
      "source": [
        "print(btc_data_2019_2021[\"Volume BTC\"][(btc_data_2019_2021.date < \"2020-11-30 05:58:00\") & (btc_data_2019_2021.date > \"2020-11-30 04:58:00\")].mean())\n",
        "print(btc_data_2019_2021[\"Volume BTC\"][(btc_data_2019_2021.date < \"2020-11-30 07:58:00\") & (btc_data_2019_2021.date > \"2020-11-30 06:58:00\")].mean())"
      ],
      "metadata": {
        "colab": {
          "base_uri": "https://localhost:8080/"
        },
        "id": "fzzEn9A3SMaY",
        "outputId": "b693c5ad-2dfd-4096-e21b-f4cee8464e7f"
      },
      "execution_count": null,
      "outputs": [
        {
          "output_type": "stream",
          "name": "stdout",
          "text": [
            "31.250519762711864\n",
            "59.67495748275862\n"
          ]
        }
      ]
    },
    {
      "cell_type": "code",
      "source": [
        "add_data[[\"Volume BTC\"]] = add_data[\"Volume BTC\"].apply(lambda x: x*10)"
      ],
      "metadata": {
        "id": "gLRW4VA_SMff"
      },
      "execution_count": null,
      "outputs": []
    },
    {
      "cell_type": "code",
      "source": [
        "add_data.head()"
      ],
      "metadata": {
        "colab": {
          "base_uri": "https://localhost:8080/",
          "height": 206
        },
        "id": "jd5sNJtcSMkg",
        "outputId": "400a2943-cb67-414c-c102-72793f1a9e9f"
      },
      "execution_count": null,
      "outputs": [
        {
          "output_type": "execute_result",
          "data": {
            "text/html": [
              "\n",
              "  <div id=\"df-5ae5bb75-6c17-4b3e-a9a7-e77427425509\">\n",
              "    <div class=\"colab-df-container\">\n",
              "      <div>\n",
              "<style scoped>\n",
              "    .dataframe tbody tr th:only-of-type {\n",
              "        vertical-align: middle;\n",
              "    }\n",
              "\n",
              "    .dataframe tbody tr th {\n",
              "        vertical-align: top;\n",
              "    }\n",
              "\n",
              "    .dataframe thead th {\n",
              "        text-align: right;\n",
              "    }\n",
              "</style>\n",
              "<table border=\"1\" class=\"dataframe\">\n",
              "  <thead>\n",
              "    <tr style=\"text-align: right;\">\n",
              "      <th></th>\n",
              "      <th>unix</th>\n",
              "      <th>date</th>\n",
              "      <th>open</th>\n",
              "      <th>high</th>\n",
              "      <th>low</th>\n",
              "      <th>close</th>\n",
              "      <th>Volume BTC</th>\n",
              "    </tr>\n",
              "  </thead>\n",
              "  <tbody>\n",
              "    <tr>\n",
              "      <th>0</th>\n",
              "      <td>1606719540</td>\n",
              "      <td>2020-11-30 06:59:00</td>\n",
              "      <td>18552.000000</td>\n",
              "      <td>18556.000000</td>\n",
              "      <td>18549.0</td>\n",
              "      <td>18549.0</td>\n",
              "      <td>5.800299</td>\n",
              "    </tr>\n",
              "    <tr>\n",
              "      <th>1</th>\n",
              "      <td>1606719480</td>\n",
              "      <td>2020-11-30 06:58:00</td>\n",
              "      <td>18560.835044</td>\n",
              "      <td>18561.000000</td>\n",
              "      <td>18553.0</td>\n",
              "      <td>18553.0</td>\n",
              "      <td>6.859095</td>\n",
              "    </tr>\n",
              "    <tr>\n",
              "      <th>2</th>\n",
              "      <td>1606719420</td>\n",
              "      <td>2020-11-30 06:57:00</td>\n",
              "      <td>18559.000000</td>\n",
              "      <td>18560.835044</td>\n",
              "      <td>18559.0</td>\n",
              "      <td>18560.0</td>\n",
              "      <td>4.287190</td>\n",
              "    </tr>\n",
              "    <tr>\n",
              "      <th>3</th>\n",
              "      <td>1606719360</td>\n",
              "      <td>2020-11-30 06:56:00</td>\n",
              "      <td>18556.000000</td>\n",
              "      <td>18562.000000</td>\n",
              "      <td>18555.0</td>\n",
              "      <td>18557.0</td>\n",
              "      <td>22.404171</td>\n",
              "    </tr>\n",
              "    <tr>\n",
              "      <th>4</th>\n",
              "      <td>1606719300</td>\n",
              "      <td>2020-11-30 06:55:00</td>\n",
              "      <td>18556.000000</td>\n",
              "      <td>18559.000000</td>\n",
              "      <td>18555.0</td>\n",
              "      <td>18559.0</td>\n",
              "      <td>30.163096</td>\n",
              "    </tr>\n",
              "  </tbody>\n",
              "</table>\n",
              "</div>\n",
              "      <button class=\"colab-df-convert\" onclick=\"convertToInteractive('df-5ae5bb75-6c17-4b3e-a9a7-e77427425509')\"\n",
              "              title=\"Convert this dataframe to an interactive table.\"\n",
              "              style=\"display:none;\">\n",
              "        \n",
              "  <svg xmlns=\"http://www.w3.org/2000/svg\" height=\"24px\"viewBox=\"0 0 24 24\"\n",
              "       width=\"24px\">\n",
              "    <path d=\"M0 0h24v24H0V0z\" fill=\"none\"/>\n",
              "    <path d=\"M18.56 5.44l.94 2.06.94-2.06 2.06-.94-2.06-.94-.94-2.06-.94 2.06-2.06.94zm-11 1L8.5 8.5l.94-2.06 2.06-.94-2.06-.94L8.5 2.5l-.94 2.06-2.06.94zm10 10l.94 2.06.94-2.06 2.06-.94-2.06-.94-.94-2.06-.94 2.06-2.06.94z\"/><path d=\"M17.41 7.96l-1.37-1.37c-.4-.4-.92-.59-1.43-.59-.52 0-1.04.2-1.43.59L10.3 9.45l-7.72 7.72c-.78.78-.78 2.05 0 2.83L4 21.41c.39.39.9.59 1.41.59.51 0 1.02-.2 1.41-.59l7.78-7.78 2.81-2.81c.8-.78.8-2.07 0-2.86zM5.41 20L4 18.59l7.72-7.72 1.47 1.35L5.41 20z\"/>\n",
              "  </svg>\n",
              "      </button>\n",
              "      \n",
              "  <style>\n",
              "    .colab-df-container {\n",
              "      display:flex;\n",
              "      flex-wrap:wrap;\n",
              "      gap: 12px;\n",
              "    }\n",
              "\n",
              "    .colab-df-convert {\n",
              "      background-color: #E8F0FE;\n",
              "      border: none;\n",
              "      border-radius: 50%;\n",
              "      cursor: pointer;\n",
              "      display: none;\n",
              "      fill: #1967D2;\n",
              "      height: 32px;\n",
              "      padding: 0 0 0 0;\n",
              "      width: 32px;\n",
              "    }\n",
              "\n",
              "    .colab-df-convert:hover {\n",
              "      background-color: #E2EBFA;\n",
              "      box-shadow: 0px 1px 2px rgba(60, 64, 67, 0.3), 0px 1px 3px 1px rgba(60, 64, 67, 0.15);\n",
              "      fill: #174EA6;\n",
              "    }\n",
              "\n",
              "    [theme=dark] .colab-df-convert {\n",
              "      background-color: #3B4455;\n",
              "      fill: #D2E3FC;\n",
              "    }\n",
              "\n",
              "    [theme=dark] .colab-df-convert:hover {\n",
              "      background-color: #434B5C;\n",
              "      box-shadow: 0px 1px 3px 1px rgba(0, 0, 0, 0.15);\n",
              "      filter: drop-shadow(0px 1px 2px rgba(0, 0, 0, 0.3));\n",
              "      fill: #FFFFFF;\n",
              "    }\n",
              "  </style>\n",
              "\n",
              "      <script>\n",
              "        const buttonEl =\n",
              "          document.querySelector('#df-5ae5bb75-6c17-4b3e-a9a7-e77427425509 button.colab-df-convert');\n",
              "        buttonEl.style.display =\n",
              "          google.colab.kernel.accessAllowed ? 'block' : 'none';\n",
              "\n",
              "        async function convertToInteractive(key) {\n",
              "          const element = document.querySelector('#df-5ae5bb75-6c17-4b3e-a9a7-e77427425509');\n",
              "          const dataTable =\n",
              "            await google.colab.kernel.invokeFunction('convertToInteractive',\n",
              "                                                     [key], {});\n",
              "          if (!dataTable) return;\n",
              "\n",
              "          const docLinkHtml = 'Like what you see? Visit the ' +\n",
              "            '<a target=\"_blank\" href=https://colab.research.google.com/notebooks/data_table.ipynb>data table notebook</a>'\n",
              "            + ' to learn more about interactive tables.';\n",
              "          element.innerHTML = '';\n",
              "          dataTable['output_type'] = 'display_data';\n",
              "          await google.colab.output.renderOutput(dataTable, element);\n",
              "          const docLink = document.createElement('div');\n",
              "          docLink.innerHTML = docLinkHtml;\n",
              "          element.appendChild(docLink);\n",
              "        }\n",
              "      </script>\n",
              "    </div>\n",
              "  </div>\n",
              "  "
            ],
            "text/plain": [
              "         unix                date          open  ...      low    close  Volume BTC\n",
              "0  1606719540 2020-11-30 06:59:00  18552.000000  ...  18549.0  18549.0    5.800299\n",
              "1  1606719480 2020-11-30 06:58:00  18560.835044  ...  18553.0  18553.0    6.859095\n",
              "2  1606719420 2020-11-30 06:57:00  18559.000000  ...  18559.0  18560.0    4.287190\n",
              "3  1606719360 2020-11-30 06:56:00  18556.000000  ...  18555.0  18557.0   22.404171\n",
              "4  1606719300 2020-11-30 06:55:00  18556.000000  ...  18555.0  18559.0   30.163096\n",
              "\n",
              "[5 rows x 7 columns]"
            ]
          },
          "metadata": {},
          "execution_count": 59
        }
      ]
    },
    {
      "cell_type": "code",
      "source": [
        "add_data.columns = btc_data.columns[:7]\n",
        "add_data.head()"
      ],
      "metadata": {
        "colab": {
          "base_uri": "https://localhost:8080/",
          "height": 206
        },
        "id": "H8RusxsIUGxo",
        "outputId": "67264553-9134-4ef7-fe16-d60cb4a20fc3"
      },
      "execution_count": null,
      "outputs": [
        {
          "output_type": "execute_result",
          "data": {
            "text/html": [
              "\n",
              "  <div id=\"df-15073849-b07b-46b5-9d0f-1823241d7451\">\n",
              "    <div class=\"colab-df-container\">\n",
              "      <div>\n",
              "<style scoped>\n",
              "    .dataframe tbody tr th:only-of-type {\n",
              "        vertical-align: middle;\n",
              "    }\n",
              "\n",
              "    .dataframe tbody tr th {\n",
              "        vertical-align: top;\n",
              "    }\n",
              "\n",
              "    .dataframe thead th {\n",
              "        text-align: right;\n",
              "    }\n",
              "</style>\n",
              "<table border=\"1\" class=\"dataframe\">\n",
              "  <thead>\n",
              "    <tr style=\"text-align: right;\">\n",
              "      <th></th>\n",
              "      <th>unix</th>\n",
              "      <th>date</th>\n",
              "      <th>open_x</th>\n",
              "      <th>high_x</th>\n",
              "      <th>low_x</th>\n",
              "      <th>close_x</th>\n",
              "      <th>Volume BTC_x</th>\n",
              "    </tr>\n",
              "  </thead>\n",
              "  <tbody>\n",
              "    <tr>\n",
              "      <th>0</th>\n",
              "      <td>1606719540</td>\n",
              "      <td>2020-11-30 06:59:00</td>\n",
              "      <td>18552.000000</td>\n",
              "      <td>18556.000000</td>\n",
              "      <td>18549.0</td>\n",
              "      <td>18549.0</td>\n",
              "      <td>5.800299</td>\n",
              "    </tr>\n",
              "    <tr>\n",
              "      <th>1</th>\n",
              "      <td>1606719480</td>\n",
              "      <td>2020-11-30 06:58:00</td>\n",
              "      <td>18560.835044</td>\n",
              "      <td>18561.000000</td>\n",
              "      <td>18553.0</td>\n",
              "      <td>18553.0</td>\n",
              "      <td>6.859095</td>\n",
              "    </tr>\n",
              "    <tr>\n",
              "      <th>2</th>\n",
              "      <td>1606719420</td>\n",
              "      <td>2020-11-30 06:57:00</td>\n",
              "      <td>18559.000000</td>\n",
              "      <td>18560.835044</td>\n",
              "      <td>18559.0</td>\n",
              "      <td>18560.0</td>\n",
              "      <td>4.287190</td>\n",
              "    </tr>\n",
              "    <tr>\n",
              "      <th>3</th>\n",
              "      <td>1606719360</td>\n",
              "      <td>2020-11-30 06:56:00</td>\n",
              "      <td>18556.000000</td>\n",
              "      <td>18562.000000</td>\n",
              "      <td>18555.0</td>\n",
              "      <td>18557.0</td>\n",
              "      <td>22.404171</td>\n",
              "    </tr>\n",
              "    <tr>\n",
              "      <th>4</th>\n",
              "      <td>1606719300</td>\n",
              "      <td>2020-11-30 06:55:00</td>\n",
              "      <td>18556.000000</td>\n",
              "      <td>18559.000000</td>\n",
              "      <td>18555.0</td>\n",
              "      <td>18559.0</td>\n",
              "      <td>30.163096</td>\n",
              "    </tr>\n",
              "  </tbody>\n",
              "</table>\n",
              "</div>\n",
              "      <button class=\"colab-df-convert\" onclick=\"convertToInteractive('df-15073849-b07b-46b5-9d0f-1823241d7451')\"\n",
              "              title=\"Convert this dataframe to an interactive table.\"\n",
              "              style=\"display:none;\">\n",
              "        \n",
              "  <svg xmlns=\"http://www.w3.org/2000/svg\" height=\"24px\"viewBox=\"0 0 24 24\"\n",
              "       width=\"24px\">\n",
              "    <path d=\"M0 0h24v24H0V0z\" fill=\"none\"/>\n",
              "    <path d=\"M18.56 5.44l.94 2.06.94-2.06 2.06-.94-2.06-.94-.94-2.06-.94 2.06-2.06.94zm-11 1L8.5 8.5l.94-2.06 2.06-.94-2.06-.94L8.5 2.5l-.94 2.06-2.06.94zm10 10l.94 2.06.94-2.06 2.06-.94-2.06-.94-.94-2.06-.94 2.06-2.06.94z\"/><path d=\"M17.41 7.96l-1.37-1.37c-.4-.4-.92-.59-1.43-.59-.52 0-1.04.2-1.43.59L10.3 9.45l-7.72 7.72c-.78.78-.78 2.05 0 2.83L4 21.41c.39.39.9.59 1.41.59.51 0 1.02-.2 1.41-.59l7.78-7.78 2.81-2.81c.8-.78.8-2.07 0-2.86zM5.41 20L4 18.59l7.72-7.72 1.47 1.35L5.41 20z\"/>\n",
              "  </svg>\n",
              "      </button>\n",
              "      \n",
              "  <style>\n",
              "    .colab-df-container {\n",
              "      display:flex;\n",
              "      flex-wrap:wrap;\n",
              "      gap: 12px;\n",
              "    }\n",
              "\n",
              "    .colab-df-convert {\n",
              "      background-color: #E8F0FE;\n",
              "      border: none;\n",
              "      border-radius: 50%;\n",
              "      cursor: pointer;\n",
              "      display: none;\n",
              "      fill: #1967D2;\n",
              "      height: 32px;\n",
              "      padding: 0 0 0 0;\n",
              "      width: 32px;\n",
              "    }\n",
              "\n",
              "    .colab-df-convert:hover {\n",
              "      background-color: #E2EBFA;\n",
              "      box-shadow: 0px 1px 2px rgba(60, 64, 67, 0.3), 0px 1px 3px 1px rgba(60, 64, 67, 0.15);\n",
              "      fill: #174EA6;\n",
              "    }\n",
              "\n",
              "    [theme=dark] .colab-df-convert {\n",
              "      background-color: #3B4455;\n",
              "      fill: #D2E3FC;\n",
              "    }\n",
              "\n",
              "    [theme=dark] .colab-df-convert:hover {\n",
              "      background-color: #434B5C;\n",
              "      box-shadow: 0px 1px 3px 1px rgba(0, 0, 0, 0.15);\n",
              "      filter: drop-shadow(0px 1px 2px rgba(0, 0, 0, 0.3));\n",
              "      fill: #FFFFFF;\n",
              "    }\n",
              "  </style>\n",
              "\n",
              "      <script>\n",
              "        const buttonEl =\n",
              "          document.querySelector('#df-15073849-b07b-46b5-9d0f-1823241d7451 button.colab-df-convert');\n",
              "        buttonEl.style.display =\n",
              "          google.colab.kernel.accessAllowed ? 'block' : 'none';\n",
              "\n",
              "        async function convertToInteractive(key) {\n",
              "          const element = document.querySelector('#df-15073849-b07b-46b5-9d0f-1823241d7451');\n",
              "          const dataTable =\n",
              "            await google.colab.kernel.invokeFunction('convertToInteractive',\n",
              "                                                     [key], {});\n",
              "          if (!dataTable) return;\n",
              "\n",
              "          const docLinkHtml = 'Like what you see? Visit the ' +\n",
              "            '<a target=\"_blank\" href=https://colab.research.google.com/notebooks/data_table.ipynb>data table notebook</a>'\n",
              "            + ' to learn more about interactive tables.';\n",
              "          element.innerHTML = '';\n",
              "          dataTable['output_type'] = 'display_data';\n",
              "          await google.colab.output.renderOutput(dataTable, element);\n",
              "          const docLink = document.createElement('div');\n",
              "          docLink.innerHTML = docLinkHtml;\n",
              "          element.appendChild(docLink);\n",
              "        }\n",
              "      </script>\n",
              "    </div>\n",
              "  </div>\n",
              "  "
            ],
            "text/plain": [
              "         unix                date        open_x  ...    low_x  close_x  Volume BTC_x\n",
              "0  1606719540 2020-11-30 06:59:00  18552.000000  ...  18549.0  18549.0      5.800299\n",
              "1  1606719480 2020-11-30 06:58:00  18560.835044  ...  18553.0  18553.0      6.859095\n",
              "2  1606719420 2020-11-30 06:57:00  18559.000000  ...  18559.0  18560.0      4.287190\n",
              "3  1606719360 2020-11-30 06:56:00  18556.000000  ...  18555.0  18557.0     22.404171\n",
              "4  1606719300 2020-11-30 06:55:00  18556.000000  ...  18555.0  18559.0     30.163096\n",
              "\n",
              "[5 rows x 7 columns]"
            ]
          },
          "metadata": {},
          "execution_count": 60
        }
      ]
    },
    {
      "cell_type": "code",
      "source": [
        "btc_data = pd.concat([btc_data, add_data])\n",
        "btc_data.index = btc_data.unix\n",
        "btc_data.drop(\"unix\", axis=1, inplace=True)\n",
        "btc_data.sort_index(ascending=False,inplace=True)\n",
        "btc_data.reset_index(inplace=True)\n",
        "btc_data.head()"
      ],
      "metadata": {
        "colab": {
          "base_uri": "https://localhost:8080/",
          "height": 206
        },
        "id": "OrJJNMVxUG20",
        "outputId": "b9bae0a9-6078-40cd-c08d-5d0f188f00cd"
      },
      "execution_count": null,
      "outputs": [
        {
          "output_type": "execute_result",
          "data": {
            "text/html": [
              "\n",
              "  <div id=\"df-8020f8b5-5ad4-4765-9171-e16aaf00ad26\">\n",
              "    <div class=\"colab-df-container\">\n",
              "      <div>\n",
              "<style scoped>\n",
              "    .dataframe tbody tr th:only-of-type {\n",
              "        vertical-align: middle;\n",
              "    }\n",
              "\n",
              "    .dataframe tbody tr th {\n",
              "        vertical-align: top;\n",
              "    }\n",
              "\n",
              "    .dataframe thead th {\n",
              "        text-align: right;\n",
              "    }\n",
              "</style>\n",
              "<table border=\"1\" class=\"dataframe\">\n",
              "  <thead>\n",
              "    <tr style=\"text-align: right;\">\n",
              "      <th></th>\n",
              "      <th>unix</th>\n",
              "      <th>date</th>\n",
              "      <th>open_x</th>\n",
              "      <th>high_x</th>\n",
              "      <th>low_x</th>\n",
              "      <th>close_x</th>\n",
              "      <th>Volume BTC_x</th>\n",
              "      <th>tradecount</th>\n",
              "      <th>open_y</th>\n",
              "      <th>high_y</th>\n",
              "      <th>low_y</th>\n",
              "      <th>close_y</th>\n",
              "      <th>Volume BTC_y</th>\n",
              "    </tr>\n",
              "  </thead>\n",
              "  <tbody>\n",
              "    <tr>\n",
              "      <th>0</th>\n",
              "      <td>1639281900</td>\n",
              "      <td>2021-12-12 04:05:00</td>\n",
              "      <td>49176.92</td>\n",
              "      <td>49202.25</td>\n",
              "      <td>49130.00</td>\n",
              "      <td>49160.00</td>\n",
              "      <td>50.81359</td>\n",
              "      <td>1200.0</td>\n",
              "      <td>49207.29</td>\n",
              "      <td>49207.29</td>\n",
              "      <td>49171.57</td>\n",
              "      <td>49199.09</td>\n",
              "      <td>41.213501</td>\n",
              "    </tr>\n",
              "    <tr>\n",
              "      <th>1</th>\n",
              "      <td>1639281840</td>\n",
              "      <td>2021-12-12 04:04:00</td>\n",
              "      <td>49243.24</td>\n",
              "      <td>49246.64</td>\n",
              "      <td>49150.00</td>\n",
              "      <td>49176.93</td>\n",
              "      <td>49.22467</td>\n",
              "      <td>1356.0</td>\n",
              "      <td>49264.39</td>\n",
              "      <td>49264.39</td>\n",
              "      <td>49221.35</td>\n",
              "      <td>49222.23</td>\n",
              "      <td>1.810929</td>\n",
              "    </tr>\n",
              "    <tr>\n",
              "      <th>2</th>\n",
              "      <td>1639281780</td>\n",
              "      <td>2021-12-12 04:03:00</td>\n",
              "      <td>49275.85</td>\n",
              "      <td>49284.20</td>\n",
              "      <td>49241.06</td>\n",
              "      <td>49243.25</td>\n",
              "      <td>13.65856</td>\n",
              "      <td>589.0</td>\n",
              "      <td>49310.33</td>\n",
              "      <td>49314.15</td>\n",
              "      <td>49271.97</td>\n",
              "      <td>49282.15</td>\n",
              "      <td>7.685820</td>\n",
              "    </tr>\n",
              "    <tr>\n",
              "      <th>3</th>\n",
              "      <td>1639281720</td>\n",
              "      <td>2021-12-12 04:02:00</td>\n",
              "      <td>49321.79</td>\n",
              "      <td>49321.79</td>\n",
              "      <td>49267.40</td>\n",
              "      <td>49275.86</td>\n",
              "      <td>13.57473</td>\n",
              "      <td>631.0</td>\n",
              "      <td>49341.59</td>\n",
              "      <td>49341.59</td>\n",
              "      <td>49319.29</td>\n",
              "      <td>49319.29</td>\n",
              "      <td>0.350190</td>\n",
              "    </tr>\n",
              "    <tr>\n",
              "      <th>4</th>\n",
              "      <td>1639281660</td>\n",
              "      <td>2021-12-12 04:01:00</td>\n",
              "      <td>49327.18</td>\n",
              "      <td>49347.53</td>\n",
              "      <td>49321.78</td>\n",
              "      <td>49321.79</td>\n",
              "      <td>5.62087</td>\n",
              "      <td>375.0</td>\n",
              "      <td>49366.00</td>\n",
              "      <td>49377.00</td>\n",
              "      <td>49358.72</td>\n",
              "      <td>49358.72</td>\n",
              "      <td>0.167059</td>\n",
              "    </tr>\n",
              "  </tbody>\n",
              "</table>\n",
              "</div>\n",
              "      <button class=\"colab-df-convert\" onclick=\"convertToInteractive('df-8020f8b5-5ad4-4765-9171-e16aaf00ad26')\"\n",
              "              title=\"Convert this dataframe to an interactive table.\"\n",
              "              style=\"display:none;\">\n",
              "        \n",
              "  <svg xmlns=\"http://www.w3.org/2000/svg\" height=\"24px\"viewBox=\"0 0 24 24\"\n",
              "       width=\"24px\">\n",
              "    <path d=\"M0 0h24v24H0V0z\" fill=\"none\"/>\n",
              "    <path d=\"M18.56 5.44l.94 2.06.94-2.06 2.06-.94-2.06-.94-.94-2.06-.94 2.06-2.06.94zm-11 1L8.5 8.5l.94-2.06 2.06-.94-2.06-.94L8.5 2.5l-.94 2.06-2.06.94zm10 10l.94 2.06.94-2.06 2.06-.94-2.06-.94-.94-2.06-.94 2.06-2.06.94z\"/><path d=\"M17.41 7.96l-1.37-1.37c-.4-.4-.92-.59-1.43-.59-.52 0-1.04.2-1.43.59L10.3 9.45l-7.72 7.72c-.78.78-.78 2.05 0 2.83L4 21.41c.39.39.9.59 1.41.59.51 0 1.02-.2 1.41-.59l7.78-7.78 2.81-2.81c.8-.78.8-2.07 0-2.86zM5.41 20L4 18.59l7.72-7.72 1.47 1.35L5.41 20z\"/>\n",
              "  </svg>\n",
              "      </button>\n",
              "      \n",
              "  <style>\n",
              "    .colab-df-container {\n",
              "      display:flex;\n",
              "      flex-wrap:wrap;\n",
              "      gap: 12px;\n",
              "    }\n",
              "\n",
              "    .colab-df-convert {\n",
              "      background-color: #E8F0FE;\n",
              "      border: none;\n",
              "      border-radius: 50%;\n",
              "      cursor: pointer;\n",
              "      display: none;\n",
              "      fill: #1967D2;\n",
              "      height: 32px;\n",
              "      padding: 0 0 0 0;\n",
              "      width: 32px;\n",
              "    }\n",
              "\n",
              "    .colab-df-convert:hover {\n",
              "      background-color: #E2EBFA;\n",
              "      box-shadow: 0px 1px 2px rgba(60, 64, 67, 0.3), 0px 1px 3px 1px rgba(60, 64, 67, 0.15);\n",
              "      fill: #174EA6;\n",
              "    }\n",
              "\n",
              "    [theme=dark] .colab-df-convert {\n",
              "      background-color: #3B4455;\n",
              "      fill: #D2E3FC;\n",
              "    }\n",
              "\n",
              "    [theme=dark] .colab-df-convert:hover {\n",
              "      background-color: #434B5C;\n",
              "      box-shadow: 0px 1px 3px 1px rgba(0, 0, 0, 0.15);\n",
              "      filter: drop-shadow(0px 1px 2px rgba(0, 0, 0, 0.3));\n",
              "      fill: #FFFFFF;\n",
              "    }\n",
              "  </style>\n",
              "\n",
              "      <script>\n",
              "        const buttonEl =\n",
              "          document.querySelector('#df-8020f8b5-5ad4-4765-9171-e16aaf00ad26 button.colab-df-convert');\n",
              "        buttonEl.style.display =\n",
              "          google.colab.kernel.accessAllowed ? 'block' : 'none';\n",
              "\n",
              "        async function convertToInteractive(key) {\n",
              "          const element = document.querySelector('#df-8020f8b5-5ad4-4765-9171-e16aaf00ad26');\n",
              "          const dataTable =\n",
              "            await google.colab.kernel.invokeFunction('convertToInteractive',\n",
              "                                                     [key], {});\n",
              "          if (!dataTable) return;\n",
              "\n",
              "          const docLinkHtml = 'Like what you see? Visit the ' +\n",
              "            '<a target=\"_blank\" href=https://colab.research.google.com/notebooks/data_table.ipynb>data table notebook</a>'\n",
              "            + ' to learn more about interactive tables.';\n",
              "          element.innerHTML = '';\n",
              "          dataTable['output_type'] = 'display_data';\n",
              "          await google.colab.output.renderOutput(dataTable, element);\n",
              "          const docLink = document.createElement('div');\n",
              "          docLink.innerHTML = docLinkHtml;\n",
              "          element.appendChild(docLink);\n",
              "        }\n",
              "      </script>\n",
              "    </div>\n",
              "  </div>\n",
              "  "
            ],
            "text/plain": [
              "         unix                date    open_x  ...     low_y   close_y  Volume BTC_y\n",
              "0  1639281900 2021-12-12 04:05:00  49176.92  ...  49171.57  49199.09     41.213501\n",
              "1  1639281840 2021-12-12 04:04:00  49243.24  ...  49221.35  49222.23      1.810929\n",
              "2  1639281780 2021-12-12 04:03:00  49275.85  ...  49271.97  49282.15      7.685820\n",
              "3  1639281720 2021-12-12 04:02:00  49321.79  ...  49319.29  49319.29      0.350190\n",
              "4  1639281660 2021-12-12 04:01:00  49327.18  ...  49358.72  49358.72      0.167059\n",
              "\n",
              "[5 rows x 13 columns]"
            ]
          },
          "metadata": {},
          "execution_count": 61
        }
      ]
    },
    {
      "cell_type": "code",
      "source": [
        "missed_date_indexes = check_date(btc_data.unix)\n",
        "len(missed_date_indexes)"
      ],
      "metadata": {
        "colab": {
          "base_uri": "https://localhost:8080/"
        },
        "id": "mpx67alBb5YU",
        "outputId": "908758c8-9ddc-4c95-c62b-db841cc8a23c"
      },
      "execution_count": null,
      "outputs": [
        {
          "output_type": "execute_result",
          "data": {
            "text/plain": [
              "0"
            ]
          },
          "metadata": {},
          "execution_count": 62
        }
      ]
    },
    {
      "cell_type": "code",
      "source": [
        "btc_data.loc[btc_data.iloc[:, 2:7].isna().all(axis=1), [\"open_x\", \"high_x\", \"low_x\", \"close_x\", \"Volume BTC_x\"]] = btc_data.iloc[:, 8:][btc_data.iloc[:, 2:7].isna().all(axis=1)].values"
      ],
      "metadata": {
        "id": "7b2LMSru1CVB"
      },
      "execution_count": null,
      "outputs": []
    },
    {
      "cell_type": "code",
      "source": [
        "btc_data.iloc[:, 2:7].isna().all(axis=1).sum()"
      ],
      "metadata": {
        "colab": {
          "base_uri": "https://localhost:8080/"
        },
        "id": "31Duaa99v2LG",
        "outputId": "0200d166-4fa7-403f-f605-d7d104c68ee1"
      },
      "execution_count": null,
      "outputs": [
        {
          "output_type": "execute_result",
          "data": {
            "text/plain": [
              "0"
            ]
          },
          "metadata": {},
          "execution_count": 64
        }
      ]
    },
    {
      "cell_type": "code",
      "source": [
        "btc_data"
      ],
      "metadata": {
        "colab": {
          "base_uri": "https://localhost:8080/",
          "height": 424
        },
        "id": "5bnIYBtHvXNC",
        "outputId": "9149937a-d0da-41ca-f19a-8cfe9af222c2"
      },
      "execution_count": null,
      "outputs": [
        {
          "output_type": "execute_result",
          "data": {
            "text/html": [
              "\n",
              "  <div id=\"df-6b623b71-64d0-4f03-8967-01cb97d2fccf\">\n",
              "    <div class=\"colab-df-container\">\n",
              "      <div>\n",
              "<style scoped>\n",
              "    .dataframe tbody tr th:only-of-type {\n",
              "        vertical-align: middle;\n",
              "    }\n",
              "\n",
              "    .dataframe tbody tr th {\n",
              "        vertical-align: top;\n",
              "    }\n",
              "\n",
              "    .dataframe thead th {\n",
              "        text-align: right;\n",
              "    }\n",
              "</style>\n",
              "<table border=\"1\" class=\"dataframe\">\n",
              "  <thead>\n",
              "    <tr style=\"text-align: right;\">\n",
              "      <th></th>\n",
              "      <th>unix</th>\n",
              "      <th>date</th>\n",
              "      <th>open_x</th>\n",
              "      <th>high_x</th>\n",
              "      <th>low_x</th>\n",
              "      <th>close_x</th>\n",
              "      <th>Volume BTC_x</th>\n",
              "      <th>tradecount</th>\n",
              "      <th>open_y</th>\n",
              "      <th>high_y</th>\n",
              "      <th>low_y</th>\n",
              "      <th>close_y</th>\n",
              "      <th>Volume BTC_y</th>\n",
              "    </tr>\n",
              "  </thead>\n",
              "  <tbody>\n",
              "    <tr>\n",
              "      <th>0</th>\n",
              "      <td>1639281900</td>\n",
              "      <td>2021-12-12 04:05:00</td>\n",
              "      <td>49176.92</td>\n",
              "      <td>49202.25</td>\n",
              "      <td>49130.00</td>\n",
              "      <td>49160.00</td>\n",
              "      <td>50.813590</td>\n",
              "      <td>1200.0</td>\n",
              "      <td>49207.29</td>\n",
              "      <td>49207.29</td>\n",
              "      <td>49171.57</td>\n",
              "      <td>49199.09</td>\n",
              "      <td>41.213501</td>\n",
              "    </tr>\n",
              "    <tr>\n",
              "      <th>1</th>\n",
              "      <td>1639281840</td>\n",
              "      <td>2021-12-12 04:04:00</td>\n",
              "      <td>49243.24</td>\n",
              "      <td>49246.64</td>\n",
              "      <td>49150.00</td>\n",
              "      <td>49176.93</td>\n",
              "      <td>49.224670</td>\n",
              "      <td>1356.0</td>\n",
              "      <td>49264.39</td>\n",
              "      <td>49264.39</td>\n",
              "      <td>49221.35</td>\n",
              "      <td>49222.23</td>\n",
              "      <td>1.810929</td>\n",
              "    </tr>\n",
              "    <tr>\n",
              "      <th>2</th>\n",
              "      <td>1639281780</td>\n",
              "      <td>2021-12-12 04:03:00</td>\n",
              "      <td>49275.85</td>\n",
              "      <td>49284.20</td>\n",
              "      <td>49241.06</td>\n",
              "      <td>49243.25</td>\n",
              "      <td>13.658560</td>\n",
              "      <td>589.0</td>\n",
              "      <td>49310.33</td>\n",
              "      <td>49314.15</td>\n",
              "      <td>49271.97</td>\n",
              "      <td>49282.15</td>\n",
              "      <td>7.685820</td>\n",
              "    </tr>\n",
              "    <tr>\n",
              "      <th>3</th>\n",
              "      <td>1639281720</td>\n",
              "      <td>2021-12-12 04:02:00</td>\n",
              "      <td>49321.79</td>\n",
              "      <td>49321.79</td>\n",
              "      <td>49267.40</td>\n",
              "      <td>49275.86</td>\n",
              "      <td>13.574730</td>\n",
              "      <td>631.0</td>\n",
              "      <td>49341.59</td>\n",
              "      <td>49341.59</td>\n",
              "      <td>49319.29</td>\n",
              "      <td>49319.29</td>\n",
              "      <td>0.350190</td>\n",
              "    </tr>\n",
              "    <tr>\n",
              "      <th>4</th>\n",
              "      <td>1639281660</td>\n",
              "      <td>2021-12-12 04:01:00</td>\n",
              "      <td>49327.18</td>\n",
              "      <td>49347.53</td>\n",
              "      <td>49321.78</td>\n",
              "      <td>49321.79</td>\n",
              "      <td>5.620870</td>\n",
              "      <td>375.0</td>\n",
              "      <td>49366.00</td>\n",
              "      <td>49377.00</td>\n",
              "      <td>49358.72</td>\n",
              "      <td>49358.72</td>\n",
              "      <td>0.167059</td>\n",
              "    </tr>\n",
              "    <tr>\n",
              "      <th>...</th>\n",
              "      <td>...</td>\n",
              "      <td>...</td>\n",
              "      <td>...</td>\n",
              "      <td>...</td>\n",
              "      <td>...</td>\n",
              "      <td>...</td>\n",
              "      <td>...</td>\n",
              "      <td>...</td>\n",
              "      <td>...</td>\n",
              "      <td>...</td>\n",
              "      <td>...</td>\n",
              "      <td>...</td>\n",
              "      <td>...</td>\n",
              "    </tr>\n",
              "    <tr>\n",
              "      <th>2600880</th>\n",
              "      <td>1483229100</td>\n",
              "      <td>2017-01-01 00:05:00</td>\n",
              "      <td>966.43</td>\n",
              "      <td>966.43</td>\n",
              "      <td>966.43</td>\n",
              "      <td>966.43</td>\n",
              "      <td>1.391000</td>\n",
              "      <td>NaN</td>\n",
              "      <td>966.43</td>\n",
              "      <td>966.43</td>\n",
              "      <td>966.43</td>\n",
              "      <td>966.43</td>\n",
              "      <td>1.391000</td>\n",
              "    </tr>\n",
              "    <tr>\n",
              "      <th>2600881</th>\n",
              "      <td>1483229040</td>\n",
              "      <td>2017-01-01 00:04:00</td>\n",
              "      <td>966.37</td>\n",
              "      <td>966.37</td>\n",
              "      <td>966.37</td>\n",
              "      <td>966.37</td>\n",
              "      <td>0.000000</td>\n",
              "      <td>NaN</td>\n",
              "      <td>966.37</td>\n",
              "      <td>966.37</td>\n",
              "      <td>966.37</td>\n",
              "      <td>966.37</td>\n",
              "      <td>0.000000</td>\n",
              "    </tr>\n",
              "    <tr>\n",
              "      <th>2600882</th>\n",
              "      <td>1483228980</td>\n",
              "      <td>2017-01-01 00:03:00</td>\n",
              "      <td>966.37</td>\n",
              "      <td>966.37</td>\n",
              "      <td>966.37</td>\n",
              "      <td>966.37</td>\n",
              "      <td>0.000000</td>\n",
              "      <td>NaN</td>\n",
              "      <td>966.37</td>\n",
              "      <td>966.37</td>\n",
              "      <td>966.37</td>\n",
              "      <td>966.37</td>\n",
              "      <td>0.000000</td>\n",
              "    </tr>\n",
              "    <tr>\n",
              "      <th>2600883</th>\n",
              "      <td>1483228920</td>\n",
              "      <td>2017-01-01 00:02:00</td>\n",
              "      <td>966.16</td>\n",
              "      <td>966.37</td>\n",
              "      <td>966.16</td>\n",
              "      <td>966.37</td>\n",
              "      <td>105.135892</td>\n",
              "      <td>NaN</td>\n",
              "      <td>966.16</td>\n",
              "      <td>966.37</td>\n",
              "      <td>966.16</td>\n",
              "      <td>966.37</td>\n",
              "      <td>105.135892</td>\n",
              "    </tr>\n",
              "    <tr>\n",
              "      <th>2600884</th>\n",
              "      <td>1483228860</td>\n",
              "      <td>2017-01-01 00:01:00</td>\n",
              "      <td>966.34</td>\n",
              "      <td>966.34</td>\n",
              "      <td>966.34</td>\n",
              "      <td>966.34</td>\n",
              "      <td>98.930000</td>\n",
              "      <td>NaN</td>\n",
              "      <td>966.34</td>\n",
              "      <td>966.34</td>\n",
              "      <td>966.34</td>\n",
              "      <td>966.34</td>\n",
              "      <td>98.930000</td>\n",
              "    </tr>\n",
              "  </tbody>\n",
              "</table>\n",
              "<p>2600885 rows × 13 columns</p>\n",
              "</div>\n",
              "      <button class=\"colab-df-convert\" onclick=\"convertToInteractive('df-6b623b71-64d0-4f03-8967-01cb97d2fccf')\"\n",
              "              title=\"Convert this dataframe to an interactive table.\"\n",
              "              style=\"display:none;\">\n",
              "        \n",
              "  <svg xmlns=\"http://www.w3.org/2000/svg\" height=\"24px\"viewBox=\"0 0 24 24\"\n",
              "       width=\"24px\">\n",
              "    <path d=\"M0 0h24v24H0V0z\" fill=\"none\"/>\n",
              "    <path d=\"M18.56 5.44l.94 2.06.94-2.06 2.06-.94-2.06-.94-.94-2.06-.94 2.06-2.06.94zm-11 1L8.5 8.5l.94-2.06 2.06-.94-2.06-.94L8.5 2.5l-.94 2.06-2.06.94zm10 10l.94 2.06.94-2.06 2.06-.94-2.06-.94-.94-2.06-.94 2.06-2.06.94z\"/><path d=\"M17.41 7.96l-1.37-1.37c-.4-.4-.92-.59-1.43-.59-.52 0-1.04.2-1.43.59L10.3 9.45l-7.72 7.72c-.78.78-.78 2.05 0 2.83L4 21.41c.39.39.9.59 1.41.59.51 0 1.02-.2 1.41-.59l7.78-7.78 2.81-2.81c.8-.78.8-2.07 0-2.86zM5.41 20L4 18.59l7.72-7.72 1.47 1.35L5.41 20z\"/>\n",
              "  </svg>\n",
              "      </button>\n",
              "      \n",
              "  <style>\n",
              "    .colab-df-container {\n",
              "      display:flex;\n",
              "      flex-wrap:wrap;\n",
              "      gap: 12px;\n",
              "    }\n",
              "\n",
              "    .colab-df-convert {\n",
              "      background-color: #E8F0FE;\n",
              "      border: none;\n",
              "      border-radius: 50%;\n",
              "      cursor: pointer;\n",
              "      display: none;\n",
              "      fill: #1967D2;\n",
              "      height: 32px;\n",
              "      padding: 0 0 0 0;\n",
              "      width: 32px;\n",
              "    }\n",
              "\n",
              "    .colab-df-convert:hover {\n",
              "      background-color: #E2EBFA;\n",
              "      box-shadow: 0px 1px 2px rgba(60, 64, 67, 0.3), 0px 1px 3px 1px rgba(60, 64, 67, 0.15);\n",
              "      fill: #174EA6;\n",
              "    }\n",
              "\n",
              "    [theme=dark] .colab-df-convert {\n",
              "      background-color: #3B4455;\n",
              "      fill: #D2E3FC;\n",
              "    }\n",
              "\n",
              "    [theme=dark] .colab-df-convert:hover {\n",
              "      background-color: #434B5C;\n",
              "      box-shadow: 0px 1px 3px 1px rgba(0, 0, 0, 0.15);\n",
              "      filter: drop-shadow(0px 1px 2px rgba(0, 0, 0, 0.3));\n",
              "      fill: #FFFFFF;\n",
              "    }\n",
              "  </style>\n",
              "\n",
              "      <script>\n",
              "        const buttonEl =\n",
              "          document.querySelector('#df-6b623b71-64d0-4f03-8967-01cb97d2fccf button.colab-df-convert');\n",
              "        buttonEl.style.display =\n",
              "          google.colab.kernel.accessAllowed ? 'block' : 'none';\n",
              "\n",
              "        async function convertToInteractive(key) {\n",
              "          const element = document.querySelector('#df-6b623b71-64d0-4f03-8967-01cb97d2fccf');\n",
              "          const dataTable =\n",
              "            await google.colab.kernel.invokeFunction('convertToInteractive',\n",
              "                                                     [key], {});\n",
              "          if (!dataTable) return;\n",
              "\n",
              "          const docLinkHtml = 'Like what you see? Visit the ' +\n",
              "            '<a target=\"_blank\" href=https://colab.research.google.com/notebooks/data_table.ipynb>data table notebook</a>'\n",
              "            + ' to learn more about interactive tables.';\n",
              "          element.innerHTML = '';\n",
              "          dataTable['output_type'] = 'display_data';\n",
              "          await google.colab.output.renderOutput(dataTable, element);\n",
              "          const docLink = document.createElement('div');\n",
              "          docLink.innerHTML = docLinkHtml;\n",
              "          element.appendChild(docLink);\n",
              "        }\n",
              "      </script>\n",
              "    </div>\n",
              "  </div>\n",
              "  "
            ],
            "text/plain": [
              "               unix                date  ...   close_y  Volume BTC_y\n",
              "0        1639281900 2021-12-12 04:05:00  ...  49199.09     41.213501\n",
              "1        1639281840 2021-12-12 04:04:00  ...  49222.23      1.810929\n",
              "2        1639281780 2021-12-12 04:03:00  ...  49282.15      7.685820\n",
              "3        1639281720 2021-12-12 04:02:00  ...  49319.29      0.350190\n",
              "4        1639281660 2021-12-12 04:01:00  ...  49358.72      0.167059\n",
              "...             ...                 ...  ...       ...           ...\n",
              "2600880  1483229100 2017-01-01 00:05:00  ...    966.43      1.391000\n",
              "2600881  1483229040 2017-01-01 00:04:00  ...    966.37      0.000000\n",
              "2600882  1483228980 2017-01-01 00:03:00  ...    966.37      0.000000\n",
              "2600883  1483228920 2017-01-01 00:02:00  ...    966.37    105.135892\n",
              "2600884  1483228860 2017-01-01 00:01:00  ...    966.34     98.930000\n",
              "\n",
              "[2600885 rows x 13 columns]"
            ]
          },
          "metadata": {},
          "execution_count": 65
        }
      ]
    },
    {
      "cell_type": "code",
      "source": [
        "btc_data.drop([\"open_y\", \"high_y\", \"low_y\", \"close_y\", \"Volume BTC_y\"], axis=1, inplace=True)\n",
        "btc_data.columns = btc_data_2019_2021.columns"
      ],
      "metadata": {
        "id": "9-SSsaG72gqz"
      },
      "execution_count": null,
      "outputs": []
    },
    {
      "cell_type": "code",
      "source": [
        "btc_data.tail()"
      ],
      "metadata": {
        "colab": {
          "base_uri": "https://localhost:8080/",
          "height": 206
        },
        "id": "ZlugwyNA2gwM",
        "outputId": "069eb7f2-9a83-44f8-e13d-d4e709fd2a2f"
      },
      "execution_count": null,
      "outputs": [
        {
          "output_type": "execute_result",
          "data": {
            "text/html": [
              "\n",
              "  <div id=\"df-dfddf769-ea98-4b00-92e3-1e82453b0c86\">\n",
              "    <div class=\"colab-df-container\">\n",
              "      <div>\n",
              "<style scoped>\n",
              "    .dataframe tbody tr th:only-of-type {\n",
              "        vertical-align: middle;\n",
              "    }\n",
              "\n",
              "    .dataframe tbody tr th {\n",
              "        vertical-align: top;\n",
              "    }\n",
              "\n",
              "    .dataframe thead th {\n",
              "        text-align: right;\n",
              "    }\n",
              "</style>\n",
              "<table border=\"1\" class=\"dataframe\">\n",
              "  <thead>\n",
              "    <tr style=\"text-align: right;\">\n",
              "      <th></th>\n",
              "      <th>unix</th>\n",
              "      <th>date</th>\n",
              "      <th>open</th>\n",
              "      <th>high</th>\n",
              "      <th>low</th>\n",
              "      <th>close</th>\n",
              "      <th>Volume BTC</th>\n",
              "      <th>tradecount</th>\n",
              "    </tr>\n",
              "  </thead>\n",
              "  <tbody>\n",
              "    <tr>\n",
              "      <th>2600880</th>\n",
              "      <td>1483229100</td>\n",
              "      <td>2017-01-01 00:05:00</td>\n",
              "      <td>966.43</td>\n",
              "      <td>966.43</td>\n",
              "      <td>966.43</td>\n",
              "      <td>966.43</td>\n",
              "      <td>1.391000</td>\n",
              "      <td>NaN</td>\n",
              "    </tr>\n",
              "    <tr>\n",
              "      <th>2600881</th>\n",
              "      <td>1483229040</td>\n",
              "      <td>2017-01-01 00:04:00</td>\n",
              "      <td>966.37</td>\n",
              "      <td>966.37</td>\n",
              "      <td>966.37</td>\n",
              "      <td>966.37</td>\n",
              "      <td>0.000000</td>\n",
              "      <td>NaN</td>\n",
              "    </tr>\n",
              "    <tr>\n",
              "      <th>2600882</th>\n",
              "      <td>1483228980</td>\n",
              "      <td>2017-01-01 00:03:00</td>\n",
              "      <td>966.37</td>\n",
              "      <td>966.37</td>\n",
              "      <td>966.37</td>\n",
              "      <td>966.37</td>\n",
              "      <td>0.000000</td>\n",
              "      <td>NaN</td>\n",
              "    </tr>\n",
              "    <tr>\n",
              "      <th>2600883</th>\n",
              "      <td>1483228920</td>\n",
              "      <td>2017-01-01 00:02:00</td>\n",
              "      <td>966.16</td>\n",
              "      <td>966.37</td>\n",
              "      <td>966.16</td>\n",
              "      <td>966.37</td>\n",
              "      <td>105.135892</td>\n",
              "      <td>NaN</td>\n",
              "    </tr>\n",
              "    <tr>\n",
              "      <th>2600884</th>\n",
              "      <td>1483228860</td>\n",
              "      <td>2017-01-01 00:01:00</td>\n",
              "      <td>966.34</td>\n",
              "      <td>966.34</td>\n",
              "      <td>966.34</td>\n",
              "      <td>966.34</td>\n",
              "      <td>98.930000</td>\n",
              "      <td>NaN</td>\n",
              "    </tr>\n",
              "  </tbody>\n",
              "</table>\n",
              "</div>\n",
              "      <button class=\"colab-df-convert\" onclick=\"convertToInteractive('df-dfddf769-ea98-4b00-92e3-1e82453b0c86')\"\n",
              "              title=\"Convert this dataframe to an interactive table.\"\n",
              "              style=\"display:none;\">\n",
              "        \n",
              "  <svg xmlns=\"http://www.w3.org/2000/svg\" height=\"24px\"viewBox=\"0 0 24 24\"\n",
              "       width=\"24px\">\n",
              "    <path d=\"M0 0h24v24H0V0z\" fill=\"none\"/>\n",
              "    <path d=\"M18.56 5.44l.94 2.06.94-2.06 2.06-.94-2.06-.94-.94-2.06-.94 2.06-2.06.94zm-11 1L8.5 8.5l.94-2.06 2.06-.94-2.06-.94L8.5 2.5l-.94 2.06-2.06.94zm10 10l.94 2.06.94-2.06 2.06-.94-2.06-.94-.94-2.06-.94 2.06-2.06.94z\"/><path d=\"M17.41 7.96l-1.37-1.37c-.4-.4-.92-.59-1.43-.59-.52 0-1.04.2-1.43.59L10.3 9.45l-7.72 7.72c-.78.78-.78 2.05 0 2.83L4 21.41c.39.39.9.59 1.41.59.51 0 1.02-.2 1.41-.59l7.78-7.78 2.81-2.81c.8-.78.8-2.07 0-2.86zM5.41 20L4 18.59l7.72-7.72 1.47 1.35L5.41 20z\"/>\n",
              "  </svg>\n",
              "      </button>\n",
              "      \n",
              "  <style>\n",
              "    .colab-df-container {\n",
              "      display:flex;\n",
              "      flex-wrap:wrap;\n",
              "      gap: 12px;\n",
              "    }\n",
              "\n",
              "    .colab-df-convert {\n",
              "      background-color: #E8F0FE;\n",
              "      border: none;\n",
              "      border-radius: 50%;\n",
              "      cursor: pointer;\n",
              "      display: none;\n",
              "      fill: #1967D2;\n",
              "      height: 32px;\n",
              "      padding: 0 0 0 0;\n",
              "      width: 32px;\n",
              "    }\n",
              "\n",
              "    .colab-df-convert:hover {\n",
              "      background-color: #E2EBFA;\n",
              "      box-shadow: 0px 1px 2px rgba(60, 64, 67, 0.3), 0px 1px 3px 1px rgba(60, 64, 67, 0.15);\n",
              "      fill: #174EA6;\n",
              "    }\n",
              "\n",
              "    [theme=dark] .colab-df-convert {\n",
              "      background-color: #3B4455;\n",
              "      fill: #D2E3FC;\n",
              "    }\n",
              "\n",
              "    [theme=dark] .colab-df-convert:hover {\n",
              "      background-color: #434B5C;\n",
              "      box-shadow: 0px 1px 3px 1px rgba(0, 0, 0, 0.15);\n",
              "      filter: drop-shadow(0px 1px 2px rgba(0, 0, 0, 0.3));\n",
              "      fill: #FFFFFF;\n",
              "    }\n",
              "  </style>\n",
              "\n",
              "      <script>\n",
              "        const buttonEl =\n",
              "          document.querySelector('#df-dfddf769-ea98-4b00-92e3-1e82453b0c86 button.colab-df-convert');\n",
              "        buttonEl.style.display =\n",
              "          google.colab.kernel.accessAllowed ? 'block' : 'none';\n",
              "\n",
              "        async function convertToInteractive(key) {\n",
              "          const element = document.querySelector('#df-dfddf769-ea98-4b00-92e3-1e82453b0c86');\n",
              "          const dataTable =\n",
              "            await google.colab.kernel.invokeFunction('convertToInteractive',\n",
              "                                                     [key], {});\n",
              "          if (!dataTable) return;\n",
              "\n",
              "          const docLinkHtml = 'Like what you see? Visit the ' +\n",
              "            '<a target=\"_blank\" href=https://colab.research.google.com/notebooks/data_table.ipynb>data table notebook</a>'\n",
              "            + ' to learn more about interactive tables.';\n",
              "          element.innerHTML = '';\n",
              "          dataTable['output_type'] = 'display_data';\n",
              "          await google.colab.output.renderOutput(dataTable, element);\n",
              "          const docLink = document.createElement('div');\n",
              "          docLink.innerHTML = docLinkHtml;\n",
              "          element.appendChild(docLink);\n",
              "        }\n",
              "      </script>\n",
              "    </div>\n",
              "  </div>\n",
              "  "
            ],
            "text/plain": [
              "               unix                date    open  ...   close  Volume BTC  tradecount\n",
              "2600880  1483229100 2017-01-01 00:05:00  966.43  ...  966.43    1.391000         NaN\n",
              "2600881  1483229040 2017-01-01 00:04:00  966.37  ...  966.37    0.000000         NaN\n",
              "2600882  1483228980 2017-01-01 00:03:00  966.37  ...  966.37    0.000000         NaN\n",
              "2600883  1483228920 2017-01-01 00:02:00  966.16  ...  966.37  105.135892         NaN\n",
              "2600884  1483228860 2017-01-01 00:01:00  966.34  ...  966.34   98.930000         NaN\n",
              "\n",
              "[5 rows x 8 columns]"
            ]
          },
          "metadata": {},
          "execution_count": 67
        }
      ]
    },
    {
      "cell_type": "code",
      "source": [
        "btc_data.isna().sum()"
      ],
      "metadata": {
        "colab": {
          "base_uri": "https://localhost:8080/"
        },
        "id": "2baFAkoa2gyu",
        "outputId": "ed6f6ed4-92b9-4703-c306-b3c8713905bb"
      },
      "execution_count": null,
      "outputs": [
        {
          "output_type": "execute_result",
          "data": {
            "text/plain": [
              "unix                0\n",
              "date                0\n",
              "open                0\n",
              "high                0\n",
              "low                 0\n",
              "close               0\n",
              "Volume BTC          0\n",
              "tradecount    1552311\n",
              "dtype: int64"
            ]
          },
          "metadata": {},
          "execution_count": 68
        }
      ]
    },
    {
      "cell_type": "code",
      "source": [
        "#compression_opts = dict(method=\"zip\", archive_name=\"btc_price.csv\")  \n",
        "#btc_data.to_csv(\"btc_price.zip\", index=False, compression=compression_opts)  "
      ],
      "metadata": {
        "id": "5DJwkhSN2g1N"
      },
      "execution_count": null,
      "outputs": []
    },
    {
      "cell_type": "markdown",
      "source": [
        "#Подготовка данных, генерация фич"
      ],
      "metadata": {
        "id": "rx9_BPnv5_L-"
      }
    },
    {
      "cell_type": "code",
      "source": [
        "btc_data"
      ],
      "metadata": {
        "colab": {
          "base_uri": "https://localhost:8080/",
          "height": 424
        },
        "id": "VkLHifoPwuwJ",
        "outputId": "07197114-9580-496e-8e7b-35a338cf9ece"
      },
      "execution_count": null,
      "outputs": [
        {
          "output_type": "execute_result",
          "data": {
            "text/html": [
              "\n",
              "  <div id=\"df-fc65333d-500a-4949-8769-1f8c935ef59f\">\n",
              "    <div class=\"colab-df-container\">\n",
              "      <div>\n",
              "<style scoped>\n",
              "    .dataframe tbody tr th:only-of-type {\n",
              "        vertical-align: middle;\n",
              "    }\n",
              "\n",
              "    .dataframe tbody tr th {\n",
              "        vertical-align: top;\n",
              "    }\n",
              "\n",
              "    .dataframe thead th {\n",
              "        text-align: right;\n",
              "    }\n",
              "</style>\n",
              "<table border=\"1\" class=\"dataframe\">\n",
              "  <thead>\n",
              "    <tr style=\"text-align: right;\">\n",
              "      <th></th>\n",
              "      <th>unix</th>\n",
              "      <th>date</th>\n",
              "      <th>open</th>\n",
              "      <th>high</th>\n",
              "      <th>low</th>\n",
              "      <th>close</th>\n",
              "      <th>Volume BTC</th>\n",
              "      <th>tradecount</th>\n",
              "    </tr>\n",
              "  </thead>\n",
              "  <tbody>\n",
              "    <tr>\n",
              "      <th>0</th>\n",
              "      <td>1639281900</td>\n",
              "      <td>2021-12-12 04:05:00</td>\n",
              "      <td>49176.92</td>\n",
              "      <td>49202.25</td>\n",
              "      <td>49130.00</td>\n",
              "      <td>49160.00</td>\n",
              "      <td>50.813590</td>\n",
              "      <td>1200.0</td>\n",
              "    </tr>\n",
              "    <tr>\n",
              "      <th>1</th>\n",
              "      <td>1639281840</td>\n",
              "      <td>2021-12-12 04:04:00</td>\n",
              "      <td>49243.24</td>\n",
              "      <td>49246.64</td>\n",
              "      <td>49150.00</td>\n",
              "      <td>49176.93</td>\n",
              "      <td>49.224670</td>\n",
              "      <td>1356.0</td>\n",
              "    </tr>\n",
              "    <tr>\n",
              "      <th>2</th>\n",
              "      <td>1639281780</td>\n",
              "      <td>2021-12-12 04:03:00</td>\n",
              "      <td>49275.85</td>\n",
              "      <td>49284.20</td>\n",
              "      <td>49241.06</td>\n",
              "      <td>49243.25</td>\n",
              "      <td>13.658560</td>\n",
              "      <td>589.0</td>\n",
              "    </tr>\n",
              "    <tr>\n",
              "      <th>3</th>\n",
              "      <td>1639281720</td>\n",
              "      <td>2021-12-12 04:02:00</td>\n",
              "      <td>49321.79</td>\n",
              "      <td>49321.79</td>\n",
              "      <td>49267.40</td>\n",
              "      <td>49275.86</td>\n",
              "      <td>13.574730</td>\n",
              "      <td>631.0</td>\n",
              "    </tr>\n",
              "    <tr>\n",
              "      <th>4</th>\n",
              "      <td>1639281660</td>\n",
              "      <td>2021-12-12 04:01:00</td>\n",
              "      <td>49327.18</td>\n",
              "      <td>49347.53</td>\n",
              "      <td>49321.78</td>\n",
              "      <td>49321.79</td>\n",
              "      <td>5.620870</td>\n",
              "      <td>375.0</td>\n",
              "    </tr>\n",
              "    <tr>\n",
              "      <th>...</th>\n",
              "      <td>...</td>\n",
              "      <td>...</td>\n",
              "      <td>...</td>\n",
              "      <td>...</td>\n",
              "      <td>...</td>\n",
              "      <td>...</td>\n",
              "      <td>...</td>\n",
              "      <td>...</td>\n",
              "    </tr>\n",
              "    <tr>\n",
              "      <th>2600880</th>\n",
              "      <td>1483229100</td>\n",
              "      <td>2017-01-01 00:05:00</td>\n",
              "      <td>966.43</td>\n",
              "      <td>966.43</td>\n",
              "      <td>966.43</td>\n",
              "      <td>966.43</td>\n",
              "      <td>1.391000</td>\n",
              "      <td>NaN</td>\n",
              "    </tr>\n",
              "    <tr>\n",
              "      <th>2600881</th>\n",
              "      <td>1483229040</td>\n",
              "      <td>2017-01-01 00:04:00</td>\n",
              "      <td>966.37</td>\n",
              "      <td>966.37</td>\n",
              "      <td>966.37</td>\n",
              "      <td>966.37</td>\n",
              "      <td>0.000000</td>\n",
              "      <td>NaN</td>\n",
              "    </tr>\n",
              "    <tr>\n",
              "      <th>2600882</th>\n",
              "      <td>1483228980</td>\n",
              "      <td>2017-01-01 00:03:00</td>\n",
              "      <td>966.37</td>\n",
              "      <td>966.37</td>\n",
              "      <td>966.37</td>\n",
              "      <td>966.37</td>\n",
              "      <td>0.000000</td>\n",
              "      <td>NaN</td>\n",
              "    </tr>\n",
              "    <tr>\n",
              "      <th>2600883</th>\n",
              "      <td>1483228920</td>\n",
              "      <td>2017-01-01 00:02:00</td>\n",
              "      <td>966.16</td>\n",
              "      <td>966.37</td>\n",
              "      <td>966.16</td>\n",
              "      <td>966.37</td>\n",
              "      <td>105.135892</td>\n",
              "      <td>NaN</td>\n",
              "    </tr>\n",
              "    <tr>\n",
              "      <th>2600884</th>\n",
              "      <td>1483228860</td>\n",
              "      <td>2017-01-01 00:01:00</td>\n",
              "      <td>966.34</td>\n",
              "      <td>966.34</td>\n",
              "      <td>966.34</td>\n",
              "      <td>966.34</td>\n",
              "      <td>98.930000</td>\n",
              "      <td>NaN</td>\n",
              "    </tr>\n",
              "  </tbody>\n",
              "</table>\n",
              "<p>2600885 rows × 8 columns</p>\n",
              "</div>\n",
              "      <button class=\"colab-df-convert\" onclick=\"convertToInteractive('df-fc65333d-500a-4949-8769-1f8c935ef59f')\"\n",
              "              title=\"Convert this dataframe to an interactive table.\"\n",
              "              style=\"display:none;\">\n",
              "        \n",
              "  <svg xmlns=\"http://www.w3.org/2000/svg\" height=\"24px\"viewBox=\"0 0 24 24\"\n",
              "       width=\"24px\">\n",
              "    <path d=\"M0 0h24v24H0V0z\" fill=\"none\"/>\n",
              "    <path d=\"M18.56 5.44l.94 2.06.94-2.06 2.06-.94-2.06-.94-.94-2.06-.94 2.06-2.06.94zm-11 1L8.5 8.5l.94-2.06 2.06-.94-2.06-.94L8.5 2.5l-.94 2.06-2.06.94zm10 10l.94 2.06.94-2.06 2.06-.94-2.06-.94-.94-2.06-.94 2.06-2.06.94z\"/><path d=\"M17.41 7.96l-1.37-1.37c-.4-.4-.92-.59-1.43-.59-.52 0-1.04.2-1.43.59L10.3 9.45l-7.72 7.72c-.78.78-.78 2.05 0 2.83L4 21.41c.39.39.9.59 1.41.59.51 0 1.02-.2 1.41-.59l7.78-7.78 2.81-2.81c.8-.78.8-2.07 0-2.86zM5.41 20L4 18.59l7.72-7.72 1.47 1.35L5.41 20z\"/>\n",
              "  </svg>\n",
              "      </button>\n",
              "      \n",
              "  <style>\n",
              "    .colab-df-container {\n",
              "      display:flex;\n",
              "      flex-wrap:wrap;\n",
              "      gap: 12px;\n",
              "    }\n",
              "\n",
              "    .colab-df-convert {\n",
              "      background-color: #E8F0FE;\n",
              "      border: none;\n",
              "      border-radius: 50%;\n",
              "      cursor: pointer;\n",
              "      display: none;\n",
              "      fill: #1967D2;\n",
              "      height: 32px;\n",
              "      padding: 0 0 0 0;\n",
              "      width: 32px;\n",
              "    }\n",
              "\n",
              "    .colab-df-convert:hover {\n",
              "      background-color: #E2EBFA;\n",
              "      box-shadow: 0px 1px 2px rgba(60, 64, 67, 0.3), 0px 1px 3px 1px rgba(60, 64, 67, 0.15);\n",
              "      fill: #174EA6;\n",
              "    }\n",
              "\n",
              "    [theme=dark] .colab-df-convert {\n",
              "      background-color: #3B4455;\n",
              "      fill: #D2E3FC;\n",
              "    }\n",
              "\n",
              "    [theme=dark] .colab-df-convert:hover {\n",
              "      background-color: #434B5C;\n",
              "      box-shadow: 0px 1px 3px 1px rgba(0, 0, 0, 0.15);\n",
              "      filter: drop-shadow(0px 1px 2px rgba(0, 0, 0, 0.3));\n",
              "      fill: #FFFFFF;\n",
              "    }\n",
              "  </style>\n",
              "\n",
              "      <script>\n",
              "        const buttonEl =\n",
              "          document.querySelector('#df-fc65333d-500a-4949-8769-1f8c935ef59f button.colab-df-convert');\n",
              "        buttonEl.style.display =\n",
              "          google.colab.kernel.accessAllowed ? 'block' : 'none';\n",
              "\n",
              "        async function convertToInteractive(key) {\n",
              "          const element = document.querySelector('#df-fc65333d-500a-4949-8769-1f8c935ef59f');\n",
              "          const dataTable =\n",
              "            await google.colab.kernel.invokeFunction('convertToInteractive',\n",
              "                                                     [key], {});\n",
              "          if (!dataTable) return;\n",
              "\n",
              "          const docLinkHtml = 'Like what you see? Visit the ' +\n",
              "            '<a target=\"_blank\" href=https://colab.research.google.com/notebooks/data_table.ipynb>data table notebook</a>'\n",
              "            + ' to learn more about interactive tables.';\n",
              "          element.innerHTML = '';\n",
              "          dataTable['output_type'] = 'display_data';\n",
              "          await google.colab.output.renderOutput(dataTable, element);\n",
              "          const docLink = document.createElement('div');\n",
              "          docLink.innerHTML = docLinkHtml;\n",
              "          element.appendChild(docLink);\n",
              "        }\n",
              "      </script>\n",
              "    </div>\n",
              "  </div>\n",
              "  "
            ],
            "text/plain": [
              "               unix                date  ...  Volume BTC  tradecount\n",
              "0        1639281900 2021-12-12 04:05:00  ...   50.813590      1200.0\n",
              "1        1639281840 2021-12-12 04:04:00  ...   49.224670      1356.0\n",
              "2        1639281780 2021-12-12 04:03:00  ...   13.658560       589.0\n",
              "3        1639281720 2021-12-12 04:02:00  ...   13.574730       631.0\n",
              "4        1639281660 2021-12-12 04:01:00  ...    5.620870       375.0\n",
              "...             ...                 ...  ...         ...         ...\n",
              "2600880  1483229100 2017-01-01 00:05:00  ...    1.391000         NaN\n",
              "2600881  1483229040 2017-01-01 00:04:00  ...    0.000000         NaN\n",
              "2600882  1483228980 2017-01-01 00:03:00  ...    0.000000         NaN\n",
              "2600883  1483228920 2017-01-01 00:02:00  ...  105.135892         NaN\n",
              "2600884  1483228860 2017-01-01 00:01:00  ...   98.930000         NaN\n",
              "\n",
              "[2600885 rows x 8 columns]"
            ]
          },
          "metadata": {},
          "execution_count": 70
        }
      ]
    },
    {
      "cell_type": "code",
      "source": [
        "btc_data.set_index(\"date\", drop=True, inplace=True)\n",
        "btc_data.sort_index(inplace=True)\n",
        "btc_data.drop(\"unix\", axis=1, inplace=True)\n",
        "btc_data.rename(columns={\"Volume BTC\": \"volume_btc\"}, inplace=True)\n",
        "btc_data.drop(\"tradecount\", axis=1, inplace=True)"
      ],
      "metadata": {
        "id": "dKoF3L__509R"
      },
      "execution_count": null,
      "outputs": []
    },
    {
      "cell_type": "code",
      "source": [
        "btc_data.head()"
      ],
      "metadata": {
        "colab": {
          "base_uri": "https://localhost:8080/",
          "height": 238
        },
        "id": "vVRJqk2VwpnH",
        "outputId": "a686cd11-3ea0-47aa-87e8-f78923f73120"
      },
      "execution_count": null,
      "outputs": [
        {
          "output_type": "execute_result",
          "data": {
            "text/html": [
              "\n",
              "  <div id=\"df-ab1f354e-28d2-4866-b19c-bc69c9324e1a\">\n",
              "    <div class=\"colab-df-container\">\n",
              "      <div>\n",
              "<style scoped>\n",
              "    .dataframe tbody tr th:only-of-type {\n",
              "        vertical-align: middle;\n",
              "    }\n",
              "\n",
              "    .dataframe tbody tr th {\n",
              "        vertical-align: top;\n",
              "    }\n",
              "\n",
              "    .dataframe thead th {\n",
              "        text-align: right;\n",
              "    }\n",
              "</style>\n",
              "<table border=\"1\" class=\"dataframe\">\n",
              "  <thead>\n",
              "    <tr style=\"text-align: right;\">\n",
              "      <th></th>\n",
              "      <th>open</th>\n",
              "      <th>high</th>\n",
              "      <th>low</th>\n",
              "      <th>close</th>\n",
              "      <th>volume_btc</th>\n",
              "    </tr>\n",
              "    <tr>\n",
              "      <th>date</th>\n",
              "      <th></th>\n",
              "      <th></th>\n",
              "      <th></th>\n",
              "      <th></th>\n",
              "      <th></th>\n",
              "    </tr>\n",
              "  </thead>\n",
              "  <tbody>\n",
              "    <tr>\n",
              "      <th>2017-01-01 00:01:00</th>\n",
              "      <td>966.34</td>\n",
              "      <td>966.34</td>\n",
              "      <td>966.34</td>\n",
              "      <td>966.34</td>\n",
              "      <td>98.930000</td>\n",
              "    </tr>\n",
              "    <tr>\n",
              "      <th>2017-01-01 00:02:00</th>\n",
              "      <td>966.16</td>\n",
              "      <td>966.37</td>\n",
              "      <td>966.16</td>\n",
              "      <td>966.37</td>\n",
              "      <td>105.135892</td>\n",
              "    </tr>\n",
              "    <tr>\n",
              "      <th>2017-01-01 00:03:00</th>\n",
              "      <td>966.37</td>\n",
              "      <td>966.37</td>\n",
              "      <td>966.37</td>\n",
              "      <td>966.37</td>\n",
              "      <td>0.000000</td>\n",
              "    </tr>\n",
              "    <tr>\n",
              "      <th>2017-01-01 00:04:00</th>\n",
              "      <td>966.37</td>\n",
              "      <td>966.37</td>\n",
              "      <td>966.37</td>\n",
              "      <td>966.37</td>\n",
              "      <td>0.000000</td>\n",
              "    </tr>\n",
              "    <tr>\n",
              "      <th>2017-01-01 00:05:00</th>\n",
              "      <td>966.43</td>\n",
              "      <td>966.43</td>\n",
              "      <td>966.43</td>\n",
              "      <td>966.43</td>\n",
              "      <td>1.391000</td>\n",
              "    </tr>\n",
              "  </tbody>\n",
              "</table>\n",
              "</div>\n",
              "      <button class=\"colab-df-convert\" onclick=\"convertToInteractive('df-ab1f354e-28d2-4866-b19c-bc69c9324e1a')\"\n",
              "              title=\"Convert this dataframe to an interactive table.\"\n",
              "              style=\"display:none;\">\n",
              "        \n",
              "  <svg xmlns=\"http://www.w3.org/2000/svg\" height=\"24px\"viewBox=\"0 0 24 24\"\n",
              "       width=\"24px\">\n",
              "    <path d=\"M0 0h24v24H0V0z\" fill=\"none\"/>\n",
              "    <path d=\"M18.56 5.44l.94 2.06.94-2.06 2.06-.94-2.06-.94-.94-2.06-.94 2.06-2.06.94zm-11 1L8.5 8.5l.94-2.06 2.06-.94-2.06-.94L8.5 2.5l-.94 2.06-2.06.94zm10 10l.94 2.06.94-2.06 2.06-.94-2.06-.94-.94-2.06-.94 2.06-2.06.94z\"/><path d=\"M17.41 7.96l-1.37-1.37c-.4-.4-.92-.59-1.43-.59-.52 0-1.04.2-1.43.59L10.3 9.45l-7.72 7.72c-.78.78-.78 2.05 0 2.83L4 21.41c.39.39.9.59 1.41.59.51 0 1.02-.2 1.41-.59l7.78-7.78 2.81-2.81c.8-.78.8-2.07 0-2.86zM5.41 20L4 18.59l7.72-7.72 1.47 1.35L5.41 20z\"/>\n",
              "  </svg>\n",
              "      </button>\n",
              "      \n",
              "  <style>\n",
              "    .colab-df-container {\n",
              "      display:flex;\n",
              "      flex-wrap:wrap;\n",
              "      gap: 12px;\n",
              "    }\n",
              "\n",
              "    .colab-df-convert {\n",
              "      background-color: #E8F0FE;\n",
              "      border: none;\n",
              "      border-radius: 50%;\n",
              "      cursor: pointer;\n",
              "      display: none;\n",
              "      fill: #1967D2;\n",
              "      height: 32px;\n",
              "      padding: 0 0 0 0;\n",
              "      width: 32px;\n",
              "    }\n",
              "\n",
              "    .colab-df-convert:hover {\n",
              "      background-color: #E2EBFA;\n",
              "      box-shadow: 0px 1px 2px rgba(60, 64, 67, 0.3), 0px 1px 3px 1px rgba(60, 64, 67, 0.15);\n",
              "      fill: #174EA6;\n",
              "    }\n",
              "\n",
              "    [theme=dark] .colab-df-convert {\n",
              "      background-color: #3B4455;\n",
              "      fill: #D2E3FC;\n",
              "    }\n",
              "\n",
              "    [theme=dark] .colab-df-convert:hover {\n",
              "      background-color: #434B5C;\n",
              "      box-shadow: 0px 1px 3px 1px rgba(0, 0, 0, 0.15);\n",
              "      filter: drop-shadow(0px 1px 2px rgba(0, 0, 0, 0.3));\n",
              "      fill: #FFFFFF;\n",
              "    }\n",
              "  </style>\n",
              "\n",
              "      <script>\n",
              "        const buttonEl =\n",
              "          document.querySelector('#df-ab1f354e-28d2-4866-b19c-bc69c9324e1a button.colab-df-convert');\n",
              "        buttonEl.style.display =\n",
              "          google.colab.kernel.accessAllowed ? 'block' : 'none';\n",
              "\n",
              "        async function convertToInteractive(key) {\n",
              "          const element = document.querySelector('#df-ab1f354e-28d2-4866-b19c-bc69c9324e1a');\n",
              "          const dataTable =\n",
              "            await google.colab.kernel.invokeFunction('convertToInteractive',\n",
              "                                                     [key], {});\n",
              "          if (!dataTable) return;\n",
              "\n",
              "          const docLinkHtml = 'Like what you see? Visit the ' +\n",
              "            '<a target=\"_blank\" href=https://colab.research.google.com/notebooks/data_table.ipynb>data table notebook</a>'\n",
              "            + ' to learn more about interactive tables.';\n",
              "          element.innerHTML = '';\n",
              "          dataTable['output_type'] = 'display_data';\n",
              "          await google.colab.output.renderOutput(dataTable, element);\n",
              "          const docLink = document.createElement('div');\n",
              "          docLink.innerHTML = docLinkHtml;\n",
              "          element.appendChild(docLink);\n",
              "        }\n",
              "      </script>\n",
              "    </div>\n",
              "  </div>\n",
              "  "
            ],
            "text/plain": [
              "                       open    high     low   close  volume_btc\n",
              "date                                                           \n",
              "2017-01-01 00:01:00  966.34  966.34  966.34  966.34   98.930000\n",
              "2017-01-01 00:02:00  966.16  966.37  966.16  966.37  105.135892\n",
              "2017-01-01 00:03:00  966.37  966.37  966.37  966.37    0.000000\n",
              "2017-01-01 00:04:00  966.37  966.37  966.37  966.37    0.000000\n",
              "2017-01-01 00:05:00  966.43  966.43  966.43  966.43    1.391000"
            ]
          },
          "metadata": {},
          "execution_count": 72
        }
      ]
    },
    {
      "cell_type": "code",
      "source": [
        "def get_price_plot(data, drawing_type=\"candle\"):\n",
        "\n",
        "  ms = mpf.make_marketcolors(up=\"#ffffff\", down=\"#1976d2\", edge=\"#2a2e39\", wick=\"#787b86\")\n",
        "  s = mpf.make_mpf_style(facecolor=\"#181c27\", figcolor=\"#181c27\", edgecolor=\"#2a2e39\", gridcolor=\"#2a2e39\", gridstyle=\"dashed\", marketcolors=ms, y_on_right=True)\n",
        "\n",
        "  fig, axlist = mpf.plot(data, type=drawing_type, figratio=(20, 12), figscale=2, style=s, returnfig=True)\n",
        "  axlist[0].set_ylabel(None)\n",
        "  axlist[0].tick_params(axis=\"both\", right=False, bottom=False, labelsize=9, labelcolor=\"#b2b5be\", labelrotation=0)"
      ],
      "metadata": {
        "id": "1NCjGVEnA5Gx"
      },
      "execution_count": null,
      "outputs": []
    },
    {
      "cell_type": "code",
      "source": [
        "get_price_plot(btc_data[-200:])"
      ],
      "metadata": {
        "colab": {
          "base_uri": "https://localhost:8080/",
          "height": 864
        },
        "id": "XhlUyI2X51OS",
        "outputId": "5d576a5e-391f-465d-aab8-33ea47b24149"
      },
      "execution_count": null,
      "outputs": [
        {
          "output_type": "display_data",
          "data": {
            "image/png": "[encoded data removed]",
            "text/plain": [
              "<Figure size 1916.67x1150 with 2 Axes>"
            ]
          },
          "metadata": {}
        }
      ]
    },
    {
      "cell_type": "code",
      "source": [
        "get_price_plot(btc_data.iloc[:, :4], \"line\")"
      ],
      "metadata": {
        "colab": {
          "base_uri": "https://localhost:8080/",
          "height": 864
        },
        "id": "hqAkZnyEGCD6",
        "outputId": "70e707e4-6cc2-47df-98f1-13eb90b5e24d"
      },
      "execution_count": null,
      "outputs": [
        {
          "output_type": "display_data",
          "data": {
            "image/png": "[encoded data removed]",
            "text/plain": [
              "<Figure size 1916.67x1150 with 2 Axes>"
            ]
          },
          "metadata": {}
        }
      ]
    },
    {
      "cell_type": "code",
      "source": [
        "btc_data.resample(\"W\").close.mean()"
      ],
      "metadata": {
        "colab": {
          "base_uri": "https://localhost:8080/"
        },
        "id": "oT-g0r5MF8w2",
        "outputId": "dd2333bd-ad84-4f10-d251-dcf24e9c88ee"
      },
      "execution_count": null,
      "outputs": [
        {
          "output_type": "execute_result",
          "data": {
            "text/plain": [
              "date\n",
              "2017-01-01      977.276060\n",
              "2017-01-08      981.505302\n",
              "2017-01-15      839.559408\n",
              "2017-01-22      888.388665\n",
              "2017-01-29      911.422007\n",
              "                  ...     \n",
              "2021-11-14    65382.538016\n",
              "2021-11-21    59951.323800\n",
              "2021-11-28    56295.731088\n",
              "2021-12-05    54673.600251\n",
              "2021-12-12    49289.584546\n",
              "Freq: W-SUN, Name: close, Length: 259, dtype: float64"
            ]
          },
          "metadata": {},
          "execution_count": 76
        }
      ]
    },
    {
      "cell_type": "code",
      "source": [
        "btc_data.describe()"
      ],
      "metadata": {
        "colab": {
          "base_uri": "https://localhost:8080/",
          "height": 300
        },
        "id": "UH2-S9axv-Hq",
        "outputId": "7beaf3bb-e080-4f12-e2ca-084f6ea8aed6"
      },
      "execution_count": null,
      "outputs": [
        {
          "output_type": "execute_result",
          "data": {
            "text/html": [
              "\n",
              "  <div id=\"df-44acf2cd-3136-4789-8041-dc1fa9b27cf7\">\n",
              "    <div class=\"colab-df-container\">\n",
              "      <div>\n",
              "<style scoped>\n",
              "    .dataframe tbody tr th:only-of-type {\n",
              "        vertical-align: middle;\n",
              "    }\n",
              "\n",
              "    .dataframe tbody tr th {\n",
              "        vertical-align: top;\n",
              "    }\n",
              "\n",
              "    .dataframe thead th {\n",
              "        text-align: right;\n",
              "    }\n",
              "</style>\n",
              "<table border=\"1\" class=\"dataframe\">\n",
              "  <thead>\n",
              "    <tr style=\"text-align: right;\">\n",
              "      <th></th>\n",
              "      <th>open</th>\n",
              "      <th>high</th>\n",
              "      <th>low</th>\n",
              "      <th>close</th>\n",
              "      <th>volume_btc</th>\n",
              "    </tr>\n",
              "  </thead>\n",
              "  <tbody>\n",
              "    <tr>\n",
              "      <th>count</th>\n",
              "      <td>2.600885e+06</td>\n",
              "      <td>2.600885e+06</td>\n",
              "      <td>2.600885e+06</td>\n",
              "      <td>2.600885e+06</td>\n",
              "      <td>2.600885e+06</td>\n",
              "    </tr>\n",
              "    <tr>\n",
              "      <th>mean</th>\n",
              "      <td>1.508671e+04</td>\n",
              "      <td>1.509753e+04</td>\n",
              "      <td>1.507557e+04</td>\n",
              "      <td>1.508665e+04</td>\n",
              "      <td>9.681493e+01</td>\n",
              "    </tr>\n",
              "    <tr>\n",
              "      <th>std</th>\n",
              "      <td>1.670447e+04</td>\n",
              "      <td>1.671681e+04</td>\n",
              "      <td>1.669217e+04</td>\n",
              "      <td>1.670451e+04</td>\n",
              "      <td>2.333083e+02</td>\n",
              "    </tr>\n",
              "    <tr>\n",
              "      <th>min</th>\n",
              "      <td>7.520000e+02</td>\n",
              "      <td>7.528100e+02</td>\n",
              "      <td>7.513400e+02</td>\n",
              "      <td>7.520400e+02</td>\n",
              "      <td>0.000000e+00</td>\n",
              "    </tr>\n",
              "    <tr>\n",
              "      <th>25%</th>\n",
              "      <td>5.377780e+03</td>\n",
              "      <td>5.382710e+03</td>\n",
              "      <td>5.371770e+03</td>\n",
              "      <td>5.377620e+03</td>\n",
              "      <td>1.156207e+01</td>\n",
              "    </tr>\n",
              "    <tr>\n",
              "      <th>50%</th>\n",
              "      <td>8.525130e+03</td>\n",
              "      <td>8.531400e+03</td>\n",
              "      <td>8.519460e+03</td>\n",
              "      <td>8.525000e+03</td>\n",
              "      <td>3.490265e+01</td>\n",
              "    </tr>\n",
              "    <tr>\n",
              "      <th>75%</th>\n",
              "      <td>1.307402e+04</td>\n",
              "      <td>1.308500e+04</td>\n",
              "      <td>1.306266e+04</td>\n",
              "      <td>1.307423e+04</td>\n",
              "      <td>9.366354e+01</td>\n",
              "    </tr>\n",
              "    <tr>\n",
              "      <th>max</th>\n",
              "      <td>6.900000e+04</td>\n",
              "      <td>6.900000e+04</td>\n",
              "      <td>6.878670e+04</td>\n",
              "      <td>6.900000e+04</td>\n",
              "      <td>2.100878e+04</td>\n",
              "    </tr>\n",
              "  </tbody>\n",
              "</table>\n",
              "</div>\n",
              "      <button class=\"colab-df-convert\" onclick=\"convertToInteractive('df-44acf2cd-3136-4789-8041-dc1fa9b27cf7')\"\n",
              "              title=\"Convert this dataframe to an interactive table.\"\n",
              "              style=\"display:none;\">\n",
              "        \n",
              "  <svg xmlns=\"http://www.w3.org/2000/svg\" height=\"24px\"viewBox=\"0 0 24 24\"\n",
              "       width=\"24px\">\n",
              "    <path d=\"M0 0h24v24H0V0z\" fill=\"none\"/>\n",
              "    <path d=\"M18.56 5.44l.94 2.06.94-2.06 2.06-.94-2.06-.94-.94-2.06-.94 2.06-2.06.94zm-11 1L8.5 8.5l.94-2.06 2.06-.94-2.06-.94L8.5 2.5l-.94 2.06-2.06.94zm10 10l.94 2.06.94-2.06 2.06-.94-2.06-.94-.94-2.06-.94 2.06-2.06.94z\"/><path d=\"M17.41 7.96l-1.37-1.37c-.4-.4-.92-.59-1.43-.59-.52 0-1.04.2-1.43.59L10.3 9.45l-7.72 7.72c-.78.78-.78 2.05 0 2.83L4 21.41c.39.39.9.59 1.41.59.51 0 1.02-.2 1.41-.59l7.78-7.78 2.81-2.81c.8-.78.8-2.07 0-2.86zM5.41 20L4 18.59l7.72-7.72 1.47 1.35L5.41 20z\"/>\n",
              "  </svg>\n",
              "      </button>\n",
              "      \n",
              "  <style>\n",
              "    .colab-df-container {\n",
              "      display:flex;\n",
              "      flex-wrap:wrap;\n",
              "      gap: 12px;\n",
              "    }\n",
              "\n",
              "    .colab-df-convert {\n",
              "      background-color: #E8F0FE;\n",
              "      border: none;\n",
              "      border-radius: 50%;\n",
              "      cursor: pointer;\n",
              "      display: none;\n",
              "      fill: #1967D2;\n",
              "      height: 32px;\n",
              "      padding: 0 0 0 0;\n",
              "      width: 32px;\n",
              "    }\n",
              "\n",
              "    .colab-df-convert:hover {\n",
              "      background-color: #E2EBFA;\n",
              "      box-shadow: 0px 1px 2px rgba(60, 64, 67, 0.3), 0px 1px 3px 1px rgba(60, 64, 67, 0.15);\n",
              "      fill: #174EA6;\n",
              "    }\n",
              "\n",
              "    [theme=dark] .colab-df-convert {\n",
              "      background-color: #3B4455;\n",
              "      fill: #D2E3FC;\n",
              "    }\n",
              "\n",
              "    [theme=dark] .colab-df-convert:hover {\n",
              "      background-color: #434B5C;\n",
              "      box-shadow: 0px 1px 3px 1px rgba(0, 0, 0, 0.15);\n",
              "      filter: drop-shadow(0px 1px 2px rgba(0, 0, 0, 0.3));\n",
              "      fill: #FFFFFF;\n",
              "    }\n",
              "  </style>\n",
              "\n",
              "      <script>\n",
              "        const buttonEl =\n",
              "          document.querySelector('#df-44acf2cd-3136-4789-8041-dc1fa9b27cf7 button.colab-df-convert');\n",
              "        buttonEl.style.display =\n",
              "          google.colab.kernel.accessAllowed ? 'block' : 'none';\n",
              "\n",
              "        async function convertToInteractive(key) {\n",
              "          const element = document.querySelector('#df-44acf2cd-3136-4789-8041-dc1fa9b27cf7');\n",
              "          const dataTable =\n",
              "            await google.colab.kernel.invokeFunction('convertToInteractive',\n",
              "                                                     [key], {});\n",
              "          if (!dataTable) return;\n",
              "\n",
              "          const docLinkHtml = 'Like what you see? Visit the ' +\n",
              "            '<a target=\"_blank\" href=https://colab.research.google.com/notebooks/data_table.ipynb>data table notebook</a>'\n",
              "            + ' to learn more about interactive tables.';\n",
              "          element.innerHTML = '';\n",
              "          dataTable['output_type'] = 'display_data';\n",
              "          await google.colab.output.renderOutput(dataTable, element);\n",
              "          const docLink = document.createElement('div');\n",
              "          docLink.innerHTML = docLinkHtml;\n",
              "          element.appendChild(docLink);\n",
              "        }\n",
              "      </script>\n",
              "    </div>\n",
              "  </div>\n",
              "  "
            ],
            "text/plain": [
              "               open          high           low         close    volume_btc\n",
              "count  2.600885e+06  2.600885e+06  2.600885e+06  2.600885e+06  2.600885e+06\n",
              "mean   1.508671e+04  1.509753e+04  1.507557e+04  1.508665e+04  9.681493e+01\n",
              "std    1.670447e+04  1.671681e+04  1.669217e+04  1.670451e+04  2.333083e+02\n",
              "min    7.520000e+02  7.528100e+02  7.513400e+02  7.520400e+02  0.000000e+00\n",
              "25%    5.377780e+03  5.382710e+03  5.371770e+03  5.377620e+03  1.156207e+01\n",
              "50%    8.525130e+03  8.531400e+03  8.519460e+03  8.525000e+03  3.490265e+01\n",
              "75%    1.307402e+04  1.308500e+04  1.306266e+04  1.307423e+04  9.366354e+01\n",
              "max    6.900000e+04  6.900000e+04  6.878670e+04  6.900000e+04  2.100878e+04"
            ]
          },
          "metadata": {},
          "execution_count": 77
        }
      ]
    },
    {
      "cell_type": "code",
      "source": [
        "btc_data.corr()"
      ],
      "metadata": {
        "colab": {
          "base_uri": "https://localhost:8080/",
          "height": 206
        },
        "id": "ovj5mY3JN9Lx",
        "outputId": "bcae359f-f2f8-4d97-a52a-9bae24b8d208"
      },
      "execution_count": null,
      "outputs": [
        {
          "output_type": "execute_result",
          "data": {
            "text/html": [
              "\n",
              "  <div id=\"df-ca7f21ac-d668-40c9-af76-65fc07c4475f\">\n",
              "    <div class=\"colab-df-container\">\n",
              "      <div>\n",
              "<style scoped>\n",
              "    .dataframe tbody tr th:only-of-type {\n",
              "        vertical-align: middle;\n",
              "    }\n",
              "\n",
              "    .dataframe tbody tr th {\n",
              "        vertical-align: top;\n",
              "    }\n",
              "\n",
              "    .dataframe thead th {\n",
              "        text-align: right;\n",
              "    }\n",
              "</style>\n",
              "<table border=\"1\" class=\"dataframe\">\n",
              "  <thead>\n",
              "    <tr style=\"text-align: right;\">\n",
              "      <th></th>\n",
              "      <th>open</th>\n",
              "      <th>high</th>\n",
              "      <th>low</th>\n",
              "      <th>close</th>\n",
              "      <th>volume_btc</th>\n",
              "    </tr>\n",
              "  </thead>\n",
              "  <tbody>\n",
              "    <tr>\n",
              "      <th>open</th>\n",
              "      <td>1.000000</td>\n",
              "      <td>0.999999</td>\n",
              "      <td>0.999999</td>\n",
              "      <td>0.999999</td>\n",
              "      <td>-0.094948</td>\n",
              "    </tr>\n",
              "    <tr>\n",
              "      <th>high</th>\n",
              "      <td>0.999999</td>\n",
              "      <td>1.000000</td>\n",
              "      <td>0.999998</td>\n",
              "      <td>0.999999</td>\n",
              "      <td>-0.094732</td>\n",
              "    </tr>\n",
              "    <tr>\n",
              "      <th>low</th>\n",
              "      <td>0.999999</td>\n",
              "      <td>0.999998</td>\n",
              "      <td>1.000000</td>\n",
              "      <td>0.999999</td>\n",
              "      <td>-0.095205</td>\n",
              "    </tr>\n",
              "    <tr>\n",
              "      <th>close</th>\n",
              "      <td>0.999999</td>\n",
              "      <td>0.999999</td>\n",
              "      <td>0.999999</td>\n",
              "      <td>1.000000</td>\n",
              "      <td>-0.094971</td>\n",
              "    </tr>\n",
              "    <tr>\n",
              "      <th>volume_btc</th>\n",
              "      <td>-0.094948</td>\n",
              "      <td>-0.094732</td>\n",
              "      <td>-0.095205</td>\n",
              "      <td>-0.094971</td>\n",
              "      <td>1.000000</td>\n",
              "    </tr>\n",
              "  </tbody>\n",
              "</table>\n",
              "</div>\n",
              "      <button class=\"colab-df-convert\" onclick=\"convertToInteractive('df-ca7f21ac-d668-40c9-af76-65fc07c4475f')\"\n",
              "              title=\"Convert this dataframe to an interactive table.\"\n",
              "              style=\"display:none;\">\n",
              "        \n",
              "  <svg xmlns=\"http://www.w3.org/2000/svg\" height=\"24px\"viewBox=\"0 0 24 24\"\n",
              "       width=\"24px\">\n",
              "    <path d=\"M0 0h24v24H0V0z\" fill=\"none\"/>\n",
              "    <path d=\"M18.56 5.44l.94 2.06.94-2.06 2.06-.94-2.06-.94-.94-2.06-.94 2.06-2.06.94zm-11 1L8.5 8.5l.94-2.06 2.06-.94-2.06-.94L8.5 2.5l-.94 2.06-2.06.94zm10 10l.94 2.06.94-2.06 2.06-.94-2.06-.94-.94-2.06-.94 2.06-2.06.94z\"/><path d=\"M17.41 7.96l-1.37-1.37c-.4-.4-.92-.59-1.43-.59-.52 0-1.04.2-1.43.59L10.3 9.45l-7.72 7.72c-.78.78-.78 2.05 0 2.83L4 21.41c.39.39.9.59 1.41.59.51 0 1.02-.2 1.41-.59l7.78-7.78 2.81-2.81c.8-.78.8-2.07 0-2.86zM5.41 20L4 18.59l7.72-7.72 1.47 1.35L5.41 20z\"/>\n",
              "  </svg>\n",
              "      </button>\n",
              "      \n",
              "  <style>\n",
              "    .colab-df-container {\n",
              "      display:flex;\n",
              "      flex-wrap:wrap;\n",
              "      gap: 12px;\n",
              "    }\n",
              "\n",
              "    .colab-df-convert {\n",
              "      background-color: #E8F0FE;\n",
              "      border: none;\n",
              "      border-radius: 50%;\n",
              "      cursor: pointer;\n",
              "      display: none;\n",
              "      fill: #1967D2;\n",
              "      height: 32px;\n",
              "      padding: 0 0 0 0;\n",
              "      width: 32px;\n",
              "    }\n",
              "\n",
              "    .colab-df-convert:hover {\n",
              "      background-color: #E2EBFA;\n",
              "      box-shadow: 0px 1px 2px rgba(60, 64, 67, 0.3), 0px 1px 3px 1px rgba(60, 64, 67, 0.15);\n",
              "      fill: #174EA6;\n",
              "    }\n",
              "\n",
              "    [theme=dark] .colab-df-convert {\n",
              "      background-color: #3B4455;\n",
              "      fill: #D2E3FC;\n",
              "    }\n",
              "\n",
              "    [theme=dark] .colab-df-convert:hover {\n",
              "      background-color: #434B5C;\n",
              "      box-shadow: 0px 1px 3px 1px rgba(0, 0, 0, 0.15);\n",
              "      filter: drop-shadow(0px 1px 2px rgba(0, 0, 0, 0.3));\n",
              "      fill: #FFFFFF;\n",
              "    }\n",
              "  </style>\n",
              "\n",
              "      <script>\n",
              "        const buttonEl =\n",
              "          document.querySelector('#df-ca7f21ac-d668-40c9-af76-65fc07c4475f button.colab-df-convert');\n",
              "        buttonEl.style.display =\n",
              "          google.colab.kernel.accessAllowed ? 'block' : 'none';\n",
              "\n",
              "        async function convertToInteractive(key) {\n",
              "          const element = document.querySelector('#df-ca7f21ac-d668-40c9-af76-65fc07c4475f');\n",
              "          const dataTable =\n",
              "            await google.colab.kernel.invokeFunction('convertToInteractive',\n",
              "                                                     [key], {});\n",
              "          if (!dataTable) return;\n",
              "\n",
              "          const docLinkHtml = 'Like what you see? Visit the ' +\n",
              "            '<a target=\"_blank\" href=https://colab.research.google.com/notebooks/data_table.ipynb>data table notebook</a>'\n",
              "            + ' to learn more about interactive tables.';\n",
              "          element.innerHTML = '';\n",
              "          dataTable['output_type'] = 'display_data';\n",
              "          await google.colab.output.renderOutput(dataTable, element);\n",
              "          const docLink = document.createElement('div');\n",
              "          docLink.innerHTML = docLinkHtml;\n",
              "          element.appendChild(docLink);\n",
              "        }\n",
              "      </script>\n",
              "    </div>\n",
              "  </div>\n",
              "  "
            ],
            "text/plain": [
              "                open      high       low     close  volume_btc\n",
              "open        1.000000  0.999999  0.999999  0.999999   -0.094948\n",
              "high        0.999999  1.000000  0.999998  0.999999   -0.094732\n",
              "low         0.999999  0.999998  1.000000  0.999999   -0.095205\n",
              "close       0.999999  0.999999  0.999999  1.000000   -0.094971\n",
              "volume_btc -0.094948 -0.094732 -0.095205 -0.094971    1.000000"
            ]
          },
          "metadata": {},
          "execution_count": 78
        }
      ]
    },
    {
      "cell_type": "code",
      "source": [
        "btc_data[\"volume_usd\"] = btc_data.volume_btc * btc_data.close\n",
        "columns = btc_data.columns\n",
        "columns"
      ],
      "metadata": {
        "colab": {
          "base_uri": "https://localhost:8080/"
        },
        "id": "WtOiTtPnCBzp",
        "outputId": "984c5621-4c01-4980-c0e1-4bffbe442291"
      },
      "execution_count": null,
      "outputs": [
        {
          "output_type": "execute_result",
          "data": {
            "text/plain": [
              "Index(['open', 'high', 'low', 'close', 'volume_btc', 'volume_usd'], dtype='object')"
            ]
          },
          "metadata": {},
          "execution_count": 79
        }
      ]
    },
    {
      "cell_type": "code",
      "source": [
        "for i in range(4):\n",
        "  for j in range(i + 1, 4):\n",
        "\n",
        "    btc_data[columns[i] + '-' + columns[j]] = btc_data[columns[i]] - btc_data[columns[j]]\n",
        "    btc_data['|' + columns[i] + '-' + columns[j] + '|'] = abs(btc_data[columns[i]] - btc_data[columns[j]])\n",
        "    btc_data[columns[i] + '*' + columns[j]] = btc_data[columns[i]] * btc_data[columns[j]]"
      ],
      "metadata": {
        "id": "ThhoUFbA1MDN"
      },
      "execution_count": null,
      "outputs": []
    },
    {
      "cell_type": "code",
      "source": [
        "for i in columns[:4]:  \n",
        "  \n",
        "  btc_data[\"ln_\" + i] = np.log(btc_data[i])\n",
        "  btc_data[\"log10_\" + i] = np.log10(btc_data[i])"
      ],
      "metadata": {
        "id": "ZVioLMTxEtmM"
      },
      "execution_count": null,
      "outputs": []
    },
    {
      "cell_type": "code",
      "source": [
        "btc_data.shape"
      ],
      "metadata": {
        "colab": {
          "base_uri": "https://localhost:8080/"
        },
        "id": "gzIv7j9HZHkd",
        "outputId": "1a301697-c4d2-4504-fc56-16308c7a4809"
      },
      "execution_count": null,
      "outputs": [
        {
          "output_type": "execute_result",
          "data": {
            "text/plain": [
              "(2600885, 32)"
            ]
          },
          "metadata": {},
          "execution_count": 82
        }
      ]
    },
    {
      "cell_type": "code",
      "source": [
        "for i in tqdm(columns):\n",
        "\n",
        "  btc_data[\"reverse_\" + i] = 1 / (btc_data[i] + 0.001)\n",
        "  btc_data[\"first_derivative_of_\" + i] = np.nan\n",
        "  btc_data[\"first_derivative_of_\" + i][1:] = btc_data[i][1:].reset_index(drop=True) - btc_data[i][:-1].reset_index(drop=True)\n",
        "  btc_data[\"second_derivative_of_\" + i] = np.nan\n",
        "  btc_data[\"second_derivative_of_\" + i][2:] = btc_data[i][2:].reset_index(drop=True) - 2 * btc_data[i][1:-1].reset_index(drop=True) + btc_data[i][:-2].reset_index(drop=True)\n",
        "  btc_data[\"per_change_\" + i] = np.nan\n",
        "  btc_data[\"per_change_\" + i][1:] = (btc_data[i][1:].reset_index(drop=True) - btc_data[i][:-1].reset_index(drop=True)) / (btc_data[i][:-1].reset_index(drop=True) + 0.0001) * 100\n",
        "  btc_data[\"per_change_\" + i] = np.nan\n",
        "  btc_data[\"per_change_\" + i][1:] = (btc_data[i][1:].reset_index(drop=True) - btc_data[i][:-1].reset_index(drop=True)) / (btc_data[i][:-1].reset_index(drop=True) + 0.0001) * 100"
      ],
      "metadata": {
        "colab": {
          "base_uri": "https://localhost:8080/"
        },
        "id": "-j9BRbb8B60Z",
        "outputId": "5603d3c3-5291-4538-c5a9-c0b8003cee28"
      },
      "execution_count": null,
      "outputs": [
        {
          "output_type": "stream",
          "name": "stderr",
          "text": [
            "100%|██████████| 6/6 [00:08<00:00,  1.34s/it]\n"
          ]
        }
      ]
    },
    {
      "cell_type": "code",
      "source": [
        "btc_data.head()"
      ],
      "metadata": {
        "colab": {
          "base_uri": "https://localhost:8080/",
          "height": 492
        },
        "id": "Ew78q0I5OipW",
        "outputId": "aeae4b19-bfc6-4f24-83af-8c8688ded114"
      },
      "execution_count": null,
      "outputs": [
        {
          "output_type": "execute_result",
          "data": {
            "text/html": [
              "\n",
              "  <div id=\"df-f0e03e3f-9d44-498e-84a0-c5291380380a\">\n",
              "    <div class=\"colab-df-container\">\n",
              "      <div>\n",
              "<style scoped>\n",
              "    .dataframe tbody tr th:only-of-type {\n",
              "        vertical-align: middle;\n",
              "    }\n",
              "\n",
              "    .dataframe tbody tr th {\n",
              "        vertical-align: top;\n",
              "    }\n",
              "\n",
              "    .dataframe thead th {\n",
              "        text-align: right;\n",
              "    }\n",
              "</style>\n",
              "<table border=\"1\" class=\"dataframe\">\n",
              "  <thead>\n",
              "    <tr style=\"text-align: right;\">\n",
              "      <th></th>\n",
              "      <th>open</th>\n",
              "      <th>high</th>\n",
              "      <th>low</th>\n",
              "      <th>close</th>\n",
              "      <th>volume_btc</th>\n",
              "      <th>volume_usd</th>\n",
              "      <th>open-high</th>\n",
              "      <th>|open-high|</th>\n",
              "      <th>open*high</th>\n",
              "      <th>open-low</th>\n",
              "      <th>|open-low|</th>\n",
              "      <th>open*low</th>\n",
              "      <th>open-close</th>\n",
              "      <th>|open-close|</th>\n",
              "      <th>open*close</th>\n",
              "      <th>high-low</th>\n",
              "      <th>|high-low|</th>\n",
              "      <th>high*low</th>\n",
              "      <th>high-close</th>\n",
              "      <th>|high-close|</th>\n",
              "      <th>high*close</th>\n",
              "      <th>low-close</th>\n",
              "      <th>|low-close|</th>\n",
              "      <th>low*close</th>\n",
              "      <th>ln_open</th>\n",
              "      <th>log10_open</th>\n",
              "      <th>ln_high</th>\n",
              "      <th>log10_high</th>\n",
              "      <th>ln_low</th>\n",
              "      <th>log10_low</th>\n",
              "      <th>ln_close</th>\n",
              "      <th>log10_close</th>\n",
              "      <th>reverse_open</th>\n",
              "      <th>first_derivative_of_open</th>\n",
              "      <th>second_derivative_of_open</th>\n",
              "      <th>per_change_open</th>\n",
              "      <th>reverse_high</th>\n",
              "      <th>first_derivative_of_high</th>\n",
              "      <th>second_derivative_of_high</th>\n",
              "      <th>per_change_high</th>\n",
              "      <th>reverse_low</th>\n",
              "      <th>first_derivative_of_low</th>\n",
              "      <th>second_derivative_of_low</th>\n",
              "      <th>per_change_low</th>\n",
              "      <th>reverse_close</th>\n",
              "      <th>first_derivative_of_close</th>\n",
              "      <th>second_derivative_of_close</th>\n",
              "      <th>per_change_close</th>\n",
              "      <th>reverse_volume_btc</th>\n",
              "      <th>first_derivative_of_volume_btc</th>\n",
              "      <th>second_derivative_of_volume_btc</th>\n",
              "      <th>per_change_volume_btc</th>\n",
              "      <th>reverse_volume_usd</th>\n",
              "      <th>first_derivative_of_volume_usd</th>\n",
              "      <th>second_derivative_of_volume_usd</th>\n",
              "      <th>per_change_volume_usd</th>\n",
              "    </tr>\n",
              "    <tr>\n",
              "      <th>date</th>\n",
              "      <th></th>\n",
              "      <th></th>\n",
              "      <th></th>\n",
              "      <th></th>\n",
              "      <th></th>\n",
              "      <th></th>\n",
              "      <th></th>\n",
              "      <th></th>\n",
              "      <th></th>\n",
              "      <th></th>\n",
              "      <th></th>\n",
              "      <th></th>\n",
              "      <th></th>\n",
              "      <th></th>\n",
              "      <th></th>\n",
              "      <th></th>\n",
              "      <th></th>\n",
              "      <th></th>\n",
              "      <th></th>\n",
              "      <th></th>\n",
              "      <th></th>\n",
              "      <th></th>\n",
              "      <th></th>\n",
              "      <th></th>\n",
              "      <th></th>\n",
              "      <th></th>\n",
              "      <th></th>\n",
              "      <th></th>\n",
              "      <th></th>\n",
              "      <th></th>\n",
              "      <th></th>\n",
              "      <th></th>\n",
              "      <th></th>\n",
              "      <th></th>\n",
              "      <th></th>\n",
              "      <th></th>\n",
              "      <th></th>\n",
              "      <th></th>\n",
              "      <th></th>\n",
              "      <th></th>\n",
              "      <th></th>\n",
              "      <th></th>\n",
              "      <th></th>\n",
              "      <th></th>\n",
              "      <th></th>\n",
              "      <th></th>\n",
              "      <th></th>\n",
              "      <th></th>\n",
              "      <th></th>\n",
              "      <th></th>\n",
              "      <th></th>\n",
              "      <th></th>\n",
              "      <th></th>\n",
              "      <th></th>\n",
              "      <th></th>\n",
              "      <th></th>\n",
              "    </tr>\n",
              "  </thead>\n",
              "  <tbody>\n",
              "    <tr>\n",
              "      <th>2017-01-01 00:01:00</th>\n",
              "      <td>966.34</td>\n",
              "      <td>966.34</td>\n",
              "      <td>966.34</td>\n",
              "      <td>966.34</td>\n",
              "      <td>98.930000</td>\n",
              "      <td>95600.016200</td>\n",
              "      <td>0.00</td>\n",
              "      <td>0.00</td>\n",
              "      <td>933812.9956</td>\n",
              "      <td>0.0</td>\n",
              "      <td>0.0</td>\n",
              "      <td>933812.9956</td>\n",
              "      <td>0.00</td>\n",
              "      <td>0.00</td>\n",
              "      <td>933812.9956</td>\n",
              "      <td>0.00</td>\n",
              "      <td>0.00</td>\n",
              "      <td>933812.9956</td>\n",
              "      <td>0.0</td>\n",
              "      <td>0.0</td>\n",
              "      <td>933812.9956</td>\n",
              "      <td>0.00</td>\n",
              "      <td>0.00</td>\n",
              "      <td>933812.9956</td>\n",
              "      <td>6.873516</td>\n",
              "      <td>2.985130</td>\n",
              "      <td>6.873516</td>\n",
              "      <td>2.985130</td>\n",
              "      <td>6.873516</td>\n",
              "      <td>2.985130</td>\n",
              "      <td>6.873516</td>\n",
              "      <td>2.985130</td>\n",
              "      <td>0.001035</td>\n",
              "      <td>NaN</td>\n",
              "      <td>NaN</td>\n",
              "      <td>NaN</td>\n",
              "      <td>0.001035</td>\n",
              "      <td>NaN</td>\n",
              "      <td>NaN</td>\n",
              "      <td>NaN</td>\n",
              "      <td>0.001035</td>\n",
              "      <td>NaN</td>\n",
              "      <td>NaN</td>\n",
              "      <td>NaN</td>\n",
              "      <td>0.001035</td>\n",
              "      <td>NaN</td>\n",
              "      <td>NaN</td>\n",
              "      <td>NaN</td>\n",
              "      <td>0.010108</td>\n",
              "      <td>NaN</td>\n",
              "      <td>NaN</td>\n",
              "      <td>NaN</td>\n",
              "      <td>0.000010</td>\n",
              "      <td>NaN</td>\n",
              "      <td>NaN</td>\n",
              "      <td>NaN</td>\n",
              "    </tr>\n",
              "    <tr>\n",
              "      <th>2017-01-01 00:02:00</th>\n",
              "      <td>966.16</td>\n",
              "      <td>966.37</td>\n",
              "      <td>966.16</td>\n",
              "      <td>966.37</td>\n",
              "      <td>105.135892</td>\n",
              "      <td>101600.172232</td>\n",
              "      <td>-0.21</td>\n",
              "      <td>0.21</td>\n",
              "      <td>933668.0392</td>\n",
              "      <td>0.0</td>\n",
              "      <td>0.0</td>\n",
              "      <td>933465.1456</td>\n",
              "      <td>-0.21</td>\n",
              "      <td>0.21</td>\n",
              "      <td>933668.0392</td>\n",
              "      <td>0.21</td>\n",
              "      <td>0.21</td>\n",
              "      <td>933668.0392</td>\n",
              "      <td>0.0</td>\n",
              "      <td>0.0</td>\n",
              "      <td>933870.9769</td>\n",
              "      <td>-0.21</td>\n",
              "      <td>0.21</td>\n",
              "      <td>933668.0392</td>\n",
              "      <td>6.873329</td>\n",
              "      <td>2.985049</td>\n",
              "      <td>6.873547</td>\n",
              "      <td>2.985143</td>\n",
              "      <td>6.873329</td>\n",
              "      <td>2.985049</td>\n",
              "      <td>6.873547</td>\n",
              "      <td>2.985143</td>\n",
              "      <td>0.001035</td>\n",
              "      <td>-0.18</td>\n",
              "      <td>NaN</td>\n",
              "      <td>-0.018627</td>\n",
              "      <td>0.001035</td>\n",
              "      <td>0.03</td>\n",
              "      <td>NaN</td>\n",
              "      <td>0.003104</td>\n",
              "      <td>0.001035</td>\n",
              "      <td>-0.18</td>\n",
              "      <td>NaN</td>\n",
              "      <td>-0.018627</td>\n",
              "      <td>0.001035</td>\n",
              "      <td>0.03</td>\n",
              "      <td>NaN</td>\n",
              "      <td>0.003104</td>\n",
              "      <td>0.009511</td>\n",
              "      <td>6.205892</td>\n",
              "      <td>NaN</td>\n",
              "      <td>6.273007e+00</td>\n",
              "      <td>0.000010</td>\n",
              "      <td>6000.156032</td>\n",
              "      <td>NaN</td>\n",
              "      <td>6.276313e+00</td>\n",
              "    </tr>\n",
              "    <tr>\n",
              "      <th>2017-01-01 00:03:00</th>\n",
              "      <td>966.37</td>\n",
              "      <td>966.37</td>\n",
              "      <td>966.37</td>\n",
              "      <td>966.37</td>\n",
              "      <td>0.000000</td>\n",
              "      <td>0.000000</td>\n",
              "      <td>0.00</td>\n",
              "      <td>0.00</td>\n",
              "      <td>933870.9769</td>\n",
              "      <td>0.0</td>\n",
              "      <td>0.0</td>\n",
              "      <td>933870.9769</td>\n",
              "      <td>0.00</td>\n",
              "      <td>0.00</td>\n",
              "      <td>933870.9769</td>\n",
              "      <td>0.00</td>\n",
              "      <td>0.00</td>\n",
              "      <td>933870.9769</td>\n",
              "      <td>0.0</td>\n",
              "      <td>0.0</td>\n",
              "      <td>933870.9769</td>\n",
              "      <td>0.00</td>\n",
              "      <td>0.00</td>\n",
              "      <td>933870.9769</td>\n",
              "      <td>6.873547</td>\n",
              "      <td>2.985143</td>\n",
              "      <td>6.873547</td>\n",
              "      <td>2.985143</td>\n",
              "      <td>6.873547</td>\n",
              "      <td>2.985143</td>\n",
              "      <td>6.873547</td>\n",
              "      <td>2.985143</td>\n",
              "      <td>0.001035</td>\n",
              "      <td>0.21</td>\n",
              "      <td>0.39</td>\n",
              "      <td>0.021736</td>\n",
              "      <td>0.001035</td>\n",
              "      <td>0.00</td>\n",
              "      <td>-0.03</td>\n",
              "      <td>0.000000</td>\n",
              "      <td>0.001035</td>\n",
              "      <td>0.21</td>\n",
              "      <td>0.39</td>\n",
              "      <td>0.021736</td>\n",
              "      <td>0.001035</td>\n",
              "      <td>0.00</td>\n",
              "      <td>-0.03</td>\n",
              "      <td>0.000000</td>\n",
              "      <td>1000.000000</td>\n",
              "      <td>-105.135892</td>\n",
              "      <td>-111.341785</td>\n",
              "      <td>-9.999990e+01</td>\n",
              "      <td>1000.000000</td>\n",
              "      <td>-101600.172232</td>\n",
              "      <td>-107600.328265</td>\n",
              "      <td>-1.000000e+02</td>\n",
              "    </tr>\n",
              "    <tr>\n",
              "      <th>2017-01-01 00:04:00</th>\n",
              "      <td>966.37</td>\n",
              "      <td>966.37</td>\n",
              "      <td>966.37</td>\n",
              "      <td>966.37</td>\n",
              "      <td>0.000000</td>\n",
              "      <td>0.000000</td>\n",
              "      <td>0.00</td>\n",
              "      <td>0.00</td>\n",
              "      <td>933870.9769</td>\n",
              "      <td>0.0</td>\n",
              "      <td>0.0</td>\n",
              "      <td>933870.9769</td>\n",
              "      <td>0.00</td>\n",
              "      <td>0.00</td>\n",
              "      <td>933870.9769</td>\n",
              "      <td>0.00</td>\n",
              "      <td>0.00</td>\n",
              "      <td>933870.9769</td>\n",
              "      <td>0.0</td>\n",
              "      <td>0.0</td>\n",
              "      <td>933870.9769</td>\n",
              "      <td>0.00</td>\n",
              "      <td>0.00</td>\n",
              "      <td>933870.9769</td>\n",
              "      <td>6.873547</td>\n",
              "      <td>2.985143</td>\n",
              "      <td>6.873547</td>\n",
              "      <td>2.985143</td>\n",
              "      <td>6.873547</td>\n",
              "      <td>2.985143</td>\n",
              "      <td>6.873547</td>\n",
              "      <td>2.985143</td>\n",
              "      <td>0.001035</td>\n",
              "      <td>0.00</td>\n",
              "      <td>-0.21</td>\n",
              "      <td>0.000000</td>\n",
              "      <td>0.001035</td>\n",
              "      <td>0.00</td>\n",
              "      <td>0.00</td>\n",
              "      <td>0.000000</td>\n",
              "      <td>0.001035</td>\n",
              "      <td>0.00</td>\n",
              "      <td>-0.21</td>\n",
              "      <td>0.000000</td>\n",
              "      <td>0.001035</td>\n",
              "      <td>0.00</td>\n",
              "      <td>0.00</td>\n",
              "      <td>0.000000</td>\n",
              "      <td>1000.000000</td>\n",
              "      <td>0.000000</td>\n",
              "      <td>105.135892</td>\n",
              "      <td>0.000000e+00</td>\n",
              "      <td>1000.000000</td>\n",
              "      <td>0.000000</td>\n",
              "      <td>101600.172232</td>\n",
              "      <td>0.000000e+00</td>\n",
              "    </tr>\n",
              "    <tr>\n",
              "      <th>2017-01-01 00:05:00</th>\n",
              "      <td>966.43</td>\n",
              "      <td>966.43</td>\n",
              "      <td>966.43</td>\n",
              "      <td>966.43</td>\n",
              "      <td>1.391000</td>\n",
              "      <td>1344.304130</td>\n",
              "      <td>0.00</td>\n",
              "      <td>0.00</td>\n",
              "      <td>933986.9449</td>\n",
              "      <td>0.0</td>\n",
              "      <td>0.0</td>\n",
              "      <td>933986.9449</td>\n",
              "      <td>0.00</td>\n",
              "      <td>0.00</td>\n",
              "      <td>933986.9449</td>\n",
              "      <td>0.00</td>\n",
              "      <td>0.00</td>\n",
              "      <td>933986.9449</td>\n",
              "      <td>0.0</td>\n",
              "      <td>0.0</td>\n",
              "      <td>933986.9449</td>\n",
              "      <td>0.00</td>\n",
              "      <td>0.00</td>\n",
              "      <td>933986.9449</td>\n",
              "      <td>6.873609</td>\n",
              "      <td>2.985170</td>\n",
              "      <td>6.873609</td>\n",
              "      <td>2.985170</td>\n",
              "      <td>6.873609</td>\n",
              "      <td>2.985170</td>\n",
              "      <td>6.873609</td>\n",
              "      <td>2.985170</td>\n",
              "      <td>0.001035</td>\n",
              "      <td>0.06</td>\n",
              "      <td>0.06</td>\n",
              "      <td>0.006209</td>\n",
              "      <td>0.001035</td>\n",
              "      <td>0.06</td>\n",
              "      <td>0.06</td>\n",
              "      <td>0.006209</td>\n",
              "      <td>0.001035</td>\n",
              "      <td>0.06</td>\n",
              "      <td>0.06</td>\n",
              "      <td>0.006209</td>\n",
              "      <td>0.001035</td>\n",
              "      <td>0.06</td>\n",
              "      <td>0.06</td>\n",
              "      <td>0.006209</td>\n",
              "      <td>0.718391</td>\n",
              "      <td>1.391000</td>\n",
              "      <td>1.391000</td>\n",
              "      <td>1.391000e+06</td>\n",
              "      <td>0.000744</td>\n",
              "      <td>1344.304130</td>\n",
              "      <td>1344.304130</td>\n",
              "      <td>1.344304e+09</td>\n",
              "    </tr>\n",
              "  </tbody>\n",
              "</table>\n",
              "</div>\n",
              "      <button class=\"colab-df-convert\" onclick=\"convertToInteractive('df-f0e03e3f-9d44-498e-84a0-c5291380380a')\"\n",
              "              title=\"Convert this dataframe to an interactive table.\"\n",
              "              style=\"display:none;\">\n",
              "        \n",
              "  <svg xmlns=\"http://www.w3.org/2000/svg\" height=\"24px\"viewBox=\"0 0 24 24\"\n",
              "       width=\"24px\">\n",
              "    <path d=\"M0 0h24v24H0V0z\" fill=\"none\"/>\n",
              "    <path d=\"M18.56 5.44l.94 2.06.94-2.06 2.06-.94-2.06-.94-.94-2.06-.94 2.06-2.06.94zm-11 1L8.5 8.5l.94-2.06 2.06-.94-2.06-.94L8.5 2.5l-.94 2.06-2.06.94zm10 10l.94 2.06.94-2.06 2.06-.94-2.06-.94-.94-2.06-.94 2.06-2.06.94z\"/><path d=\"M17.41 7.96l-1.37-1.37c-.4-.4-.92-.59-1.43-.59-.52 0-1.04.2-1.43.59L10.3 9.45l-7.72 7.72c-.78.78-.78 2.05 0 2.83L4 21.41c.39.39.9.59 1.41.59.51 0 1.02-.2 1.41-.59l7.78-7.78 2.81-2.81c.8-.78.8-2.07 0-2.86zM5.41 20L4 18.59l7.72-7.72 1.47 1.35L5.41 20z\"/>\n",
              "  </svg>\n",
              "      </button>\n",
              "      \n",
              "  <style>\n",
              "    .colab-df-container {\n",
              "      display:flex;\n",
              "      flex-wrap:wrap;\n",
              "      gap: 12px;\n",
              "    }\n",
              "\n",
              "    .colab-df-convert {\n",
              "      background-color: #E8F0FE;\n",
              "      border: none;\n",
              "      border-radius: 50%;\n",
              "      cursor: pointer;\n",
              "      display: none;\n",
              "      fill: #1967D2;\n",
              "      height: 32px;\n",
              "      padding: 0 0 0 0;\n",
              "      width: 32px;\n",
              "    }\n",
              "\n",
              "    .colab-df-convert:hover {\n",
              "      background-color: #E2EBFA;\n",
              "      box-shadow: 0px 1px 2px rgba(60, 64, 67, 0.3), 0px 1px 3px 1px rgba(60, 64, 67, 0.15);\n",
              "      fill: #174EA6;\n",
              "    }\n",
              "\n",
              "    [theme=dark] .colab-df-convert {\n",
              "      background-color: #3B4455;\n",
              "      fill: #D2E3FC;\n",
              "    }\n",
              "\n",
              "    [theme=dark] .colab-df-convert:hover {\n",
              "      background-color: #434B5C;\n",
              "      box-shadow: 0px 1px 3px 1px rgba(0, 0, 0, 0.15);\n",
              "      filter: drop-shadow(0px 1px 2px rgba(0, 0, 0, 0.3));\n",
              "      fill: #FFFFFF;\n",
              "    }\n",
              "  </style>\n",
              "\n",
              "      <script>\n",
              "        const buttonEl =\n",
              "          document.querySelector('#df-f0e03e3f-9d44-498e-84a0-c5291380380a button.colab-df-convert');\n",
              "        buttonEl.style.display =\n",
              "          google.colab.kernel.accessAllowed ? 'block' : 'none';\n",
              "\n",
              "        async function convertToInteractive(key) {\n",
              "          const element = document.querySelector('#df-f0e03e3f-9d44-498e-84a0-c5291380380a');\n",
              "          const dataTable =\n",
              "            await google.colab.kernel.invokeFunction('convertToInteractive',\n",
              "                                                     [key], {});\n",
              "          if (!dataTable) return;\n",
              "\n",
              "          const docLinkHtml = 'Like what you see? Visit the ' +\n",
              "            '<a target=\"_blank\" href=https://colab.research.google.com/notebooks/data_table.ipynb>data table notebook</a>'\n",
              "            + ' to learn more about interactive tables.';\n",
              "          element.innerHTML = '';\n",
              "          dataTable['output_type'] = 'display_data';\n",
              "          await google.colab.output.renderOutput(dataTable, element);\n",
              "          const docLink = document.createElement('div');\n",
              "          docLink.innerHTML = docLinkHtml;\n",
              "          element.appendChild(docLink);\n",
              "        }\n",
              "      </script>\n",
              "    </div>\n",
              "  </div>\n",
              "  "
            ],
            "text/plain": [
              "                       open  ...  per_change_volume_usd\n",
              "date                         ...                       \n",
              "2017-01-01 00:01:00  966.34  ...                    NaN\n",
              "2017-01-01 00:02:00  966.16  ...           6.276313e+00\n",
              "2017-01-01 00:03:00  966.37  ...          -1.000000e+02\n",
              "2017-01-01 00:04:00  966.37  ...           0.000000e+00\n",
              "2017-01-01 00:05:00  966.43  ...           1.344304e+09\n",
              "\n",
              "[5 rows x 56 columns]"
            ]
          },
          "metadata": {},
          "execution_count": 84
        }
      ]
    },
    {
      "cell_type": "code",
      "source": [
        "np.isinf(btc_data).sum().sort_values(ascending=False)[:5]"
      ],
      "metadata": {
        "colab": {
          "base_uri": "https://localhost:8080/"
        },
        "id": "k8lKcocyEmUZ",
        "outputId": "51754f09-5c36-40be-f554-3d669cbb8395"
      },
      "execution_count": null,
      "outputs": [
        {
          "output_type": "execute_result",
          "data": {
            "text/plain": [
              "per_change_volume_usd              0\n",
              "second_derivative_of_volume_usd    0\n",
              "log10_open                         0\n",
              "ln_open                            0\n",
              "low*close                          0\n",
              "dtype: int64"
            ]
          },
          "metadata": {},
          "execution_count": 85
        }
      ]
    },
    {
      "cell_type": "code",
      "source": [
        "btc_data.isna().sum().sort_values(ascending=False)[:15]"
      ],
      "metadata": {
        "colab": {
          "base_uri": "https://localhost:8080/"
        },
        "id": "4__Ljskyv-Uk",
        "outputId": "ba72eced-4339-41a9-8b0e-6ad33712df38"
      },
      "execution_count": null,
      "outputs": [
        {
          "output_type": "execute_result",
          "data": {
            "text/plain": [
              "second_derivative_of_volume_usd    2\n",
              "second_derivative_of_open          2\n",
              "second_derivative_of_volume_btc    2\n",
              "second_derivative_of_high          2\n",
              "second_derivative_of_close         2\n",
              "second_derivative_of_low           2\n",
              "per_change_volume_usd              1\n",
              "per_change_low                     1\n",
              "first_derivative_of_open           1\n",
              "per_change_open                    1\n",
              "per_change_high                    1\n",
              "first_derivative_of_low            1\n",
              "first_derivative_of_high           1\n",
              "per_change_close                   1\n",
              "first_derivative_of_volume_btc     1\n",
              "dtype: int64"
            ]
          },
          "metadata": {},
          "execution_count": 86
        }
      ]
    },
    {
      "cell_type": "code",
      "source": [
        "btc_data.shape"
      ],
      "metadata": {
        "colab": {
          "base_uri": "https://localhost:8080/"
        },
        "id": "wL7g4JWU0TZt",
        "outputId": "29d61c56-14b8-4ebc-d53e-b422c42ea0da"
      },
      "execution_count": null,
      "outputs": [
        {
          "output_type": "execute_result",
          "data": {
            "text/plain": [
              "(2600885, 56)"
            ]
          },
          "metadata": {},
          "execution_count": 87
        }
      ]
    },
    {
      "cell_type": "code",
      "source": [
        "btc_data.dropna(axis=0, inplace=True)\n",
        "btc_data.shape, btc_data.isna().sum().max()"
      ],
      "metadata": {
        "colab": {
          "base_uri": "https://localhost:8080/"
        },
        "id": "1hmc8BFA0232",
        "outputId": "57d2d967-6207-4c1b-e40d-4dd8428441ce"
      },
      "execution_count": null,
      "outputs": [
        {
          "output_type": "execute_result",
          "data": {
            "text/plain": [
              "((2600883, 56), 0)"
            ]
          },
          "metadata": {},
          "execution_count": 88
        }
      ]
    },
    {
      "cell_type": "markdown",
      "source": [
        "#PCA"
      ],
      "metadata": {
        "id": "kjG0uItlcN52"
      }
    },
    {
      "cell_type": "code",
      "source": [
        "kmo_all, kmo_model = calculate_kmo(btc_data)\n",
        "print(\"Global KMO = \", kmo_model)"
      ],
      "metadata": {
        "colab": {
          "base_uri": "https://localhost:8080/"
        },
        "outputId": "6584df3b-e330-46d6-f0d5-250bc05228a4",
        "id": "IZUs5dJ6agVY"
      },
      "execution_count": null,
      "outputs": [
        {
          "output_type": "stream",
          "name": "stderr",
          "text": [
            "/usr/local/lib/python3.7/dist-packages/factor_analyzer/utils.py:249: UserWarning: The inverse of the variance-covariance matrix was calculated using the Moore-Penrose generalized matrix inversion, due to its determinant being at or very close to zero.\n",
            "  warnings.warn('The inverse of the variance-covariance matrix '\n"
          ]
        },
        {
          "output_type": "stream",
          "name": "stdout",
          "text": [
            "Global KMO =  0.3361692872827125\n"
          ]
        }
      ]
    },
    {
      "cell_type": "code",
      "source": [
        "kmo_for_features = pd.DataFrame(data=kmo_all, index=btc_data.columns, columns=[\"kmo\"])\n",
        "kmo_for_features.sort_values(by=\"kmo\", ascending=False).head(10)"
      ],
      "metadata": {
        "colab": {
          "base_uri": "https://localhost:8080/",
          "height": 363
        },
        "outputId": "2f437342-c63f-4ce9-db76-5e3e56a93d31",
        "id": "lN-yWRcJagVY"
      },
      "execution_count": null,
      "outputs": [
        {
          "output_type": "execute_result",
          "data": {
            "text/html": [
              "\n",
              "  <div id=\"df-17187bf6-a88a-4831-a82f-e400fc7b3738\">\n",
              "    <div class=\"colab-df-container\">\n",
              "      <div>\n",
              "<style scoped>\n",
              "    .dataframe tbody tr th:only-of-type {\n",
              "        vertical-align: middle;\n",
              "    }\n",
              "\n",
              "    .dataframe tbody tr th {\n",
              "        vertical-align: top;\n",
              "    }\n",
              "\n",
              "    .dataframe thead th {\n",
              "        text-align: right;\n",
              "    }\n",
              "</style>\n",
              "<table border=\"1\" class=\"dataframe\">\n",
              "  <thead>\n",
              "    <tr style=\"text-align: right;\">\n",
              "      <th></th>\n",
              "      <th>kmo</th>\n",
              "    </tr>\n",
              "  </thead>\n",
              "  <tbody>\n",
              "    <tr>\n",
              "      <th>volume_usd</th>\n",
              "      <td>0.838295</td>\n",
              "    </tr>\n",
              "    <tr>\n",
              "      <th>second_derivative_of_volume_usd</th>\n",
              "      <td>0.684358</td>\n",
              "    </tr>\n",
              "    <tr>\n",
              "      <th>first_derivative_of_volume_usd</th>\n",
              "      <td>0.666814</td>\n",
              "    </tr>\n",
              "    <tr>\n",
              "      <th>open*high</th>\n",
              "      <td>0.558333</td>\n",
              "    </tr>\n",
              "    <tr>\n",
              "      <th>low*close</th>\n",
              "      <td>0.557826</td>\n",
              "    </tr>\n",
              "    <tr>\n",
              "      <th>high*close</th>\n",
              "      <td>0.557763</td>\n",
              "    </tr>\n",
              "    <tr>\n",
              "      <th>open*low</th>\n",
              "      <td>0.557385</td>\n",
              "    </tr>\n",
              "    <tr>\n",
              "      <th>per_change_volume_btc</th>\n",
              "      <td>0.518126</td>\n",
              "    </tr>\n",
              "    <tr>\n",
              "      <th>per_change_volume_usd</th>\n",
              "      <td>0.510706</td>\n",
              "    </tr>\n",
              "    <tr>\n",
              "      <th>open</th>\n",
              "      <td>0.452379</td>\n",
              "    </tr>\n",
              "  </tbody>\n",
              "</table>\n",
              "</div>\n",
              "      <button class=\"colab-df-convert\" onclick=\"convertToInteractive('df-17187bf6-a88a-4831-a82f-e400fc7b3738')\"\n",
              "              title=\"Convert this dataframe to an interactive table.\"\n",
              "              style=\"display:none;\">\n",
              "        \n",
              "  <svg xmlns=\"http://www.w3.org/2000/svg\" height=\"24px\"viewBox=\"0 0 24 24\"\n",
              "       width=\"24px\">\n",
              "    <path d=\"M0 0h24v24H0V0z\" fill=\"none\"/>\n",
              "    <path d=\"M18.56 5.44l.94 2.06.94-2.06 2.06-.94-2.06-.94-.94-2.06-.94 2.06-2.06.94zm-11 1L8.5 8.5l.94-2.06 2.06-.94-2.06-.94L8.5 2.5l-.94 2.06-2.06.94zm10 10l.94 2.06.94-2.06 2.06-.94-2.06-.94-.94-2.06-.94 2.06-2.06.94z\"/><path d=\"M17.41 7.96l-1.37-1.37c-.4-.4-.92-.59-1.43-.59-.52 0-1.04.2-1.43.59L10.3 9.45l-7.72 7.72c-.78.78-.78 2.05 0 2.83L4 21.41c.39.39.9.59 1.41.59.51 0 1.02-.2 1.41-.59l7.78-7.78 2.81-2.81c.8-.78.8-2.07 0-2.86zM5.41 20L4 18.59l7.72-7.72 1.47 1.35L5.41 20z\"/>\n",
              "  </svg>\n",
              "      </button>\n",
              "      \n",
              "  <style>\n",
              "    .colab-df-container {\n",
              "      display:flex;\n",
              "      flex-wrap:wrap;\n",
              "      gap: 12px;\n",
              "    }\n",
              "\n",
              "    .colab-df-convert {\n",
              "      background-color: #E8F0FE;\n",
              "      border: none;\n",
              "      border-radius: 50%;\n",
              "      cursor: pointer;\n",
              "      display: none;\n",
              "      fill: #1967D2;\n",
              "      height: 32px;\n",
              "      padding: 0 0 0 0;\n",
              "      width: 32px;\n",
              "    }\n",
              "\n",
              "    .colab-df-convert:hover {\n",
              "      background-color: #E2EBFA;\n",
              "      box-shadow: 0px 1px 2px rgba(60, 64, 67, 0.3), 0px 1px 3px 1px rgba(60, 64, 67, 0.15);\n",
              "      fill: #174EA6;\n",
              "    }\n",
              "\n",
              "    [theme=dark] .colab-df-convert {\n",
              "      background-color: #3B4455;\n",
              "      fill: #D2E3FC;\n",
              "    }\n",
              "\n",
              "    [theme=dark] .colab-df-convert:hover {\n",
              "      background-color: #434B5C;\n",
              "      box-shadow: 0px 1px 3px 1px rgba(0, 0, 0, 0.15);\n",
              "      filter: drop-shadow(0px 1px 2px rgba(0, 0, 0, 0.3));\n",
              "      fill: #FFFFFF;\n",
              "    }\n",
              "  </style>\n",
              "\n",
              "      <script>\n",
              "        const buttonEl =\n",
              "          document.querySelector('#df-17187bf6-a88a-4831-a82f-e400fc7b3738 button.colab-df-convert');\n",
              "        buttonEl.style.display =\n",
              "          google.colab.kernel.accessAllowed ? 'block' : 'none';\n",
              "\n",
              "        async function convertToInteractive(key) {\n",
              "          const element = document.querySelector('#df-17187bf6-a88a-4831-a82f-e400fc7b3738');\n",
              "          const dataTable =\n",
              "            await google.colab.kernel.invokeFunction('convertToInteractive',\n",
              "                                                     [key], {});\n",
              "          if (!dataTable) return;\n",
              "\n",
              "          const docLinkHtml = 'Like what you see? Visit the ' +\n",
              "            '<a target=\"_blank\" href=https://colab.research.google.com/notebooks/data_table.ipynb>data table notebook</a>'\n",
              "            + ' to learn more about interactive tables.';\n",
              "          element.innerHTML = '';\n",
              "          dataTable['output_type'] = 'display_data';\n",
              "          await google.colab.output.renderOutput(dataTable, element);\n",
              "          const docLink = document.createElement('div');\n",
              "          docLink.innerHTML = docLinkHtml;\n",
              "          element.appendChild(docLink);\n",
              "        }\n",
              "      </script>\n",
              "    </div>\n",
              "  </div>\n",
              "  "
            ],
            "text/plain": [
              "                                      kmo\n",
              "volume_usd                       0.838295\n",
              "second_derivative_of_volume_usd  0.684358\n",
              "first_derivative_of_volume_usd   0.666814\n",
              "open*high                        0.558333\n",
              "low*close                        0.557826\n",
              "high*close                       0.557763\n",
              "open*low                         0.557385\n",
              "per_change_volume_btc            0.518126\n",
              "per_change_volume_usd            0.510706\n",
              "open                             0.452379"
            ]
          },
          "metadata": {},
          "execution_count": 90
        }
      ]
    },
    {
      "cell_type": "code",
      "source": [
        "kmo_for_features.sort_values(by=\"kmo\", ascending=True).head(10)"
      ],
      "metadata": {
        "colab": {
          "base_uri": "https://localhost:8080/",
          "height": 363
        },
        "id": "q66RET7sc0sQ",
        "outputId": "713ad5ce-527e-42cb-ff86-aabfc123f290"
      },
      "execution_count": null,
      "outputs": [
        {
          "output_type": "execute_result",
          "data": {
            "text/html": [
              "\n",
              "  <div id=\"df-a784f801-38e7-48b3-a411-94b863310bc3\">\n",
              "    <div class=\"colab-df-container\">\n",
              "      <div>\n",
              "<style scoped>\n",
              "    .dataframe tbody tr th:only-of-type {\n",
              "        vertical-align: middle;\n",
              "    }\n",
              "\n",
              "    .dataframe tbody tr th {\n",
              "        vertical-align: top;\n",
              "    }\n",
              "\n",
              "    .dataframe thead th {\n",
              "        text-align: right;\n",
              "    }\n",
              "</style>\n",
              "<table border=\"1\" class=\"dataframe\">\n",
              "  <thead>\n",
              "    <tr style=\"text-align: right;\">\n",
              "      <th></th>\n",
              "      <th>kmo</th>\n",
              "    </tr>\n",
              "  </thead>\n",
              "  <tbody>\n",
              "    <tr>\n",
              "      <th>reverse_volume_usd</th>\n",
              "      <td>0.067682</td>\n",
              "    </tr>\n",
              "    <tr>\n",
              "      <th>reverse_volume_btc</th>\n",
              "      <td>0.068063</td>\n",
              "    </tr>\n",
              "    <tr>\n",
              "      <th>volume_btc</th>\n",
              "      <td>0.071819</td>\n",
              "    </tr>\n",
              "    <tr>\n",
              "      <th>second_derivative_of_open</th>\n",
              "      <td>0.077892</td>\n",
              "    </tr>\n",
              "    <tr>\n",
              "      <th>per_change_open</th>\n",
              "      <td>0.079732</td>\n",
              "    </tr>\n",
              "    <tr>\n",
              "      <th>second_derivative_of_volume_btc</th>\n",
              "      <td>0.098472</td>\n",
              "    </tr>\n",
              "    <tr>\n",
              "      <th>first_derivative_of_open</th>\n",
              "      <td>0.098831</td>\n",
              "    </tr>\n",
              "    <tr>\n",
              "      <th>second_derivative_of_high</th>\n",
              "      <td>0.105618</td>\n",
              "    </tr>\n",
              "    <tr>\n",
              "      <th>per_change_low</th>\n",
              "      <td>0.136072</td>\n",
              "    </tr>\n",
              "    <tr>\n",
              "      <th>first_derivative_of_volume_btc</th>\n",
              "      <td>0.145276</td>\n",
              "    </tr>\n",
              "  </tbody>\n",
              "</table>\n",
              "</div>\n",
              "      <button class=\"colab-df-convert\" onclick=\"convertToInteractive('df-a784f801-38e7-48b3-a411-94b863310bc3')\"\n",
              "              title=\"Convert this dataframe to an interactive table.\"\n",
              "              style=\"display:none;\">\n",
              "        \n",
              "  <svg xmlns=\"http://www.w3.org/2000/svg\" height=\"24px\"viewBox=\"0 0 24 24\"\n",
              "       width=\"24px\">\n",
              "    <path d=\"M0 0h24v24H0V0z\" fill=\"none\"/>\n",
              "    <path d=\"M18.56 5.44l.94 2.06.94-2.06 2.06-.94-2.06-.94-.94-2.06-.94 2.06-2.06.94zm-11 1L8.5 8.5l.94-2.06 2.06-.94-2.06-.94L8.5 2.5l-.94 2.06-2.06.94zm10 10l.94 2.06.94-2.06 2.06-.94-2.06-.94-.94-2.06-.94 2.06-2.06.94z\"/><path d=\"M17.41 7.96l-1.37-1.37c-.4-.4-.92-.59-1.43-.59-.52 0-1.04.2-1.43.59L10.3 9.45l-7.72 7.72c-.78.78-.78 2.05 0 2.83L4 21.41c.39.39.9.59 1.41.59.51 0 1.02-.2 1.41-.59l7.78-7.78 2.81-2.81c.8-.78.8-2.07 0-2.86zM5.41 20L4 18.59l7.72-7.72 1.47 1.35L5.41 20z\"/>\n",
              "  </svg>\n",
              "      </button>\n",
              "      \n",
              "  <style>\n",
              "    .colab-df-container {\n",
              "      display:flex;\n",
              "      flex-wrap:wrap;\n",
              "      gap: 12px;\n",
              "    }\n",
              "\n",
              "    .colab-df-convert {\n",
              "      background-color: #E8F0FE;\n",
              "      border: none;\n",
              "      border-radius: 50%;\n",
              "      cursor: pointer;\n",
              "      display: none;\n",
              "      fill: #1967D2;\n",
              "      height: 32px;\n",
              "      padding: 0 0 0 0;\n",
              "      width: 32px;\n",
              "    }\n",
              "\n",
              "    .colab-df-convert:hover {\n",
              "      background-color: #E2EBFA;\n",
              "      box-shadow: 0px 1px 2px rgba(60, 64, 67, 0.3), 0px 1px 3px 1px rgba(60, 64, 67, 0.15);\n",
              "      fill: #174EA6;\n",
              "    }\n",
              "\n",
              "    [theme=dark] .colab-df-convert {\n",
              "      background-color: #3B4455;\n",
              "      fill: #D2E3FC;\n",
              "    }\n",
              "\n",
              "    [theme=dark] .colab-df-convert:hover {\n",
              "      background-color: #434B5C;\n",
              "      box-shadow: 0px 1px 3px 1px rgba(0, 0, 0, 0.15);\n",
              "      filter: drop-shadow(0px 1px 2px rgba(0, 0, 0, 0.3));\n",
              "      fill: #FFFFFF;\n",
              "    }\n",
              "  </style>\n",
              "\n",
              "      <script>\n",
              "        const buttonEl =\n",
              "          document.querySelector('#df-a784f801-38e7-48b3-a411-94b863310bc3 button.colab-df-convert');\n",
              "        buttonEl.style.display =\n",
              "          google.colab.kernel.accessAllowed ? 'block' : 'none';\n",
              "\n",
              "        async function convertToInteractive(key) {\n",
              "          const element = document.querySelector('#df-a784f801-38e7-48b3-a411-94b863310bc3');\n",
              "          const dataTable =\n",
              "            await google.colab.kernel.invokeFunction('convertToInteractive',\n",
              "                                                     [key], {});\n",
              "          if (!dataTable) return;\n",
              "\n",
              "          const docLinkHtml = 'Like what you see? Visit the ' +\n",
              "            '<a target=\"_blank\" href=https://colab.research.google.com/notebooks/data_table.ipynb>data table notebook</a>'\n",
              "            + ' to learn more about interactive tables.';\n",
              "          element.innerHTML = '';\n",
              "          dataTable['output_type'] = 'display_data';\n",
              "          await google.colab.output.renderOutput(dataTable, element);\n",
              "          const docLink = document.createElement('div');\n",
              "          docLink.innerHTML = docLinkHtml;\n",
              "          element.appendChild(docLink);\n",
              "        }\n",
              "      </script>\n",
              "    </div>\n",
              "  </div>\n",
              "  "
            ],
            "text/plain": [
              "                                      kmo\n",
              "reverse_volume_usd               0.067682\n",
              "reverse_volume_btc               0.068063\n",
              "volume_btc                       0.071819\n",
              "second_derivative_of_open        0.077892\n",
              "per_change_open                  0.079732\n",
              "second_derivative_of_volume_btc  0.098472\n",
              "first_derivative_of_open         0.098831\n",
              "second_derivative_of_high        0.105618\n",
              "per_change_low                   0.136072\n",
              "first_derivative_of_volume_btc   0.145276"
            ]
          },
          "metadata": {},
          "execution_count": 91
        }
      ]
    },
    {
      "cell_type": "code",
      "source": [
        "columns_for_pca = kmo_for_features[kmo_for_features.kmo > 0.55].index\n",
        "columns_for_pca.shape"
      ],
      "metadata": {
        "colab": {
          "base_uri": "https://localhost:8080/"
        },
        "id": "P4TZhk0Oc9Pb",
        "outputId": "924f736b-b5b1-4220-b56d-df1d77cfb1f3"
      },
      "execution_count": null,
      "outputs": [
        {
          "output_type": "execute_result",
          "data": {
            "text/plain": [
              "(7,)"
            ]
          },
          "metadata": {},
          "execution_count": 92
        }
      ]
    },
    {
      "cell_type": "code",
      "source": [
        "data_for_pca = btc_data[columns_for_pca]\n",
        "data_for_pca.shape"
      ],
      "metadata": {
        "colab": {
          "base_uri": "https://localhost:8080/"
        },
        "id": "UT-SMNOmF1OR",
        "outputId": "e86e736a-e6b4-404e-9d60-a9ec9e5298b9"
      },
      "execution_count": null,
      "outputs": [
        {
          "output_type": "execute_result",
          "data": {
            "text/plain": [
              "(2600883, 7)"
            ]
          },
          "metadata": {},
          "execution_count": 93
        }
      ]
    },
    {
      "cell_type": "code",
      "source": [
        "btc_data.shape[1] - columns_for_pca.size"
      ],
      "metadata": {
        "colab": {
          "base_uri": "https://localhost:8080/"
        },
        "id": "4ea0osUL0w3S",
        "outputId": "f6183016-d77d-40b1-9d14-fa309f917343"
      },
      "execution_count": null,
      "outputs": [
        {
          "output_type": "execute_result",
          "data": {
            "text/plain": [
              "49"
            ]
          },
          "metadata": {},
          "execution_count": 94
        }
      ]
    },
    {
      "cell_type": "code",
      "source": [
        "btc_data.drop(columns_for_pca, axis=1, inplace=True)\n",
        "btc_data.shape"
      ],
      "metadata": {
        "colab": {
          "base_uri": "https://localhost:8080/"
        },
        "id": "L1vvihaH08o0",
        "outputId": "ad40160a-08fa-4491-fdac-8cafe2d16d7a"
      },
      "execution_count": null,
      "outputs": [
        {
          "output_type": "execute_result",
          "data": {
            "text/plain": [
              "(2600883, 49)"
            ]
          },
          "metadata": {},
          "execution_count": 95
        }
      ]
    },
    {
      "cell_type": "code",
      "source": [
        "data_for_pca_cc = np.corrcoef(data_for_pca, rowvar=False)"
      ],
      "metadata": {
        "id": "NrM_YcQjcRI7"
      },
      "execution_count": null,
      "outputs": []
    },
    {
      "cell_type": "code",
      "source": [
        "data_for_pca_cc.shape"
      ],
      "metadata": {
        "colab": {
          "base_uri": "https://localhost:8080/"
        },
        "id": "giJ5wVnIcSF4",
        "outputId": "be16ffbb-067b-434a-ec34-a1cc0827fece"
      },
      "execution_count": null,
      "outputs": [
        {
          "output_type": "execute_result",
          "data": {
            "text/plain": [
              "(7, 7)"
            ]
          },
          "metadata": {},
          "execution_count": 97
        }
      ]
    },
    {
      "cell_type": "code",
      "source": [
        "evalsh, evecsh = np.linalg.eigh(data_for_pca_cc)\n",
        "evalsh"
      ],
      "metadata": {
        "colab": {
          "base_uri": "https://localhost:8080/"
        },
        "id": "yDbMJB8HcSIn",
        "outputId": "99558e66-f68c-488d-d91a-7d8cac32ffcb"
      },
      "execution_count": null,
      "outputs": [
        {
          "output_type": "execute_result",
          "data": {
            "text/plain": [
              "array([3.93673597e-11, 1.45925177e-06, 1.59976228e-06, 1.32412545e-01,\n",
              "       7.91463164e-01, 2.00181790e+00, 4.07430333e+00])"
            ]
          },
          "metadata": {},
          "execution_count": 98
        }
      ]
    },
    {
      "cell_type": "code",
      "source": [
        "idx = evalsh.argsort()[::-1]\n",
        "evals = evalsh[idx]\n",
        "evecs = evecsh[:, idx]"
      ],
      "metadata": {
        "id": "NDLGqteNcSLK"
      },
      "execution_count": null,
      "outputs": []
    },
    {
      "cell_type": "code",
      "source": [
        "evals"
      ],
      "metadata": {
        "colab": {
          "base_uri": "https://localhost:8080/"
        },
        "id": "VJAxFy-wcSN2",
        "outputId": "21b1d892-e13e-4e18-bc51-587241940ebd"
      },
      "execution_count": null,
      "outputs": [
        {
          "output_type": "execute_result",
          "data": {
            "text/plain": [
              "array([4.07430333e+00, 2.00181790e+00, 7.91463164e-01, 1.32412545e-01,\n",
              "       1.59976228e-06, 1.45925177e-06, 3.93673597e-11])"
            ]
          },
          "metadata": {},
          "execution_count": 100
        }
      ]
    },
    {
      "cell_type": "code",
      "source": [
        "evals.sum()"
      ],
      "metadata": {
        "colab": {
          "base_uri": "https://localhost:8080/"
        },
        "id": "2bIj8-C8cSQS",
        "outputId": "1d989da5-a699-4d8f-bcb0-1df77ea72e54"
      },
      "execution_count": null,
      "outputs": [
        {
          "output_type": "execute_result",
          "data": {
            "text/plain": [
              "7.0000000000000036"
            ]
          },
          "metadata": {},
          "execution_count": 101
        }
      ]
    },
    {
      "cell_type": "code",
      "source": [
        "data_for_pca = StandardScaler().fit_transform(data_for_pca)"
      ],
      "metadata": {
        "id": "eBqGqYE5cSmV"
      },
      "execution_count": null,
      "outputs": []
    },
    {
      "cell_type": "code",
      "source": [
        "new_features = PCA(n_components=data_for_pca.shape[1]).fit_transform(data_for_pca)"
      ],
      "metadata": {
        "id": "CRSGkUSJqb_2"
      },
      "execution_count": null,
      "outputs": []
    },
    {
      "cell_type": "code",
      "source": [
        "new_features"
      ],
      "metadata": {
        "colab": {
          "base_uri": "https://localhost:8080/"
        },
        "id": "zVhvNXdgyGac",
        "outputId": "723037c2-e1a0-4817-8e5e-783b7f95295f"
      },
      "execution_count": null,
      "outputs": [
        {
          "output_type": "execute_result",
          "data": {
            "text/plain": [
              "array([[-1.08823834e+00, -1.42551589e-01, -2.68865101e-01, ...,\n",
              "         3.34383736e-07,  1.93880925e-04, -1.87480496e-08],\n",
              "       [-1.08581341e+00, -6.75429988e-02, -3.01744102e-01, ...,\n",
              "        -7.55937601e-07,  1.97999213e-04, -1.75806180e-08],\n",
              "       [-1.08621648e+00, -8.61458336e-02, -2.87792975e-01, ...,\n",
              "        -1.38205745e-06,  2.03410110e-04, -1.32182589e-08],\n",
              "       ...,\n",
              "       [ 3.81214166e+00, -4.80927078e-01, -6.13794145e-01, ...,\n",
              "         1.62020509e-03, -7.19601584e-04,  4.56888800e-06],\n",
              "       [ 3.95412481e+00,  8.10373707e-01, -3.05567682e-01, ...,\n",
              "         3.28538680e-03,  1.52371455e-03,  7.79443556e-06],\n",
              "       [ 3.91237029e+00, -4.05185878e-01,  2.62546920e-01, ...,\n",
              "         8.34285545e-04,  2.25888146e-04,  2.25042719e-06]])"
            ]
          },
          "metadata": {},
          "execution_count": 104
        }
      ]
    },
    {
      "cell_type": "code",
      "source": [
        "set_plt_params(9)\n",
        "plt.plot(evals / data_for_pca.shape[1] * 100)\n",
        "plt.show()"
      ],
      "metadata": {
        "colab": {
          "base_uri": "https://localhost:8080/",
          "height": 864
        },
        "id": "vM9xA-LocS9k",
        "outputId": "be849074-ffb9-4434-bff4-5135ffb90f6e"
      },
      "execution_count": null,
      "outputs": [
        {
          "output_type": "display_data",
          "data": {
            "image/png": "[encoded data removed]",
            "text/plain": [
              "<Figure size 1787x1045 with 1 Axes>"
            ]
          },
          "metadata": {}
        }
      ]
    },
    {
      "cell_type": "code",
      "source": [
        "new_features = pd.DataFrame(new_features[:, :4], columns=[\"f_\" + str(i) for i in range(1, 5)])"
      ],
      "metadata": {
        "id": "gNLkOEelzTEc"
      },
      "execution_count": null,
      "outputs": []
    },
    {
      "cell_type": "code",
      "source": [
        "btc_data.reset_index(inplace=True)\n",
        "btc_data = pd.concat([btc_data, new_features], axis=1)\n",
        "btc_data.set_index(\"date\", inplace=True)"
      ],
      "metadata": {
        "id": "kJzN83OL4ZLR"
      },
      "execution_count": null,
      "outputs": []
    },
    {
      "cell_type": "code",
      "source": [
        "btc_data.shape"
      ],
      "metadata": {
        "colab": {
          "base_uri": "https://localhost:8080/"
        },
        "id": "6nxoUl6T4sjR",
        "outputId": "87a5ebcc-2660-48e1-8e29-a872353910e3"
      },
      "execution_count": null,
      "outputs": [
        {
          "output_type": "execute_result",
          "data": {
            "text/plain": [
              "(2600883, 53)"
            ]
          },
          "metadata": {},
          "execution_count": 108
        }
      ]
    },
    {
      "cell_type": "markdown",
      "source": [
        "#Подготовка данных для модели"
      ],
      "metadata": {
        "id": "q_JF4z3xzXO9"
      }
    },
    {
      "cell_type": "code",
      "source": [
        "btc_data.head()"
      ],
      "metadata": {
        "colab": {
          "base_uri": "https://localhost:8080/",
          "height": 492
        },
        "id": "A0TgVl-izads",
        "outputId": "45f8b8d1-f1a9-4021-8316-6d7a0b9cbf4b"
      },
      "execution_count": null,
      "outputs": [
        {
          "output_type": "execute_result",
          "data": {
            "text/html": [
              "\n",
              "  <div id=\"df-4da3ca5d-b365-4e31-b42a-702eecf1d941\">\n",
              "    <div class=\"colab-df-container\">\n",
              "      <div>\n",
              "<style scoped>\n",
              "    .dataframe tbody tr th:only-of-type {\n",
              "        vertical-align: middle;\n",
              "    }\n",
              "\n",
              "    .dataframe tbody tr th {\n",
              "        vertical-align: top;\n",
              "    }\n",
              "\n",
              "    .dataframe thead th {\n",
              "        text-align: right;\n",
              "    }\n",
              "</style>\n",
              "<table border=\"1\" class=\"dataframe\">\n",
              "  <thead>\n",
              "    <tr style=\"text-align: right;\">\n",
              "      <th></th>\n",
              "      <th>open</th>\n",
              "      <th>high</th>\n",
              "      <th>low</th>\n",
              "      <th>close</th>\n",
              "      <th>volume_btc</th>\n",
              "      <th>open-high</th>\n",
              "      <th>|open-high|</th>\n",
              "      <th>open-low</th>\n",
              "      <th>|open-low|</th>\n",
              "      <th>open-close</th>\n",
              "      <th>|open-close|</th>\n",
              "      <th>open*close</th>\n",
              "      <th>high-low</th>\n",
              "      <th>|high-low|</th>\n",
              "      <th>high*low</th>\n",
              "      <th>high-close</th>\n",
              "      <th>|high-close|</th>\n",
              "      <th>low-close</th>\n",
              "      <th>|low-close|</th>\n",
              "      <th>ln_open</th>\n",
              "      <th>log10_open</th>\n",
              "      <th>ln_high</th>\n",
              "      <th>log10_high</th>\n",
              "      <th>ln_low</th>\n",
              "      <th>log10_low</th>\n",
              "      <th>ln_close</th>\n",
              "      <th>log10_close</th>\n",
              "      <th>reverse_open</th>\n",
              "      <th>first_derivative_of_open</th>\n",
              "      <th>second_derivative_of_open</th>\n",
              "      <th>per_change_open</th>\n",
              "      <th>reverse_high</th>\n",
              "      <th>first_derivative_of_high</th>\n",
              "      <th>second_derivative_of_high</th>\n",
              "      <th>per_change_high</th>\n",
              "      <th>reverse_low</th>\n",
              "      <th>first_derivative_of_low</th>\n",
              "      <th>second_derivative_of_low</th>\n",
              "      <th>per_change_low</th>\n",
              "      <th>reverse_close</th>\n",
              "      <th>first_derivative_of_close</th>\n",
              "      <th>second_derivative_of_close</th>\n",
              "      <th>per_change_close</th>\n",
              "      <th>reverse_volume_btc</th>\n",
              "      <th>first_derivative_of_volume_btc</th>\n",
              "      <th>second_derivative_of_volume_btc</th>\n",
              "      <th>per_change_volume_btc</th>\n",
              "      <th>reverse_volume_usd</th>\n",
              "      <th>per_change_volume_usd</th>\n",
              "      <th>f_1</th>\n",
              "      <th>f_2</th>\n",
              "      <th>f_3</th>\n",
              "      <th>f_4</th>\n",
              "    </tr>\n",
              "    <tr>\n",
              "      <th>date</th>\n",
              "      <th></th>\n",
              "      <th></th>\n",
              "      <th></th>\n",
              "      <th></th>\n",
              "      <th></th>\n",
              "      <th></th>\n",
              "      <th></th>\n",
              "      <th></th>\n",
              "      <th></th>\n",
              "      <th></th>\n",
              "      <th></th>\n",
              "      <th></th>\n",
              "      <th></th>\n",
              "      <th></th>\n",
              "      <th></th>\n",
              "      <th></th>\n",
              "      <th></th>\n",
              "      <th></th>\n",
              "      <th></th>\n",
              "      <th></th>\n",
              "      <th></th>\n",
              "      <th></th>\n",
              "      <th></th>\n",
              "      <th></th>\n",
              "      <th></th>\n",
              "      <th></th>\n",
              "      <th></th>\n",
              "      <th></th>\n",
              "      <th></th>\n",
              "      <th></th>\n",
              "      <th></th>\n",
              "      <th></th>\n",
              "      <th></th>\n",
              "      <th></th>\n",
              "      <th></th>\n",
              "      <th></th>\n",
              "      <th></th>\n",
              "      <th></th>\n",
              "      <th></th>\n",
              "      <th></th>\n",
              "      <th></th>\n",
              "      <th></th>\n",
              "      <th></th>\n",
              "      <th></th>\n",
              "      <th></th>\n",
              "      <th></th>\n",
              "      <th></th>\n",
              "      <th></th>\n",
              "      <th></th>\n",
              "      <th></th>\n",
              "      <th></th>\n",
              "      <th></th>\n",
              "      <th></th>\n",
              "    </tr>\n",
              "  </thead>\n",
              "  <tbody>\n",
              "    <tr>\n",
              "      <th>2017-01-01 00:03:00</th>\n",
              "      <td>966.37</td>\n",
              "      <td>966.37</td>\n",
              "      <td>966.37</td>\n",
              "      <td>966.37</td>\n",
              "      <td>0.000000</td>\n",
              "      <td>0.0</td>\n",
              "      <td>0.0</td>\n",
              "      <td>0.0</td>\n",
              "      <td>0.0</td>\n",
              "      <td>0.0</td>\n",
              "      <td>0.0</td>\n",
              "      <td>933870.9769</td>\n",
              "      <td>0.0</td>\n",
              "      <td>0.0</td>\n",
              "      <td>933870.9769</td>\n",
              "      <td>0.0</td>\n",
              "      <td>0.0</td>\n",
              "      <td>0.0</td>\n",
              "      <td>0.0</td>\n",
              "      <td>6.873547</td>\n",
              "      <td>2.985143</td>\n",
              "      <td>6.873547</td>\n",
              "      <td>2.985143</td>\n",
              "      <td>6.873547</td>\n",
              "      <td>2.985143</td>\n",
              "      <td>6.873547</td>\n",
              "      <td>2.985143</td>\n",
              "      <td>0.001035</td>\n",
              "      <td>0.21</td>\n",
              "      <td>0.39</td>\n",
              "      <td>0.021736</td>\n",
              "      <td>0.001035</td>\n",
              "      <td>0.00</td>\n",
              "      <td>-0.03</td>\n",
              "      <td>0.000000</td>\n",
              "      <td>0.001035</td>\n",
              "      <td>0.21</td>\n",
              "      <td>0.39</td>\n",
              "      <td>0.021736</td>\n",
              "      <td>0.001035</td>\n",
              "      <td>0.00</td>\n",
              "      <td>-0.03</td>\n",
              "      <td>0.000000</td>\n",
              "      <td>1000.000000</td>\n",
              "      <td>-105.135892</td>\n",
              "      <td>-111.341785</td>\n",
              "      <td>-9.999990e+01</td>\n",
              "      <td>1000.000000</td>\n",
              "      <td>-1.000000e+02</td>\n",
              "      <td>-1.088238</td>\n",
              "      <td>-0.142552</td>\n",
              "      <td>-0.268865</td>\n",
              "      <td>-0.067719</td>\n",
              "    </tr>\n",
              "    <tr>\n",
              "      <th>2017-01-01 00:04:00</th>\n",
              "      <td>966.37</td>\n",
              "      <td>966.37</td>\n",
              "      <td>966.37</td>\n",
              "      <td>966.37</td>\n",
              "      <td>0.000000</td>\n",
              "      <td>0.0</td>\n",
              "      <td>0.0</td>\n",
              "      <td>0.0</td>\n",
              "      <td>0.0</td>\n",
              "      <td>0.0</td>\n",
              "      <td>0.0</td>\n",
              "      <td>933870.9769</td>\n",
              "      <td>0.0</td>\n",
              "      <td>0.0</td>\n",
              "      <td>933870.9769</td>\n",
              "      <td>0.0</td>\n",
              "      <td>0.0</td>\n",
              "      <td>0.0</td>\n",
              "      <td>0.0</td>\n",
              "      <td>6.873547</td>\n",
              "      <td>2.985143</td>\n",
              "      <td>6.873547</td>\n",
              "      <td>2.985143</td>\n",
              "      <td>6.873547</td>\n",
              "      <td>2.985143</td>\n",
              "      <td>6.873547</td>\n",
              "      <td>2.985143</td>\n",
              "      <td>0.001035</td>\n",
              "      <td>0.00</td>\n",
              "      <td>-0.21</td>\n",
              "      <td>0.000000</td>\n",
              "      <td>0.001035</td>\n",
              "      <td>0.00</td>\n",
              "      <td>0.00</td>\n",
              "      <td>0.000000</td>\n",
              "      <td>0.001035</td>\n",
              "      <td>0.00</td>\n",
              "      <td>-0.21</td>\n",
              "      <td>0.000000</td>\n",
              "      <td>0.001035</td>\n",
              "      <td>0.00</td>\n",
              "      <td>0.00</td>\n",
              "      <td>0.000000</td>\n",
              "      <td>1000.000000</td>\n",
              "      <td>0.000000</td>\n",
              "      <td>105.135892</td>\n",
              "      <td>0.000000e+00</td>\n",
              "      <td>1000.000000</td>\n",
              "      <td>0.000000e+00</td>\n",
              "      <td>-1.085813</td>\n",
              "      <td>-0.067543</td>\n",
              "      <td>-0.301744</td>\n",
              "      <td>-0.064085</td>\n",
              "    </tr>\n",
              "    <tr>\n",
              "      <th>2017-01-01 00:05:00</th>\n",
              "      <td>966.43</td>\n",
              "      <td>966.43</td>\n",
              "      <td>966.43</td>\n",
              "      <td>966.43</td>\n",
              "      <td>1.391000</td>\n",
              "      <td>0.0</td>\n",
              "      <td>0.0</td>\n",
              "      <td>0.0</td>\n",
              "      <td>0.0</td>\n",
              "      <td>0.0</td>\n",
              "      <td>0.0</td>\n",
              "      <td>933986.9449</td>\n",
              "      <td>0.0</td>\n",
              "      <td>0.0</td>\n",
              "      <td>933986.9449</td>\n",
              "      <td>0.0</td>\n",
              "      <td>0.0</td>\n",
              "      <td>0.0</td>\n",
              "      <td>0.0</td>\n",
              "      <td>6.873609</td>\n",
              "      <td>2.985170</td>\n",
              "      <td>6.873609</td>\n",
              "      <td>2.985170</td>\n",
              "      <td>6.873609</td>\n",
              "      <td>2.985170</td>\n",
              "      <td>6.873609</td>\n",
              "      <td>2.985170</td>\n",
              "      <td>0.001035</td>\n",
              "      <td>0.06</td>\n",
              "      <td>0.06</td>\n",
              "      <td>0.006209</td>\n",
              "      <td>0.001035</td>\n",
              "      <td>0.06</td>\n",
              "      <td>0.06</td>\n",
              "      <td>0.006209</td>\n",
              "      <td>0.001035</td>\n",
              "      <td>0.06</td>\n",
              "      <td>0.06</td>\n",
              "      <td>0.006209</td>\n",
              "      <td>0.001035</td>\n",
              "      <td>0.06</td>\n",
              "      <td>0.06</td>\n",
              "      <td>0.006209</td>\n",
              "      <td>0.718391</td>\n",
              "      <td>1.391000</td>\n",
              "      <td>1.391000</td>\n",
              "      <td>1.391000e+06</td>\n",
              "      <td>0.000744</td>\n",
              "      <td>1.344304e+09</td>\n",
              "      <td>-1.086216</td>\n",
              "      <td>-0.086146</td>\n",
              "      <td>-0.287793</td>\n",
              "      <td>-0.084097</td>\n",
              "    </tr>\n",
              "    <tr>\n",
              "      <th>2017-01-01 00:06:00</th>\n",
              "      <td>966.58</td>\n",
              "      <td>966.58</td>\n",
              "      <td>966.58</td>\n",
              "      <td>966.58</td>\n",
              "      <td>4.312522</td>\n",
              "      <td>0.0</td>\n",
              "      <td>0.0</td>\n",
              "      <td>0.0</td>\n",
              "      <td>0.0</td>\n",
              "      <td>0.0</td>\n",
              "      <td>0.0</td>\n",
              "      <td>934276.8964</td>\n",
              "      <td>0.0</td>\n",
              "      <td>0.0</td>\n",
              "      <td>934276.8964</td>\n",
              "      <td>0.0</td>\n",
              "      <td>0.0</td>\n",
              "      <td>0.0</td>\n",
              "      <td>0.0</td>\n",
              "      <td>6.873764</td>\n",
              "      <td>2.985238</td>\n",
              "      <td>6.873764</td>\n",
              "      <td>2.985238</td>\n",
              "      <td>6.873764</td>\n",
              "      <td>2.985238</td>\n",
              "      <td>6.873764</td>\n",
              "      <td>2.985238</td>\n",
              "      <td>0.001035</td>\n",
              "      <td>0.15</td>\n",
              "      <td>0.09</td>\n",
              "      <td>0.015521</td>\n",
              "      <td>0.001035</td>\n",
              "      <td>0.15</td>\n",
              "      <td>0.09</td>\n",
              "      <td>0.015521</td>\n",
              "      <td>0.001035</td>\n",
              "      <td>0.15</td>\n",
              "      <td>0.09</td>\n",
              "      <td>0.015521</td>\n",
              "      <td>0.001035</td>\n",
              "      <td>0.15</td>\n",
              "      <td>0.09</td>\n",
              "      <td>0.015521</td>\n",
              "      <td>0.231829</td>\n",
              "      <td>2.921522</td>\n",
              "      <td>1.530522</td>\n",
              "      <td>2.100152e+02</td>\n",
              "      <td>0.000240</td>\n",
              "      <td>2.100784e+02</td>\n",
              "      <td>-1.086003</td>\n",
              "      <td>-0.085156</td>\n",
              "      <td>-0.286790</td>\n",
              "      <td>-0.084320</td>\n",
              "    </tr>\n",
              "    <tr>\n",
              "      <th>2017-01-01 00:07:00</th>\n",
              "      <td>966.58</td>\n",
              "      <td>966.58</td>\n",
              "      <td>966.58</td>\n",
              "      <td>966.58</td>\n",
              "      <td>0.000000</td>\n",
              "      <td>0.0</td>\n",
              "      <td>0.0</td>\n",
              "      <td>0.0</td>\n",
              "      <td>0.0</td>\n",
              "      <td>0.0</td>\n",
              "      <td>0.0</td>\n",
              "      <td>934276.8964</td>\n",
              "      <td>0.0</td>\n",
              "      <td>0.0</td>\n",
              "      <td>934276.8964</td>\n",
              "      <td>0.0</td>\n",
              "      <td>0.0</td>\n",
              "      <td>0.0</td>\n",
              "      <td>0.0</td>\n",
              "      <td>6.873764</td>\n",
              "      <td>2.985238</td>\n",
              "      <td>6.873764</td>\n",
              "      <td>2.985238</td>\n",
              "      <td>6.873764</td>\n",
              "      <td>2.985238</td>\n",
              "      <td>6.873764</td>\n",
              "      <td>2.985238</td>\n",
              "      <td>0.001035</td>\n",
              "      <td>0.00</td>\n",
              "      <td>-0.15</td>\n",
              "      <td>0.000000</td>\n",
              "      <td>0.001035</td>\n",
              "      <td>0.00</td>\n",
              "      <td>-0.15</td>\n",
              "      <td>0.000000</td>\n",
              "      <td>0.001035</td>\n",
              "      <td>0.00</td>\n",
              "      <td>-0.15</td>\n",
              "      <td>0.000000</td>\n",
              "      <td>0.001035</td>\n",
              "      <td>0.00</td>\n",
              "      <td>-0.15</td>\n",
              "      <td>0.000000</td>\n",
              "      <td>1000.000000</td>\n",
              "      <td>-4.312522</td>\n",
              "      <td>-7.234044</td>\n",
              "      <td>-9.999768e+01</td>\n",
              "      <td>1000.000000</td>\n",
              "      <td>-1.000000e+02</td>\n",
              "      <td>-1.086424</td>\n",
              "      <td>-0.089854</td>\n",
              "      <td>-0.286934</td>\n",
              "      <td>-0.083844</td>\n",
              "    </tr>\n",
              "  </tbody>\n",
              "</table>\n",
              "</div>\n",
              "      <button class=\"colab-df-convert\" onclick=\"convertToInteractive('df-4da3ca5d-b365-4e31-b42a-702eecf1d941')\"\n",
              "              title=\"Convert this dataframe to an interactive table.\"\n",
              "              style=\"display:none;\">\n",
              "        \n",
              "  <svg xmlns=\"http://www.w3.org/2000/svg\" height=\"24px\"viewBox=\"0 0 24 24\"\n",
              "       width=\"24px\">\n",
              "    <path d=\"M0 0h24v24H0V0z\" fill=\"none\"/>\n",
              "    <path d=\"M18.56 5.44l.94 2.06.94-2.06 2.06-.94-2.06-.94-.94-2.06-.94 2.06-2.06.94zm-11 1L8.5 8.5l.94-2.06 2.06-.94-2.06-.94L8.5 2.5l-.94 2.06-2.06.94zm10 10l.94 2.06.94-2.06 2.06-.94-2.06-.94-.94-2.06-.94 2.06-2.06.94z\"/><path d=\"M17.41 7.96l-1.37-1.37c-.4-.4-.92-.59-1.43-.59-.52 0-1.04.2-1.43.59L10.3 9.45l-7.72 7.72c-.78.78-.78 2.05 0 2.83L4 21.41c.39.39.9.59 1.41.59.51 0 1.02-.2 1.41-.59l7.78-7.78 2.81-2.81c.8-.78.8-2.07 0-2.86zM5.41 20L4 18.59l7.72-7.72 1.47 1.35L5.41 20z\"/>\n",
              "  </svg>\n",
              "      </button>\n",
              "      \n",
              "  <style>\n",
              "    .colab-df-container {\n",
              "      display:flex;\n",
              "      flex-wrap:wrap;\n",
              "      gap: 12px;\n",
              "    }\n",
              "\n",
              "    .colab-df-convert {\n",
              "      background-color: #E8F0FE;\n",
              "      border: none;\n",
              "      border-radius: 50%;\n",
              "      cursor: pointer;\n",
              "      display: none;\n",
              "      fill: #1967D2;\n",
              "      height: 32px;\n",
              "      padding: 0 0 0 0;\n",
              "      width: 32px;\n",
              "    }\n",
              "\n",
              "    .colab-df-convert:hover {\n",
              "      background-color: #E2EBFA;\n",
              "      box-shadow: 0px 1px 2px rgba(60, 64, 67, 0.3), 0px 1px 3px 1px rgba(60, 64, 67, 0.15);\n",
              "      fill: #174EA6;\n",
              "    }\n",
              "\n",
              "    [theme=dark] .colab-df-convert {\n",
              "      background-color: #3B4455;\n",
              "      fill: #D2E3FC;\n",
              "    }\n",
              "\n",
              "    [theme=dark] .colab-df-convert:hover {\n",
              "      background-color: #434B5C;\n",
              "      box-shadow: 0px 1px 3px 1px rgba(0, 0, 0, 0.15);\n",
              "      filter: drop-shadow(0px 1px 2px rgba(0, 0, 0, 0.3));\n",
              "      fill: #FFFFFF;\n",
              "    }\n",
              "  </style>\n",
              "\n",
              "      <script>\n",
              "        const buttonEl =\n",
              "          document.querySelector('#df-4da3ca5d-b365-4e31-b42a-702eecf1d941 button.colab-df-convert');\n",
              "        buttonEl.style.display =\n",
              "          google.colab.kernel.accessAllowed ? 'block' : 'none';\n",
              "\n",
              "        async function convertToInteractive(key) {\n",
              "          const element = document.querySelector('#df-4da3ca5d-b365-4e31-b42a-702eecf1d941');\n",
              "          const dataTable =\n",
              "            await google.colab.kernel.invokeFunction('convertToInteractive',\n",
              "                                                     [key], {});\n",
              "          if (!dataTable) return;\n",
              "\n",
              "          const docLinkHtml = 'Like what you see? Visit the ' +\n",
              "            '<a target=\"_blank\" href=https://colab.research.google.com/notebooks/data_table.ipynb>data table notebook</a>'\n",
              "            + ' to learn more about interactive tables.';\n",
              "          element.innerHTML = '';\n",
              "          dataTable['output_type'] = 'display_data';\n",
              "          await google.colab.output.renderOutput(dataTable, element);\n",
              "          const docLink = document.createElement('div');\n",
              "          docLink.innerHTML = docLinkHtml;\n",
              "          element.appendChild(docLink);\n",
              "        }\n",
              "      </script>\n",
              "    </div>\n",
              "  </div>\n",
              "  "
            ],
            "text/plain": [
              "                       open    high     low  ...       f_2       f_3       f_4\n",
              "date                                         ...                              \n",
              "2017-01-01 00:03:00  966.37  966.37  966.37  ... -0.142552 -0.268865 -0.067719\n",
              "2017-01-01 00:04:00  966.37  966.37  966.37  ... -0.067543 -0.301744 -0.064085\n",
              "2017-01-01 00:05:00  966.43  966.43  966.43  ... -0.086146 -0.287793 -0.084097\n",
              "2017-01-01 00:06:00  966.58  966.58  966.58  ... -0.085156 -0.286790 -0.084320\n",
              "2017-01-01 00:07:00  966.58  966.58  966.58  ... -0.089854 -0.286934 -0.083844\n",
              "\n",
              "[5 rows x 53 columns]"
            ]
          },
          "metadata": {},
          "execution_count": 109
        }
      ]
    },
    {
      "cell_type": "code",
      "source": [
        "btc_data.shape"
      ],
      "metadata": {
        "colab": {
          "base_uri": "https://localhost:8080/"
        },
        "id": "MRXF-eWuzeR1",
        "outputId": "fd558ee7-f483-445b-983b-3d401cd460e1"
      },
      "execution_count": null,
      "outputs": [
        {
          "output_type": "execute_result",
          "data": {
            "text/plain": [
              "(2600883, 53)"
            ]
          },
          "metadata": {},
          "execution_count": 110
        }
      ]
    },
    {
      "cell_type": "code",
      "source": [
        "x_len = 60\n",
        "val_len = 396000\n",
        "train_len = btc_data.shape[0] - val_len\n",
        "X_train_df, X_test_df = btc_data[:train_len], btc_data[train_len + x_len + 2:]\n",
        "X_train_df.shape, X_test_df.shape"
      ],
      "metadata": {
        "id": "fVZ1v_NINyG5",
        "colab": {
          "base_uri": "https://localhost:8080/"
        },
        "outputId": "472d6b3e-2386-4833-e73a-8e342c542e1f"
      },
      "execution_count": null,
      "outputs": [
        {
          "output_type": "execute_result",
          "data": {
            "text/plain": [
              "((2204883, 53), (395938, 53))"
            ]
          },
          "metadata": {},
          "execution_count": 111
        }
      ]
    },
    {
      "cell_type": "code",
      "source": [
        "set_plt_params(9, 1.5)\n",
        "plt.plot(X_train_df.close, label=\"Train\")\n",
        "plt.plot(X_test_df.close, label=\"Test\")\n",
        "plt.legend()\n",
        "plt.show()"
      ],
      "metadata": {
        "colab": {
          "base_uri": "https://localhost:8080/",
          "height": 864
        },
        "id": "53uONxC4QH2K",
        "outputId": "0919e878-8285-4163-d956-efdbc5d31bbe"
      },
      "execution_count": null,
      "outputs": [
        {
          "output_type": "display_data",
          "data": {
            "image/png": "[encoded data removed]",
            "text/plain": [
              "<Figure size 1787x1045 with 1 Axes>"
            ]
          },
          "metadata": {}
        }
      ]
    },
    {
      "cell_type": "code",
      "source": [
        "x_scaler = StandardScaler()\n",
        "x_scaler.fit(X_train_df)\n",
        "X_train = x_scaler.transform(X_train_df)\n",
        "X_test = x_scaler.transform(X_test_df)"
      ],
      "metadata": {
        "id": "iWnsH3i_IR1-"
      },
      "execution_count": null,
      "outputs": []
    },
    {
      "cell_type": "code",
      "source": [
        "y_train, y_test = btc_data[\"close\"][:train_len].to_numpy().reshape(-1, 1), btc_data[\"close\"][train_len + x_len + 2:].to_numpy().reshape(-1, 1)\n",
        "y_scaler = StandardScaler()\n",
        "y_scaler.fit(y_train)\n",
        "y_train = y_scaler.transform(y_train)\n",
        "y_test = y_scaler.transform(y_test)"
      ],
      "metadata": {
        "id": "B3ic_m-6JNaO"
      },
      "execution_count": null,
      "outputs": []
    },
    {
      "cell_type": "code",
      "source": [
        "def get_batch_size(shape):\n",
        "\n",
        "  batches = []\n",
        "\n",
        "  for i in range(2, 1000):\n",
        "    if shape % i == 0:\n",
        "      batches.append(i)\n",
        "  \n",
        "  if batches:\n",
        "    return batches\n",
        "  else:\n",
        "    print(\"Didn't find integer divisors\")"
      ],
      "metadata": {
        "id": "DtnfzwkHo9sR"
      },
      "execution_count": null,
      "outputs": []
    },
    {
      "cell_type": "code",
      "source": [
        "print(get_batch_size(X_train.shape[0]))\n",
        "print(get_batch_size(X_test.shape[0]))"
      ],
      "metadata": {
        "colab": {
          "base_uri": "https://localhost:8080/"
        },
        "id": "fdSleLVCo-NP",
        "outputId": "3f49873c-8d1c-4f3b-9ac4-5fdb7c04944d"
      },
      "execution_count": null,
      "outputs": [
        {
          "output_type": "stream",
          "name": "stdout",
          "text": [
            "[3, 9, 17, 51, 153]\n",
            "[2]\n"
          ]
        }
      ]
    },
    {
      "cell_type": "code",
      "source": [
        "train_data_gen = TimeseriesGenerator(X_train, y_train, length=x_len, stride=1, batch_size=51)\n",
        "test_data_gen = TimeseriesGenerator(X_test, y_test, length=x_len, stride=1, batch_size=51)"
      ],
      "metadata": {
        "id": "9o5pOPoio637"
      },
      "execution_count": null,
      "outputs": []
    },
    {
      "cell_type": "markdown",
      "source": [
        "#Создание и обучение модели"
      ],
      "metadata": {
        "id": "NgPmZ_bmd3eu"
      }
    },
    {
      "cell_type": "code",
      "source": [
        "def get_error_plot(history):\n",
        "  \n",
        "  plt.plot(history.history[\"loss\"], \n",
        "          label=\"MSE train\")\n",
        "  plt.plot(history.history[\"val_loss\"], \n",
        "          label=\"MSE validation\")\n",
        "  plt.legend()\n",
        "  plt.show()"
      ],
      "metadata": {
        "id": "L5JRcb3-d7iE"
      },
      "execution_count": null,
      "outputs": []
    },
    {
      "cell_type": "code",
      "source": [
        "def custom_loss_function(y_true, y_pred):\n",
        "\n",
        "  mse = K.mean((K.square(y_true - y_pred)))\n",
        "  mape = K.mean(K.abs((y_true - y_pred)/y_true))\n",
        "\n",
        "  loss = 2 * mape + mse\n",
        "\n",
        "  return loss"
      ],
      "metadata": {
        "id": "R7X6GOdUd93y"
      },
      "execution_count": null,
      "outputs": []
    },
    {
      "cell_type": "code",
      "source": [
        "def check_gpu_info(epoch, logs):\n",
        "\n",
        "  gpu_info = !nvidia-smi\n",
        "  gpu_info = '\\n'.join(gpu_info)\n",
        "  \n",
        "  if gpu_info.find('failed') >= 0:\n",
        "    print('Not connected to a GPU')\n",
        "  else:\n",
        "    print(gpu_info)"
      ],
      "metadata": {
        "id": "6wWB0MHWwYeq"
      },
      "execution_count": null,
      "outputs": []
    },
    {
      "cell_type": "code",
      "source": [
        "epochs, val_loss = 1, 1\n",
        "checkpoint = ModelCheckpoint(f\"/content/drive/MyDrive/models/btc_model_epoch-{epochs:02d}-val_loss-{val_loss:.2f}.hdf5\", monitor=\"val_loss\", verbose=1, save_best_only=True, mode=\"auto\", save_freq=\"epoch\")\n",
        "early_stop = EarlyStopping(monitor=\"val_loss\", min_delta=0, patience=5, verbose=1, mode=\"auto\", baseline=None, restore_best_weights=True)\n",
        "reduce_lr = ReduceLROnPlateau(monitor=\"val_loss\", factor=0.3, patience=3, verbose=1, mode=\"auto\", min_delta=0, cooldown=0, min_lr=0.00001)\n",
        "check_gpu_on_epoch_end = LambdaCallback(on_epoch_end=check_gpu_info)"
      ],
      "metadata": {
        "id": "sf6QnT3fSTex"
      },
      "execution_count": null,
      "outputs": []
    },
    {
      "cell_type": "code",
      "source": [
        "def build_model(hp):\n",
        "\n",
        "  input_data = Input(shape=(train_data_gen[0][0].shape[1], train_data_gen[0][0].shape[2]))\n",
        "\n",
        "  for i in range(hp.Int(\"n_layers_cnn1\", 1, 2)):\n",
        "\n",
        "    cnn1 = Conv1D(filters=hp.Int(f\"cnn1_filter_{i}\", 16, 512, 16), kernel_size=hp.Int(f\"cnn1_kernel_{i}\", 4, 12, 2), padding=\"same\", activation=hp.Choice(f\"cnn1_activation_{i}\", values=[\"relu\", \"elu\", \"tanh\"]))(input_data)\n",
        "    cnn1 = MaxPooling1D(pool_size=hp.Int(f\"cnn1_max_pool_{i}\", 2, 3))(cnn1)\n",
        "\n",
        "  cnn1 = Flatten()(cnn1)\n",
        "\n",
        "  for i in range(hp.Int(\"n_layers_cnn2\", 1, 2)):\n",
        "\n",
        "    cnn2 = Conv1D(filters=hp.Int(f\"cnn2_filter_{i}\", 16, 512, 16), kernel_size=hp.Int(f\"cnn2_kernel_{i}\", 4, 12, 2), padding=\"same\", activation=hp.Choice(f\"cnn2_activation_{i}\", values=[\"relu\", \"elu\", \"tanh\"]))(input_data)\n",
        "    cnn2 = MaxPooling1D(pool_size=hp.Int(f\"cnn2_max_pool_{i}\", 2, 3))(cnn2)\n",
        "\n",
        "  cnn2 = Flatten()(cnn2)\n",
        "\n",
        "  merge = concatenate([cnn1, cnn2])\n",
        "  dense = Dense(hp.Int(f\"first_layers_dense\", 128, 1024, 64), hp.Choice(\"dense_activation\", values=[\"relu\", \"elu\", \"tanh\"]))(merge)\n",
        "\n",
        "  for i in range(hp.Int(\"n_layers_dense\", 1, 3)):\n",
        "    \n",
        "    dense = Dense(hp.Int(f\"second_layers_dense_{i}\", 16, 512, 16), hp.Choice(f\"dense_activation_{i}\", values=[\"relu\", \"elu\", \"tanh\"]))(dense)\n",
        "    if hp.Boolean(\"boolean\", default=True):\n",
        "      dense = BatchNormalization()(dense)\n",
        "      dense = Dropout(hp.Float(f\"drop_out_{i}\", 0.2, 0.5, 0.01))(dense)\n",
        "\n",
        "  output = Dense(1, activation=\"linear\")(dense)\n",
        "\n",
        "  model = Model(input_data, output)\n",
        "\n",
        "  model.compile(optimizer=Adam(0.0001), loss=hp.Choice(\"loss_func\", values=[\"mape\", \"mse\"]), metrics=[\"mape\", \"mae\", \"mse\"])\n",
        "\n",
        "  return model"
      ],
      "metadata": {
        "id": "0pBwq2gMeYPX"
      },
      "execution_count": null,
      "outputs": []
    },
    {
      "cell_type": "code",
      "source": [
        "tuner = kt.Hyperband(build_model, objective=\"val_mape\", max_epochs=50, directory=\"/content/drive/MyDrive/models\")"
      ],
      "metadata": {
        "id": "5CZyCihVhZ0F"
      },
      "execution_count": null,
      "outputs": []
    },
    {
      "cell_type": "code",
      "source": [
        "tuner.search_space_summary()"
      ],
      "metadata": {
        "id": "YySGAPO8Z-Ql"
      },
      "execution_count": null,
      "outputs": []
    },
    {
      "cell_type": "code",
      "source": [
        "tuner.search(train_data_gen, epochs=50, validation_data=test_data_gen, callbacks=[checkpoint, early_stop, reduce_lr, check_gpu_on_epoch_end])"
      ],
      "metadata": {
        "id": "kalPh8QGZ-hi"
      },
      "execution_count": null,
      "outputs": []
    },
    {
      "cell_type": "code",
      "source": [
        "tuner.get_best_hyperparameters()[0].values"
      ],
      "metadata": {
        "id": "1ias2niGcP_K"
      },
      "execution_count": null,
      "outputs": []
    },
    {
      "cell_type": "code",
      "source": [
        "model = tuner.get_best_models(1)[0]"
      ],
      "metadata": {
        "id": "-8VPRzoqeLz4"
      },
      "execution_count": null,
      "outputs": []
    },
    {
      "cell_type": "code",
      "source": [
        "model.fit(train_data_gen, epochs=40, validation_data=test_data_gen, callbacks=[checkpoint, early_stop, reduce_lr])"
      ],
      "metadata": {
        "id": "piHr0uGffhn8"
      },
      "execution_count": null,
      "outputs": []
    },
    {
      "cell_type": "markdown",
      "source": [
        "#Проверка модели"
      ],
      "metadata": {
        "id": "7yhyClUVeJ3n"
      }
    },
    {
      "cell_type": "code",
      "source": [
        "def get_predict(model, x_test, y_test, y_scaler):\n",
        "\n",
        "  predict = y_scaler.inverse_transform(model.predict(x_test))\n",
        "  y_test_unscaled = y_scaler.inverse_transform(y_test)\n",
        "  \n",
        "  return y_test_unscaled, predict"
      ],
      "metadata": {
        "id": "0EK68A6seDoi"
      },
      "execution_count": null,
      "outputs": []
    },
    {
      "cell_type": "code",
      "source": [
        "def show_predict_plot(y_test_unscaled, predict, index, start=0, stop=None, x_len=x_len):\n",
        "\n",
        "  if stop is None:\n",
        "    index = index.index[x_len + start:]\n",
        "  else:\n",
        "    index = index.index[x_len + start: x_len + stop]\n",
        "\n",
        "  plt.plot(index, y_test_unscaled[start:stop], \n",
        "           label=\"Real price\")\n",
        "  plt.plot(index, predict[start:stop],\n",
        "           label=\"Predict\")\n",
        "  plt.legend()\n",
        "  plt.show()"
      ],
      "metadata": {
        "id": "guVULcm1RYQx"
      },
      "execution_count": null,
      "outputs": []
    },
    {
      "cell_type": "code",
      "source": [
        "def show_ccf_plot(y_test_unscaled, predict, lags=40):\n",
        "\n",
        "  plt.plot(ccf(y_test_unscaled.ravel()[:lags], y_test_unscaled.ravel()[:lags]), label=\"y_true_acf\")\n",
        "  plt.plot(ccf(predict.ravel()[:lags], y_test_unscaled.ravel()[:lags]), label=\"predict_y_true_ccf\")\n",
        "  plt.plot(ccf(predict.ravel()[:lags],predict.ravel()[:lags]), label=\"predict_acf\")\n",
        "  plt.legend()\n",
        "  plt.show()"
      ],
      "metadata": {
        "id": "YhfOq0ZMfiWN"
      },
      "execution_count": null,
      "outputs": []
    },
    {
      "cell_type": "code",
      "source": [
        "X_test_data = X_test[-5000:]\n",
        "y_test_data = y_test[-5000:]\n",
        "\n",
        "data_gen = TimeseriesGenerator(X_test_data, y_test_data, length=x_len, batch_size=(len(y_test_data)))\n",
        "x_test_model = []\n",
        "y_test_model = []\n",
        "\n",
        "for i in tqdm(data_gen):\n",
        "  x_test_model.append(i[0])\n",
        "  y_test_model.append(i[1])\n",
        "\n",
        "x_test_model = np.array(x_test_model[0])\n",
        "y_test_model = np.array(y_test_model[0])\n",
        "\n",
        "x_test_model.shape, y_test_model.shape"
      ],
      "metadata": {
        "colab": {
          "base_uri": "https://localhost:8080/"
        },
        "id": "Fc8nYf3jzfOX",
        "outputId": "938734d5-2040-45cf-dc1e-adf0d37a76bc"
      },
      "execution_count": null,
      "outputs": [
        {
          "output_type": "stream",
          "name": "stderr",
          "text": [
            "100%|██████████| 1/1 [00:00<00:00, 24.64it/s]\n"
          ]
        },
        {
          "output_type": "execute_result",
          "data": {
            "text/plain": [
              "((4940, 60, 53), (4940, 1))"
            ]
          },
          "metadata": {},
          "execution_count": 181
        }
      ]
    },
    {
      "cell_type": "code",
      "source": [
        "y_test_unscaled , predict = get_predict(model, x_test_model, y_test_model, y_scaler)\n",
        "y_test_unscaled.shape, predict.shape"
      ],
      "metadata": {
        "id": "pUXsDcV2TnmP",
        "colab": {
          "base_uri": "https://localhost:8080/"
        },
        "outputId": "be479a9b-ed68-41c1-eb40-16582c0ea22e"
      },
      "execution_count": null,
      "outputs": [
        {
          "output_type": "execute_result",
          "data": {
            "text/plain": [
              "((4940, 1), (4940, 1))"
            ]
          },
          "metadata": {},
          "execution_count": 182
        }
      ]
    },
    {
      "cell_type": "code",
      "source": [
        "set_plt_params(9, 1)\n",
        "show_predict_plot(y_test_unscaled, predict, X_test_df[-5000:])"
      ],
      "metadata": {
        "colab": {
          "base_uri": "https://localhost:8080/",
          "height": 864
        },
        "id": "Ygv0ALKvRgDB",
        "outputId": "70a02986-b942-42cb-ab50-8530d226795a"
      },
      "execution_count": null,
      "outputs": [
        {
          "output_type": "display_data",
          "data": {
            "image/png": "[encoded data removed]",
            "text/plain": [
              "<Figure size 1787x1045 with 1 Axes>"
            ]
          },
          "metadata": {}
        }
      ]
    },
    {
      "cell_type": "code",
      "source": [
        "show_ccf_plot(y_test_unscaled, predict, 50)"
      ],
      "metadata": {
        "colab": {
          "base_uri": "https://localhost:8080/",
          "height": 864
        },
        "id": "p7K86nuYTte6",
        "outputId": "b6aa54bc-4061-49e7-86b0-5746f8f28648"
      },
      "execution_count": null,
      "outputs": [
        {
          "output_type": "display_data",
          "data": {
            "image/png": "[encoded data removed]",
            "text/plain": [
              "<Figure size 1787x1045 with 1 Axes>"
            ]
          },
          "metadata": {}
        }
      ]
    },
    {
      "cell_type": "code",
      "source": [
        ""
      ],
      "metadata": {
        "id": "A05YNkeFIR_4"
      },
      "execution_count": null,
      "outputs": []
    },
    {
      "cell_type": "code",
      "source": [
        ""
      ],
      "metadata": {
        "id": "9oYM3v76ISCQ"
      },
      "execution_count": null,
      "outputs": []
    },
    {
      "cell_type": "code",
      "source": [
        ""
      ],
      "metadata": {
        "id": "ZE2_vqf02oO4"
      },
      "execution_count": null,
      "outputs": []
    }
  ]
}