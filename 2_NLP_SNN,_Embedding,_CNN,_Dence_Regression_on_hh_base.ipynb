{
  "cells": [
    {
      "cell_type": "markdown",
      "metadata": {
        "id": "view-in-github",
        "colab_type": "text"
      },
      "source": [
        "<a href=\"https://colab.research.google.com/github/uldkh/colab_projects/blob/main/2_NLP_SNN%2C_Embedding%2C_CNN%2C_Dence_Regression_on_hh_base.ipynb\" target=\"_parent\"><img src=\"https://colab.research.google.com/assets/colab-badge.svg\" alt=\"Open In Colab\"/></a>"
      ]
    },
    {
      "cell_type": "code",
      "execution_count": null,
      "metadata": {
        "id": "9E1Xb4j7-y7b"
      },
      "outputs": [],
      "source": [
        "from google.colab import drive\n",
        "import matplotlib.pyplot as plt\n",
        "\n",
        "import numpy as np\n",
        "import pandas as pd\n",
        "\n",
        "from tensorflow.keras.models import Sequential, Model\n",
        "from tensorflow.keras.layers import concatenate, Input, Dense, Dropout, BatchNormalization, Flatten, Embedding, Conv1D, GlobalMaxPooling1D, MaxPool1D\n",
        "from tensorflow.keras import utils\n",
        "from tensorflow.keras.optimizers import Adam, Adadelta, SGD, Adagrad, RMSprop\n",
        "from tensorflow.keras.preprocessing.text import Tokenizer, text_to_word_sequence\n",
        "from tensorflow.keras.preprocessing.sequence import pad_sequences\n",
        "from tensorflow.keras.callbacks import LambdaCallback, ReduceLROnPlateau, ModelCheckpoint, EarlyStopping\n",
        "import keras.backend as K\n",
        "\n",
        "from sklearn.preprocessing import StandardScaler\n",
        "from sklearn.model_selection import train_test_split\n",
        "from sklearn.metrics import mean_squared_error, mean_absolute_error\n",
        "\n",
        "import random \n",
        "import re\n",
        "import gc\n",
        "import time\n",
        "import datetime\n",
        "import sys, traceback, gc\n",
        "from IPython.display import clear_output"
      ]
    },
    {
      "cell_type": "code",
      "source": [
        "def set_plt_params():\n",
        "  \n",
        "  plt.rc(\"axes\", facecolor=\"#181c27\", edgecolor=\"#2a2e39\", grid=True)\n",
        "  plt.rc(\"figure\", figsize=(17.87, 10.45), facecolor=\"#181c27\", edgecolor=\"#2a2e39\")\n",
        "  plt.rc(\"grid\", color=\"#2a2e39\", linestyle=\"dashed\")\n",
        "  plt.rc(\"xtick\", labelsize=11, color=\"#b2b5be\", bottom=False)\n",
        "  plt.rc(\"ytick\", labelsize=11, color=\"#b2b5be\", left=False)\n",
        "  plt.rc(\"legend\", handleheight=1, handlelength=2)\n",
        "  plt.rc(\"text\", color=\"#b2b5be\")\n",
        "\n",
        "set_plt_params()"
      ],
      "metadata": {
        "id": "lKi5uWj4V0ka"
      },
      "execution_count": null,
      "outputs": []
    },
    {
      "cell_type": "code",
      "execution_count": null,
      "metadata": {
        "colab": {
          "base_uri": "https://localhost:8080/"
        },
        "id": "Izf2Tj9J_CKT",
        "outputId": "cb324cff-54cb-4c19-eabf-f2c4969029cf"
      },
      "outputs": [
        {
          "output_type": "stream",
          "name": "stdout",
          "text": [
            "Mounted at /content/drive\n"
          ]
        }
      ],
      "source": [
        "drive.mount(\"/content/drive\")"
      ]
    },
    {
      "cell_type": "code",
      "execution_count": null,
      "metadata": {
        "id": "NcgAt6L3_CNM"
      },
      "outputs": [],
      "source": [
        "hh_df = pd.read_csv(\"/content/drive/My Drive/DataBases/hh_fixed.csv\")"
      ]
    },
    {
      "cell_type": "code",
      "execution_count": null,
      "metadata": {
        "id": "UK_bQQMn_CQQ",
        "colab": {
          "base_uri": "https://localhost:8080/",
          "height": 354
        },
        "outputId": "9dd1d251-5e49-4f27-9805-2d364414dbe4"
      },
      "outputs": [
        {
          "output_type": "execute_result",
          "data": {
            "text/html": [
              "\n",
              "  <div id=\"df-c160ae7d-d54e-4ef6-a74e-a3be99e757f4\">\n",
              "    <div class=\"colab-df-container\">\n",
              "      <div>\n",
              "<style scoped>\n",
              "    .dataframe tbody tr th:only-of-type {\n",
              "        vertical-align: middle;\n",
              "    }\n",
              "\n",
              "    .dataframe tbody tr th {\n",
              "        vertical-align: top;\n",
              "    }\n",
              "\n",
              "    .dataframe thead th {\n",
              "        text-align: right;\n",
              "    }\n",
              "</style>\n",
              "<table border=\"1\" class=\"dataframe\">\n",
              "  <thead>\n",
              "    <tr style=\"text-align: right;\">\n",
              "      <th></th>\n",
              "      <th>Unnamed: 0</th>\n",
              "      <th>Пол, возраст</th>\n",
              "      <th>ЗП</th>\n",
              "      <th>Ищет работу на должность:</th>\n",
              "      <th>Город</th>\n",
              "      <th>Занятость</th>\n",
              "      <th>График</th>\n",
              "      <th>Опыт (двойное нажатие для полной версии)</th>\n",
              "      <th>Последенее/нынешнее место работы</th>\n",
              "      <th>Последеняя/нынешняя должность</th>\n",
              "      <th>Образование и ВУЗ</th>\n",
              "      <th>Обновление резюме</th>\n",
              "      <th>Авто</th>\n",
              "    </tr>\n",
              "  </thead>\n",
              "  <tbody>\n",
              "    <tr>\n",
              "      <th>0</th>\n",
              "      <td>0</td>\n",
              "      <td>Мужчина ,  29 лет , родился 16 мая 1989</td>\n",
              "      <td>40000 руб.</td>\n",
              "      <td>Специалист по поддержке чата(support team) дом...</td>\n",
              "      <td>Новороссийск , готов к переезду (Анапа, Геленд...</td>\n",
              "      <td>полная занятость</td>\n",
              "      <td>полный день</td>\n",
              "      <td>Опыт работы 3 года 9 месяцев  Специалист по по...</td>\n",
              "      <td>ООО \"Гольфстрим\"</td>\n",
              "      <td>Генеральный директор</td>\n",
              "      <td>Высшее образование 2011  Международный юридиче...</td>\n",
              "      <td>26.04.2019 08:04</td>\n",
              "      <td>Не указано</td>\n",
              "    </tr>\n",
              "    <tr>\n",
              "      <th>1</th>\n",
              "      <td>1</td>\n",
              "      <td>Мужчина ,  38 лет , родился 25 мая 1980</td>\n",
              "      <td>40000 руб.</td>\n",
              "      <td>Системный администратор</td>\n",
              "      <td>Новосибирск ,  м. Березовая роща , не готов к ...</td>\n",
              "      <td>полная занятость</td>\n",
              "      <td>полный день</td>\n",
              "      <td>Опыт работы 11 лет 11 месяцев  Системный админ...</td>\n",
              "      <td>ООО «Завод модульных технологий»</td>\n",
              "      <td>Системный администратор</td>\n",
              "      <td>Высшее образование 2002 Новосибирский государс...</td>\n",
              "      <td>26.04.2019 04:30</td>\n",
              "      <td>Не указано</td>\n",
              "    </tr>\n",
              "    <tr>\n",
              "      <th>2</th>\n",
              "      <td>2</td>\n",
              "      <td>Мужчина ,  35 лет , родился 14 июня 1983</td>\n",
              "      <td>300000 руб.</td>\n",
              "      <td>DevOps TeamLead / DevOps архитектор</td>\n",
              "      <td>Москва , готов к переезду , готов к редким ком...</td>\n",
              "      <td>полная занятость</td>\n",
              "      <td>полный день</td>\n",
              "      <td>Опыт работы 12 лет 11 месяцев  DevOps TeamLead...</td>\n",
              "      <td>Банк ВТБ (ПАО)</td>\n",
              "      <td>Начальник отдела методологии разработки (DevOp...</td>\n",
              "      <td>DevOps TeamLead / DevOps архитектор 300 000 ру...</td>\n",
              "      <td>09.04.2019 14:40</td>\n",
              "      <td>Не указано</td>\n",
              "    </tr>\n",
              "    <tr>\n",
              "      <th>3</th>\n",
              "      <td>3</td>\n",
              "      <td>Мужчина ,  33 года , родился 2 августа 1985</td>\n",
              "      <td>180000 руб.</td>\n",
              "      <td>Руководитель IT отдела</td>\n",
              "      <td>Москва ,  м. Щукинская , не готов к переезду ,...</td>\n",
              "      <td>частичная занятость, полная занятость</td>\n",
              "      <td>удаленная работа, полный день</td>\n",
              "      <td>Опыт работы 15 лет 10 месяцев  Руководитель IT...</td>\n",
              "      <td>\"Ай-Теко\", ведущий российский системный интегр...</td>\n",
              "      <td>Старший системный администратор</td>\n",
              "      <td>Руководитель IT отдела 180 000 руб. Информацио...</td>\n",
              "      <td>09.04.2019 14:39</td>\n",
              "      <td>Имеется собственный автомобиль</td>\n",
              "    </tr>\n",
              "    <tr>\n",
              "      <th>4</th>\n",
              "      <td>4</td>\n",
              "      <td>Мужчина ,  22 года , родился 1 сентября 1996</td>\n",
              "      <td>40000 руб.</td>\n",
              "      <td>Junior Developer</td>\n",
              "      <td>Москва ,  м. Юго-Западная , не готов к переезд...</td>\n",
              "      <td>стажировка, частичная занятость, проектная работа</td>\n",
              "      <td>гибкий график, удаленная работа</td>\n",
              "      <td>Опыт работы 1 год 1 месяц  Junior Developer 40...</td>\n",
              "      <td>R-Style SoftLab</td>\n",
              "      <td>Менеджер IT-проектов</td>\n",
              "      <td>Junior Developer 40 000 руб. Информационные те...</td>\n",
              "      <td>29.03.2019 12:40</td>\n",
              "      <td>Не указано</td>\n",
              "    </tr>\n",
              "  </tbody>\n",
              "</table>\n",
              "</div>\n",
              "      <button class=\"colab-df-convert\" onclick=\"convertToInteractive('df-c160ae7d-d54e-4ef6-a74e-a3be99e757f4')\"\n",
              "              title=\"Convert this dataframe to an interactive table.\"\n",
              "              style=\"display:none;\">\n",
              "        \n",
              "  <svg xmlns=\"http://www.w3.org/2000/svg\" height=\"24px\"viewBox=\"0 0 24 24\"\n",
              "       width=\"24px\">\n",
              "    <path d=\"M0 0h24v24H0V0z\" fill=\"none\"/>\n",
              "    <path d=\"M18.56 5.44l.94 2.06.94-2.06 2.06-.94-2.06-.94-.94-2.06-.94 2.06-2.06.94zm-11 1L8.5 8.5l.94-2.06 2.06-.94-2.06-.94L8.5 2.5l-.94 2.06-2.06.94zm10 10l.94 2.06.94-2.06 2.06-.94-2.06-.94-.94-2.06-.94 2.06-2.06.94z\"/><path d=\"M17.41 7.96l-1.37-1.37c-.4-.4-.92-.59-1.43-.59-.52 0-1.04.2-1.43.59L10.3 9.45l-7.72 7.72c-.78.78-.78 2.05 0 2.83L4 21.41c.39.39.9.59 1.41.59.51 0 1.02-.2 1.41-.59l7.78-7.78 2.81-2.81c.8-.78.8-2.07 0-2.86zM5.41 20L4 18.59l7.72-7.72 1.47 1.35L5.41 20z\"/>\n",
              "  </svg>\n",
              "      </button>\n",
              "      \n",
              "  <style>\n",
              "    .colab-df-container {\n",
              "      display:flex;\n",
              "      flex-wrap:wrap;\n",
              "      gap: 12px;\n",
              "    }\n",
              "\n",
              "    .colab-df-convert {\n",
              "      background-color: #E8F0FE;\n",
              "      border: none;\n",
              "      border-radius: 50%;\n",
              "      cursor: pointer;\n",
              "      display: none;\n",
              "      fill: #1967D2;\n",
              "      height: 32px;\n",
              "      padding: 0 0 0 0;\n",
              "      width: 32px;\n",
              "    }\n",
              "\n",
              "    .colab-df-convert:hover {\n",
              "      background-color: #E2EBFA;\n",
              "      box-shadow: 0px 1px 2px rgba(60, 64, 67, 0.3), 0px 1px 3px 1px rgba(60, 64, 67, 0.15);\n",
              "      fill: #174EA6;\n",
              "    }\n",
              "\n",
              "    [theme=dark] .colab-df-convert {\n",
              "      background-color: #3B4455;\n",
              "      fill: #D2E3FC;\n",
              "    }\n",
              "\n",
              "    [theme=dark] .colab-df-convert:hover {\n",
              "      background-color: #434B5C;\n",
              "      box-shadow: 0px 1px 3px 1px rgba(0, 0, 0, 0.15);\n",
              "      filter: drop-shadow(0px 1px 2px rgba(0, 0, 0, 0.3));\n",
              "      fill: #FFFFFF;\n",
              "    }\n",
              "  </style>\n",
              "\n",
              "      <script>\n",
              "        const buttonEl =\n",
              "          document.querySelector('#df-c160ae7d-d54e-4ef6-a74e-a3be99e757f4 button.colab-df-convert');\n",
              "        buttonEl.style.display =\n",
              "          google.colab.kernel.accessAllowed ? 'block' : 'none';\n",
              "\n",
              "        async function convertToInteractive(key) {\n",
              "          const element = document.querySelector('#df-c160ae7d-d54e-4ef6-a74e-a3be99e757f4');\n",
              "          const dataTable =\n",
              "            await google.colab.kernel.invokeFunction('convertToInteractive',\n",
              "                                                     [key], {});\n",
              "          if (!dataTable) return;\n",
              "\n",
              "          const docLinkHtml = 'Like what you see? Visit the ' +\n",
              "            '<a target=\"_blank\" href=https://colab.research.google.com/notebooks/data_table.ipynb>data table notebook</a>'\n",
              "            + ' to learn more about interactive tables.';\n",
              "          element.innerHTML = '';\n",
              "          dataTable['output_type'] = 'display_data';\n",
              "          await google.colab.output.renderOutput(dataTable, element);\n",
              "          const docLink = document.createElement('div');\n",
              "          docLink.innerHTML = docLinkHtml;\n",
              "          element.appendChild(docLink);\n",
              "        }\n",
              "      </script>\n",
              "    </div>\n",
              "  </div>\n",
              "  "
            ],
            "text/plain": [
              "   Unnamed: 0  ...                            Авто\n",
              "0           0  ...                      Не указано\n",
              "1           1  ...                      Не указано\n",
              "2           2  ...                      Не указано\n",
              "3           3  ...  Имеется собственный автомобиль\n",
              "4           4  ...                      Не указано\n",
              "\n",
              "[5 rows x 13 columns]"
            ]
          },
          "metadata": {},
          "execution_count": 5
        }
      ],
      "source": [
        "hh_df.head()"
      ]
    },
    {
      "cell_type": "code",
      "execution_count": null,
      "metadata": {
        "colab": {
          "base_uri": "https://localhost:8080/",
          "height": 354
        },
        "id": "JoSuJfez_CTE",
        "outputId": "25aca89a-1e8e-4f66-d0c2-8179a4b44b39"
      },
      "outputs": [
        {
          "output_type": "execute_result",
          "data": {
            "text/html": [
              "\n",
              "  <div id=\"df-6e2441df-3a8f-4ea0-9bd3-6e0b0ad6ad43\">\n",
              "    <div class=\"colab-df-container\">\n",
              "      <div>\n",
              "<style scoped>\n",
              "    .dataframe tbody tr th:only-of-type {\n",
              "        vertical-align: middle;\n",
              "    }\n",
              "\n",
              "    .dataframe tbody tr th {\n",
              "        vertical-align: top;\n",
              "    }\n",
              "\n",
              "    .dataframe thead th {\n",
              "        text-align: right;\n",
              "    }\n",
              "</style>\n",
              "<table border=\"1\" class=\"dataframe\">\n",
              "  <thead>\n",
              "    <tr style=\"text-align: right;\">\n",
              "      <th></th>\n",
              "      <th>Пол, возраст</th>\n",
              "      <th>ЗП</th>\n",
              "      <th>Ищет работу на должность:</th>\n",
              "      <th>Город</th>\n",
              "      <th>Занятость</th>\n",
              "      <th>График</th>\n",
              "      <th>Опыт (двойное нажатие для полной версии)</th>\n",
              "      <th>Последенее/нынешнее место работы</th>\n",
              "      <th>Последеняя/нынешняя должность</th>\n",
              "      <th>Образование и ВУЗ</th>\n",
              "      <th>Обновление резюме</th>\n",
              "      <th>Авто</th>\n",
              "    </tr>\n",
              "  </thead>\n",
              "  <tbody>\n",
              "    <tr>\n",
              "      <th>0</th>\n",
              "      <td>Мужчина ,  29 лет , родился 16 мая 1989</td>\n",
              "      <td>40000 руб.</td>\n",
              "      <td>Специалист по поддержке чата(support team) дом...</td>\n",
              "      <td>Новороссийск , готов к переезду (Анапа, Геленд...</td>\n",
              "      <td>полная занятость</td>\n",
              "      <td>полный день</td>\n",
              "      <td>Опыт работы 3 года 9 месяцев  Специалист по по...</td>\n",
              "      <td>ООО \"Гольфстрим\"</td>\n",
              "      <td>Генеральный директор</td>\n",
              "      <td>Высшее образование 2011  Международный юридиче...</td>\n",
              "      <td>26.04.2019 08:04</td>\n",
              "      <td>Не указано</td>\n",
              "    </tr>\n",
              "    <tr>\n",
              "      <th>1</th>\n",
              "      <td>Мужчина ,  38 лет , родился 25 мая 1980</td>\n",
              "      <td>40000 руб.</td>\n",
              "      <td>Системный администратор</td>\n",
              "      <td>Новосибирск ,  м. Березовая роща , не готов к ...</td>\n",
              "      <td>полная занятость</td>\n",
              "      <td>полный день</td>\n",
              "      <td>Опыт работы 11 лет 11 месяцев  Системный админ...</td>\n",
              "      <td>ООО «Завод модульных технологий»</td>\n",
              "      <td>Системный администратор</td>\n",
              "      <td>Высшее образование 2002 Новосибирский государс...</td>\n",
              "      <td>26.04.2019 04:30</td>\n",
              "      <td>Не указано</td>\n",
              "    </tr>\n",
              "    <tr>\n",
              "      <th>2</th>\n",
              "      <td>Мужчина ,  35 лет , родился 14 июня 1983</td>\n",
              "      <td>300000 руб.</td>\n",
              "      <td>DevOps TeamLead / DevOps архитектор</td>\n",
              "      <td>Москва , готов к переезду , готов к редким ком...</td>\n",
              "      <td>полная занятость</td>\n",
              "      <td>полный день</td>\n",
              "      <td>Опыт работы 12 лет 11 месяцев  DevOps TeamLead...</td>\n",
              "      <td>Банк ВТБ (ПАО)</td>\n",
              "      <td>Начальник отдела методологии разработки (DevOp...</td>\n",
              "      <td>DevOps TeamLead / DevOps архитектор 300 000 ру...</td>\n",
              "      <td>09.04.2019 14:40</td>\n",
              "      <td>Не указано</td>\n",
              "    </tr>\n",
              "    <tr>\n",
              "      <th>3</th>\n",
              "      <td>Мужчина ,  33 года , родился 2 августа 1985</td>\n",
              "      <td>180000 руб.</td>\n",
              "      <td>Руководитель IT отдела</td>\n",
              "      <td>Москва ,  м. Щукинская , не готов к переезду ,...</td>\n",
              "      <td>частичная занятость, полная занятость</td>\n",
              "      <td>удаленная работа, полный день</td>\n",
              "      <td>Опыт работы 15 лет 10 месяцев  Руководитель IT...</td>\n",
              "      <td>\"Ай-Теко\", ведущий российский системный интегр...</td>\n",
              "      <td>Старший системный администратор</td>\n",
              "      <td>Руководитель IT отдела 180 000 руб. Информацио...</td>\n",
              "      <td>09.04.2019 14:39</td>\n",
              "      <td>Имеется собственный автомобиль</td>\n",
              "    </tr>\n",
              "    <tr>\n",
              "      <th>4</th>\n",
              "      <td>Мужчина ,  22 года , родился 1 сентября 1996</td>\n",
              "      <td>40000 руб.</td>\n",
              "      <td>Junior Developer</td>\n",
              "      <td>Москва ,  м. Юго-Западная , не готов к переезд...</td>\n",
              "      <td>стажировка, частичная занятость, проектная работа</td>\n",
              "      <td>гибкий график, удаленная работа</td>\n",
              "      <td>Опыт работы 1 год 1 месяц  Junior Developer 40...</td>\n",
              "      <td>R-Style SoftLab</td>\n",
              "      <td>Менеджер IT-проектов</td>\n",
              "      <td>Junior Developer 40 000 руб. Информационные те...</td>\n",
              "      <td>29.03.2019 12:40</td>\n",
              "      <td>Не указано</td>\n",
              "    </tr>\n",
              "  </tbody>\n",
              "</table>\n",
              "</div>\n",
              "      <button class=\"colab-df-convert\" onclick=\"convertToInteractive('df-6e2441df-3a8f-4ea0-9bd3-6e0b0ad6ad43')\"\n",
              "              title=\"Convert this dataframe to an interactive table.\"\n",
              "              style=\"display:none;\">\n",
              "        \n",
              "  <svg xmlns=\"http://www.w3.org/2000/svg\" height=\"24px\"viewBox=\"0 0 24 24\"\n",
              "       width=\"24px\">\n",
              "    <path d=\"M0 0h24v24H0V0z\" fill=\"none\"/>\n",
              "    <path d=\"M18.56 5.44l.94 2.06.94-2.06 2.06-.94-2.06-.94-.94-2.06-.94 2.06-2.06.94zm-11 1L8.5 8.5l.94-2.06 2.06-.94-2.06-.94L8.5 2.5l-.94 2.06-2.06.94zm10 10l.94 2.06.94-2.06 2.06-.94-2.06-.94-.94-2.06-.94 2.06-2.06.94z\"/><path d=\"M17.41 7.96l-1.37-1.37c-.4-.4-.92-.59-1.43-.59-.52 0-1.04.2-1.43.59L10.3 9.45l-7.72 7.72c-.78.78-.78 2.05 0 2.83L4 21.41c.39.39.9.59 1.41.59.51 0 1.02-.2 1.41-.59l7.78-7.78 2.81-2.81c.8-.78.8-2.07 0-2.86zM5.41 20L4 18.59l7.72-7.72 1.47 1.35L5.41 20z\"/>\n",
              "  </svg>\n",
              "      </button>\n",
              "      \n",
              "  <style>\n",
              "    .colab-df-container {\n",
              "      display:flex;\n",
              "      flex-wrap:wrap;\n",
              "      gap: 12px;\n",
              "    }\n",
              "\n",
              "    .colab-df-convert {\n",
              "      background-color: #E8F0FE;\n",
              "      border: none;\n",
              "      border-radius: 50%;\n",
              "      cursor: pointer;\n",
              "      display: none;\n",
              "      fill: #1967D2;\n",
              "      height: 32px;\n",
              "      padding: 0 0 0 0;\n",
              "      width: 32px;\n",
              "    }\n",
              "\n",
              "    .colab-df-convert:hover {\n",
              "      background-color: #E2EBFA;\n",
              "      box-shadow: 0px 1px 2px rgba(60, 64, 67, 0.3), 0px 1px 3px 1px rgba(60, 64, 67, 0.15);\n",
              "      fill: #174EA6;\n",
              "    }\n",
              "\n",
              "    [theme=dark] .colab-df-convert {\n",
              "      background-color: #3B4455;\n",
              "      fill: #D2E3FC;\n",
              "    }\n",
              "\n",
              "    [theme=dark] .colab-df-convert:hover {\n",
              "      background-color: #434B5C;\n",
              "      box-shadow: 0px 1px 3px 1px rgba(0, 0, 0, 0.15);\n",
              "      filter: drop-shadow(0px 1px 2px rgba(0, 0, 0, 0.3));\n",
              "      fill: #FFFFFF;\n",
              "    }\n",
              "  </style>\n",
              "\n",
              "      <script>\n",
              "        const buttonEl =\n",
              "          document.querySelector('#df-6e2441df-3a8f-4ea0-9bd3-6e0b0ad6ad43 button.colab-df-convert');\n",
              "        buttonEl.style.display =\n",
              "          google.colab.kernel.accessAllowed ? 'block' : 'none';\n",
              "\n",
              "        async function convertToInteractive(key) {\n",
              "          const element = document.querySelector('#df-6e2441df-3a8f-4ea0-9bd3-6e0b0ad6ad43');\n",
              "          const dataTable =\n",
              "            await google.colab.kernel.invokeFunction('convertToInteractive',\n",
              "                                                     [key], {});\n",
              "          if (!dataTable) return;\n",
              "\n",
              "          const docLinkHtml = 'Like what you see? Visit the ' +\n",
              "            '<a target=\"_blank\" href=https://colab.research.google.com/notebooks/data_table.ipynb>data table notebook</a>'\n",
              "            + ' to learn more about interactive tables.';\n",
              "          element.innerHTML = '';\n",
              "          dataTable['output_type'] = 'display_data';\n",
              "          await google.colab.output.renderOutput(dataTable, element);\n",
              "          const docLink = document.createElement('div');\n",
              "          docLink.innerHTML = docLinkHtml;\n",
              "          element.appendChild(docLink);\n",
              "        }\n",
              "      </script>\n",
              "    </div>\n",
              "  </div>\n",
              "  "
            ],
            "text/plain": [
              "                                   Пол, возраст  ...                            Авто\n",
              "0       Мужчина ,  29 лет , родился 16 мая 1989  ...                      Не указано\n",
              "1       Мужчина ,  38 лет , родился 25 мая 1980  ...                      Не указано\n",
              "2      Мужчина ,  35 лет , родился 14 июня 1983  ...                      Не указано\n",
              "3   Мужчина ,  33 года , родился 2 августа 1985  ...  Имеется собственный автомобиль\n",
              "4  Мужчина ,  22 года , родился 1 сентября 1996  ...                      Не указано\n",
              "\n",
              "[5 rows x 12 columns]"
            ]
          },
          "metadata": {},
          "execution_count": 6
        }
      ],
      "source": [
        "hh_df.drop(hh_df.columns[0], axis=1, inplace=True)\n",
        "hh_df.head()"
      ]
    },
    {
      "cell_type": "code",
      "execution_count": null,
      "metadata": {
        "colab": {
          "base_uri": "https://localhost:8080/"
        },
        "id": "duzOSLT__CVu",
        "outputId": "8e1f894c-4938-4b80-fbf7-431fb91f5eba"
      },
      "outputs": [
        {
          "output_type": "stream",
          "name": "stdout",
          "text": [
            "<class 'pandas.core.frame.DataFrame'>\n",
            "RangeIndex: 62967 entries, 0 to 62966\n",
            "Data columns (total 12 columns):\n",
            " #   Column                                    Non-Null Count  Dtype \n",
            "---  ------                                    --------------  ----- \n",
            " 0   Пол, возраст                              62967 non-null  object\n",
            " 1   ЗП                                        62967 non-null  object\n",
            " 2   Ищет работу на должность:                 62967 non-null  object\n",
            " 3   Город                                     62967 non-null  object\n",
            " 4   Занятость                                 62967 non-null  object\n",
            " 5   График                                    62967 non-null  object\n",
            " 6   Опыт (двойное нажатие для полной версии)  62599 non-null  object\n",
            " 7   Последенее/нынешнее место работы          62965 non-null  object\n",
            " 8   Последеняя/нынешняя должность             62963 non-null  object\n",
            " 9   Образование и ВУЗ                         62967 non-null  object\n",
            " 10  Обновление резюме                         62967 non-null  object\n",
            " 11  Авто                                      62967 non-null  object\n",
            "dtypes: object(12)\n",
            "memory usage: 5.8+ MB\n"
          ]
        }
      ],
      "source": [
        "hh_df.info()"
      ]
    },
    {
      "cell_type": "code",
      "execution_count": null,
      "metadata": {
        "colab": {
          "base_uri": "https://localhost:8080/"
        },
        "id": "FKeYimxYhjfl",
        "outputId": "9ff5a3f0-dfd7-4f9b-edd3-ae4362d76745"
      },
      "outputs": [
        {
          "output_type": "execute_result",
          "data": {
            "text/plain": [
              "Пол, возраст                                  0\n",
              "ЗП                                            0\n",
              "Ищет работу на должность:                     0\n",
              "Город                                         0\n",
              "Занятость                                     0\n",
              "График                                        0\n",
              "Опыт (двойное нажатие для полной версии)    368\n",
              "Последенее/нынешнее место работы              2\n",
              "Последеняя/нынешняя должность                 4\n",
              "Образование и ВУЗ                             0\n",
              "Обновление резюме                             0\n",
              "Авто                                          0\n",
              "dtype: int64"
            ]
          },
          "metadata": {},
          "execution_count": 8
        }
      ],
      "source": [
        "hh_df.isna().sum()"
      ]
    },
    {
      "cell_type": "code",
      "execution_count": null,
      "metadata": {
        "colab": {
          "base_uri": "https://localhost:8080/",
          "height": 254
        },
        "id": "DMQ_qTf5hn4S",
        "outputId": "3eb2e15c-efe2-4e9f-ca15-e6881cf5028d"
      },
      "outputs": [
        {
          "output_type": "execute_result",
          "data": {
            "text/html": [
              "\n",
              "  <div id=\"df-3d0768d9-7ee7-468f-804f-89453f4b71a9\">\n",
              "    <div class=\"colab-df-container\">\n",
              "      <div>\n",
              "<style scoped>\n",
              "    .dataframe tbody tr th:only-of-type {\n",
              "        vertical-align: middle;\n",
              "    }\n",
              "\n",
              "    .dataframe tbody tr th {\n",
              "        vertical-align: top;\n",
              "    }\n",
              "\n",
              "    .dataframe thead th {\n",
              "        text-align: right;\n",
              "    }\n",
              "</style>\n",
              "<table border=\"1\" class=\"dataframe\">\n",
              "  <thead>\n",
              "    <tr style=\"text-align: right;\">\n",
              "      <th></th>\n",
              "      <th>Пол, возраст</th>\n",
              "      <th>ЗП</th>\n",
              "      <th>Ищет работу на должность:</th>\n",
              "      <th>Город</th>\n",
              "      <th>Занятость</th>\n",
              "      <th>График</th>\n",
              "      <th>Опыт (двойное нажатие для полной версии)</th>\n",
              "      <th>Последенее/нынешнее место работы</th>\n",
              "      <th>Последеняя/нынешняя должность</th>\n",
              "      <th>Образование и ВУЗ</th>\n",
              "      <th>Обновление резюме</th>\n",
              "      <th>Авто</th>\n",
              "    </tr>\n",
              "  </thead>\n",
              "  <tbody>\n",
              "    <tr>\n",
              "      <th>count</th>\n",
              "      <td>62967</td>\n",
              "      <td>62967</td>\n",
              "      <td>62967</td>\n",
              "      <td>62967</td>\n",
              "      <td>62967</td>\n",
              "      <td>62967</td>\n",
              "      <td>62599</td>\n",
              "      <td>62965</td>\n",
              "      <td>62963</td>\n",
              "      <td>62967</td>\n",
              "      <td>62967</td>\n",
              "      <td>62967</td>\n",
              "    </tr>\n",
              "    <tr>\n",
              "      <th>unique</th>\n",
              "      <td>16750</td>\n",
              "      <td>743</td>\n",
              "      <td>16361</td>\n",
              "      <td>10495</td>\n",
              "      <td>38</td>\n",
              "      <td>47</td>\n",
              "      <td>48506</td>\n",
              "      <td>32408</td>\n",
              "      <td>18182</td>\n",
              "      <td>42806</td>\n",
              "      <td>21235</td>\n",
              "      <td>2</td>\n",
              "    </tr>\n",
              "    <tr>\n",
              "      <th>top</th>\n",
              "      <td>Мужчина ,  29 лет , родился 18 октября 1989</td>\n",
              "      <td>50000 руб.</td>\n",
              "      <td>Системный администратор</td>\n",
              "      <td>Москва , не готов к переезду , не готов к кома...</td>\n",
              "      <td>полная занятость</td>\n",
              "      <td>полный день</td>\n",
              "      <td>Опыт работы 5 лет 7 месяцев  Октябрь 2016 — по...</td>\n",
              "      <td>Индивидуальное предпринимательство / частная п...</td>\n",
              "      <td>Системный администратор</td>\n",
              "      <td>Образование Среднее образование</td>\n",
              "      <td>07.05.2019 09:50</td>\n",
              "      <td>Не указано</td>\n",
              "    </tr>\n",
              "    <tr>\n",
              "      <th>freq</th>\n",
              "      <td>24</td>\n",
              "      <td>5780</td>\n",
              "      <td>4280</td>\n",
              "      <td>2038</td>\n",
              "      <td>42276</td>\n",
              "      <td>32052</td>\n",
              "      <td>4</td>\n",
              "      <td>1362</td>\n",
              "      <td>2848</td>\n",
              "      <td>1856</td>\n",
              "      <td>25</td>\n",
              "      <td>45794</td>\n",
              "    </tr>\n",
              "  </tbody>\n",
              "</table>\n",
              "</div>\n",
              "      <button class=\"colab-df-convert\" onclick=\"convertToInteractive('df-3d0768d9-7ee7-468f-804f-89453f4b71a9')\"\n",
              "              title=\"Convert this dataframe to an interactive table.\"\n",
              "              style=\"display:none;\">\n",
              "        \n",
              "  <svg xmlns=\"http://www.w3.org/2000/svg\" height=\"24px\"viewBox=\"0 0 24 24\"\n",
              "       width=\"24px\">\n",
              "    <path d=\"M0 0h24v24H0V0z\" fill=\"none\"/>\n",
              "    <path d=\"M18.56 5.44l.94 2.06.94-2.06 2.06-.94-2.06-.94-.94-2.06-.94 2.06-2.06.94zm-11 1L8.5 8.5l.94-2.06 2.06-.94-2.06-.94L8.5 2.5l-.94 2.06-2.06.94zm10 10l.94 2.06.94-2.06 2.06-.94-2.06-.94-.94-2.06-.94 2.06-2.06.94z\"/><path d=\"M17.41 7.96l-1.37-1.37c-.4-.4-.92-.59-1.43-.59-.52 0-1.04.2-1.43.59L10.3 9.45l-7.72 7.72c-.78.78-.78 2.05 0 2.83L4 21.41c.39.39.9.59 1.41.59.51 0 1.02-.2 1.41-.59l7.78-7.78 2.81-2.81c.8-.78.8-2.07 0-2.86zM5.41 20L4 18.59l7.72-7.72 1.47 1.35L5.41 20z\"/>\n",
              "  </svg>\n",
              "      </button>\n",
              "      \n",
              "  <style>\n",
              "    .colab-df-container {\n",
              "      display:flex;\n",
              "      flex-wrap:wrap;\n",
              "      gap: 12px;\n",
              "    }\n",
              "\n",
              "    .colab-df-convert {\n",
              "      background-color: #E8F0FE;\n",
              "      border: none;\n",
              "      border-radius: 50%;\n",
              "      cursor: pointer;\n",
              "      display: none;\n",
              "      fill: #1967D2;\n",
              "      height: 32px;\n",
              "      padding: 0 0 0 0;\n",
              "      width: 32px;\n",
              "    }\n",
              "\n",
              "    .colab-df-convert:hover {\n",
              "      background-color: #E2EBFA;\n",
              "      box-shadow: 0px 1px 2px rgba(60, 64, 67, 0.3), 0px 1px 3px 1px rgba(60, 64, 67, 0.15);\n",
              "      fill: #174EA6;\n",
              "    }\n",
              "\n",
              "    [theme=dark] .colab-df-convert {\n",
              "      background-color: #3B4455;\n",
              "      fill: #D2E3FC;\n",
              "    }\n",
              "\n",
              "    [theme=dark] .colab-df-convert:hover {\n",
              "      background-color: #434B5C;\n",
              "      box-shadow: 0px 1px 3px 1px rgba(0, 0, 0, 0.15);\n",
              "      filter: drop-shadow(0px 1px 2px rgba(0, 0, 0, 0.3));\n",
              "      fill: #FFFFFF;\n",
              "    }\n",
              "  </style>\n",
              "\n",
              "      <script>\n",
              "        const buttonEl =\n",
              "          document.querySelector('#df-3d0768d9-7ee7-468f-804f-89453f4b71a9 button.colab-df-convert');\n",
              "        buttonEl.style.display =\n",
              "          google.colab.kernel.accessAllowed ? 'block' : 'none';\n",
              "\n",
              "        async function convertToInteractive(key) {\n",
              "          const element = document.querySelector('#df-3d0768d9-7ee7-468f-804f-89453f4b71a9');\n",
              "          const dataTable =\n",
              "            await google.colab.kernel.invokeFunction('convertToInteractive',\n",
              "                                                     [key], {});\n",
              "          if (!dataTable) return;\n",
              "\n",
              "          const docLinkHtml = 'Like what you see? Visit the ' +\n",
              "            '<a target=\"_blank\" href=https://colab.research.google.com/notebooks/data_table.ipynb>data table notebook</a>'\n",
              "            + ' to learn more about interactive tables.';\n",
              "          element.innerHTML = '';\n",
              "          dataTable['output_type'] = 'display_data';\n",
              "          await google.colab.output.renderOutput(dataTable, element);\n",
              "          const docLink = document.createElement('div');\n",
              "          docLink.innerHTML = docLinkHtml;\n",
              "          element.appendChild(docLink);\n",
              "        }\n",
              "      </script>\n",
              "    </div>\n",
              "  </div>\n",
              "  "
            ],
            "text/plain": [
              "                                       Пол, возраст  ...        Авто\n",
              "count                                         62967  ...       62967\n",
              "unique                                        16750  ...           2\n",
              "top     Мужчина ,  29 лет , родился 18 октября 1989  ...  Не указано\n",
              "freq                                             24  ...       45794\n",
              "\n",
              "[4 rows x 12 columns]"
            ]
          },
          "metadata": {},
          "execution_count": 9
        }
      ],
      "source": [
        "hh_df.describe(include=\"object\")"
      ]
    },
    {
      "cell_type": "code",
      "execution_count": null,
      "metadata": {
        "id": "LhhJpoXpiAtH"
      },
      "outputs": [],
      "source": [
        "hh_df = hh_df.apply(lambda x: x.replace(\"\\xa0\",\"\").replace(\"\\n\",\" \") if type(x) == str else x)"
      ]
    },
    {
      "cell_type": "markdown",
      "metadata": {
        "id": "xN6fhzxahs2Y"
      },
      "source": [
        "# Зарплата"
      ]
    },
    {
      "cell_type": "code",
      "execution_count": null,
      "metadata": {
        "colab": {
          "base_uri": "https://localhost:8080/"
        },
        "id": "4x3ztLEX_CYY",
        "outputId": "9d0618d4-3f52-4202-f94f-eccddb9318d6"
      },
      "outputs": [
        {
          "output_type": "execute_result",
          "data": {
            "text/plain": [
              "0"
            ]
          },
          "metadata": {},
          "execution_count": 11
        }
      ],
      "source": [
        "hh_df[\"ЗП\"].apply(lambda x: x.isdigit()).sum()"
      ]
    },
    {
      "cell_type": "code",
      "execution_count": null,
      "metadata": {
        "colab": {
          "base_uri": "https://localhost:8080/"
        },
        "id": "R8qAWHjCakdK",
        "outputId": "99014883-3515-426e-bb41-238e364746e0"
      },
      "outputs": [
        {
          "output_type": "execute_result",
          "data": {
            "text/plain": [
              "Index([' руб.', ' KZT', ' USD', ' бел.руб.', ' EUR', ' грн.', ' сум', ' KGS',\n",
              "       ' AZN'],\n",
              "      dtype='object')"
            ]
          },
          "metadata": {},
          "execution_count": 12
        }
      ],
      "source": [
        "currencies = hh_df[\"ЗП\"].apply(lambda x: re.sub(\"[0-9]\",\"\", x)).value_counts().index\n",
        "currencies"
      ]
    },
    {
      "cell_type": "code",
      "execution_count": null,
      "metadata": {
        "colab": {
          "base_uri": "https://localhost:8080/"
        },
        "id": "zyg9gG89chsz",
        "outputId": "727bf526-86f8-425e-93e6-65d75d91faf5"
      },
      "outputs": [
        {
          "output_type": "execute_result",
          "data": {
            "text/plain": [
              "True"
            ]
          },
          "metadata": {},
          "execution_count": 13
        }
      ],
      "source": [
        "rate = [1, 0.17, 74, 29.11, 83.13, 2.73, 0.0068, 0.87, 43.21]\n",
        "len(currencies) == len(rate)"
      ]
    },
    {
      "cell_type": "code",
      "execution_count": null,
      "metadata": {
        "id": "rh1Eh5sabqlM"
      },
      "outputs": [],
      "source": [
        "for i in range(len(currencies)):\n",
        "  hh_df[\"ЗП\"] = hh_df[\"ЗП\"].apply(lambda x: x if (type(x) == int) | (type(x) == float) else (int(re.sub('[а-яА-ЯёЁ.a-zA-Z]','', x)) * rate[i] if currencies[i] in x else x))"
      ]
    },
    {
      "cell_type": "code",
      "execution_count": null,
      "metadata": {
        "colab": {
          "base_uri": "https://localhost:8080/"
        },
        "id": "MOwVGgOxohs-",
        "outputId": "85073898-f962-4cd8-a26f-146a2a6ddd12"
      },
      "outputs": [
        {
          "output_type": "execute_result",
          "data": {
            "text/plain": [
              "0"
            ]
          },
          "metadata": {},
          "execution_count": 15
        }
      ],
      "source": [
        "hh_df[\"ЗП\"].apply(lambda x: True if type(x) == str else False).sum()"
      ]
    },
    {
      "cell_type": "code",
      "execution_count": null,
      "metadata": {
        "colab": {
          "base_uri": "https://localhost:8080/"
        },
        "id": "4nGseIo7tpM-",
        "outputId": "671381cd-a390-4699-cea0-615f96b8ac8b"
      },
      "outputs": [
        {
          "output_type": "execute_result",
          "data": {
            "text/plain": [
              "dtype('float64')"
            ]
          },
          "metadata": {},
          "execution_count": 16
        }
      ],
      "source": [
        "hh_df[\"ЗП\"].dtypes"
      ]
    },
    {
      "cell_type": "code",
      "execution_count": null,
      "metadata": {
        "id": "mO3g9s7Bu_31"
      },
      "outputs": [],
      "source": [
        "hh_df[\"ЗП\"] = hh_df[\"ЗП\"].transform(lambda x: round(x / 1000, 2))"
      ]
    },
    {
      "cell_type": "code",
      "execution_count": null,
      "metadata": {
        "id": "q-SxES1spiZA"
      },
      "outputs": [],
      "source": [
        "hh_df.rename({\"ЗП\" : \"зп_тыс_руб\"}, axis=1, inplace=True)"
      ]
    },
    {
      "cell_type": "code",
      "execution_count": null,
      "metadata": {
        "colab": {
          "base_uri": "https://localhost:8080/",
          "height": 300
        },
        "id": "FvLoJ-q2a4md",
        "outputId": "b4ef27ad-812b-4133-c0a5-f8cf62b3e268"
      },
      "outputs": [
        {
          "output_type": "execute_result",
          "data": {
            "text/html": [
              "\n",
              "  <div id=\"df-6c1f2bbf-fcad-4265-8f3b-b47b58a8aa7d\">\n",
              "    <div class=\"colab-df-container\">\n",
              "      <div>\n",
              "<style scoped>\n",
              "    .dataframe tbody tr th:only-of-type {\n",
              "        vertical-align: middle;\n",
              "    }\n",
              "\n",
              "    .dataframe tbody tr th {\n",
              "        vertical-align: top;\n",
              "    }\n",
              "\n",
              "    .dataframe thead th {\n",
              "        text-align: right;\n",
              "    }\n",
              "</style>\n",
              "<table border=\"1\" class=\"dataframe\">\n",
              "  <thead>\n",
              "    <tr style=\"text-align: right;\">\n",
              "      <th></th>\n",
              "      <th>зп_тыс_руб</th>\n",
              "    </tr>\n",
              "  </thead>\n",
              "  <tbody>\n",
              "    <tr>\n",
              "      <th>count</th>\n",
              "      <td>62967.000000</td>\n",
              "    </tr>\n",
              "    <tr>\n",
              "      <th>mean</th>\n",
              "      <td>77.503528</td>\n",
              "    </tr>\n",
              "    <tr>\n",
              "      <th>std</th>\n",
              "      <td>135.233349</td>\n",
              "    </tr>\n",
              "    <tr>\n",
              "      <th>min</th>\n",
              "      <td>0.000000</td>\n",
              "    </tr>\n",
              "    <tr>\n",
              "      <th>25%</th>\n",
              "      <td>35.000000</td>\n",
              "    </tr>\n",
              "    <tr>\n",
              "      <th>50%</th>\n",
              "      <td>55.000000</td>\n",
              "    </tr>\n",
              "    <tr>\n",
              "      <th>75%</th>\n",
              "      <td>95.000000</td>\n",
              "    </tr>\n",
              "    <tr>\n",
              "      <th>max</th>\n",
              "      <td>28120.000000</td>\n",
              "    </tr>\n",
              "  </tbody>\n",
              "</table>\n",
              "</div>\n",
              "      <button class=\"colab-df-convert\" onclick=\"convertToInteractive('df-6c1f2bbf-fcad-4265-8f3b-b47b58a8aa7d')\"\n",
              "              title=\"Convert this dataframe to an interactive table.\"\n",
              "              style=\"display:none;\">\n",
              "        \n",
              "  <svg xmlns=\"http://www.w3.org/2000/svg\" height=\"24px\"viewBox=\"0 0 24 24\"\n",
              "       width=\"24px\">\n",
              "    <path d=\"M0 0h24v24H0V0z\" fill=\"none\"/>\n",
              "    <path d=\"M18.56 5.44l.94 2.06.94-2.06 2.06-.94-2.06-.94-.94-2.06-.94 2.06-2.06.94zm-11 1L8.5 8.5l.94-2.06 2.06-.94-2.06-.94L8.5 2.5l-.94 2.06-2.06.94zm10 10l.94 2.06.94-2.06 2.06-.94-2.06-.94-.94-2.06-.94 2.06-2.06.94z\"/><path d=\"M17.41 7.96l-1.37-1.37c-.4-.4-.92-.59-1.43-.59-.52 0-1.04.2-1.43.59L10.3 9.45l-7.72 7.72c-.78.78-.78 2.05 0 2.83L4 21.41c.39.39.9.59 1.41.59.51 0 1.02-.2 1.41-.59l7.78-7.78 2.81-2.81c.8-.78.8-2.07 0-2.86zM5.41 20L4 18.59l7.72-7.72 1.47 1.35L5.41 20z\"/>\n",
              "  </svg>\n",
              "      </button>\n",
              "      \n",
              "  <style>\n",
              "    .colab-df-container {\n",
              "      display:flex;\n",
              "      flex-wrap:wrap;\n",
              "      gap: 12px;\n",
              "    }\n",
              "\n",
              "    .colab-df-convert {\n",
              "      background-color: #E8F0FE;\n",
              "      border: none;\n",
              "      border-radius: 50%;\n",
              "      cursor: pointer;\n",
              "      display: none;\n",
              "      fill: #1967D2;\n",
              "      height: 32px;\n",
              "      padding: 0 0 0 0;\n",
              "      width: 32px;\n",
              "    }\n",
              "\n",
              "    .colab-df-convert:hover {\n",
              "      background-color: #E2EBFA;\n",
              "      box-shadow: 0px 1px 2px rgba(60, 64, 67, 0.3), 0px 1px 3px 1px rgba(60, 64, 67, 0.15);\n",
              "      fill: #174EA6;\n",
              "    }\n",
              "\n",
              "    [theme=dark] .colab-df-convert {\n",
              "      background-color: #3B4455;\n",
              "      fill: #D2E3FC;\n",
              "    }\n",
              "\n",
              "    [theme=dark] .colab-df-convert:hover {\n",
              "      background-color: #434B5C;\n",
              "      box-shadow: 0px 1px 3px 1px rgba(0, 0, 0, 0.15);\n",
              "      filter: drop-shadow(0px 1px 2px rgba(0, 0, 0, 0.3));\n",
              "      fill: #FFFFFF;\n",
              "    }\n",
              "  </style>\n",
              "\n",
              "      <script>\n",
              "        const buttonEl =\n",
              "          document.querySelector('#df-6c1f2bbf-fcad-4265-8f3b-b47b58a8aa7d button.colab-df-convert');\n",
              "        buttonEl.style.display =\n",
              "          google.colab.kernel.accessAllowed ? 'block' : 'none';\n",
              "\n",
              "        async function convertToInteractive(key) {\n",
              "          const element = document.querySelector('#df-6c1f2bbf-fcad-4265-8f3b-b47b58a8aa7d');\n",
              "          const dataTable =\n",
              "            await google.colab.kernel.invokeFunction('convertToInteractive',\n",
              "                                                     [key], {});\n",
              "          if (!dataTable) return;\n",
              "\n",
              "          const docLinkHtml = 'Like what you see? Visit the ' +\n",
              "            '<a target=\"_blank\" href=https://colab.research.google.com/notebooks/data_table.ipynb>data table notebook</a>'\n",
              "            + ' to learn more about interactive tables.';\n",
              "          element.innerHTML = '';\n",
              "          dataTable['output_type'] = 'display_data';\n",
              "          await google.colab.output.renderOutput(dataTable, element);\n",
              "          const docLink = document.createElement('div');\n",
              "          docLink.innerHTML = docLinkHtml;\n",
              "          element.appendChild(docLink);\n",
              "        }\n",
              "      </script>\n",
              "    </div>\n",
              "  </div>\n",
              "  "
            ],
            "text/plain": [
              "         зп_тыс_руб\n",
              "count  62967.000000\n",
              "mean      77.503528\n",
              "std      135.233349\n",
              "min        0.000000\n",
              "25%       35.000000\n",
              "50%       55.000000\n",
              "75%       95.000000\n",
              "max    28120.000000"
            ]
          },
          "metadata": {},
          "execution_count": 19
        }
      ],
      "source": [
        "hh_df.describe()"
      ]
    },
    {
      "cell_type": "code",
      "execution_count": null,
      "metadata": {
        "colab": {
          "base_uri": "https://localhost:8080/",
          "height": 616
        },
        "id": "mwYAe22rZICI",
        "outputId": "4d727bcb-b073-4cb2-dace-b49647a66b06"
      },
      "outputs": [
        {
          "output_type": "display_data",
          "data": {
            "image/png": "[encoded data removed]",
            "text/plain": [
              "<Figure size 1286.64x752.4 with 1 Axes>"
            ]
          },
          "metadata": {}
        }
      ],
      "source": [
        "hh_df[\"зп_тыс_руб\"].hist(bins=100)\n",
        "plt.show()"
      ]
    },
    {
      "cell_type": "code",
      "execution_count": null,
      "metadata": {
        "colab": {
          "base_uri": "https://localhost:8080/"
        },
        "id": "iImS4NxBZIKI",
        "outputId": "5bdeab6c-232e-4b18-aee3-dbefe9f7391e"
      },
      "outputs": [
        {
          "output_type": "execute_result",
          "data": {
            "text/plain": [
              "Пол, возраст                                550\n",
              "зп_тыс_руб                                  550\n",
              "Ищет работу на должность:                   550\n",
              "Город                                       550\n",
              "Занятость                                   550\n",
              "График                                      550\n",
              "Опыт (двойное нажатие для полной версии)    550\n",
              "Последенее/нынешнее место работы            550\n",
              "Последеняя/нынешняя должность               550\n",
              "Образование и ВУЗ                           550\n",
              "Обновление резюме                           550\n",
              "Авто                                        550\n",
              "dtype: int64"
            ]
          },
          "metadata": {},
          "execution_count": 21
        }
      ],
      "source": [
        "hh_df[hh_df[\"зп_тыс_руб\"] > hh_df[\"зп_тыс_руб\"].quantile(0.99)].count()"
      ]
    },
    {
      "cell_type": "code",
      "execution_count": null,
      "metadata": {
        "colab": {
          "base_uri": "https://localhost:8080/",
          "height": 535
        },
        "id": "Tz-MuAfro4d6",
        "outputId": "78a1ac79-b05a-436e-acd4-672231420d17"
      },
      "outputs": [
        {
          "output_type": "execute_result",
          "data": {
            "text/html": [
              "\n",
              "  <div id=\"df-778cb974-6e2c-4d0c-ba1e-fd98b424e2d2\">\n",
              "    <div class=\"colab-df-container\">\n",
              "      <div>\n",
              "<style scoped>\n",
              "    .dataframe tbody tr th:only-of-type {\n",
              "        vertical-align: middle;\n",
              "    }\n",
              "\n",
              "    .dataframe tbody tr th {\n",
              "        vertical-align: top;\n",
              "    }\n",
              "\n",
              "    .dataframe thead th {\n",
              "        text-align: right;\n",
              "    }\n",
              "</style>\n",
              "<table border=\"1\" class=\"dataframe\">\n",
              "  <thead>\n",
              "    <tr style=\"text-align: right;\">\n",
              "      <th></th>\n",
              "      <th>Пол, возраст</th>\n",
              "      <th>зп_тыс_руб</th>\n",
              "      <th>Ищет работу на должность:</th>\n",
              "      <th>Город</th>\n",
              "      <th>Занятость</th>\n",
              "      <th>График</th>\n",
              "      <th>Опыт (двойное нажатие для полной версии)</th>\n",
              "      <th>Последенее/нынешнее место работы</th>\n",
              "      <th>Последеняя/нынешняя должность</th>\n",
              "      <th>Образование и ВУЗ</th>\n",
              "      <th>Обновление резюме</th>\n",
              "      <th>Авто</th>\n",
              "    </tr>\n",
              "  </thead>\n",
              "  <tbody>\n",
              "    <tr>\n",
              "      <th>10707</th>\n",
              "      <td>Мужчина ,  29 лет , родился 21 апреля 1990</td>\n",
              "      <td>8880.0</td>\n",
              "      <td>Специалист по IT</td>\n",
              "      <td>Актобе , готов к переезду , готов к командировкам</td>\n",
              "      <td>полная занятость</td>\n",
              "      <td>полный день</td>\n",
              "      <td>Опыт работы 8 лет 2 месяца  Специалист по IT 1...</td>\n",
              "      <td>ТОО \"AMS\"</td>\n",
              "      <td>Системный администратор</td>\n",
              "      <td>Среднее специальное образование 2009 Экономика...</td>\n",
              "      <td>22.04.2019 15:21</td>\n",
              "      <td>Не указано</td>\n",
              "    </tr>\n",
              "    <tr>\n",
              "      <th>14818</th>\n",
              "      <td>Мужчина ,  38 лет , родился 10 февраля 1981</td>\n",
              "      <td>2500.0</td>\n",
              "      <td>Chief AI Officer</td>\n",
              "      <td>Москва , не готов к переезду , не готов к кома...</td>\n",
              "      <td>полная занятость</td>\n",
              "      <td>полный день</td>\n",
              "      <td>Опыт работы 8 лет 1 месяц  Chief AI Officer 2 ...</td>\n",
              "      <td>Finnish Russian Univeristy Cooperation in Tele...</td>\n",
              "      <td>Project Manager in Multimedia Technologies</td>\n",
              "      <td>Высшее образование (Кандидат наук) 2006 Postgr...</td>\n",
              "      <td>25.10.2018 02:49</td>\n",
              "      <td>Не указано</td>\n",
              "    </tr>\n",
              "    <tr>\n",
              "      <th>18570</th>\n",
              "      <td>Мужчина ,  46 лет , родился 13 февраля 1973</td>\n",
              "      <td>2000.0</td>\n",
              "      <td>BizTalk, SQL, SharePoint. Системный архитектор...</td>\n",
              "      <td>Москва , готов к переезду , готов к командировкам</td>\n",
              "      <td>полная занятость</td>\n",
              "      <td>полный день</td>\n",
              "      <td>Опыт работы 21 год 4 месяца  BizTalk, SQL, Sha...</td>\n",
              "      <td>Мэйджор Карго Сервис (прежде в РЖДстрой, Luxof...</td>\n",
              "      <td>разработчик ПО / системный архитектор</td>\n",
              "      <td>BizTalk, SQL, SharePoint. Системный архитектор...</td>\n",
              "      <td>10.04.2019 16:28</td>\n",
              "      <td>Не указано</td>\n",
              "    </tr>\n",
              "    <tr>\n",
              "      <th>21074</th>\n",
              "      <td>Мужчина ,  24 года , родился 27 декабря 1994</td>\n",
              "      <td>1750.0</td>\n",
              "      <td>Project manager</td>\n",
              "      <td>Москва ,  м. Киевская , не готов к переезду , ...</td>\n",
              "      <td>проектная работа, частичная занятость, полная ...</td>\n",
              "      <td>удаленная работа, гибкий график, полный день</td>\n",
              "      <td>Опыт работы 3 года 3 месяца  Project manager 1...</td>\n",
              "      <td>Тинькофф Банк</td>\n",
              "      <td>Технолог автоматизации бизнес-процессов</td>\n",
              "      <td>Неоконченное высшее образование 2020  Московск...</td>\n",
              "      <td>22.04.2019 18:48</td>\n",
              "      <td>Не указано</td>\n",
              "    </tr>\n",
              "    <tr>\n",
              "      <th>21694</th>\n",
              "      <td>Мужчина ,  39 лет , родился 31 мая 1979</td>\n",
              "      <td>3000.0</td>\n",
              "      <td>Руководитель IT проектов, Роботизация, Автомат...</td>\n",
              "      <td>Москва ,  м. Щелковская , готов к переезду (Бе...</td>\n",
              "      <td>частичная занятость, проектная работа, полная ...</td>\n",
              "      <td>гибкий график, полный день, вахтовый метод, уд...</td>\n",
              "      <td>Опыт работы 23 года 4 месяца  Руководитель IT ...</td>\n",
              "      <td>HAMSTER ROBOTICS</td>\n",
              "      <td>Заместитель директора</td>\n",
              "      <td>Высшее образование 2019  Московский финансово-...</td>\n",
              "      <td>27.04.2019 09:41</td>\n",
              "      <td>Имеется собственный автомобиль</td>\n",
              "    </tr>\n",
              "    <tr>\n",
              "      <th>32821</th>\n",
              "      <td>Мужчина ,  36 лет , родился 2 июня 1982</td>\n",
              "      <td>2000.0</td>\n",
              "      <td>IT архитектор</td>\n",
              "      <td>Москва , готов к переезду (Москва) , не готов ...</td>\n",
              "      <td>полная занятость</td>\n",
              "      <td>полный день</td>\n",
              "      <td>Опыт работы 13 лет 7 месяцев  IT архитектор 2 ...</td>\n",
              "      <td>Credit Suisse</td>\n",
              "      <td>Head of Fixed Income IT support</td>\n",
              "      <td>IT архитектор 2 000 000 руб. Информационные те...</td>\n",
              "      <td>13.01.2019 19:41</td>\n",
              "      <td>Не указано</td>\n",
              "    </tr>\n",
              "    <tr>\n",
              "      <th>37362</th>\n",
              "      <td>Мужчина ,  31 год , родился 31 мая 1987</td>\n",
              "      <td>28120.0</td>\n",
              "      <td>Программирование, Разработка или Системный адм...</td>\n",
              "      <td>Алматы , готов к переезду (Россия, Казахстан, ...</td>\n",
              "      <td>частичная занятость, проектная работа, полная ...</td>\n",
              "      <td>гибкий график, полный день, сменный график, уд...</td>\n",
              "      <td>Опыт работы 9 лет 7 месяцев  Программирование,...</td>\n",
              "      <td>Евразийский банк, АО</td>\n",
              "      <td>Главный специалист Отдел разработки систем роз...</td>\n",
              "      <td>Высшее образование 2014  Университет «Туран», ...</td>\n",
              "      <td>22.04.2019 14:09</td>\n",
              "      <td>Не указано</td>\n",
              "    </tr>\n",
              "    <tr>\n",
              "      <th>46810</th>\n",
              "      <td>Мужчина ,  31 год , родился 26 ноября 1987</td>\n",
              "      <td>2911.0</td>\n",
              "      <td>PPC Manager / Специалист по контекстной рекламе</td>\n",
              "      <td>Минск , не готов к переезду , не готов к коман...</td>\n",
              "      <td>полная занятость</td>\n",
              "      <td>полный день</td>\n",
              "      <td>Опыт работы 8 лет 3 месяца  PPC Manager / Спец...</td>\n",
              "      <td>ЧУП АйТиФикс</td>\n",
              "      <td>Директор</td>\n",
              "      <td>Образование Среднее образование</td>\n",
              "      <td>22.04.2019 08:31</td>\n",
              "      <td>Не указано</td>\n",
              "    </tr>\n",
              "  </tbody>\n",
              "</table>\n",
              "</div>\n",
              "      <button class=\"colab-df-convert\" onclick=\"convertToInteractive('df-778cb974-6e2c-4d0c-ba1e-fd98b424e2d2')\"\n",
              "              title=\"Convert this dataframe to an interactive table.\"\n",
              "              style=\"display:none;\">\n",
              "        \n",
              "  <svg xmlns=\"http://www.w3.org/2000/svg\" height=\"24px\"viewBox=\"0 0 24 24\"\n",
              "       width=\"24px\">\n",
              "    <path d=\"M0 0h24v24H0V0z\" fill=\"none\"/>\n",
              "    <path d=\"M18.56 5.44l.94 2.06.94-2.06 2.06-.94-2.06-.94-.94-2.06-.94 2.06-2.06.94zm-11 1L8.5 8.5l.94-2.06 2.06-.94-2.06-.94L8.5 2.5l-.94 2.06-2.06.94zm10 10l.94 2.06.94-2.06 2.06-.94-2.06-.94-.94-2.06-.94 2.06-2.06.94z\"/><path d=\"M17.41 7.96l-1.37-1.37c-.4-.4-.92-.59-1.43-.59-.52 0-1.04.2-1.43.59L10.3 9.45l-7.72 7.72c-.78.78-.78 2.05 0 2.83L4 21.41c.39.39.9.59 1.41.59.51 0 1.02-.2 1.41-.59l7.78-7.78 2.81-2.81c.8-.78.8-2.07 0-2.86zM5.41 20L4 18.59l7.72-7.72 1.47 1.35L5.41 20z\"/>\n",
              "  </svg>\n",
              "      </button>\n",
              "      \n",
              "  <style>\n",
              "    .colab-df-container {\n",
              "      display:flex;\n",
              "      flex-wrap:wrap;\n",
              "      gap: 12px;\n",
              "    }\n",
              "\n",
              "    .colab-df-convert {\n",
              "      background-color: #E8F0FE;\n",
              "      border: none;\n",
              "      border-radius: 50%;\n",
              "      cursor: pointer;\n",
              "      display: none;\n",
              "      fill: #1967D2;\n",
              "      height: 32px;\n",
              "      padding: 0 0 0 0;\n",
              "      width: 32px;\n",
              "    }\n",
              "\n",
              "    .colab-df-convert:hover {\n",
              "      background-color: #E2EBFA;\n",
              "      box-shadow: 0px 1px 2px rgba(60, 64, 67, 0.3), 0px 1px 3px 1px rgba(60, 64, 67, 0.15);\n",
              "      fill: #174EA6;\n",
              "    }\n",
              "\n",
              "    [theme=dark] .colab-df-convert {\n",
              "      background-color: #3B4455;\n",
              "      fill: #D2E3FC;\n",
              "    }\n",
              "\n",
              "    [theme=dark] .colab-df-convert:hover {\n",
              "      background-color: #434B5C;\n",
              "      box-shadow: 0px 1px 3px 1px rgba(0, 0, 0, 0.15);\n",
              "      filter: drop-shadow(0px 1px 2px rgba(0, 0, 0, 0.3));\n",
              "      fill: #FFFFFF;\n",
              "    }\n",
              "  </style>\n",
              "\n",
              "      <script>\n",
              "        const buttonEl =\n",
              "          document.querySelector('#df-778cb974-6e2c-4d0c-ba1e-fd98b424e2d2 button.colab-df-convert');\n",
              "        buttonEl.style.display =\n",
              "          google.colab.kernel.accessAllowed ? 'block' : 'none';\n",
              "\n",
              "        async function convertToInteractive(key) {\n",
              "          const element = document.querySelector('#df-778cb974-6e2c-4d0c-ba1e-fd98b424e2d2');\n",
              "          const dataTable =\n",
              "            await google.colab.kernel.invokeFunction('convertToInteractive',\n",
              "                                                     [key], {});\n",
              "          if (!dataTable) return;\n",
              "\n",
              "          const docLinkHtml = 'Like what you see? Visit the ' +\n",
              "            '<a target=\"_blank\" href=https://colab.research.google.com/notebooks/data_table.ipynb>data table notebook</a>'\n",
              "            + ' to learn more about interactive tables.';\n",
              "          element.innerHTML = '';\n",
              "          dataTable['output_type'] = 'display_data';\n",
              "          await google.colab.output.renderOutput(dataTable, element);\n",
              "          const docLink = document.createElement('div');\n",
              "          docLink.innerHTML = docLinkHtml;\n",
              "          element.appendChild(docLink);\n",
              "        }\n",
              "      </script>\n",
              "    </div>\n",
              "  </div>\n",
              "  "
            ],
            "text/plain": [
              "                                       Пол, возраст  ...                            Авто\n",
              "10707    Мужчина ,  29 лет , родился 21 апреля 1990  ...                      Не указано\n",
              "14818   Мужчина ,  38 лет , родился 10 февраля 1981  ...                      Не указано\n",
              "18570   Мужчина ,  46 лет , родился 13 февраля 1973  ...                      Не указано\n",
              "21074  Мужчина ,  24 года , родился 27 декабря 1994  ...                      Не указано\n",
              "21694       Мужчина ,  39 лет , родился 31 мая 1979  ...  Имеется собственный автомобиль\n",
              "32821       Мужчина ,  36 лет , родился 2 июня 1982  ...                      Не указано\n",
              "37362       Мужчина ,  31 год , родился 31 мая 1987  ...                      Не указано\n",
              "46810    Мужчина ,  31 год , родился 26 ноября 1987  ...                      Не указано\n",
              "\n",
              "[8 rows x 12 columns]"
            ]
          },
          "metadata": {},
          "execution_count": 22
        }
      ],
      "source": [
        " hh_df[hh_df[\"зп_тыс_руб\"] > 1000]"
      ]
    },
    {
      "cell_type": "code",
      "execution_count": null,
      "metadata": {
        "id": "U11Fo4gHy2q1"
      },
      "outputs": [],
      "source": [
        "indexes_to_drop = hh_df[hh_df[\"зп_тыс_руб\"] > 1000].index"
      ]
    },
    {
      "cell_type": "code",
      "execution_count": null,
      "metadata": {
        "id": "GBwyyZb8yhS0"
      },
      "outputs": [],
      "source": [
        "hh_df.drop(indexes_to_drop, inplace=True)"
      ]
    },
    {
      "cell_type": "code",
      "execution_count": null,
      "metadata": {
        "colab": {
          "base_uri": "https://localhost:8080/",
          "height": 717
        },
        "id": "8SOaPsQazid1",
        "outputId": "7ea06d60-97dc-4b5b-8437-31f6183fcb72"
      },
      "outputs": [
        {
          "output_type": "execute_result",
          "data": {
            "text/plain": [
              "<matplotlib.axes._subplots.AxesSubplot at 0x7fedbee5c090>"
            ]
          },
          "metadata": {},
          "execution_count": 25
        },
        {
          "output_type": "display_data",
          "data": {
            "image/png": "[encoded data removed]",
            "text/plain": [
              "<Figure size 1440x864 with 1 Axes>"
            ]
          },
          "metadata": {}
        }
      ],
      "source": [
        "plt.figure(figsize=(20, 12))\n",
        "hh_df[\"зп_тыс_руб\"].hist(bins=100)"
      ]
    },
    {
      "cell_type": "code",
      "execution_count": null,
      "metadata": {
        "colab": {
          "base_uri": "https://localhost:8080/"
        },
        "id": "nNmk2PPdwsEV",
        "outputId": "f1466cdb-be24-49de-a607-70fd2bec1fc0"
      },
      "outputs": [
        {
          "output_type": "execute_result",
          "data": {
            "text/plain": [
              "123"
            ]
          },
          "metadata": {},
          "execution_count": 26
        }
      ],
      "source": [
        "hh_df[hh_df[\"зп_тыс_руб\"] < 1].count()[0]"
      ]
    },
    {
      "cell_type": "code",
      "execution_count": null,
      "metadata": {
        "id": "bQFba2fdZIMc"
      },
      "outputs": [],
      "source": [
        "indexes_to_drop = hh_df[hh_df[\"зп_тыс_руб\"] < 1].index\n",
        "hh_df.drop(indexes_to_drop, inplace=True)"
      ]
    },
    {
      "cell_type": "code",
      "execution_count": null,
      "metadata": {
        "colab": {
          "base_uri": "https://localhost:8080/",
          "height": 354
        },
        "id": "M5k2T7zdZIR5",
        "outputId": "c0e105ea-55bc-4f5a-857e-920beb514892"
      },
      "outputs": [
        {
          "output_type": "execute_result",
          "data": {
            "text/html": [
              "\n",
              "  <div id=\"df-3850ae11-3160-4fd6-823e-95dca1db4c4e\">\n",
              "    <div class=\"colab-df-container\">\n",
              "      <div>\n",
              "<style scoped>\n",
              "    .dataframe tbody tr th:only-of-type {\n",
              "        vertical-align: middle;\n",
              "    }\n",
              "\n",
              "    .dataframe tbody tr th {\n",
              "        vertical-align: top;\n",
              "    }\n",
              "\n",
              "    .dataframe thead th {\n",
              "        text-align: right;\n",
              "    }\n",
              "</style>\n",
              "<table border=\"1\" class=\"dataframe\">\n",
              "  <thead>\n",
              "    <tr style=\"text-align: right;\">\n",
              "      <th></th>\n",
              "      <th>Пол, возраст</th>\n",
              "      <th>зп_тыс_руб</th>\n",
              "      <th>Ищет работу на должность:</th>\n",
              "      <th>Город</th>\n",
              "      <th>Занятость</th>\n",
              "      <th>График</th>\n",
              "      <th>Опыт (двойное нажатие для полной версии)</th>\n",
              "      <th>Последенее/нынешнее место работы</th>\n",
              "      <th>Последеняя/нынешняя должность</th>\n",
              "      <th>Образование и ВУЗ</th>\n",
              "      <th>Обновление резюме</th>\n",
              "      <th>Авто</th>\n",
              "    </tr>\n",
              "  </thead>\n",
              "  <tbody>\n",
              "    <tr>\n",
              "      <th>0</th>\n",
              "      <td>Мужчина ,  29 лет , родился 16 мая 1989</td>\n",
              "      <td>40.0</td>\n",
              "      <td>Специалист по поддержке чата(support team) дом...</td>\n",
              "      <td>Новороссийск , готов к переезду (Анапа, Геленд...</td>\n",
              "      <td>полная занятость</td>\n",
              "      <td>полный день</td>\n",
              "      <td>Опыт работы 3 года 9 месяцев  Специалист по по...</td>\n",
              "      <td>ООО \"Гольфстрим\"</td>\n",
              "      <td>Генеральный директор</td>\n",
              "      <td>Высшее образование 2011  Международный юридиче...</td>\n",
              "      <td>26.04.2019 08:04</td>\n",
              "      <td>Не указано</td>\n",
              "    </tr>\n",
              "    <tr>\n",
              "      <th>1</th>\n",
              "      <td>Мужчина ,  38 лет , родился 25 мая 1980</td>\n",
              "      <td>40.0</td>\n",
              "      <td>Системный администратор</td>\n",
              "      <td>Новосибирск ,  м. Березовая роща , не готов к ...</td>\n",
              "      <td>полная занятость</td>\n",
              "      <td>полный день</td>\n",
              "      <td>Опыт работы 11 лет 11 месяцев  Системный админ...</td>\n",
              "      <td>ООО «Завод модульных технологий»</td>\n",
              "      <td>Системный администратор</td>\n",
              "      <td>Высшее образование 2002 Новосибирский государс...</td>\n",
              "      <td>26.04.2019 04:30</td>\n",
              "      <td>Не указано</td>\n",
              "    </tr>\n",
              "    <tr>\n",
              "      <th>2</th>\n",
              "      <td>Мужчина ,  35 лет , родился 14 июня 1983</td>\n",
              "      <td>300.0</td>\n",
              "      <td>DevOps TeamLead / DevOps архитектор</td>\n",
              "      <td>Москва , готов к переезду , готов к редким ком...</td>\n",
              "      <td>полная занятость</td>\n",
              "      <td>полный день</td>\n",
              "      <td>Опыт работы 12 лет 11 месяцев  DevOps TeamLead...</td>\n",
              "      <td>Банк ВТБ (ПАО)</td>\n",
              "      <td>Начальник отдела методологии разработки (DevOp...</td>\n",
              "      <td>DevOps TeamLead / DevOps архитектор 300 000 ру...</td>\n",
              "      <td>09.04.2019 14:40</td>\n",
              "      <td>Не указано</td>\n",
              "    </tr>\n",
              "    <tr>\n",
              "      <th>3</th>\n",
              "      <td>Мужчина ,  33 года , родился 2 августа 1985</td>\n",
              "      <td>180.0</td>\n",
              "      <td>Руководитель IT отдела</td>\n",
              "      <td>Москва ,  м. Щукинская , не готов к переезду ,...</td>\n",
              "      <td>частичная занятость, полная занятость</td>\n",
              "      <td>удаленная работа, полный день</td>\n",
              "      <td>Опыт работы 15 лет 10 месяцев  Руководитель IT...</td>\n",
              "      <td>\"Ай-Теко\", ведущий российский системный интегр...</td>\n",
              "      <td>Старший системный администратор</td>\n",
              "      <td>Руководитель IT отдела 180 000 руб. Информацио...</td>\n",
              "      <td>09.04.2019 14:39</td>\n",
              "      <td>Имеется собственный автомобиль</td>\n",
              "    </tr>\n",
              "    <tr>\n",
              "      <th>4</th>\n",
              "      <td>Мужчина ,  22 года , родился 1 сентября 1996</td>\n",
              "      <td>40.0</td>\n",
              "      <td>Junior Developer</td>\n",
              "      <td>Москва ,  м. Юго-Западная , не готов к переезд...</td>\n",
              "      <td>стажировка, частичная занятость, проектная работа</td>\n",
              "      <td>гибкий график, удаленная работа</td>\n",
              "      <td>Опыт работы 1 год 1 месяц  Junior Developer 40...</td>\n",
              "      <td>R-Style SoftLab</td>\n",
              "      <td>Менеджер IT-проектов</td>\n",
              "      <td>Junior Developer 40 000 руб. Информационные те...</td>\n",
              "      <td>29.03.2019 12:40</td>\n",
              "      <td>Не указано</td>\n",
              "    </tr>\n",
              "  </tbody>\n",
              "</table>\n",
              "</div>\n",
              "      <button class=\"colab-df-convert\" onclick=\"convertToInteractive('df-3850ae11-3160-4fd6-823e-95dca1db4c4e')\"\n",
              "              title=\"Convert this dataframe to an interactive table.\"\n",
              "              style=\"display:none;\">\n",
              "        \n",
              "  <svg xmlns=\"http://www.w3.org/2000/svg\" height=\"24px\"viewBox=\"0 0 24 24\"\n",
              "       width=\"24px\">\n",
              "    <path d=\"M0 0h24v24H0V0z\" fill=\"none\"/>\n",
              "    <path d=\"M18.56 5.44l.94 2.06.94-2.06 2.06-.94-2.06-.94-.94-2.06-.94 2.06-2.06.94zm-11 1L8.5 8.5l.94-2.06 2.06-.94-2.06-.94L8.5 2.5l-.94 2.06-2.06.94zm10 10l.94 2.06.94-2.06 2.06-.94-2.06-.94-.94-2.06-.94 2.06-2.06.94z\"/><path d=\"M17.41 7.96l-1.37-1.37c-.4-.4-.92-.59-1.43-.59-.52 0-1.04.2-1.43.59L10.3 9.45l-7.72 7.72c-.78.78-.78 2.05 0 2.83L4 21.41c.39.39.9.59 1.41.59.51 0 1.02-.2 1.41-.59l7.78-7.78 2.81-2.81c.8-.78.8-2.07 0-2.86zM5.41 20L4 18.59l7.72-7.72 1.47 1.35L5.41 20z\"/>\n",
              "  </svg>\n",
              "      </button>\n",
              "      \n",
              "  <style>\n",
              "    .colab-df-container {\n",
              "      display:flex;\n",
              "      flex-wrap:wrap;\n",
              "      gap: 12px;\n",
              "    }\n",
              "\n",
              "    .colab-df-convert {\n",
              "      background-color: #E8F0FE;\n",
              "      border: none;\n",
              "      border-radius: 50%;\n",
              "      cursor: pointer;\n",
              "      display: none;\n",
              "      fill: #1967D2;\n",
              "      height: 32px;\n",
              "      padding: 0 0 0 0;\n",
              "      width: 32px;\n",
              "    }\n",
              "\n",
              "    .colab-df-convert:hover {\n",
              "      background-color: #E2EBFA;\n",
              "      box-shadow: 0px 1px 2px rgba(60, 64, 67, 0.3), 0px 1px 3px 1px rgba(60, 64, 67, 0.15);\n",
              "      fill: #174EA6;\n",
              "    }\n",
              "\n",
              "    [theme=dark] .colab-df-convert {\n",
              "      background-color: #3B4455;\n",
              "      fill: #D2E3FC;\n",
              "    }\n",
              "\n",
              "    [theme=dark] .colab-df-convert:hover {\n",
              "      background-color: #434B5C;\n",
              "      box-shadow: 0px 1px 3px 1px rgba(0, 0, 0, 0.15);\n",
              "      filter: drop-shadow(0px 1px 2px rgba(0, 0, 0, 0.3));\n",
              "      fill: #FFFFFF;\n",
              "    }\n",
              "  </style>\n",
              "\n",
              "      <script>\n",
              "        const buttonEl =\n",
              "          document.querySelector('#df-3850ae11-3160-4fd6-823e-95dca1db4c4e button.colab-df-convert');\n",
              "        buttonEl.style.display =\n",
              "          google.colab.kernel.accessAllowed ? 'block' : 'none';\n",
              "\n",
              "        async function convertToInteractive(key) {\n",
              "          const element = document.querySelector('#df-3850ae11-3160-4fd6-823e-95dca1db4c4e');\n",
              "          const dataTable =\n",
              "            await google.colab.kernel.invokeFunction('convertToInteractive',\n",
              "                                                     [key], {});\n",
              "          if (!dataTable) return;\n",
              "\n",
              "          const docLinkHtml = 'Like what you see? Visit the ' +\n",
              "            '<a target=\"_blank\" href=https://colab.research.google.com/notebooks/data_table.ipynb>data table notebook</a>'\n",
              "            + ' to learn more about interactive tables.';\n",
              "          element.innerHTML = '';\n",
              "          dataTable['output_type'] = 'display_data';\n",
              "          await google.colab.output.renderOutput(dataTable, element);\n",
              "          const docLink = document.createElement('div');\n",
              "          docLink.innerHTML = docLinkHtml;\n",
              "          element.appendChild(docLink);\n",
              "        }\n",
              "      </script>\n",
              "    </div>\n",
              "  </div>\n",
              "  "
            ],
            "text/plain": [
              "                                   Пол, возраст  ...                            Авто\n",
              "0       Мужчина ,  29 лет , родился 16 мая 1989  ...                      Не указано\n",
              "1       Мужчина ,  38 лет , родился 25 мая 1980  ...                      Не указано\n",
              "2      Мужчина ,  35 лет , родился 14 июня 1983  ...                      Не указано\n",
              "3   Мужчина ,  33 года , родился 2 августа 1985  ...  Имеется собственный автомобиль\n",
              "4  Мужчина ,  22 года , родился 1 сентября 1996  ...                      Не указано\n",
              "\n",
              "[5 rows x 12 columns]"
            ]
          },
          "metadata": {},
          "execution_count": 28
        }
      ],
      "source": [
        "hh_df.head()"
      ]
    },
    {
      "cell_type": "markdown",
      "metadata": {
        "id": "cgDXo4xFiPHk"
      },
      "source": [
        "# Последнее/нынешнее место работы, должность"
      ]
    },
    {
      "cell_type": "code",
      "execution_count": null,
      "metadata": {
        "colab": {
          "base_uri": "https://localhost:8080/"
        },
        "id": "5BzrMPL79Pv_",
        "outputId": "f9a4009a-2209-49d4-c837-7450ebb27c7b"
      },
      "outputs": [
        {
          "output_type": "execute_result",
          "data": {
            "text/html": [
              "\n",
              "  <div id=\"df-398aec45-94a3-48a7-a305-f1887194a6be\">\n",
              "    <div class=\"colab-df-container\">\n",
              "      <div>\n",
              "<style scoped>\n",
              "    .dataframe tbody tr th:only-of-type {\n",
              "        vertical-align: middle;\n",
              "    }\n",
              "\n",
              "    .dataframe tbody tr th {\n",
              "        vertical-align: top;\n",
              "    }\n",
              "\n",
              "    .dataframe thead th {\n",
              "        text-align: right;\n",
              "    }\n",
              "</style>\n",
              "<table border=\"1\" class=\"dataframe\">\n",
              "  <thead>\n",
              "    <tr style=\"text-align: right;\">\n",
              "      <th></th>\n",
              "      <th>Пол, возраст</th>\n",
              "      <th>зп_тыс_руб</th>\n",
              "      <th>Ищет работу на должность:</th>\n",
              "      <th>Город</th>\n",
              "      <th>Занятость</th>\n",
              "      <th>График</th>\n",
              "      <th>Опыт (двойное нажатие для полной версии)</th>\n",
              "      <th>Последенее/нынешнее место работы</th>\n",
              "      <th>Последеняя/нынешняя должность</th>\n",
              "      <th>Образование и ВУЗ</th>\n",
              "      <th>Обновление резюме</th>\n",
              "      <th>Авто</th>\n",
              "    </tr>\n",
              "  </thead>\n",
              "  <tbody>\n",
              "    <tr>\n",
              "      <th>18143</th>\n",
              "      <td>Женщина ,  22 года , родилась 5 сентября 1996</td>\n",
              "      <td>10.0</td>\n",
              "      <td>Программист-стажер</td>\n",
              "      <td>Дубна , не готова к переезду , не готова к ком...</td>\n",
              "      <td>стажировка, частичная занятость, проектная работа</td>\n",
              "      <td>полный день</td>\n",
              "      <td>Опыт работы 4 месяца  Февраль 2019 — по настоя...</td>\n",
              "      <td>NaN</td>\n",
              "      <td>NaN</td>\n",
              "      <td>Высшее образование (Бакалавр) 2020  Международ...</td>\n",
              "      <td>19.04.2019 09:03</td>\n",
              "      <td>Не указано</td>\n",
              "    </tr>\n",
              "    <tr>\n",
              "      <th>31935</th>\n",
              "      <td>Женщина ,  22 года , родилась 5 сентября 1996</td>\n",
              "      <td>10.0</td>\n",
              "      <td>Программист-стажер</td>\n",
              "      <td>Дубна , не готова к переезду , не готова к ком...</td>\n",
              "      <td>стажировка, частичная занятость, проектная работа</td>\n",
              "      <td>полный день</td>\n",
              "      <td>Опыт работы 4 месяца  Февраль 2019 — по настоя...</td>\n",
              "      <td>NaN</td>\n",
              "      <td>NaN</td>\n",
              "      <td>Высшее образование (Бакалавр) 2020  Международ...</td>\n",
              "      <td>19.04.2019 09:03</td>\n",
              "      <td>Не указано</td>\n",
              "    </tr>\n",
              "  </tbody>\n",
              "</table>\n",
              "</div>\n",
              "      <button class=\"colab-df-convert\" onclick=\"convertToInteractive('df-398aec45-94a3-48a7-a305-f1887194a6be')\"\n",
              "              title=\"Convert this dataframe to an interactive table.\"\n",
              "              style=\"display:none;\">\n",
              "        \n",
              "  <svg xmlns=\"http://www.w3.org/2000/svg\" height=\"24px\"viewBox=\"0 0 24 24\"\n",
              "       width=\"24px\">\n",
              "    <path d=\"M0 0h24v24H0V0z\" fill=\"none\"/>\n",
              "    <path d=\"M18.56 5.44l.94 2.06.94-2.06 2.06-.94-2.06-.94-.94-2.06-.94 2.06-2.06.94zm-11 1L8.5 8.5l.94-2.06 2.06-.94-2.06-.94L8.5 2.5l-.94 2.06-2.06.94zm10 10l.94 2.06.94-2.06 2.06-.94-2.06-.94-.94-2.06-.94 2.06-2.06.94z\"/><path d=\"M17.41 7.96l-1.37-1.37c-.4-.4-.92-.59-1.43-.59-.52 0-1.04.2-1.43.59L10.3 9.45l-7.72 7.72c-.78.78-.78 2.05 0 2.83L4 21.41c.39.39.9.59 1.41.59.51 0 1.02-.2 1.41-.59l7.78-7.78 2.81-2.81c.8-.78.8-2.07 0-2.86zM5.41 20L4 18.59l7.72-7.72 1.47 1.35L5.41 20z\"/>\n",
              "  </svg>\n",
              "      </button>\n",
              "      \n",
              "  <style>\n",
              "    .colab-df-container {\n",
              "      display:flex;\n",
              "      flex-wrap:wrap;\n",
              "      gap: 12px;\n",
              "    }\n",
              "\n",
              "    .colab-df-convert {\n",
              "      background-color: #E8F0FE;\n",
              "      border: none;\n",
              "      border-radius: 50%;\n",
              "      cursor: pointer;\n",
              "      display: none;\n",
              "      fill: #1967D2;\n",
              "      height: 32px;\n",
              "      padding: 0 0 0 0;\n",
              "      width: 32px;\n",
              "    }\n",
              "\n",
              "    .colab-df-convert:hover {\n",
              "      background-color: #E2EBFA;\n",
              "      box-shadow: 0px 1px 2px rgba(60, 64, 67, 0.3), 0px 1px 3px 1px rgba(60, 64, 67, 0.15);\n",
              "      fill: #174EA6;\n",
              "    }\n",
              "\n",
              "    [theme=dark] .colab-df-convert {\n",
              "      background-color: #3B4455;\n",
              "      fill: #D2E3FC;\n",
              "    }\n",
              "\n",
              "    [theme=dark] .colab-df-convert:hover {\n",
              "      background-color: #434B5C;\n",
              "      box-shadow: 0px 1px 3px 1px rgba(0, 0, 0, 0.15);\n",
              "      filter: drop-shadow(0px 1px 2px rgba(0, 0, 0, 0.3));\n",
              "      fill: #FFFFFF;\n",
              "    }\n",
              "  </style>\n",
              "\n",
              "      <script>\n",
              "        const buttonEl =\n",
              "          document.querySelector('#df-398aec45-94a3-48a7-a305-f1887194a6be button.colab-df-convert');\n",
              "        buttonEl.style.display =\n",
              "          google.colab.kernel.accessAllowed ? 'block' : 'none';\n",
              "\n",
              "        async function convertToInteractive(key) {\n",
              "          const element = document.querySelector('#df-398aec45-94a3-48a7-a305-f1887194a6be');\n",
              "          const dataTable =\n",
              "            await google.colab.kernel.invokeFunction('convertToInteractive',\n",
              "                                                     [key], {});\n",
              "          if (!dataTable) return;\n",
              "\n",
              "          const docLinkHtml = 'Like what you see? Visit the ' +\n",
              "            '<a target=\"_blank\" href=https://colab.research.google.com/notebooks/data_table.ipynb>data table notebook</a>'\n",
              "            + ' to learn more about interactive tables.';\n",
              "          element.innerHTML = '';\n",
              "          dataTable['output_type'] = 'display_data';\n",
              "          await google.colab.output.renderOutput(dataTable, element);\n",
              "          const docLink = document.createElement('div');\n",
              "          docLink.innerHTML = docLinkHtml;\n",
              "          element.appendChild(docLink);\n",
              "        }\n",
              "      </script>\n",
              "    </div>\n",
              "  </div>\n",
              "  "
            ],
            "text/plain": [
              "                                        Пол, возраст  ...        Авто\n",
              "18143  Женщина ,  22 года , родилась 5 сентября 1996  ...  Не указано\n",
              "31935  Женщина ,  22 года , родилась 5 сентября 1996  ...  Не указано\n",
              "\n",
              "[2 rows x 12 columns]"
            ]
          },
          "metadata": {},
          "execution_count": 29
        }
      ],
      "source": [
        "hh_df[hh_df[\"Последенее/нынешнее место работы\"].isna()]"
      ]
    },
    {
      "cell_type": "code",
      "execution_count": null,
      "metadata": {
        "colab": {
          "base_uri": "https://localhost:8080/"
        },
        "id": "PjuDdaPu9Z1L",
        "outputId": "beb39f15-9d4d-4e0b-fc3f-57edf061cfc7"
      },
      "outputs": [
        {
          "output_type": "execute_result",
          "data": {
            "text/html": [
              "\n",
              "  <div id=\"df-76a82340-4299-49ae-9cc0-bb031fa47f3b\">\n",
              "    <div class=\"colab-df-container\">\n",
              "      <div>\n",
              "<style scoped>\n",
              "    .dataframe tbody tr th:only-of-type {\n",
              "        vertical-align: middle;\n",
              "    }\n",
              "\n",
              "    .dataframe tbody tr th {\n",
              "        vertical-align: top;\n",
              "    }\n",
              "\n",
              "    .dataframe thead th {\n",
              "        text-align: right;\n",
              "    }\n",
              "</style>\n",
              "<table border=\"1\" class=\"dataframe\">\n",
              "  <thead>\n",
              "    <tr style=\"text-align: right;\">\n",
              "      <th></th>\n",
              "      <th>Пол, возраст</th>\n",
              "      <th>зп_тыс_руб</th>\n",
              "      <th>Ищет работу на должность:</th>\n",
              "      <th>Город</th>\n",
              "      <th>Занятость</th>\n",
              "      <th>График</th>\n",
              "      <th>Опыт (двойное нажатие для полной версии)</th>\n",
              "      <th>Последенее/нынешнее место работы</th>\n",
              "      <th>Последеняя/нынешняя должность</th>\n",
              "      <th>Образование и ВУЗ</th>\n",
              "      <th>Обновление резюме</th>\n",
              "      <th>Авто</th>\n",
              "    </tr>\n",
              "  </thead>\n",
              "  <tbody>\n",
              "    <tr>\n",
              "      <th>3081</th>\n",
              "      <td>Мужчина ,  22 года , родился 5 мая 1997</td>\n",
              "      <td>40.0</td>\n",
              "      <td>Представитель</td>\n",
              "      <td>Грозный , не готов к переезду , не готов к ком...</td>\n",
              "      <td>полная занятость</td>\n",
              "      <td>полный день</td>\n",
              "      <td>Опыт работы 1 год 2 месяца  Апрель 2018 — по н...</td>\n",
              "      <td>Родники кавказа</td>\n",
              "      <td>NaN</td>\n",
              "      <td>Высшее образование 2018  Чеченский государстве...</td>\n",
              "      <td>15.04.2019 14:44</td>\n",
              "      <td>Не указано</td>\n",
              "    </tr>\n",
              "    <tr>\n",
              "      <th>18143</th>\n",
              "      <td>Женщина ,  22 года , родилась 5 сентября 1996</td>\n",
              "      <td>10.0</td>\n",
              "      <td>Программист-стажер</td>\n",
              "      <td>Дубна , не готова к переезду , не готова к ком...</td>\n",
              "      <td>стажировка, частичная занятость, проектная работа</td>\n",
              "      <td>полный день</td>\n",
              "      <td>Опыт работы 4 месяца  Февраль 2019 — по настоя...</td>\n",
              "      <td>NaN</td>\n",
              "      <td>NaN</td>\n",
              "      <td>Высшее образование (Бакалавр) 2020  Международ...</td>\n",
              "      <td>19.04.2019 09:03</td>\n",
              "      <td>Не указано</td>\n",
              "    </tr>\n",
              "    <tr>\n",
              "      <th>31935</th>\n",
              "      <td>Женщина ,  22 года , родилась 5 сентября 1996</td>\n",
              "      <td>10.0</td>\n",
              "      <td>Программист-стажер</td>\n",
              "      <td>Дубна , не готова к переезду , не готова к ком...</td>\n",
              "      <td>стажировка, частичная занятость, проектная работа</td>\n",
              "      <td>полный день</td>\n",
              "      <td>Опыт работы 4 месяца  Февраль 2019 — по настоя...</td>\n",
              "      <td>NaN</td>\n",
              "      <td>NaN</td>\n",
              "      <td>Высшее образование (Бакалавр) 2020  Международ...</td>\n",
              "      <td>19.04.2019 09:03</td>\n",
              "      <td>Не указано</td>\n",
              "    </tr>\n",
              "    <tr>\n",
              "      <th>51515</th>\n",
              "      <td>Мужчина ,  22 года , родился 5 мая 1997</td>\n",
              "      <td>40.0</td>\n",
              "      <td>Представитель</td>\n",
              "      <td>Грозный , не готов к переезду , не готов к ком...</td>\n",
              "      <td>полная занятость</td>\n",
              "      <td>полный день</td>\n",
              "      <td>Опыт работы 1 год 2 месяца  Апрель 2018 — по н...</td>\n",
              "      <td>Родники кавказа</td>\n",
              "      <td>NaN</td>\n",
              "      <td>Высшее образование 2018  Чеченский государстве...</td>\n",
              "      <td>15.04.2019 14:44</td>\n",
              "      <td>Не указано</td>\n",
              "    </tr>\n",
              "  </tbody>\n",
              "</table>\n",
              "</div>\n",
              "      <button class=\"colab-df-convert\" onclick=\"convertToInteractive('df-76a82340-4299-49ae-9cc0-bb031fa47f3b')\"\n",
              "              title=\"Convert this dataframe to an interactive table.\"\n",
              "              style=\"display:none;\">\n",
              "        \n",
              "  <svg xmlns=\"http://www.w3.org/2000/svg\" height=\"24px\"viewBox=\"0 0 24 24\"\n",
              "       width=\"24px\">\n",
              "    <path d=\"M0 0h24v24H0V0z\" fill=\"none\"/>\n",
              "    <path d=\"M18.56 5.44l.94 2.06.94-2.06 2.06-.94-2.06-.94-.94-2.06-.94 2.06-2.06.94zm-11 1L8.5 8.5l.94-2.06 2.06-.94-2.06-.94L8.5 2.5l-.94 2.06-2.06.94zm10 10l.94 2.06.94-2.06 2.06-.94-2.06-.94-.94-2.06-.94 2.06-2.06.94z\"/><path d=\"M17.41 7.96l-1.37-1.37c-.4-.4-.92-.59-1.43-.59-.52 0-1.04.2-1.43.59L10.3 9.45l-7.72 7.72c-.78.78-.78 2.05 0 2.83L4 21.41c.39.39.9.59 1.41.59.51 0 1.02-.2 1.41-.59l7.78-7.78 2.81-2.81c.8-.78.8-2.07 0-2.86zM5.41 20L4 18.59l7.72-7.72 1.47 1.35L5.41 20z\"/>\n",
              "  </svg>\n",
              "      </button>\n",
              "      \n",
              "  <style>\n",
              "    .colab-df-container {\n",
              "      display:flex;\n",
              "      flex-wrap:wrap;\n",
              "      gap: 12px;\n",
              "    }\n",
              "\n",
              "    .colab-df-convert {\n",
              "      background-color: #E8F0FE;\n",
              "      border: none;\n",
              "      border-radius: 50%;\n",
              "      cursor: pointer;\n",
              "      display: none;\n",
              "      fill: #1967D2;\n",
              "      height: 32px;\n",
              "      padding: 0 0 0 0;\n",
              "      width: 32px;\n",
              "    }\n",
              "\n",
              "    .colab-df-convert:hover {\n",
              "      background-color: #E2EBFA;\n",
              "      box-shadow: 0px 1px 2px rgba(60, 64, 67, 0.3), 0px 1px 3px 1px rgba(60, 64, 67, 0.15);\n",
              "      fill: #174EA6;\n",
              "    }\n",
              "\n",
              "    [theme=dark] .colab-df-convert {\n",
              "      background-color: #3B4455;\n",
              "      fill: #D2E3FC;\n",
              "    }\n",
              "\n",
              "    [theme=dark] .colab-df-convert:hover {\n",
              "      background-color: #434B5C;\n",
              "      box-shadow: 0px 1px 3px 1px rgba(0, 0, 0, 0.15);\n",
              "      filter: drop-shadow(0px 1px 2px rgba(0, 0, 0, 0.3));\n",
              "      fill: #FFFFFF;\n",
              "    }\n",
              "  </style>\n",
              "\n",
              "      <script>\n",
              "        const buttonEl =\n",
              "          document.querySelector('#df-76a82340-4299-49ae-9cc0-bb031fa47f3b button.colab-df-convert');\n",
              "        buttonEl.style.display =\n",
              "          google.colab.kernel.accessAllowed ? 'block' : 'none';\n",
              "\n",
              "        async function convertToInteractive(key) {\n",
              "          const element = document.querySelector('#df-76a82340-4299-49ae-9cc0-bb031fa47f3b');\n",
              "          const dataTable =\n",
              "            await google.colab.kernel.invokeFunction('convertToInteractive',\n",
              "                                                     [key], {});\n",
              "          if (!dataTable) return;\n",
              "\n",
              "          const docLinkHtml = 'Like what you see? Visit the ' +\n",
              "            '<a target=\"_blank\" href=https://colab.research.google.com/notebooks/data_table.ipynb>data table notebook</a>'\n",
              "            + ' to learn more about interactive tables.';\n",
              "          element.innerHTML = '';\n",
              "          dataTable['output_type'] = 'display_data';\n",
              "          await google.colab.output.renderOutput(dataTable, element);\n",
              "          const docLink = document.createElement('div');\n",
              "          docLink.innerHTML = docLinkHtml;\n",
              "          element.appendChild(docLink);\n",
              "        }\n",
              "      </script>\n",
              "    </div>\n",
              "  </div>\n",
              "  "
            ],
            "text/plain": [
              "                                        Пол, возраст  ...        Авто\n",
              "3081         Мужчина ,  22 года , родился 5 мая 1997  ...  Не указано\n",
              "18143  Женщина ,  22 года , родилась 5 сентября 1996  ...  Не указано\n",
              "31935  Женщина ,  22 года , родилась 5 сентября 1996  ...  Не указано\n",
              "51515        Мужчина ,  22 года , родился 5 мая 1997  ...  Не указано\n",
              "\n",
              "[4 rows x 12 columns]"
            ]
          },
          "metadata": {},
          "execution_count": 30
        }
      ],
      "source": [
        "hh_df[hh_df[\"Последеняя/нынешняя должность\"].isna()]"
      ]
    },
    {
      "cell_type": "code",
      "execution_count": null,
      "metadata": {
        "id": "tWfVU6mEZIZ4"
      },
      "outputs": [],
      "source": [
        "indexes_to_drop = hh_df[hh_df[\"Последеняя/нынешняя должность\"].isna()].index"
      ]
    },
    {
      "cell_type": "code",
      "execution_count": null,
      "metadata": {
        "id": "Ikwr-RfqZIct"
      },
      "outputs": [],
      "source": [
        "hh_df.drop(indexes_to_drop, inplace=True)"
      ]
    },
    {
      "cell_type": "code",
      "execution_count": null,
      "metadata": {
        "colab": {
          "base_uri": "https://localhost:8080/"
        },
        "id": "RqaSPYWyZIfX",
        "outputId": "57b31852-c0a6-4731-e5dd-a88f102f9902"
      },
      "outputs": [
        {
          "output_type": "execute_result",
          "data": {
            "text/plain": [
              "Пол, возраст                                  0\n",
              "зп_тыс_руб                                    0\n",
              "Ищет работу на должность:                     0\n",
              "Город                                         0\n",
              "Занятость                                     0\n",
              "График                                        0\n",
              "Опыт (двойное нажатие для полной версии)    365\n",
              "Последенее/нынешнее место работы              0\n",
              "Последеняя/нынешняя должность                 0\n",
              "Образование и ВУЗ                             0\n",
              "Обновление резюме                             0\n",
              "Авто                                          0\n",
              "dtype: int64"
            ]
          },
          "metadata": {},
          "execution_count": 33
        }
      ],
      "source": [
        "hh_df.isna().sum()"
      ]
    },
    {
      "cell_type": "markdown",
      "metadata": {
        "id": "CIGVPV-th9wb"
      },
      "source": [
        "# Опыт работы"
      ]
    },
    {
      "cell_type": "code",
      "execution_count": null,
      "metadata": {
        "colab": {
          "base_uri": "https://localhost:8080/"
        },
        "id": "l4v2JnSQ6YM6",
        "outputId": "0369e667-5326-47a4-e571-793e000b58b8"
      },
      "outputs": [
        {
          "output_type": "execute_result",
          "data": {
            "text/plain": [
              "62464"
            ]
          },
          "metadata": {},
          "execution_count": 34
        }
      ],
      "source": [
        "hh_df[\"Опыт (двойное нажатие для полной версии)\"][(hh_df[\"Опыт (двойное нажатие для полной версии)\"] != \"Не указано\") & ((hh_df[\"Опыт (двойное нажатие для полной версии)\"].str.startswith(\"Опыт работы\")))].count()"
      ]
    },
    {
      "cell_type": "code",
      "execution_count": null,
      "metadata": {
        "colab": {
          "base_uri": "https://localhost:8080/"
        },
        "id": "W3BzEPP28vb9",
        "outputId": "c9bcf829-9d96-455b-aafb-ac58c8d0e201"
      },
      "outputs": [
        {
          "output_type": "stream",
          "name": "stderr",
          "text": [
            "/usr/local/lib/python3.7/dist-packages/ipykernel_launcher.py:1: SettingWithCopyWarning: \n",
            "A value is trying to be set on a copy of a slice from a DataFrame\n",
            "\n",
            "See the caveats in the documentation: https://pandas.pydata.org/pandas-docs/stable/user_guide/indexing.html#returning-a-view-versus-a-copy\n",
            "  \"\"\"Entry point for launching an IPython kernel.\n"
          ]
        }
      ],
      "source": [
        "hh_df[\"Опыт (двойное нажатие для полной версии)\"][(hh_df[\"Опыт (двойное нажатие для полной версии)\"].isna()) & (hh_df[\"Последенее/нынешнее место работы\"] == \"Не указано\") & (hh_df[\"Последеняя/нынешняя должность\"] == \"Не указано\")] = 0"
      ]
    },
    {
      "cell_type": "code",
      "execution_count": null,
      "metadata": {
        "colab": {
          "base_uri": "https://localhost:8080/"
        },
        "id": "AIjP4ZUR4yEs",
        "outputId": "a4dd270c-3f0c-4bf6-e490-02e3f3b9b891"
      },
      "outputs": [
        {
          "output_type": "stream",
          "name": "stderr",
          "text": [
            "/usr/local/lib/python3.7/dist-packages/ipykernel_launcher.py:1: SettingWithCopyWarning: \n",
            "A value is trying to be set on a copy of a slice from a DataFrame\n",
            "\n",
            "See the caveats in the documentation: https://pandas.pydata.org/pandas-docs/stable/user_guide/indexing.html#returning-a-view-versus-a-copy\n",
            "  \"\"\"Entry point for launching an IPython kernel.\n"
          ]
        }
      ],
      "source": [
        "hh_df[\"Опыт (двойное нажатие для полной версии)\"][(hh_df[\"Опыт (двойное нажатие для полной версии)\"].isna())] = 1"
      ]
    },
    {
      "cell_type": "code",
      "execution_count": null,
      "metadata": {
        "id": "y3v65jRfQ-pp"
      },
      "outputs": [],
      "source": [
        "def calculate_exp(string):\n",
        "\n",
        "  total_months = 0\n",
        "  months = \"\".join(re.findall(\"(\\d+) м\", string[0: 40]))\n",
        "  years = \"\".join(re.findall(\"(\\d+) г\", string[0: 40]))\n",
        "  years_g = \"\".join(re.findall(\"(\\d+) л\", string[0: 40]))\n",
        "  \n",
        "  if len(months) != 0:\n",
        "    months_for_calc = int(months)\n",
        "    total_months += months_for_calc\n",
        "  \n",
        "  if len(years) != 0:\n",
        "    years_for_calc = int(years)\n",
        "    total_months += years_for_calc * 12\n",
        "\n",
        "  if len(years_g) != 0:\n",
        "    years_g_for_calc = int(years_g)\n",
        "    total_months += years_g_for_calc * 12\n",
        "\n",
        "  return total_months"
      ]
    },
    {
      "cell_type": "code",
      "execution_count": null,
      "metadata": {
        "id": "UbvQCWGwdlFY"
      },
      "outputs": [],
      "source": [
        "def split_exp_on_classes(total_months):\n",
        "\n",
        "  years = np.ceil(total_months / 12)\n",
        "\n",
        "  if years <= 1:\n",
        "    return 0\n",
        "  elif 1 < years <= 2:\n",
        "    return 1\n",
        "  elif 2 < years <= 4:\n",
        "    return 2\n",
        "  elif 4 < years <= 6:\n",
        "    return 3\n",
        "  elif 6 < years <= 10:\n",
        "    return 4\n",
        "  elif years > 10:\n",
        "    return 5\n",
        "  else: print(\"Something is wrong\")"
      ]
    },
    {
      "cell_type": "code",
      "execution_count": null,
      "metadata": {
        "id": "-B1i4Tr2gG-v"
      },
      "outputs": [],
      "source": [
        "hh_df[\"exp_class\"] = hh_df[\"Опыт (двойное нажатие для полной версии)\"].apply(lambda x: x if type(x) != str else split_exp_on_classes(calculate_exp(x))) "
      ]
    },
    {
      "cell_type": "code",
      "execution_count": null,
      "metadata": {
        "colab": {
          "base_uri": "https://localhost:8080/"
        },
        "id": "PcR5AiJ_gAUo",
        "outputId": "38f3d307-0f70-4f56-f53a-1488736b8dcf"
      },
      "outputs": [
        {
          "output_type": "execute_result",
          "data": {
            "text/plain": [
              "5    24878\n",
              "4    15865\n",
              "3     8298\n",
              "2     7327\n",
              "1     3774\n",
              "0     2690\n",
              "Name: exp_class, dtype: int64"
            ]
          },
          "metadata": {},
          "execution_count": 40
        }
      ],
      "source": [
        "hh_df[\"exp_class\"].value_counts()"
      ]
    },
    {
      "cell_type": "code",
      "execution_count": null,
      "metadata": {
        "colab": {
          "base_uri": "https://localhost:8080/"
        },
        "id": "fomDmNT7GAmx",
        "outputId": "dbe6adfe-90c8-433f-ec74-4261afbd15ca"
      },
      "outputs": [
        {
          "output_type": "execute_result",
          "data": {
            "text/plain": [
              "<matplotlib.axes._subplots.AxesSubplot at 0x7fedbeb6b610>"
            ]
          },
          "metadata": {},
          "execution_count": 41
        },
        {
          "output_type": "display_data",
          "data": {
            "image/png": "[encoded data removed]",
            "text/plain": [
              "<Figure size 1286.64x752.4 with 1 Axes>"
            ]
          },
          "metadata": {}
        }
      ],
      "source": [
        "hh_df[\"exp_class\"].hist(bins=5)"
      ]
    },
    {
      "cell_type": "markdown",
      "metadata": {
        "id": "OHBkfZ6ki5Iv"
      },
      "source": [
        "# Город"
      ]
    },
    {
      "cell_type": "code",
      "execution_count": null,
      "metadata": {
        "colab": {
          "base_uri": "https://localhost:8080/"
        },
        "id": "XtuGE9tRZInJ",
        "outputId": "296f8c89-f384-4a53-838e-6464ce156439"
      },
      "outputs": [
        {
          "output_type": "execute_result",
          "data": {
            "text/plain": [
              "Москв    23683\n",
              "Санкт     6640\n",
              "Красн     2246\n",
              "Новос     1296\n",
              "Казан     1237\n",
              "         ...  \n",
              "Новое        1\n",
              "Софьи        1\n",
              "Проле        1\n",
              "Фанип        1\n",
              "Малго        1\n",
              "Name: Город, Length: 856, dtype: int64"
            ]
          },
          "metadata": {},
          "execution_count": 42
        }
      ],
      "source": [
        "hh_df[\"Город\"].apply(lambda x: x[:5]).value_counts()"
      ]
    },
    {
      "cell_type": "code",
      "execution_count": null,
      "metadata": {
        "id": "kh2d25R0uEsK"
      },
      "outputs": [],
      "source": [
        "def split_city_on_classes(string):\n",
        "  \n",
        "  million_cities = [\"Краснодар\", \"Екатеринбург\", \"Казань\", \"Нижний Новгород\", \"Челябинск\",\t\"Самара\", \"Омск\", \"Ростов-на-Дону\", \"Уфа\", \"Красноярск\", \"Воронеж\", \"Пермь\", \"Волгоград\"]\n",
        "\n",
        "  if string.startswith(\"Москва\"): \n",
        "    return 0\n",
        "  elif string.startswith(\"Санкт-Петербург\"):\n",
        "    return 1\n",
        "  elif string.startswith(tuple(million_cities)): \n",
        "    return 2\n",
        "  else: \n",
        "    return 3"
      ]
    },
    {
      "cell_type": "code",
      "execution_count": null,
      "metadata": {
        "id": "cUoh1JuF_CoL"
      },
      "outputs": [],
      "source": [
        "hh_df[\"city_class\"] = hh_df[\"Город\"].apply(lambda x: split_city_on_classes(x))"
      ]
    },
    {
      "cell_type": "code",
      "execution_count": null,
      "metadata": {
        "colab": {
          "base_uri": "https://localhost:8080/"
        },
        "id": "nrzuUz8ay9RJ",
        "outputId": "29a21017-388b-431a-8976-89a4f26d1df4"
      },
      "outputs": [
        {
          "output_type": "execute_result",
          "data": {
            "text/plain": [
              "0    23683\n",
              "3    22111\n",
              "2    10398\n",
              "1     6640\n",
              "Name: city_class, dtype: int64"
            ]
          },
          "metadata": {},
          "execution_count": 45
        }
      ],
      "source": [
        "hh_df.city_class.value_counts()"
      ]
    },
    {
      "cell_type": "code",
      "execution_count": null,
      "metadata": {
        "colab": {
          "base_uri": "https://localhost:8080/"
        },
        "id": "hpwzoHh9y9Wg",
        "outputId": "93f8f3ef-cdcb-44ed-a07d-3bc1506be024"
      },
      "outputs": [
        {
          "output_type": "execute_result",
          "data": {
            "text/plain": [
              "<matplotlib.axes._subplots.AxesSubplot at 0x7fedbeb60e90>"
            ]
          },
          "metadata": {},
          "execution_count": 46
        },
        {
          "output_type": "display_data",
          "data": {
            "image/png": "[encoded data removed]",
            "text/plain": [
              "<Figure size 1286.64x752.4 with 1 Axes>"
            ]
          },
          "metadata": {}
        }
      ],
      "source": [
        "hh_df.city_class.hist()"
      ]
    },
    {
      "cell_type": "markdown",
      "metadata": {
        "id": "Zg0S28eaz5yu"
      },
      "source": [
        "# Пол, возраст"
      ]
    },
    {
      "cell_type": "code",
      "execution_count": null,
      "metadata": {
        "colab": {
          "base_uri": "https://localhost:8080/"
        },
        "id": "Xxr3vTAY0brS",
        "outputId": "2c6d2057-3038-484b-f9eb-5083473623dd"
      },
      "outputs": [
        {
          "output_type": "execute_result",
          "data": {
            "text/plain": [
              "0             Мужчина ,  29 лет , родился 16 мая 1989\n",
              "1             Мужчина ,  38 лет , родился 25 мая 1980\n",
              "2            Мужчина ,  35 лет , родился 14 июня 1983\n",
              "3         Мужчина ,  33 года , родился 2 августа 1985\n",
              "4        Мужчина ,  22 года , родился 1 сентября 1996\n",
              "                             ...                     \n",
              "62962     Мужчина ,  31 год , родился 11 октября 1987\n",
              "62963     Мужчина ,  41 год , родился 13 декабря 1977\n",
              "62964     Мужчина ,  26 лет , родился 2 сентября 1992\n",
              "62965        Мужчина ,  35 лет , родился 23 июля 1983\n",
              "62966    Мужчина ,  35 лет , родился 22 сентября 1983\n",
              "Name: Пол, возраст, Length: 62832, dtype: object"
            ]
          },
          "metadata": {},
          "execution_count": 47
        }
      ],
      "source": [
        "hh_df[\"Пол, возраст\"]"
      ]
    },
    {
      "cell_type": "code",
      "execution_count": null,
      "metadata": {
        "colab": {
          "base_uri": "https://localhost:8080/"
        },
        "id": "qJKQWTI3y9bh",
        "outputId": "e71eaf27-2ac8-4f9a-d904-78312d5e6831"
      },
      "outputs": [
        {
          "output_type": "execute_result",
          "data": {
            "text/plain": [
              "Мужчина ,     50971\n",
              "Женщина ,     11861\n",
              "Name: Пол, возраст, dtype: int64"
            ]
          },
          "metadata": {},
          "execution_count": 48
        }
      ],
      "source": [
        "hh_df[\"Пол, возраст\"].str[:10].value_counts()"
      ]
    },
    {
      "cell_type": "code",
      "execution_count": null,
      "metadata": {
        "id": "JtH7DLx-y9eB"
      },
      "outputs": [],
      "source": [
        "def split_male_on_classes(string):\n",
        "  \n",
        "  if string.startswith(\"Женщина\"): \n",
        "    return 0\n",
        "  elif string.startswith(\"Мужчина\"):\n",
        "    return 1"
      ]
    },
    {
      "cell_type": "code",
      "execution_count": null,
      "metadata": {
        "id": "fUdBIaY31SK9"
      },
      "outputs": [],
      "source": [
        "def get_age(string):\n",
        "\n",
        "  current_year = 2021\n",
        "  age = current_year - int(re.findall(r\"\\d{4}\", string)[0])\n",
        "  return age"
      ]
    },
    {
      "cell_type": "code",
      "execution_count": null,
      "metadata": {
        "id": "dMhINyCJ2s86"
      },
      "outputs": [],
      "source": [
        "hh_df[\"age\"] = hh_df[\"Пол, возраст\"].apply(lambda x: get_age(x))"
      ]
    },
    {
      "cell_type": "code",
      "execution_count": null,
      "metadata": {
        "id": "kRrZ-lQ22s_p"
      },
      "outputs": [],
      "source": [
        "hh_df[\"male\"] = hh_df[\"Пол, возраст\"].apply(lambda x: split_male_on_classes(x))"
      ]
    },
    {
      "cell_type": "code",
      "execution_count": null,
      "metadata": {
        "colab": {
          "base_uri": "https://localhost:8080/"
        },
        "id": "aHT8vDeH2tCQ",
        "outputId": "9da8af6c-4439-4804-9211-22800aef44c9"
      },
      "outputs": [
        {
          "output_type": "execute_result",
          "data": {
            "text/plain": [
              "<matplotlib.axes._subplots.AxesSubplot at 0x7fedbea0f8d0>"
            ]
          },
          "metadata": {},
          "execution_count": 53
        },
        {
          "output_type": "display_data",
          "data": {
            "image/png": "[encoded data removed]",
            "text/plain": [
              "<Figure size 1286.64x752.4 with 1 Axes>"
            ]
          },
          "metadata": {}
        }
      ],
      "source": [
        "hh_df[\"age\"].hist()"
      ]
    },
    {
      "cell_type": "code",
      "execution_count": null,
      "metadata": {
        "colab": {
          "base_uri": "https://localhost:8080/"
        },
        "id": "MRu0jGu62tEp",
        "outputId": "9e27ba66-2b94-4ebc-d506-30e975fb3be6"
      },
      "outputs": [
        {
          "output_type": "execute_result",
          "data": {
            "text/plain": [
              "<matplotlib.axes._subplots.AxesSubplot at 0x7fedbe52a8d0>"
            ]
          },
          "metadata": {},
          "execution_count": 54
        },
        {
          "output_type": "display_data",
          "data": {
            "image/png": "[encoded data removed]",
            "text/plain": [
              "<Figure size 1286.64x752.4 with 1 Axes>"
            ]
          },
          "metadata": {}
        }
      ],
      "source": [
        "hh_df[\"male\"].hist()"
      ]
    },
    {
      "cell_type": "code",
      "execution_count": null,
      "metadata": {
        "id": "vX_NjriD3xpb"
      },
      "outputs": [],
      "source": [
        "indexes_to_drop = hh_df[hh_df.age > 80].index "
      ]
    },
    {
      "cell_type": "code",
      "execution_count": null,
      "metadata": {
        "id": "EgivAHlC2tHM"
      },
      "outputs": [],
      "source": [
        "hh_df.drop(indexes_to_drop, inplace=True)"
      ]
    },
    {
      "cell_type": "code",
      "execution_count": null,
      "metadata": {
        "colab": {
          "base_uri": "https://localhost:8080/"
        },
        "id": "cNPrFmrk2tL_",
        "outputId": "12fa6d23-3b67-4a01-fbd4-eec8442d3e1c"
      },
      "outputs": [
        {
          "output_type": "execute_result",
          "data": {
            "text/plain": [
              "<matplotlib.axes._subplots.AxesSubplot at 0x7fedbe4dbd50>"
            ]
          },
          "metadata": {},
          "execution_count": 57
        },
        {
          "output_type": "display_data",
          "data": {
            "image/png": "[encoded data removed]",
            "text/plain": [
              "<Figure size 1286.64x752.4 with 1 Axes>"
            ]
          },
          "metadata": {}
        }
      ],
      "source": [
        "hh_df[\"age\"].hist()"
      ]
    },
    {
      "cell_type": "code",
      "execution_count": null,
      "metadata": {
        "colab": {
          "base_uri": "https://localhost:8080/"
        },
        "id": "g0queNP12tOq",
        "outputId": "dd46ae6f-6dc7-4e8c-c0da-91e4f3bf5d71"
      },
      "outputs": [
        {
          "output_type": "execute_result",
          "data": {
            "text/plain": [
              "Пол, возраст                                0\n",
              "зп_тыс_руб                                  0\n",
              "Ищет работу на должность:                   0\n",
              "Город                                       0\n",
              "Занятость                                   0\n",
              "График                                      0\n",
              "Опыт (двойное нажатие для полной версии)    0\n",
              "Последенее/нынешнее место работы            0\n",
              "Последеняя/нынешняя должность               0\n",
              "Образование и ВУЗ                           0\n",
              "Обновление резюме                           0\n",
              "Авто                                        0\n",
              "exp_class                                   0\n",
              "city_class                                  0\n",
              "age                                         0\n",
              "male                                        0\n",
              "dtype: int64"
            ]
          },
          "metadata": {},
          "execution_count": 58
        }
      ],
      "source": [
        "hh_df.isna().sum()"
      ]
    },
    {
      "cell_type": "markdown",
      "metadata": {
        "id": "i7M8Sz0N5CEe"
      },
      "source": [
        "#Занятость"
      ]
    },
    {
      "cell_type": "code",
      "execution_count": null,
      "metadata": {
        "colab": {
          "base_uri": "https://localhost:8080/"
        },
        "id": "P1As2aen5YM8",
        "outputId": "c7f03641-e6cb-4b0d-c2ac-c217dcf6aa99"
      },
      "outputs": [
        {
          "output_type": "execute_result",
          "data": {
            "text/plain": [
              "array(['полная занятость', 'частичная занятость, полная занятость',\n",
              "       'стажировка, частичная занятость, проектная работа',\n",
              "       'частичная занятость, проектная работа, полная занятость',\n",
              "       'стажировка, частичная занятость, проектная работа, полная занятость',\n",
              "       'проектная работа, полная занятость',\n",
              "       'стажировка, частичная занятость', 'частичная занятость',\n",
              "       'проектная работа, частичная занятость, полная занятость',\n",
              "       'частичная занятость, проектная работа',\n",
              "       'стажировка, частичная занятость, полная занятость',\n",
              "       'волонтерство, частичная занятость, проектная работа',\n",
              "       'проектная работа',\n",
              "       'проектная работа, стажировка, частичная занятость, полная занятость',\n",
              "       'стажировка, полная занятость',\n",
              "       'стажировка, волонтерство, частичная занятость, проектная работа, полная занятость',\n",
              "       'проектная работа, волонтерство, частичная занятость, полная занятость',\n",
              "       'стажировка, проектная работа, полная занятость',\n",
              "       'проектная работа, стажировка, частичная занятость',\n",
              "       'стажировка, волонтерство, частичная занятость, полная занятость',\n",
              "       'проектная работа, стажировка, волонтерство, частичная занятость, полная занятость',\n",
              "       'проектная работа, частичная занятость',\n",
              "       'стажировка, волонтерство, полная занятость',\n",
              "       'волонтерство, частичная занятость, проектная работа, полная занятость',\n",
              "       'волонтерство, проектная работа, полная занятость', 'стажировка',\n",
              "       'стажировка, волонтерство, частичная занятость, проектная работа',\n",
              "       'проектная работа, стажировка, полная занятость',\n",
              "       'волонтерство, частичная занятость, полная занятость',\n",
              "       'проектная работа, стажировка', 'волонтерство',\n",
              "       'волонтерство, полная занятость',\n",
              "       'проектная работа, волонтерство, частичная занятость',\n",
              "       'волонтерство, частичная занятость',\n",
              "       'волонтерство, проектная работа',\n",
              "       'стажировка, волонтерство, частичная занятость',\n",
              "       'проектная работа, волонтерство, полная занятость',\n",
              "       'проектная работа, стажировка, волонтерство, частичная занятость'],\n",
              "      dtype=object)"
            ]
          },
          "metadata": {},
          "execution_count": 59
        }
      ],
      "source": [
        "hh_df[\"Занятость\"].unique()"
      ]
    },
    {
      "cell_type": "code",
      "execution_count": null,
      "metadata": {
        "id": "Jx-nfUM02tRA"
      },
      "outputs": [],
      "source": [
        "def split_employment_on_classes(string):\n",
        "\n",
        "  employment_class = 0\n",
        "\n",
        "  if (\"стажировка\" in string):\n",
        "    employment_class += 1\n",
        "  if (\"волонтерство\" in string):\n",
        "    employment_class += 7\n",
        "  if (\"проектная работа\" in string):\n",
        "    employment_class += 13\n",
        "  if (\"частичная занятость\" in string):\n",
        "    employment_class += 23\n",
        "  if (\"полная занятость\" in string):\n",
        "    employment_class += 27\n",
        "  \n",
        "  return employment_class"
      ]
    },
    {
      "cell_type": "code",
      "execution_count": null,
      "metadata": {
        "id": "0nDEia2G5scX"
      },
      "outputs": [],
      "source": [
        "hh_df[\"employment_class\"] = hh_df[\"Занятость\"].apply(lambda x: split_employment_on_classes(x))"
      ]
    },
    {
      "cell_type": "markdown",
      "metadata": {
        "id": "KedyZ6_G8wmC"
      },
      "source": [
        "# График"
      ]
    },
    {
      "cell_type": "code",
      "execution_count": null,
      "metadata": {
        "colab": {
          "base_uri": "https://localhost:8080/"
        },
        "id": "oJueoDBy-0kh",
        "outputId": "3689b1e2-0821-48c1-e805-0d04ab46b325"
      },
      "outputs": [
        {
          "output_type": "execute_result",
          "data": {
            "text/plain": [
              "полный день                                                                     32000\n",
              "гибкий график, полный день, сменный график, удаленная работа                     5720\n",
              "гибкий график, полный день, удаленная работа                                     3806\n",
              "гибкий график, полный день, сменный график                                       3088\n",
              "полный день, сменный график                                                      2500\n",
              "полный день, удаленная работа                                                    2336\n",
              "гибкий график, полный день, сменный график, вахтовый метод, удаленная работа     2145\n",
              "гибкий график, полный день                                                       2030\n",
              "удаленная работа                                                                 1620\n",
              "гибкий график, удаленная работа                                                  1017\n",
              "удаленная работа, гибкий график, полный день, сменный график                      961\n",
              "удаленная работа, гибкий график, полный день                                      693\n",
              "полный день, сменный график, удаленная работа                                     623\n",
              "гибкий график, сменный график, удаленная работа                                   579\n",
              "полный день, вахтовый метод                                                       424\n",
              "удаленная работа, полный день                                                     392\n",
              "вахтовый метод, удаленная работа, гибкий график, полный день, сменный график      376\n",
              "гибкий график, полный день, сменный график, вахтовый метод                        355\n",
              "сменный график                                                                    311\n",
              "гибкий график                                                                     287\n",
              "полный день, сменный график, вахтовый метод                                       256\n",
              "гибкий график, сменный график                                                     221\n",
              "полный день, вахтовый метод, удаленная работа                                     167\n",
              "удаленная работа, гибкий график                                                   132\n",
              "удаленная работа, полный день, сменный график                                     116\n",
              "гибкий график, полный день, вахтовый метод, удаленная работа                      105\n",
              "полный день, сменный график, вахтовый метод, удаленная работа                      99\n",
              "удаленная работа, гибкий график, сменный график                                    68\n",
              "гибкий график, полный день, вахтовый метод                                         67\n",
              "сменный график, удаленная работа                                                   60\n",
              "гибкий график, сменный график, вахтовый метод, удаленная работа                    54\n",
              "вахтовый метод                                                                     42\n",
              "вахтовый метод, гибкий график, полный день, сменный график                         39\n",
              "полный день, вахтовый метод, сменный график                                        27\n",
              "удаленная работа, полный день, вахтовый метод                                      19\n",
              "вахтовый метод, удаленная работа, гибкий график, полный день                       19\n",
              "удаленная работа, сменный график                                                   12\n",
              "гибкий график, вахтовый метод, удаленная работа                                    12\n",
              "вахтовый метод, удаленная работа                                                   12\n",
              "гибкий график, сменный график, вахтовый метод                                      12\n",
              "вахтовый метод, удаленная работа, полный день, сменный график                      10\n",
              "вахтовый метод, удаленная работа, гибкий график, сменный график                     7\n",
              "сменный график, вахтовый метод                                                      4\n",
              "вахтовый метод, сменный график                                                      3\n",
              "сменный график, вахтовый метод, удаленная работа                                    1\n",
              "гибкий график, вахтовый метод                                                       1\n",
              "удаленная работа, гибкий график, вахтовый метод                                     1\n",
              "Name: График, dtype: int64"
            ]
          },
          "metadata": {},
          "execution_count": 62
        }
      ],
      "source": [
        "hh_df[\"График\"].value_counts()"
      ]
    },
    {
      "cell_type": "code",
      "execution_count": null,
      "metadata": {
        "id": "ONRiyIal5Mg0"
      },
      "outputs": [],
      "source": [
        "def split_schedule_on_classes(string):\n",
        "\n",
        "  schedule_class = 0\n",
        "\n",
        "  if (\"вахтовый метод\" in string):\n",
        "    schedule_class += 1\n",
        "  if (\"сменный график\" in string):\n",
        "    schedule_class += 7\n",
        "  if (\"гибкий график\" in string):\n",
        "    schedule_class += 13\n",
        "  if (\"полный день\" in string):\n",
        "    schedule_class += 23\n",
        "  if (\"удаленная работа\" in string):\n",
        "    schedule_class += 27\n",
        "  \n",
        "  return schedule_class"
      ]
    },
    {
      "cell_type": "code",
      "execution_count": null,
      "metadata": {
        "id": "MR2ND_6W5MmA"
      },
      "outputs": [],
      "source": [
        "hh_df[\"shedule_class\"] = hh_df[\"График\"].apply(lambda x: split_schedule_on_classes(x))"
      ]
    },
    {
      "cell_type": "markdown",
      "metadata": {
        "id": "BpF4G66cACNm"
      },
      "source": [
        "# Образование"
      ]
    },
    {
      "cell_type": "code",
      "execution_count": null,
      "metadata": {
        "colab": {
          "base_uri": "https://localhost:8080/"
        },
        "id": "9sZJCPa05MtT",
        "outputId": "b6bf4d47-5508-4a12-e578-966db9747335"
      },
      "outputs": [
        {
          "output_type": "execute_result",
          "data": {
            "text/plain": [
              "Высше    43617\n",
              "Средн     8363\n",
              "Неоко     5939\n",
              "Образ     2270\n",
              "Прогр      375\n",
              "         ...  \n",
              "BIM-м        1\n",
              "UX/UI        1\n",
              "стаже        1\n",
              "ASP.N        1\n",
              "CTO.         1\n",
              "Name: Образование и ВУЗ, Length: 322, dtype: int64"
            ]
          },
          "metadata": {},
          "execution_count": 65
        }
      ],
      "source": [
        "hh_df[\"Образование и ВУЗ\"].str[:5].value_counts()"
      ]
    },
    {
      "cell_type": "code",
      "execution_count": null,
      "metadata": {
        "id": "B8IKWvHk5Mvp"
      },
      "outputs": [],
      "source": [
        "def split_education_on_classes(string):\n",
        "\n",
        "  if \"Высшее Higher education\" in string:\n",
        "    return 0\n",
        "  elif \"Высшее образование\" in string:\n",
        "    return 0\n",
        "  elif \"Среднее специальное\" in string:\n",
        "    return 1\n",
        "  elif \"Среднее образование\" in string:\n",
        "    return 2\n",
        "  elif \"Неоконченное высшее\" in string:\n",
        "    return 3\n",
        "  \n",
        "  else: return 4"
      ]
    },
    {
      "cell_type": "code",
      "execution_count": null,
      "metadata": {
        "id": "YTdyLEmGCH-r"
      },
      "outputs": [],
      "source": [
        "hh_df[\"education_class\"] = hh_df[\"Образование и ВУЗ\"].apply(lambda x: split_education_on_classes(x))"
      ]
    },
    {
      "cell_type": "code",
      "execution_count": null,
      "metadata": {
        "colab": {
          "base_uri": "https://localhost:8080/"
        },
        "id": "KrwOLzH0D1_M",
        "outputId": "bd84974d-6ea7-406a-e35f-498050c30559"
      },
      "outputs": [
        {
          "output_type": "execute_result",
          "data": {
            "text/plain": [
              "0    45848\n",
              "1     8130\n",
              "3     6226\n",
              "2     2623\n",
              "4        2\n",
              "Name: education_class, dtype: int64"
            ]
          },
          "metadata": {},
          "execution_count": 68
        }
      ],
      "source": [
        "hh_df.education_class.value_counts()"
      ]
    },
    {
      "cell_type": "code",
      "execution_count": null,
      "metadata": {
        "colab": {
          "base_uri": "https://localhost:8080/"
        },
        "id": "uD8XI-h4ERYg",
        "outputId": "70d88481-b51c-4642-fce8-7e5ba6dc79d7"
      },
      "outputs": [
        {
          "output_type": "execute_result",
          "data": {
            "text/html": [
              "\n",
              "  <div id=\"df-0fc581b8-a2a0-44be-acb2-cf675ff96441\">\n",
              "    <div class=\"colab-df-container\">\n",
              "      <div>\n",
              "<style scoped>\n",
              "    .dataframe tbody tr th:only-of-type {\n",
              "        vertical-align: middle;\n",
              "    }\n",
              "\n",
              "    .dataframe tbody tr th {\n",
              "        vertical-align: top;\n",
              "    }\n",
              "\n",
              "    .dataframe thead th {\n",
              "        text-align: right;\n",
              "    }\n",
              "</style>\n",
              "<table border=\"1\" class=\"dataframe\">\n",
              "  <thead>\n",
              "    <tr style=\"text-align: right;\">\n",
              "      <th></th>\n",
              "      <th>Пол, возраст</th>\n",
              "      <th>зп_тыс_руб</th>\n",
              "      <th>Ищет работу на должность:</th>\n",
              "      <th>Город</th>\n",
              "      <th>Занятость</th>\n",
              "      <th>График</th>\n",
              "      <th>Опыт (двойное нажатие для полной версии)</th>\n",
              "      <th>Последенее/нынешнее место работы</th>\n",
              "      <th>Последеняя/нынешняя должность</th>\n",
              "      <th>Образование и ВУЗ</th>\n",
              "      <th>Обновление резюме</th>\n",
              "      <th>Авто</th>\n",
              "      <th>exp_class</th>\n",
              "      <th>city_class</th>\n",
              "      <th>age</th>\n",
              "      <th>male</th>\n",
              "      <th>employment_class</th>\n",
              "      <th>shedule_class</th>\n",
              "      <th>education_class</th>\n",
              "    </tr>\n",
              "  </thead>\n",
              "  <tbody>\n",
              "    <tr>\n",
              "      <th>47436</th>\n",
              "      <td>Мужчина ,  24 года , родился 25 сентября 1994</td>\n",
              "      <td>40.0</td>\n",
              "      <td>Верстальщик</td>\n",
              "      <td>Новокуйбышевск , готов к переезду (Москва, Сан...</td>\n",
              "      <td>полная занятость</td>\n",
              "      <td>полный день, сменный график</td>\n",
              "      <td>Опыт работы 11 месяцев  Июль 2018 — по настоящ...</td>\n",
              "      <td>ПрофСтрой</td>\n",
              "      <td>Мастер</td>\n",
              "      <td>Не указано</td>\n",
              "      <td>10.04.2019 07:10</td>\n",
              "      <td>Имеется собственный автомобиль</td>\n",
              "      <td>0</td>\n",
              "      <td>3</td>\n",
              "      <td>27</td>\n",
              "      <td>1</td>\n",
              "      <td>27</td>\n",
              "      <td>30</td>\n",
              "      <td>4</td>\n",
              "    </tr>\n",
              "    <tr>\n",
              "      <th>61361</th>\n",
              "      <td>Женщина ,  28 лет , родилась 12 августа 1990</td>\n",
              "      <td>150.0</td>\n",
              "      <td>Программист</td>\n",
              "      <td>Москва ,  м. Преображенская площадь , готова к...</td>\n",
              "      <td>полная занятость</td>\n",
              "      <td>полный день</td>\n",
              "      <td>Опыт работы 12 лет 2 месяца  Программист 150 0...</td>\n",
              "      <td>БДО</td>\n",
              "      <td>Младший консультант SAP Договора, Казначейство.</td>\n",
              "      <td>Программист 150 000 руб. Информационные технол...</td>\n",
              "      <td>09.04.2019 23:33</td>\n",
              "      <td>Не указано</td>\n",
              "      <td>5</td>\n",
              "      <td>0</td>\n",
              "      <td>31</td>\n",
              "      <td>0</td>\n",
              "      <td>27</td>\n",
              "      <td>23</td>\n",
              "      <td>4</td>\n",
              "    </tr>\n",
              "  </tbody>\n",
              "</table>\n",
              "</div>\n",
              "      <button class=\"colab-df-convert\" onclick=\"convertToInteractive('df-0fc581b8-a2a0-44be-acb2-cf675ff96441')\"\n",
              "              title=\"Convert this dataframe to an interactive table.\"\n",
              "              style=\"display:none;\">\n",
              "        \n",
              "  <svg xmlns=\"http://www.w3.org/2000/svg\" height=\"24px\"viewBox=\"0 0 24 24\"\n",
              "       width=\"24px\">\n",
              "    <path d=\"M0 0h24v24H0V0z\" fill=\"none\"/>\n",
              "    <path d=\"M18.56 5.44l.94 2.06.94-2.06 2.06-.94-2.06-.94-.94-2.06-.94 2.06-2.06.94zm-11 1L8.5 8.5l.94-2.06 2.06-.94-2.06-.94L8.5 2.5l-.94 2.06-2.06.94zm10 10l.94 2.06.94-2.06 2.06-.94-2.06-.94-.94-2.06-.94 2.06-2.06.94z\"/><path d=\"M17.41 7.96l-1.37-1.37c-.4-.4-.92-.59-1.43-.59-.52 0-1.04.2-1.43.59L10.3 9.45l-7.72 7.72c-.78.78-.78 2.05 0 2.83L4 21.41c.39.39.9.59 1.41.59.51 0 1.02-.2 1.41-.59l7.78-7.78 2.81-2.81c.8-.78.8-2.07 0-2.86zM5.41 20L4 18.59l7.72-7.72 1.47 1.35L5.41 20z\"/>\n",
              "  </svg>\n",
              "      </button>\n",
              "      \n",
              "  <style>\n",
              "    .colab-df-container {\n",
              "      display:flex;\n",
              "      flex-wrap:wrap;\n",
              "      gap: 12px;\n",
              "    }\n",
              "\n",
              "    .colab-df-convert {\n",
              "      background-color: #E8F0FE;\n",
              "      border: none;\n",
              "      border-radius: 50%;\n",
              "      cursor: pointer;\n",
              "      display: none;\n",
              "      fill: #1967D2;\n",
              "      height: 32px;\n",
              "      padding: 0 0 0 0;\n",
              "      width: 32px;\n",
              "    }\n",
              "\n",
              "    .colab-df-convert:hover {\n",
              "      background-color: #E2EBFA;\n",
              "      box-shadow: 0px 1px 2px rgba(60, 64, 67, 0.3), 0px 1px 3px 1px rgba(60, 64, 67, 0.15);\n",
              "      fill: #174EA6;\n",
              "    }\n",
              "\n",
              "    [theme=dark] .colab-df-convert {\n",
              "      background-color: #3B4455;\n",
              "      fill: #D2E3FC;\n",
              "    }\n",
              "\n",
              "    [theme=dark] .colab-df-convert:hover {\n",
              "      background-color: #434B5C;\n",
              "      box-shadow: 0px 1px 3px 1px rgba(0, 0, 0, 0.15);\n",
              "      filter: drop-shadow(0px 1px 2px rgba(0, 0, 0, 0.3));\n",
              "      fill: #FFFFFF;\n",
              "    }\n",
              "  </style>\n",
              "\n",
              "      <script>\n",
              "        const buttonEl =\n",
              "          document.querySelector('#df-0fc581b8-a2a0-44be-acb2-cf675ff96441 button.colab-df-convert');\n",
              "        buttonEl.style.display =\n",
              "          google.colab.kernel.accessAllowed ? 'block' : 'none';\n",
              "\n",
              "        async function convertToInteractive(key) {\n",
              "          const element = document.querySelector('#df-0fc581b8-a2a0-44be-acb2-cf675ff96441');\n",
              "          const dataTable =\n",
              "            await google.colab.kernel.invokeFunction('convertToInteractive',\n",
              "                                                     [key], {});\n",
              "          if (!dataTable) return;\n",
              "\n",
              "          const docLinkHtml = 'Like what you see? Visit the ' +\n",
              "            '<a target=\"_blank\" href=https://colab.research.google.com/notebooks/data_table.ipynb>data table notebook</a>'\n",
              "            + ' to learn more about interactive tables.';\n",
              "          element.innerHTML = '';\n",
              "          dataTable['output_type'] = 'display_data';\n",
              "          await google.colab.output.renderOutput(dataTable, element);\n",
              "          const docLink = document.createElement('div');\n",
              "          docLink.innerHTML = docLinkHtml;\n",
              "          element.appendChild(docLink);\n",
              "        }\n",
              "      </script>\n",
              "    </div>\n",
              "  </div>\n",
              "  "
            ],
            "text/plain": [
              "                                        Пол, возраст  ...  education_class\n",
              "47436  Мужчина ,  24 года , родился 25 сентября 1994  ...                4\n",
              "61361   Женщина ,  28 лет , родилась 12 августа 1990  ...                4\n",
              "\n",
              "[2 rows x 19 columns]"
            ]
          },
          "metadata": {},
          "execution_count": 69
        }
      ],
      "source": [
        "hh_df[hh_df.education_class == 4]"
      ]
    },
    {
      "cell_type": "code",
      "execution_count": null,
      "metadata": {
        "colab": {
          "base_uri": "https://localhost:8080/"
        },
        "id": "FlJCxOOZDlbn",
        "outputId": "a28d4b3d-1c09-4e12-c706-ada61f8b3c82"
      },
      "outputs": [
        {
          "output_type": "stream",
          "name": "stderr",
          "text": [
            "/usr/local/lib/python3.7/dist-packages/ipykernel_launcher.py:1: SettingWithCopyWarning: \n",
            "A value is trying to be set on a copy of a slice from a DataFrame\n",
            "\n",
            "See the caveats in the documentation: https://pandas.pydata.org/pandas-docs/stable/user_guide/indexing.html#returning-a-view-versus-a-copy\n",
            "  \"\"\"Entry point for launching an IPython kernel.\n"
          ]
        }
      ],
      "source": [
        "hh_df.education_class[hh_df.education_class == 4] = 0"
      ]
    },
    {
      "cell_type": "code",
      "execution_count": null,
      "metadata": {
        "colab": {
          "base_uri": "https://localhost:8080/"
        },
        "id": "75rqyb2SEOvS",
        "outputId": "ce3b67cf-64b6-4189-b97e-fc237ffed6cb"
      },
      "outputs": [
        {
          "output_type": "execute_result",
          "data": {
            "text/plain": [
              "0    45850\n",
              "1     8130\n",
              "3     6226\n",
              "2     2623\n",
              "Name: education_class, dtype: int64"
            ]
          },
          "metadata": {},
          "execution_count": 71
        }
      ],
      "source": [
        "hh_df.education_class.value_counts()"
      ]
    },
    {
      "cell_type": "markdown",
      "metadata": {
        "id": "cS0BmYlbFdwE"
      },
      "source": [
        "#Авто"
      ]
    },
    {
      "cell_type": "code",
      "execution_count": null,
      "metadata": {
        "colab": {
          "base_uri": "https://localhost:8080/"
        },
        "id": "Z914GGr5Fbz5",
        "outputId": "db01226a-58a8-4b86-9102-379c140df7cd"
      },
      "outputs": [
        {
          "output_type": "execute_result",
          "data": {
            "text/plain": [
              "Не указано                        45677\n",
              "Имеется собственный автомобиль    17152\n",
              "Name: Авто, dtype: int64"
            ]
          },
          "metadata": {},
          "execution_count": 72
        }
      ],
      "source": [
        "hh_df[\"Авто\"].value_counts()"
      ]
    },
    {
      "cell_type": "code",
      "execution_count": null,
      "metadata": {
        "id": "MCceQ7ceFcQe"
      },
      "outputs": [],
      "source": [
        "hh_df[\"have_car\"] = hh_df[\"Авто\"].apply(lambda x: 1 if \"Имеется\" in x else 0)"
      ]
    },
    {
      "cell_type": "code",
      "execution_count": null,
      "metadata": {
        "colab": {
          "base_uri": "https://localhost:8080/"
        },
        "id": "KVevK_60Fcol",
        "outputId": "a3cd46fa-64a0-4442-8522-b74a57e19e2e"
      },
      "outputs": [
        {
          "output_type": "execute_result",
          "data": {
            "text/plain": [
              "0    45677\n",
              "1    17152\n",
              "Name: have_car, dtype: int64"
            ]
          },
          "metadata": {},
          "execution_count": 74
        }
      ],
      "source": [
        "hh_df[\"have_car\"].value_counts()"
      ]
    },
    {
      "cell_type": "code",
      "execution_count": null,
      "metadata": {
        "colab": {
          "base_uri": "https://localhost:8080/"
        },
        "id": "kAEW78EIFc7s",
        "outputId": "bf818c42-34b0-413e-8470-95250555cb29"
      },
      "outputs": [
        {
          "output_type": "execute_result",
          "data": {
            "text/plain": [
              "Пол, возраст                                0\n",
              "зп_тыс_руб                                  0\n",
              "Ищет работу на должность:                   0\n",
              "Город                                       0\n",
              "Занятость                                   0\n",
              "График                                      0\n",
              "Опыт (двойное нажатие для полной версии)    0\n",
              "Последенее/нынешнее место работы            0\n",
              "Последеняя/нынешняя должность               0\n",
              "Образование и ВУЗ                           0\n",
              "Обновление резюме                           0\n",
              "Авто                                        0\n",
              "exp_class                                   0\n",
              "city_class                                  0\n",
              "age                                         0\n",
              "male                                        0\n",
              "employment_class                            0\n",
              "shedule_class                               0\n",
              "education_class                             0\n",
              "have_car                                    0\n",
              "dtype: int64"
            ]
          },
          "metadata": {},
          "execution_count": 75
        }
      ],
      "source": [
        "hh_df.isna().sum()"
      ]
    },
    {
      "cell_type": "code",
      "execution_count": null,
      "metadata": {
        "colab": {
          "base_uri": "https://localhost:8080/"
        },
        "id": "wxJw9ORYFc-o",
        "outputId": "40a7ffbe-7431-4880-8f67-209761886194"
      },
      "outputs": [
        {
          "output_type": "execute_result",
          "data": {
            "text/plain": [
              "(62829, 20)"
            ]
          },
          "metadata": {},
          "execution_count": 76
        }
      ],
      "source": [
        "hh_df.shape"
      ]
    },
    {
      "cell_type": "markdown",
      "metadata": {
        "id": "wO5tRofqSmzM"
      },
      "source": [
        "#Текст по должности и опыту"
      ]
    },
    {
      "cell_type": "code",
      "source": [
        "hh_df_to_model = hh_df.sample(frac=1)"
      ],
      "metadata": {
        "id": "f-WhBCFbRRhF"
      },
      "execution_count": null,
      "outputs": []
    },
    {
      "cell_type": "code",
      "source": [
        "hh_df_to_model.head()"
      ],
      "metadata": {
        "colab": {
          "base_uri": "https://localhost:8080/"
        },
        "id": "XjiSAuEXRjzB",
        "outputId": "003c37b2-56d3-49d3-b376-031e1d247e2e"
      },
      "execution_count": null,
      "outputs": [
        {
          "output_type": "execute_result",
          "data": {
            "text/html": [
              "\n",
              "  <div id=\"df-9aca5d63-45c8-4ced-9ae2-09dc5ad283d0\">\n",
              "    <div class=\"colab-df-container\">\n",
              "      <div>\n",
              "<style scoped>\n",
              "    .dataframe tbody tr th:only-of-type {\n",
              "        vertical-align: middle;\n",
              "    }\n",
              "\n",
              "    .dataframe tbody tr th {\n",
              "        vertical-align: top;\n",
              "    }\n",
              "\n",
              "    .dataframe thead th {\n",
              "        text-align: right;\n",
              "    }\n",
              "</style>\n",
              "<table border=\"1\" class=\"dataframe\">\n",
              "  <thead>\n",
              "    <tr style=\"text-align: right;\">\n",
              "      <th></th>\n",
              "      <th>Пол, возраст</th>\n",
              "      <th>зп_тыс_руб</th>\n",
              "      <th>Ищет работу на должность:</th>\n",
              "      <th>Город</th>\n",
              "      <th>Занятость</th>\n",
              "      <th>График</th>\n",
              "      <th>Опыт (двойное нажатие для полной версии)</th>\n",
              "      <th>Последенее/нынешнее место работы</th>\n",
              "      <th>Последеняя/нынешняя должность</th>\n",
              "      <th>Образование и ВУЗ</th>\n",
              "      <th>Обновление резюме</th>\n",
              "      <th>Авто</th>\n",
              "      <th>exp_class</th>\n",
              "      <th>city_class</th>\n",
              "      <th>age</th>\n",
              "      <th>male</th>\n",
              "      <th>employment_class</th>\n",
              "      <th>shedule_class</th>\n",
              "      <th>education_class</th>\n",
              "      <th>have_car</th>\n",
              "    </tr>\n",
              "  </thead>\n",
              "  <tbody>\n",
              "    <tr>\n",
              "      <th>3980</th>\n",
              "      <td>Женщина ,  45 лет , родилась 9 января 1974</td>\n",
              "      <td>45.0</td>\n",
              "      <td>Инженер-программист</td>\n",
              "      <td>Калининград , хочу переехать , готова к редким...</td>\n",
              "      <td>полная занятость</td>\n",
              "      <td>полный день</td>\n",
              "      <td>Опыт работы 16 лет 5 месяцев  Январь 2003 — по...</td>\n",
              "      <td>Eurocosmetics</td>\n",
              "      <td>Руководитель проекта</td>\n",
              "      <td>Неоконченное высшее образование 1997  Русско-Б...</td>\n",
              "      <td>21.04.2019 16:59</td>\n",
              "      <td>Не указано</td>\n",
              "      <td>5</td>\n",
              "      <td>3</td>\n",
              "      <td>47</td>\n",
              "      <td>0</td>\n",
              "      <td>27</td>\n",
              "      <td>23</td>\n",
              "      <td>3</td>\n",
              "      <td>0</td>\n",
              "    </tr>\n",
              "    <tr>\n",
              "      <th>15484</th>\n",
              "      <td>Мужчина ,  26 лет , родился 4 апреля 1993</td>\n",
              "      <td>60.0</td>\n",
              "      <td>Инженер-разработчик</td>\n",
              "      <td>Москва ,  м. Выхино , не готов к переезду , го...</td>\n",
              "      <td>проектная работа, полная занятость</td>\n",
              "      <td>гибкий график, полный день, сменный график, уд...</td>\n",
              "      <td>Опыт работы 6 лет 8 месяцев  Инженер-разработч...</td>\n",
              "      <td>HD-Studio (средство массовой информации)</td>\n",
              "      <td>Фотокорреспондент / Представитель HD-Studio Do...</td>\n",
              "      <td>Высшее образование (Магистр) 2015  Южный федер...</td>\n",
              "      <td>28.01.2019 10:59</td>\n",
              "      <td>Не указано</td>\n",
              "      <td>4</td>\n",
              "      <td>0</td>\n",
              "      <td>28</td>\n",
              "      <td>1</td>\n",
              "      <td>40</td>\n",
              "      <td>70</td>\n",
              "      <td>0</td>\n",
              "      <td>0</td>\n",
              "    </tr>\n",
              "    <tr>\n",
              "      <th>43788</th>\n",
              "      <td>Мужчина ,  35 лет , родился 18 апреля 1984</td>\n",
              "      <td>150.0</td>\n",
              "      <td>Заместитель руководителя по информатизации</td>\n",
              "      <td>Тюмень , не готов к переезду , готов к редким ...</td>\n",
              "      <td>полная занятость</td>\n",
              "      <td>гибкий график, полный день</td>\n",
              "      <td>Опыт работы 12 лет 5 месяцев  Июль 2018 — по н...</td>\n",
              "      <td>БУ ХМАО-Югры «Центр спортивной подготовки сбор...</td>\n",
              "      <td>Начальник Управления по информационным ресурсам</td>\n",
              "      <td>Высшее образование 2007 Российский университет...</td>\n",
              "      <td>15.04.2019 12:55</td>\n",
              "      <td>Имеется собственный автомобиль</td>\n",
              "      <td>5</td>\n",
              "      <td>3</td>\n",
              "      <td>37</td>\n",
              "      <td>1</td>\n",
              "      <td>27</td>\n",
              "      <td>36</td>\n",
              "      <td>0</td>\n",
              "      <td>1</td>\n",
              "    </tr>\n",
              "    <tr>\n",
              "      <th>33843</th>\n",
              "      <td>Мужчина ,  33 года , родился 7 апреля 1986</td>\n",
              "      <td>45.0</td>\n",
              "      <td>Монтажник</td>\n",
              "      <td>Санкт-Петербург ,  м. Садовая , готов к переез...</td>\n",
              "      <td>стажировка, волонтерство, частичная занятость,...</td>\n",
              "      <td>гибкий график, полный день, сменный график, ва...</td>\n",
              "      <td>Опыт работы 11 лет 5 месяцев  Апрель 2018 — по...</td>\n",
              "      <td>Везёт</td>\n",
              "      <td>Водитель</td>\n",
              "      <td>Среднее специальное образование 2004 ПУ 26 Дне...</td>\n",
              "      <td>13.04.2019 10:05</td>\n",
              "      <td>Не указано</td>\n",
              "      <td>5</td>\n",
              "      <td>1</td>\n",
              "      <td>35</td>\n",
              "      <td>1</td>\n",
              "      <td>71</td>\n",
              "      <td>71</td>\n",
              "      <td>1</td>\n",
              "      <td>0</td>\n",
              "    </tr>\n",
              "    <tr>\n",
              "      <th>58855</th>\n",
              "      <td>Мужчина ,  37 лет , родился 12 августа 1981</td>\n",
              "      <td>100.0</td>\n",
              "      <td>Руководитель ИТ-отдела</td>\n",
              "      <td>Москва ,  м. Красногвардейская , не готов к пе...</td>\n",
              "      <td>полная занятость</td>\n",
              "      <td>полный день</td>\n",
              "      <td>Опыт работы 11 лет 11 месяцев  Руководитель ИТ...</td>\n",
              "      <td>ГКУК г. Москвы \"Дирекция культурных центров\"</td>\n",
              "      <td>Руководитель отдела информатизации</td>\n",
              "      <td>Высшее образование 2011 Институт информационны...</td>\n",
              "      <td>27.04.2019 20:49</td>\n",
              "      <td>Имеется собственный автомобиль</td>\n",
              "      <td>5</td>\n",
              "      <td>0</td>\n",
              "      <td>40</td>\n",
              "      <td>1</td>\n",
              "      <td>27</td>\n",
              "      <td>23</td>\n",
              "      <td>0</td>\n",
              "      <td>1</td>\n",
              "    </tr>\n",
              "  </tbody>\n",
              "</table>\n",
              "</div>\n",
              "      <button class=\"colab-df-convert\" onclick=\"convertToInteractive('df-9aca5d63-45c8-4ced-9ae2-09dc5ad283d0')\"\n",
              "              title=\"Convert this dataframe to an interactive table.\"\n",
              "              style=\"display:none;\">\n",
              "        \n",
              "  <svg xmlns=\"http://www.w3.org/2000/svg\" height=\"24px\"viewBox=\"0 0 24 24\"\n",
              "       width=\"24px\">\n",
              "    <path d=\"M0 0h24v24H0V0z\" fill=\"none\"/>\n",
              "    <path d=\"M18.56 5.44l.94 2.06.94-2.06 2.06-.94-2.06-.94-.94-2.06-.94 2.06-2.06.94zm-11 1L8.5 8.5l.94-2.06 2.06-.94-2.06-.94L8.5 2.5l-.94 2.06-2.06.94zm10 10l.94 2.06.94-2.06 2.06-.94-2.06-.94-.94-2.06-.94 2.06-2.06.94z\"/><path d=\"M17.41 7.96l-1.37-1.37c-.4-.4-.92-.59-1.43-.59-.52 0-1.04.2-1.43.59L10.3 9.45l-7.72 7.72c-.78.78-.78 2.05 0 2.83L4 21.41c.39.39.9.59 1.41.59.51 0 1.02-.2 1.41-.59l7.78-7.78 2.81-2.81c.8-.78.8-2.07 0-2.86zM5.41 20L4 18.59l7.72-7.72 1.47 1.35L5.41 20z\"/>\n",
              "  </svg>\n",
              "      </button>\n",
              "      \n",
              "  <style>\n",
              "    .colab-df-container {\n",
              "      display:flex;\n",
              "      flex-wrap:wrap;\n",
              "      gap: 12px;\n",
              "    }\n",
              "\n",
              "    .colab-df-convert {\n",
              "      background-color: #E8F0FE;\n",
              "      border: none;\n",
              "      border-radius: 50%;\n",
              "      cursor: pointer;\n",
              "      display: none;\n",
              "      fill: #1967D2;\n",
              "      height: 32px;\n",
              "      padding: 0 0 0 0;\n",
              "      width: 32px;\n",
              "    }\n",
              "\n",
              "    .colab-df-convert:hover {\n",
              "      background-color: #E2EBFA;\n",
              "      box-shadow: 0px 1px 2px rgba(60, 64, 67, 0.3), 0px 1px 3px 1px rgba(60, 64, 67, 0.15);\n",
              "      fill: #174EA6;\n",
              "    }\n",
              "\n",
              "    [theme=dark] .colab-df-convert {\n",
              "      background-color: #3B4455;\n",
              "      fill: #D2E3FC;\n",
              "    }\n",
              "\n",
              "    [theme=dark] .colab-df-convert:hover {\n",
              "      background-color: #434B5C;\n",
              "      box-shadow: 0px 1px 3px 1px rgba(0, 0, 0, 0.15);\n",
              "      filter: drop-shadow(0px 1px 2px rgba(0, 0, 0, 0.3));\n",
              "      fill: #FFFFFF;\n",
              "    }\n",
              "  </style>\n",
              "\n",
              "      <script>\n",
              "        const buttonEl =\n",
              "          document.querySelector('#df-9aca5d63-45c8-4ced-9ae2-09dc5ad283d0 button.colab-df-convert');\n",
              "        buttonEl.style.display =\n",
              "          google.colab.kernel.accessAllowed ? 'block' : 'none';\n",
              "\n",
              "        async function convertToInteractive(key) {\n",
              "          const element = document.querySelector('#df-9aca5d63-45c8-4ced-9ae2-09dc5ad283d0');\n",
              "          const dataTable =\n",
              "            await google.colab.kernel.invokeFunction('convertToInteractive',\n",
              "                                                     [key], {});\n",
              "          if (!dataTable) return;\n",
              "\n",
              "          const docLinkHtml = 'Like what you see? Visit the ' +\n",
              "            '<a target=\"_blank\" href=https://colab.research.google.com/notebooks/data_table.ipynb>data table notebook</a>'\n",
              "            + ' to learn more about interactive tables.';\n",
              "          element.innerHTML = '';\n",
              "          dataTable['output_type'] = 'display_data';\n",
              "          await google.colab.output.renderOutput(dataTable, element);\n",
              "          const docLink = document.createElement('div');\n",
              "          docLink.innerHTML = docLinkHtml;\n",
              "          element.appendChild(docLink);\n",
              "        }\n",
              "      </script>\n",
              "    </div>\n",
              "  </div>\n",
              "  "
            ],
            "text/plain": [
              "                                      Пол, возраст  ...  have_car\n",
              "3980    Женщина ,  45 лет , родилась 9 января 1974  ...         0\n",
              "15484    Мужчина ,  26 лет , родился 4 апреля 1993  ...         0\n",
              "43788   Мужчина ,  35 лет , родился 18 апреля 1984  ...         1\n",
              "33843   Мужчина ,  33 года , родился 7 апреля 1986  ...         0\n",
              "58855  Мужчина ,  37 лет , родился 12 августа 1981  ...         1\n",
              "\n",
              "[5 rows x 20 columns]"
            ]
          },
          "metadata": {},
          "execution_count": 78
        }
      ]
    },
    {
      "cell_type": "code",
      "execution_count": null,
      "metadata": {
        "id": "vAgYj8rqSrZ5"
      },
      "outputs": [],
      "source": [
        "values = hh_df_to_model.iloc[:, 0:11].values"
      ]
    },
    {
      "cell_type": "code",
      "execution_count": null,
      "metadata": {
        "id": "uw2LlBPJJIWI"
      },
      "outputs": [],
      "source": [
        "def get_text_job_data(values):\n",
        "\n",
        "  text_job_data = []\n",
        "  \n",
        "  for val in values:\n",
        "    current_text = \"\"\n",
        "    if (type(val[2]) == str):\n",
        "      current_text += val[2]\n",
        "    if (type(val[8]) == str):\n",
        "      current_text += \" \" + val[8]\n",
        "\n",
        "    text_job_data.append(current_text)\n",
        "  \n",
        "  text_job_data = np.array(text_job_data)\n",
        "  \n",
        "  return text_job_data"
      ]
    },
    {
      "cell_type": "code",
      "execution_count": null,
      "metadata": {
        "colab": {
          "base_uri": "https://localhost:8080/"
        },
        "id": "xFB2BkfAJJND",
        "outputId": "51d17676-e8e0-4d93-eec7-b388cc8c926e"
      },
      "outputs": [
        {
          "output_type": "execute_result",
          "data": {
            "text/plain": [
              "(62829,)"
            ]
          },
          "metadata": {},
          "execution_count": 81
        }
      ],
      "source": [
        "text_job_data = get_text_job_data(values)\n",
        "text_job_data.shape"
      ]
    },
    {
      "cell_type": "code",
      "execution_count": null,
      "metadata": {
        "id": "mqfvRG28JJrp"
      },
      "outputs": [],
      "source": [
        "def get_text_exp_data(values):\n",
        "\n",
        "  text_exp_data = []\n",
        "  \n",
        "  for val in values:\n",
        "    current_text = \"\"\n",
        "    if (type(val[6]) == str):\n",
        "      current_text += val[6]\n",
        "\n",
        "    text_exp_data.append(current_text)\n",
        "  \n",
        "  text_exp_data = np.array(text_exp_data)\n",
        "  \n",
        "  return text_exp_data"
      ]
    },
    {
      "cell_type": "code",
      "execution_count": null,
      "metadata": {
        "colab": {
          "base_uri": "https://localhost:8080/"
        },
        "id": "iLU7c2ImJKWl",
        "outputId": "6487c099-b68d-4d07-c4a4-929a40cc5e1b"
      },
      "outputs": [
        {
          "output_type": "execute_result",
          "data": {
            "text/plain": [
              "(62829,)"
            ]
          },
          "metadata": {},
          "execution_count": 83
        }
      ],
      "source": [
        "text_exp_data = get_text_exp_data(values)\n",
        "text_exp_data.shape"
      ]
    },
    {
      "cell_type": "markdown",
      "metadata": {
        "id": "v6StNY-OGaXz"
      },
      "source": [
        "# train_test"
      ]
    },
    {
      "cell_type": "code",
      "execution_count": null,
      "metadata": {
        "colab": {
          "base_uri": "https://localhost:8080/"
        },
        "id": "VaRSzgT3FdBJ",
        "outputId": "ed670391-b855-4059-b102-fc31ebe35e42"
      },
      "outputs": [
        {
          "output_type": "stream",
          "name": "stdout",
          "text": [
            "76.85304779639976 63.61388992577989\n",
            "(62829, 8) (62829,)\n"
          ]
        }
      ],
      "source": [
        "X = hh_df_to_model.iloc[:, 12:].values\n",
        "y = hh_df_to_model[\"зп_тыс_руб\"].values\n",
        "\n",
        "print(y.mean(), y.std())\n",
        "print(X.shape, y.shape)"
      ]
    },
    {
      "cell_type": "code",
      "execution_count": null,
      "metadata": {
        "id": "-rqxPzoGFdIc"
      },
      "outputs": [],
      "source": [
        "X_train, X_test, y_train, y_test = train_test_split(X, y, test_size=0.2, shuffle=False)"
      ]
    },
    {
      "cell_type": "code",
      "execution_count": null,
      "metadata": {
        "colab": {
          "base_uri": "https://localhost:8080/"
        },
        "id": "07IMTIysFdKx",
        "outputId": "8f7f8728-2b8c-4ffc-f411-ba728bf319c0"
      },
      "outputs": [
        {
          "output_type": "execute_result",
          "data": {
            "text/plain": [
              "((50263, 8), (12566, 8), (50263,), (12566,))"
            ]
          },
          "metadata": {},
          "execution_count": 86
        }
      ],
      "source": [
        "X_train.shape, X_test.shape, y_train.shape, y_test.shape"
      ]
    },
    {
      "cell_type": "code",
      "execution_count": null,
      "metadata": {
        "colab": {
          "base_uri": "https://localhost:8080/"
        },
        "id": "TmiH5C7CLERv",
        "outputId": "f4c261ef-f6ef-40a8-d992-d7051b01bcc0"
      },
      "outputs": [
        {
          "output_type": "stream",
          "name": "stdout",
          "text": [
            "(50263, 1)\n",
            "-1.1659075688242695e-16 1.0\n"
          ]
        }
      ],
      "source": [
        "y_scaler = StandardScaler()\n",
        "y_scaler.fit(y_train.reshape(-1, 1))\n",
        "y_train_scaled = y_scaler.transform(y_train.reshape(-1, 1))\n",
        "\n",
        "print(y_train_scaled.shape)\n",
        "print(y_train_scaled.mean(), y_train_scaled.std())"
      ]
    },
    {
      "cell_type": "code",
      "execution_count": null,
      "metadata": {
        "colab": {
          "base_uri": "https://localhost:8080/"
        },
        "id": "SEch2J54xpn6",
        "outputId": "d54367f2-fc27-44c6-a28f-0be363bd056f"
      },
      "outputs": [
        {
          "output_type": "stream",
          "name": "stdout",
          "text": [
            "(50263, 8)\n",
            "1.2793529551815265e-17 1.000000000000225\n"
          ]
        }
      ],
      "source": [
        "x_scaler = StandardScaler()\n",
        "x_scaler.fit(X_train)\n",
        "X_train_scaled = x_scaler.transform(X_train)\n",
        "print(X_train_scaled.shape)\n",
        "print(X_train_scaled.T[4].mean(), X_train_scaled.T[4].std())"
      ]
    },
    {
      "cell_type": "code",
      "execution_count": null,
      "metadata": {
        "id": "rPpuwzY5VLcg",
        "colab": {
          "base_uri": "https://localhost:8080/"
        },
        "outputId": "4da4118f-5060-4835-ad12-63bcfa7007a7"
      },
      "outputs": [
        {
          "output_type": "stream",
          "name": "stdout",
          "text": [
            "9991\n"
          ]
        }
      ],
      "source": [
        "max_words_count = 5000\n",
        "\n",
        "tokenizer = Tokenizer(max_words_count, oov_token=\"unknown\")\n",
        "tokenizer.fit_on_texts(text_job_data)\n",
        "print(len(tokenizer.word_index.values()))\n",
        "text_job_word_sequence = tokenizer.texts_to_sequences(text_job_data)"
      ]
    },
    {
      "cell_type": "code",
      "execution_count": null,
      "metadata": {
        "id": "s1Ur2H6oVLhK"
      },
      "outputs": [],
      "source": [
        "def get_words_count(word_sequence):\n",
        "\n",
        "  text_len = []\n",
        "\n",
        "  for i in word_sequence:\n",
        "    text_len.append(len(i))\n",
        "\n",
        "  plt.hist(text_len, bins=100)\n",
        "  plt.show()"
      ]
    },
    {
      "cell_type": "code",
      "execution_count": null,
      "metadata": {
        "colab": {
          "base_uri": "https://localhost:8080/"
        },
        "id": "-7eK7ARoawoB",
        "outputId": "f403537b-3dcd-4a71-b53f-ae432af91f99"
      },
      "outputs": [
        {
          "output_type": "display_data",
          "data": {
            "image/png": "[encoded data removed]",
            "text/plain": [
              "<Figure size 1286.64x752.4 with 1 Axes>"
            ]
          },
          "metadata": {}
        }
      ],
      "source": [
        "get_words_count(text_job_word_sequence)"
      ]
    },
    {
      "cell_type": "code",
      "execution_count": null,
      "metadata": {
        "colab": {
          "base_uri": "https://localhost:8080/"
        },
        "id": "uBZytpvmVLji",
        "outputId": "52ce8b89-4bb0-4fe9-990b-de7f97afd473"
      },
      "outputs": [
        {
          "output_type": "execute_result",
          "data": {
            "text/plain": [
              "(62829, 16)"
            ]
          },
          "metadata": {},
          "execution_count": 92
        }
      ],
      "source": [
        "text_job_word_sequence = pad_sequences(text_job_word_sequence, 16)\n",
        "text_job_word_sequence.shape"
      ]
    },
    {
      "cell_type": "code",
      "execution_count": null,
      "metadata": {
        "id": "3YmrsLxj6xL1"
      },
      "outputs": [],
      "source": [
        "tokenizer = Tokenizer(max_words_count, oov_token=\"unknown\")\n",
        "tokenizer.fit_on_texts(text_exp_data)\n",
        "text_exp_word_sequence = tokenizer.texts_to_sequences(text_exp_data)"
      ]
    },
    {
      "cell_type": "code",
      "execution_count": null,
      "metadata": {
        "colab": {
          "base_uri": "https://localhost:8080/"
        },
        "id": "nYH073Y7beNk",
        "outputId": "965e82f3-406d-426b-efd0-6a2cc0e97140"
      },
      "outputs": [
        {
          "output_type": "display_data",
          "data": {
            "image/png": "[encoded data removed]",
            "text/plain": [
              "<Figure size 1286.64x752.4 with 1 Axes>"
            ]
          },
          "metadata": {}
        }
      ],
      "source": [
        "get_words_count(text_exp_word_sequence)"
      ]
    },
    {
      "cell_type": "code",
      "execution_count": null,
      "metadata": {
        "colab": {
          "base_uri": "https://localhost:8080/"
        },
        "id": "ReGkkjOTbeQB",
        "outputId": "bc4fc28e-8b76-457a-a3fb-9e942e8b2ebe"
      },
      "outputs": [
        {
          "output_type": "execute_result",
          "data": {
            "text/plain": [
              "(62829, 1200)"
            ]
          },
          "metadata": {},
          "execution_count": 95
        }
      ],
      "source": [
        "text_exp_word_sequence = pad_sequences(text_exp_word_sequence, 1200)\n",
        "text_exp_word_sequence.shape"
      ]
    },
    {
      "cell_type": "markdown",
      "source": [
        "# Error plot"
      ],
      "metadata": {
        "id": "C9g6_CIkcBuU"
      }
    },
    {
      "cell_type": "code",
      "metadata": {
        "id": "TlExFRlPdF2r"
      },
      "source": [
        "def get_error_plot(history):\n",
        "\n",
        "  plt.plot(history.history[\"mae\"], \n",
        "          label=\"MAE on train\")\n",
        "  plt.plot(history.history[\"val_mae\"], \n",
        "          label=\"MAE on valid\")\n",
        "  plt.xlabel(\"Epoch\")\n",
        "  plt.ylabel(\"MAE\")\n",
        "  plt.legend()\n",
        "  plt.show()"
      ],
      "execution_count": null,
      "outputs": []
    },
    {
      "cell_type": "code",
      "metadata": {
        "id": "gfZbZHjqdQtG"
      },
      "source": [
        "def get_right_predict_plot(X_test, y_test):\n",
        "\n",
        "  X_test_scaled = x_scaler.transform(X_test)\n",
        "  prediction = model.predict([X_test_scaled, text_job_word_sequence[50263:], text_exp_word_sequence[50263:]])\n",
        "  y_pred = y_scaler.inverse_transform(prediction).flatten()\n",
        "  print(f\"MAE: {mean_absolute_error(y_test, y_pred)}\")\n",
        "\n",
        "  plt.scatter(y_test, y_pred)\n",
        "  plt.xlabel(\"Right_values\")\n",
        "  plt.ylabel(\"Predictions\")\n",
        "  plt.axis('equal')\n",
        "  \n",
        "  plt.xlim(plt.xlim())\n",
        "  plt.ylim(plt.ylim())\n",
        "  plt.plot([-1000, 1000], [-1000, 1000])\n",
        "  plt.show()"
      ],
      "execution_count": null,
      "outputs": []
    },
    {
      "cell_type": "markdown",
      "metadata": {
        "id": "TAIyMvNTckbQ"
      },
      "source": [
        "#Модель"
      ]
    },
    {
      "cell_type": "code",
      "execution_count": null,
      "metadata": {
        "id": "aCZK3hNtcj-Z"
      },
      "outputs": [],
      "source": [
        "input1 = Input((X_train_scaled.shape[1],))\n",
        "input2 = Input((text_job_word_sequence.shape[1],))\n",
        "input3 = Input((text_exp_word_sequence.shape[1],))\n",
        "\n",
        "x1 = Dense(16, activation=\"elu\")(input1)\n",
        "x1 = BatchNormalization()(x1)\n",
        "x1 = Dropout(0.5)(x1)\n",
        "x1 = Dense(8, activation = \"elu\")(x1)\n",
        "\n",
        "x2 = Embedding(max_words_count, 50)(input2)\n",
        "x2 = Conv1D(50, 5, padding=\"same\", activation=\"elu\")(x2)\n",
        "x2 = MaxPool1D()(x2)\n",
        "x2 = BatchNormalization()(x2)\n",
        "x2 = Conv1D(100, 5, padding=\"same\", activation=\"elu\")(x2)\n",
        "x2 = GlobalMaxPooling1D()(x2)\n",
        "x2 = BatchNormalization()(x2)\n",
        "x2 = Dropout(0.5)(x2)\n",
        "x2 = Dense(64, activation = \"elu\")(x2)\n",
        "\n",
        "x3 = Embedding(max_words_count, 50)(input3)\n",
        "x3 = Conv1D(256, 5, padding=\"same\", activation=\"elu\")(x3)\n",
        "x3 = BatchNormalization()(x3)\n",
        "x3 = MaxPool1D()(x3)\n",
        "x3 = Conv1D(512, 5, padding=\"same\", activation=\"elu\")(x3)\n",
        "x3 = GlobalMaxPooling1D()(x3)\n",
        "x3 = BatchNormalization()(x3)\n",
        "x3 = Dropout(0.5)(x3)\n",
        "x3 = Dense(256, activation = \"elu\")(x3)\n",
        "\n",
        "x = concatenate([x1, x2, x3])\n",
        "\n",
        "x = Dense(128, activation=\"linear\")(x)\n",
        "x = BatchNormalization()(x)\n",
        "x = Dropout(0.3)(x)\n",
        "x = Dense(64, activation=\"linear\")(x)\n",
        "x = BatchNormalization()(x)\n",
        "x = Dropout(0.3)(x)\n",
        "x = Dense(1, activation=\"linear\")(x)\n",
        "\n",
        "model = Model((input1, input2, input3), x)"
      ]
    },
    {
      "cell_type": "code",
      "execution_count": null,
      "metadata": {
        "id": "S6ILhJKK1ACZ"
      },
      "outputs": [],
      "source": [
        "model.summary()"
      ]
    },
    {
      "cell_type": "code",
      "execution_count": null,
      "metadata": {
        "id": "FHpPD1yViRXV"
      },
      "outputs": [],
      "source": [
        "utils.plot_model(model, show_layer_names=False)"
      ]
    },
    {
      "cell_type": "code",
      "source": [
        "def get_batch_size(shape):\n",
        "\n",
        "  batches = []\n",
        "\n",
        "  for i in range(2, 1000):\n",
        "    if shape % i == 0:\n",
        "      batches.append(i)\n",
        "  \n",
        "  if batches:\n",
        "    return batches\n",
        "  else:\n",
        "    print(\"Didn't find integer divisors\")"
      ],
      "metadata": {
        "id": "8BMB_6c7c4-w"
      },
      "execution_count": null,
      "outputs": []
    },
    {
      "cell_type": "code",
      "source": [
        "print(get_batch_size(43000))"
      ],
      "metadata": {
        "colab": {
          "base_uri": "https://localhost:8080/"
        },
        "id": "Lw9_GHzZbiFL",
        "outputId": "570de030-4778-46ae-9826-8306f9fef90c"
      },
      "execution_count": null,
      "outputs": [
        {
          "output_type": "stream",
          "name": "stdout",
          "text": [
            "[2, 4, 5, 8, 10, 20, 25, 40, 43, 50, 86, 100, 125, 172, 200, 215, 250, 344, 430, 500, 860]\n"
          ]
        }
      ]
    },
    {
      "cell_type": "code",
      "source": [
        "epochs, val_loss = 1, 1\n",
        "checkpoint = ModelCheckpoint(f\"/content/drive/MyDrive/models/classf_car_epoch-{epochs:02d}-val_loss-{val_loss:.2f}.hdf5\", monitor=\"val_loss\", verbose=1, save_best_only=True, mode=\"auto\", save_freq=\"epoch\")\n",
        "early_stop = EarlyStopping(monitor=\"val_loss\", min_delta=0, patience=5, verbose=1, mode=\"auto\", baseline=None, restore_best_weights=True)\n",
        "reduce_lr = ReduceLROnPlateau(monitor=\"val_loss\", factor=0.3, patience=3, verbose=1, mode=\"auto\", min_delta=0, cooldown=0, min_lr=0.00001)"
      ],
      "metadata": {
        "id": "cutqcjOxIQ59"
      },
      "execution_count": null,
      "outputs": []
    },
    {
      "cell_type": "code",
      "source": [
        "model.compile(optimizer=Adam(0.001), loss=\"mse\", metrics=\"mae\")\n",
        "\n",
        "history = model.fit([X_train_scaled[:43000], text_job_word_sequence[:43000], text_exp_word_sequence[:43000]], \n",
        "                    y_train_scaled[:43000], \n",
        "                    epochs=100, \n",
        "                    validation_data=([X_train_scaled[43000:50263], text_job_word_sequence[43000:50263], text_exp_word_sequence[43000:50263]], \n",
        "                    y_train_scaled[43000:50263]), \n",
        "                    batch_size=125,\n",
        "                    verbose=1,\n",
        "                    callbacks=[checkpoint, early_stop, reduce_lr])\n",
        "\n",
        "get_error_plot(history)\n",
        "get_right_predict_plot(X_test, y_test)"
      ],
      "metadata": {
        "colab": {
          "base_uri": "https://localhost:8080/",
          "height": 1000
        },
        "id": "PmJTZRU3hpan",
        "outputId": "c9759198-4046-4259-8584-914a7099c216"
      },
      "execution_count": null,
      "outputs": [
        {
          "output_type": "stream",
          "name": "stdout",
          "text": [
            "Epoch 1/100\n",
            "344/344 [==============================] - ETA: 0s - loss: 1.1454 - mae: 0.7518\n",
            "Epoch 00001: val_loss improved from inf to 1.75133, saving model to /content/drive/MyDrive/models/classf_car_epoch-01-val_loss-1.00.hdf5\n",
            "344/344 [==============================] - 37s 101ms/step - loss: 1.1454 - mae: 0.7518 - val_loss: 1.7513 - val_mae: 0.9886 - lr: 0.0010\n",
            "Epoch 2/100\n",
            "344/344 [==============================] - ETA: 0s - loss: 0.4956 - mae: 0.4772\n",
            "Epoch 00002: val_loss improved from 1.75133 to 0.71573, saving model to /content/drive/MyDrive/models/classf_car_epoch-01-val_loss-1.00.hdf5\n",
            "344/344 [==============================] - 31s 89ms/step - loss: 0.4956 - mae: 0.4772 - val_loss: 0.7157 - val_mae: 0.5022 - lr: 0.0010\n",
            "Epoch 3/100\n",
            "344/344 [==============================] - ETA: 0s - loss: 0.3202 - mae: 0.3722\n",
            "Epoch 00003: val_loss improved from 0.71573 to 0.29977, saving model to /content/drive/MyDrive/models/classf_car_epoch-01-val_loss-1.00.hdf5\n",
            "344/344 [==============================] - 31s 89ms/step - loss: 0.3202 - mae: 0.3722 - val_loss: 0.2998 - val_mae: 0.3352 - lr: 0.0010\n",
            "Epoch 4/100\n",
            "344/344 [==============================] - ETA: 0s - loss: 0.2418 - mae: 0.3260\n",
            "Epoch 00004: val_loss did not improve from 0.29977\n",
            "344/344 [==============================] - 30s 87ms/step - loss: 0.2418 - mae: 0.3260 - val_loss: 0.3259 - val_mae: 0.3506 - lr: 0.0010\n",
            "Epoch 5/100\n",
            "344/344 [==============================] - ETA: 0s - loss: 0.1947 - mae: 0.2971\n",
            "Epoch 00005: val_loss did not improve from 0.29977\n",
            "344/344 [==============================] - 30s 87ms/step - loss: 0.1947 - mae: 0.2971 - val_loss: 0.3298 - val_mae: 0.3476 - lr: 0.0010\n",
            "Epoch 6/100\n",
            "344/344 [==============================] - ETA: 0s - loss: 0.1769 - mae: 0.2837\n",
            "Epoch 00006: val_loss did not improve from 0.29977\n",
            "\n",
            "Epoch 00006: ReduceLROnPlateau reducing learning rate to 0.0003000000142492354.\n",
            "344/344 [==============================] - 30s 87ms/step - loss: 0.1769 - mae: 0.2837 - val_loss: 0.3107 - val_mae: 0.3416 - lr: 0.0010\n",
            "Epoch 7/100\n",
            "344/344 [==============================] - ETA: 0s - loss: 0.1422 - mae: 0.2570\n",
            "Epoch 00007: val_loss improved from 0.29977 to 0.24932, saving model to /content/drive/MyDrive/models/classf_car_epoch-01-val_loss-1.00.hdf5\n",
            "344/344 [==============================] - 31s 89ms/step - loss: 0.1422 - mae: 0.2570 - val_loss: 0.2493 - val_mae: 0.2858 - lr: 3.0000e-04\n",
            "Epoch 8/100\n",
            "344/344 [==============================] - ETA: 0s - loss: 0.1188 - mae: 0.2371\n",
            "Epoch 00008: val_loss did not improve from 0.24932\n",
            "344/344 [==============================] - 30s 87ms/step - loss: 0.1188 - mae: 0.2371 - val_loss: 0.2594 - val_mae: 0.2978 - lr: 3.0000e-04\n",
            "Epoch 9/100\n",
            "344/344 [==============================] - ETA: 0s - loss: 0.1104 - mae: 0.2291\n",
            "Epoch 00009: val_loss improved from 0.24932 to 0.23449, saving model to /content/drive/MyDrive/models/classf_car_epoch-01-val_loss-1.00.hdf5\n",
            "344/344 [==============================] - 31s 89ms/step - loss: 0.1104 - mae: 0.2291 - val_loss: 0.2345 - val_mae: 0.2698 - lr: 3.0000e-04\n",
            "Epoch 10/100\n",
            "344/344 [==============================] - ETA: 0s - loss: 0.1043 - mae: 0.2231\n",
            "Epoch 00010: val_loss did not improve from 0.23449\n",
            "344/344 [==============================] - 30s 87ms/step - loss: 0.1043 - mae: 0.2231 - val_loss: 0.2502 - val_mae: 0.2821 - lr: 3.0000e-04\n",
            "Epoch 11/100\n",
            "344/344 [==============================] - ETA: 0s - loss: 0.1002 - mae: 0.2186\n",
            "Epoch 00011: val_loss did not improve from 0.23449\n",
            "344/344 [==============================] - 30s 87ms/step - loss: 0.1002 - mae: 0.2186 - val_loss: 0.2361 - val_mae: 0.2734 - lr: 3.0000e-04\n",
            "Epoch 12/100\n",
            "344/344 [==============================] - ETA: 0s - loss: 0.0997 - mae: 0.2186\n",
            "Epoch 00012: val_loss did not improve from 0.23449\n",
            "\n",
            "Epoch 00012: ReduceLROnPlateau reducing learning rate to 9.000000427477062e-05.\n",
            "344/344 [==============================] - 30s 87ms/step - loss: 0.0997 - mae: 0.2186 - val_loss: 0.2405 - val_mae: 0.2743 - lr: 3.0000e-04\n",
            "Epoch 13/100\n",
            "344/344 [==============================] - ETA: 0s - loss: 0.0952 - mae: 0.2114\n",
            "Epoch 00013: val_loss did not improve from 0.23449\n",
            "344/344 [==============================] - 30s 87ms/step - loss: 0.0952 - mae: 0.2114 - val_loss: 0.2412 - val_mae: 0.2688 - lr: 9.0000e-05\n",
            "Epoch 14/100\n",
            "344/344 [==============================] - ETA: 0s - loss: 0.0834 - mae: 0.2006\n",
            "Epoch 00014: val_loss improved from 0.23449 to 0.22781, saving model to /content/drive/MyDrive/models/classf_car_epoch-01-val_loss-1.00.hdf5\n",
            "344/344 [==============================] - 31s 89ms/step - loss: 0.0834 - mae: 0.2006 - val_loss: 0.2278 - val_mae: 0.2568 - lr: 9.0000e-05\n",
            "Epoch 15/100\n",
            "344/344 [==============================] - ETA: 0s - loss: 0.0830 - mae: 0.1991\n",
            "Epoch 00015: val_loss did not improve from 0.22781\n",
            "344/344 [==============================] - 30s 87ms/step - loss: 0.0830 - mae: 0.1991 - val_loss: 0.2322 - val_mae: 0.2613 - lr: 9.0000e-05\n",
            "Epoch 16/100\n",
            "344/344 [==============================] - ETA: 0s - loss: 0.0840 - mae: 0.1978\n",
            "Epoch 00016: val_loss did not improve from 0.22781\n",
            "344/344 [==============================] - 30s 87ms/step - loss: 0.0840 - mae: 0.1978 - val_loss: 0.2379 - val_mae: 0.2665 - lr: 9.0000e-05\n",
            "Epoch 17/100\n",
            "344/344 [==============================] - ETA: 0s - loss: 0.0775 - mae: 0.1934\n",
            "Epoch 00017: val_loss did not improve from 0.22781\n",
            "\n",
            "Epoch 00017: ReduceLROnPlateau reducing learning rate to 2.700000040931627e-05.\n",
            "344/344 [==============================] - 30s 87ms/step - loss: 0.0775 - mae: 0.1934 - val_loss: 0.2359 - val_mae: 0.2618 - lr: 9.0000e-05\n",
            "Epoch 18/100\n",
            "344/344 [==============================] - ETA: 0s - loss: 0.0739 - mae: 0.1898\n",
            "Epoch 00018: val_loss did not improve from 0.22781\n",
            "344/344 [==============================] - 30s 87ms/step - loss: 0.0739 - mae: 0.1898 - val_loss: 0.2319 - val_mae: 0.2603 - lr: 2.7000e-05\n",
            "Epoch 19/100\n",
            "344/344 [==============================] - ETA: 0s - loss: 0.0759 - mae: 0.1916\n",
            "Epoch 00019: val_loss improved from 0.22781 to 0.22569, saving model to /content/drive/MyDrive/models/classf_car_epoch-01-val_loss-1.00.hdf5\n",
            "344/344 [==============================] - 31s 89ms/step - loss: 0.0759 - mae: 0.1916 - val_loss: 0.2257 - val_mae: 0.2522 - lr: 2.7000e-05\n",
            "Epoch 20/100\n",
            "344/344 [==============================] - ETA: 0s - loss: 0.0743 - mae: 0.1882\n",
            "Epoch 00020: val_loss did not improve from 0.22569\n",
            "344/344 [==============================] - 30s 87ms/step - loss: 0.0743 - mae: 0.1882 - val_loss: 0.2321 - val_mae: 0.2584 - lr: 2.7000e-05\n",
            "Epoch 21/100\n",
            "344/344 [==============================] - ETA: 0s - loss: 0.0714 - mae: 0.1847\n",
            "Epoch 00021: val_loss did not improve from 0.22569\n",
            "344/344 [==============================] - 30s 87ms/step - loss: 0.0714 - mae: 0.1847 - val_loss: 0.2284 - val_mae: 0.2550 - lr: 2.7000e-05\n",
            "Epoch 22/100\n",
            "344/344 [==============================] - ETA: 0s - loss: 0.0710 - mae: 0.1856\n",
            "Epoch 00022: val_loss did not improve from 0.22569\n",
            "\n",
            "Epoch 00022: ReduceLROnPlateau reducing learning rate to 1e-05.\n",
            "344/344 [==============================] - 30s 87ms/step - loss: 0.0710 - mae: 0.1856 - val_loss: 0.2289 - val_mae: 0.2548 - lr: 2.7000e-05\n",
            "Epoch 23/100\n",
            "344/344 [==============================] - ETA: 0s - loss: 0.0688 - mae: 0.1828\n",
            "Epoch 00023: val_loss did not improve from 0.22569\n",
            "344/344 [==============================] - 30s 87ms/step - loss: 0.0688 - mae: 0.1828 - val_loss: 0.2266 - val_mae: 0.2521 - lr: 1.0000e-05\n",
            "Epoch 24/100\n",
            "344/344 [==============================] - ETA: 0s - loss: 0.0708 - mae: 0.1853\n",
            "Epoch 00024: val_loss did not improve from 0.22569\n",
            "Restoring model weights from the end of the best epoch: 19.\n",
            "344/344 [==============================] - 30s 87ms/step - loss: 0.0708 - mae: 0.1853 - val_loss: 0.2263 - val_mae: 0.2512 - lr: 1.0000e-05\n",
            "Epoch 00024: early stopping\n"
          ]
        },
        {
          "output_type": "display_data",
          "data": {
            "image/png": "[encoded data removed]",
            "text/plain": [
              "<Figure size 1286.64x752.4 with 1 Axes>"
            ]
          },
          "metadata": {}
        },
        {
          "output_type": "stream",
          "name": "stdout",
          "text": [
            "MAE: 15.88875841933376\n"
          ]
        },
        {
          "output_type": "display_data",
          "data": {
            "image/png": "[encoded data removed]",
            "text/plain": [
              "<Figure size 1286.64x752.4 with 1 Axes>"
            ]
          },
          "metadata": {}
        }
      ]
    },
    {
      "cell_type": "code",
      "source": [
        "# Дальше можно посмотреть на выбросы сделать выводы, поработать над данными и архитектурой. С текстом в данном случае BOW вероятно будет работать лучше."
      ],
      "metadata": {
        "id": "OeS7fxORLQpT"
      },
      "execution_count": null,
      "outputs": []
    },
    {
      "cell_type": "markdown",
      "source": [
        "#Callback"
      ],
      "metadata": {
        "id": "OpfH9VrHGwZS"
      }
    },
    {
      "cell_type": "code",
      "execution_count": null,
      "metadata": {
        "id": "qO4ad88cItO5"
      },
      "outputs": [],
      "source": [
        "def on_train_begin(logs):\n",
        "  \n",
        "  global losses\n",
        "  global val_losses\n",
        "  global start\n",
        "  global best_loss\n",
        "\n",
        "  losses = []\n",
        "  val_losses = []\n",
        "  \n",
        "  start = datetime.datetime.now()\n",
        "  print(\"Start time:\", start)\n",
        "  best_loss = sys.maxsize"
      ]
    },
    {
      "cell_type": "code",
      "execution_count": null,
      "metadata": {
        "id": "QeMEcVdFI8bi"
      },
      "outputs": [],
      "source": [
        "def on_epoch_begin(epoch, logs):\n",
        "\n",
        "  global epoch_start\n",
        "\n",
        "  epoch_start = datetime.datetime.now()\n",
        "  print(\"Learning step:\", round(K.eval(model.optimizer.lr), 5))"
      ]
    },
    {
      "cell_type": "code",
      "execution_count": null,
      "metadata": {
        "id": "M9tuCf1l4BsI"
      },
      "outputs": [],
      "source": [
        "def on_epoch_end(epoch, logs):\n",
        "  \n",
        "  clear_output(wait=True)\n",
        "  \n",
        "  prediction = model.predict([X_train_scaled[43000:50263], text_job_word_sequence[43000:50263], text_exp_word_sequence[43000:50263]])\n",
        "  prediction_inverse = y_scaler.inverse_transform(prediction).flatten()\n",
        "  y_inverse = y_scaler.inverse_transform(y_train_scaled[43000:50263]).flatten()\n",
        "  delta = prediction_inverse - y_inverse\n",
        "  abs_delta = abs(delta)\n",
        "  print(\"Epoch: \", epoch, \", \", \" MAE: \", round(sum(abs_delta) / (len(abs_delta)), 3), sep=\"\")\n",
        "\n",
        "  losses.append(list(logs.values())[0])\n",
        "  val_losses.append(list(logs.values())[1])\n",
        "  \n",
        "  if (len(losses) > 1):\n",
        "    n = np.arange(0, len(losses))\n",
        "    plt.figure()\n",
        "    plt.plot(n, losses, label=\"Loss on train_data\")\n",
        "    plt.plot(n, val_losses, label=\"Loss on valid_data\")\n",
        "    plt.xlabel(\"Epoch\")\n",
        "    plt.ylabel(\"Loss\")\n",
        "    plt.legend()\n",
        "    plt.show()\n",
        "\n",
        "  y_t_scaled = y_train_scaled[43000:50263]\n",
        "  plt.scatter(y_t_scaled, prediction)\n",
        "  plt.xlabel(\"Right values\")\n",
        "  plt.ylabel(\"Prediction\")\n",
        "  plt.axis(\"equal\")\n",
        "  plt.xlim(plt.xlim())\n",
        "  plt.ylim(plt.ylim())\n",
        "  plt.plot([-1000, 5000],[-1000, 5000])\n",
        "  plt.show()\n",
        "  \n",
        "  delta_scaled = prediction - y_t_scaled\n",
        "  abs_delta_scaled = abs(delta_scaled)\n",
        "  plt.hist(abs_delta_scaled.flatten(), bins=np.linspace(0,0.5,25), ec=\"black\")\n",
        "  plt.xlabel(\"AE\")\n",
        "  plt.ylabel(\"Count\")\n",
        "  plt.show()\n",
        "\n",
        "  cur_time = datetime.datetime.now()\n",
        "  train_time = cur_time - start\n",
        "  epoch_time = cur_time - epoch_start\n",
        "  avg_time = (train_time / (epoch + 1))\n",
        "  left_epochs = (epochs - (epoch + 1))\n",
        "  left_time = avg_time * left_epochs\n",
        "  print(\"Time for an epoch: \",epoch_time,\", \", \"total training time: \", train_time, \" ,\", \"time left until the end: \", left_time,sep=\"\")\n",
        "\n",
        "  if epoch > 3:\n",
        "\n",
        "    temp_losses = val_losses[epoch - 3]\n",
        "\n",
        "    if (val_losses[epoch - 3] > val_losses[epoch - 2] < val_losses[epoch - 1] > val_losses[epoch]) and (np.mean(temp_losses) < np.min(temp_losses) + 0.1):\n",
        "        model.optimizer.lr.assign(K.eval(model.optimizer.lr) * 0.5)\n",
        "        print(\"Learning step was changed due to SAW\")\n",
        "        print(\"New learning step:\", round(K.eval(model.optimizer.lr), 10))\n",
        "\n",
        "    if np.mean(temp_losses) < np.min(temp_losses) + 0.1:\n",
        "      model.optimizer.lr.assign(K.eval(model.optimizer.lr) * 3)\n",
        "      print(\"Learning step was changed due to PLATO\")\n",
        "      print(\"New learning step:\", round(K.eval(model.optimizer.lr), 10))\n",
        "\n",
        "  best_loss = val_losses[0]\n",
        "  if (list(logs.values())[1] < best_loss):\n",
        "    model.save_weights(\"best_loss.h5\")\n",
        "    best_loss = list(logs.values())[1]\n",
        "    print(\"Best weights found, values ​​have been updated\")"
      ]
    },
    {
      "cell_type": "code",
      "execution_count": null,
      "metadata": {
        "id": "nX924VLF4Bux"
      },
      "outputs": [],
      "source": [
        "clbk = LambdaCallback(on_train_begin=on_train_begin, on_epoch_begin=on_epoch_begin, on_epoch_end=on_epoch_end)"
      ]
    }
  ],
  "metadata": {
    "accelerator": "GPU",
    "colab": {
      "name": "2 NLP - SNN, Embedding, CNN,  Dence. Regression on hh_base",
      "provenance": [],
      "authorship_tag": "ABX9TyOx69GTvhJAVcZAgHNHrw9v",
      "include_colab_link": true
    },
    "kernelspec": {
      "display_name": "Python 3",
      "name": "python3"
    },
    "language_info": {
      "name": "python"
    }
  },
  "nbformat": 4,
  "nbformat_minor": 0
}