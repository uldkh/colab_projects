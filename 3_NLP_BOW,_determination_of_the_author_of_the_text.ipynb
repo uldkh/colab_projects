{
  "nbformat": 4,
  "nbformat_minor": 0,
  "metadata": {
    "colab": {
      "name": "3 NLP - BOW, determination of the author of the text",
      "provenance": [],
      "collapsed_sections": [],
      "authorship_tag": "ABX9TyOSjKmT/kQuX4jrfKjAtAj7",
      "include_colab_link": true
    },
    "kernelspec": {
      "name": "python3",
      "display_name": "Python 3"
    },
    "language_info": {
      "name": "python"
    },
    "accelerator": "GPU"
  },
  "cells": [
    {
      "cell_type": "markdown",
      "metadata": {
        "id": "view-in-github",
        "colab_type": "text"
      },
      "source": [
        "<a href=\"https://colab.research.google.com/github/uldkh/colab_projects/blob/main/3_NLP_BOW%2C_determination_of_the_author_of_the_text.ipynb\" target=\"_parent\"><img src=\"https://colab.research.google.com/assets/colab-badge.svg\" alt=\"Open In Colab\"/></a>"
      ]
    },
    {
      "cell_type": "code",
      "execution_count": null,
      "metadata": {
        "id": "xgslKXgHKf1O"
      },
      "outputs": [],
      "source": [
        "from google.colab import drive\n",
        "\n",
        "import numpy as np\n",
        "import pandas as pd\n",
        "import matplotlib.pyplot as plt\n",
        "import seaborn as sns\n",
        "import pymorphy2\n",
        "import re\n",
        "\n",
        "from tensorflow.keras.models import Sequential\n",
        "from tensorflow.keras.layers import Dense, BatchNormalization, Dropout\n",
        "from tensorflow.keras.optimizers import Adam\n",
        "from tensorflow.keras.preprocessing.text import Tokenizer\n",
        "from tensorflow.keras.preprocessing.sequence import pad_sequences\n",
        "from tensorflow.keras import utils\n",
        "\n",
        "import os, os.path\n",
        "import gc"
      ]
    },
    {
      "cell_type": "code",
      "source": [
        "drive.mount(\"/content/drive\")"
      ],
      "metadata": {
        "id": "yDpDQpwlKu4H",
        "colab": {
          "base_uri": "https://localhost:8080/"
        },
        "outputId": "16e97544-c88d-4698-fc19-25da2db7e2b4"
      },
      "execution_count": null,
      "outputs": [
        {
          "output_type": "stream",
          "name": "stdout",
          "text": [
            "Drive already mounted at /content/drive; to attempt to forcibly remount, call drive.mount(\"/content/drive\", force_remount=True).\n"
          ]
        }
      ]
    },
    {
      "cell_type": "code",
      "source": [
        "!unrar x \"/content/drive/My Drive/DataBases/Texts\""
      ],
      "metadata": {
        "id": "1Y7wlJ6mKu64"
      },
      "execution_count": null,
      "outputs": []
    },
    {
      "cell_type": "code",
      "source": [
        "def get_normal_text_form(text):\n",
        "\n",
        "  for word in set(text.split()):\n",
        "    morph = pymorphy2.MorphAnalyzer()\n",
        "    p = morph.parse(word)[0]\n",
        "    normal_text.append(p.normal_form)\n",
        "  normal_text = \"\".join(normal_text)\n",
        "  \n",
        "  return normal_text"
      ],
      "metadata": {
        "id": "LakeLdZuX6LZ"
      },
      "execution_count": null,
      "outputs": []
    },
    {
      "cell_type": "code",
      "source": [
        "def read_text(filename):\n",
        "  exc_punctuation = \"'\\ufeff\\xa0!#$%&()*+,-./:;<=>0123456789?@[\\\\]^_«»`{|}~\\t\\n\"\n",
        "  f = open(filename, \"r\")\n",
        "  text = f.read()\n",
        "  trans_table = str.maketrans(exc_punctuation, \" \" * len(exc_punctuation))\n",
        "  text = text.translate(trans_table)\n",
        "  text = re.sub(\" +\", \" \", text)\n",
        "  f.close()\n",
        "  return text"
      ],
      "metadata": {
        "id": "z2A-6l1CKu9w"
      },
      "execution_count": null,
      "outputs": []
    },
    {
      "cell_type": "code",
      "source": [
        "class_names = [\"Булгаков\", \"Клиффорд\", \"Фрай\", \"Генри\", \"Брэдберри\", \"Стругацкие\"]\n",
        "n_classes = len(class_names)"
      ],
      "metadata": {
        "id": "KnI-d_J2FbjJ"
      },
      "execution_count": null,
      "outputs": []
    },
    {
      "cell_type": "code",
      "source": [
        "train_text = []\n",
        "test_text = []\n",
        "count = 0\n",
        "dir = \"/content/Texts\"\n",
        "\n",
        "for i in class_names:\n",
        "  for j in os.listdir(dir):\n",
        "    if i in j:\n",
        "      if \"Обучающая\" in j:\n",
        "        train_text.append(read_text(dir + \"/\" + j))\n",
        "        count += 1\n",
        "      elif \"Тестовая\" in j:\n",
        "        test_text.append(read_text(dir + \"/\" + j))\n",
        "        count += 1\n",
        "\n",
        "print(len(os.listdir(dir)) == count)"
      ],
      "metadata": {
        "id": "6Lm9rAmRKvAA",
        "colab": {
          "base_uri": "https://localhost:8080/"
        },
        "outputId": "0521014e-2327-4100-9cd0-0098d300ce57"
      },
      "execution_count": null,
      "outputs": [
        {
          "output_type": "stream",
          "name": "stdout",
          "text": [
            "True\n"
          ]
        }
      ]
    },
    {
      "cell_type": "code",
      "source": [
        "(len(train_text), len(train_text[2])), (len(test_text), len(test_text[2]))"
      ],
      "metadata": {
        "id": "1jicDx9GKvH0",
        "colab": {
          "base_uri": "https://localhost:8080/"
        },
        "outputId": "8d04e2a5-a6dc-46c4-9277-31d45345bcda"
      },
      "execution_count": null,
      "outputs": [
        {
          "output_type": "execute_result",
          "data": {
            "text/plain": [
              "((6, 3548504), (6, 1223005))"
            ]
          },
          "metadata": {},
          "execution_count": 6
        }
      ]
    },
    {
      "cell_type": "code",
      "source": [
        "def get_set_from_indexes(word_indexes, x_len, step):\n",
        "\n",
        "  sample = []\n",
        "  words_len = len(word_indexes)\n",
        "  index = 0\n",
        "\n",
        "  while (index + x_len <= words_len):\n",
        "    sample.append(word_indexes[index: index + x_len])\n",
        "    index += step\n",
        "  \n",
        "  return sample"
      ],
      "metadata": {
        "id": "JlBEspOYKvg-"
      },
      "execution_count": null,
      "outputs": []
    },
    {
      "cell_type": "code",
      "source": [
        "def create_sets_multi_classes(word_indexes, x_len, step):\n",
        "\n",
        "  n_classes = len(word_indexes)\n",
        "  class_samples = []\n",
        "\n",
        "  for i in word_indexes:\n",
        "    class_samples.append(get_set_from_indexes(i, x_len, step))\n",
        "  \n",
        "  x_samples = []\n",
        "  y_samples = []\n",
        "\n",
        "  for i in range(n_classes):\n",
        "    selection = class_samples[i]\n",
        "    for j in range(len(selection)):\n",
        "      x_samples.append(selection[j])\n",
        "      y_samples.append(utils.to_categorical(i, n_classes))\n",
        "  \n",
        "  x_samples = np.array(x_samples)\n",
        "  y_samples = np.array(y_samples)\n",
        "\n",
        "  return x_samples, y_samples"
      ],
      "metadata": {
        "id": "f3Ske69PnVMD"
      },
      "execution_count": null,
      "outputs": []
    },
    {
      "cell_type": "code",
      "source": [
        "def create_data(train, test, max_words_count, x_len, step):\n",
        " \n",
        "  tokenizer = Tokenizer(num_words=max_words_count, oov_token=\"unknown\")\n",
        "  tokenizer.fit_on_texts(train_text)\n",
        "  print(len(tokenizer.word_index.items()))\n",
        "\n",
        "  train_word_indexes = tokenizer.texts_to_sequences(train_text)\n",
        "  test_word_indexes = tokenizer.texts_to_sequences(test_text)\n",
        "\n",
        "  X_train, y_train = create_sets_multi_classes(train_word_indexes, x_len, step)\n",
        "  X_test, y_test = create_sets_multi_classes(test_word_indexes, x_len, step)\n",
        "  print(X_train.shape, y_train.shape)\n",
        "  print(X_test.shape, y_test.shape)\n",
        "  print(tokenizer.sequences_to_texts([X_train[0][step: step + 20]]))\n",
        "  print(tokenizer.sequences_to_texts([X_train[1][0: 20]]))\n",
        "\n",
        "  X_train_bow = tokenizer.sequences_to_matrix(X_train.tolist(), mode=\"binary\")\n",
        "  X_test_bow = tokenizer.sequences_to_matrix(X_test.tolist(), mode=\"binary\")\n",
        "  print(X_train_bow.shape, X_test_bow.shape)\n",
        "\n",
        "  return X_train_bow, X_test_bow, X_train, y_train, y_test, train_word_indexes, test_word_indexes, tokenizer"
      ],
      "metadata": {
        "id": "oydtKP92v-qk"
      },
      "execution_count": null,
      "outputs": []
    },
    {
      "cell_type": "code",
      "source": [
        "def get_history_plot(history):\n",
        "\n",
        "  plt.plot(history.history[\"accuracy\"], label=\"train accuracy\")\n",
        "  plt.plot(history.history[\"val_accuracy\"], label=\"val_accuracy\")\n",
        "  plt.xlabel(\"epoch\")\n",
        "  plt.ylabel(\"accuracy\")\n",
        "  plt.legend()\n",
        "  plt.show()"
      ],
      "metadata": {
        "id": "vbqOWgae3FTh"
      },
      "execution_count": null,
      "outputs": []
    },
    {
      "cell_type": "code",
      "source": [
        "def create_test_multi_classes(word_indexes, x_len, step):\n",
        "\n",
        "  n_classes = len(word_indexes)\n",
        "  x_test_words = []\n",
        "  x_test_bow = []\n",
        "\n",
        "  for i in word_indexes:\n",
        "    sample = get_set_from_indexes(i, x_len, step)\n",
        "    x_test_words.append(sample)\n",
        "    x_test_bow.append(tokenizer.sequences_to_matrix(sample, mode=\"binary\"))\n",
        "  \n",
        "  x_test_words = np.array(x_test_words)\n",
        "  x_test_bow = np.array(x_test_bow)\n",
        "  \n",
        "  return x_test_words, x_test_bow"
      ],
      "metadata": {
        "id": "3De-wc5v3MR2"
      },
      "execution_count": null,
      "outputs": []
    },
    {
      "cell_type": "code",
      "source": [
        "def recognize_multi_class(model, x_test):\n",
        "\n",
        "  total_sum_rec = 0\n",
        "\n",
        "  for i in range(n_classes):\n",
        "    is_recognized = \"Wrong predict\"\n",
        "    current_predict = model.predict(x_test[i])\n",
        "    current_out = np.argmax(current_predict, axis=1)\n",
        "\n",
        "    evaluate = []\n",
        "\n",
        "    for j in range(n_classes):\n",
        "      evaluate.append(round(len(current_out[current_out == j]) / len(x_test[i]), 2))\n",
        "\n",
        "    total_sum_rec += len(current_out[current_out == i])\n",
        "    recognized_class = np.argmax(evaluate)\n",
        "\n",
        "    if (recognized_class == i):\n",
        "      is_recognized = \"Right predict\"\n",
        "    print(f\"Right class - {class_names[i]}, model prediction for this class {100 * evaluate[i]}%, model prediction {class_names[recognized_class]} {100 * evaluate[recognized_class]}% - {is_recognized}\")\n",
        "    print(\"---\" * 50)\n",
        "\n",
        "  sum = 0\n",
        "  for i in range(n_classes):\n",
        "    sum += len(x_test[i])\n",
        "  print(f\"Total predict - {total_sum_rec/sum}\")"
      ],
      "metadata": {
        "id": "TAdkG8tj3P_K"
      },
      "execution_count": null,
      "outputs": []
    },
    {
      "cell_type": "code",
      "source": [
        "max_words_count = 15000\n",
        "x_len = 5000\n",
        "step = 100\n",
        "\n",
        "X_train_bow, X_test_bow, _, y_train, y_test, train_word_indexes, test_word_indexes, tokenizer = create_data(max_words_count, x_len, step)"
      ],
      "metadata": {
        "colab": {
          "base_uri": "https://localhost:8080/"
        },
        "id": "dTmaH7N9xkSb",
        "outputId": "f0ffca89-4830-45cf-b908-a4346c49362a"
      },
      "execution_count": null,
      "outputs": [
        {
          "output_type": "stream",
          "name": "stdout",
          "text": [
            "138496\n",
            "(18221, 5000) (18221, 6)\n",
            "(6779, 5000) (6779, 6)\n",
            "['unknown как стрела и молодые unknown не заметили как в unknown unknown наступил белый мохнатый unknown о unknown дед наш']\n",
            "['unknown как стрела и молодые unknown не заметили как в unknown unknown наступил белый мохнатый unknown о unknown дед наш']\n",
            "(18221, 15000) (6779, 15000)\n"
          ]
        }
      ]
    },
    {
      "cell_type": "code",
      "source": [
        "print(\"Train text stats:\")\n",
        "print(\"---\" * 14)\n",
        "\n",
        "symbols_train_count = 0\n",
        "words_train_count = 0\n",
        "\n",
        "for i in range(n_classes):\n",
        "  print(f\"{class_names[i]}: {' ' * (10 - len(class_names[i]))} {len(train_text[i])} symbols, {len(train_word_indexes[i])} words\")\n",
        "  symbols_train_count += len(train_text[i])\n",
        "  words_train_count += len(train_word_indexes[i])\n",
        "print(\"---\" * 14)\n",
        "print(f\"Total symbols: {symbols_train_count}, Total words: {words_train_count}\")\n",
        "print(\"***\" * 14)\n",
        "print()\n",
        "\n",
        "print(\"Test text stats:\")\n",
        "print(\"---\" * 14)\n",
        "\n",
        "symbols_test_count = 0\n",
        "words_test_count = 0\n",
        "\n",
        "for i in range(n_classes):\n",
        "  print(f\"{class_names[i]}: {' ' * (10 - len(class_names[i]))} {len(test_text[i])} symbols, {len(test_word_indexes[i])} words\")\n",
        "  symbols_test_count += len(test_text[i])\n",
        "  words_test_count += len(test_word_indexes[i])\n",
        "print(\"---\" * 14)\n",
        "print(f\"Total symbols: {symbols_test_count}, Total words: {words_test_count}\")"
      ],
      "metadata": {
        "colab": {
          "base_uri": "https://localhost:8080/"
        },
        "id": "cJEvQ017xCG6",
        "outputId": "d9f8d4b3-ef96-407d-bf93-897cb99f3c6d"
      },
      "execution_count": null,
      "outputs": [
        {
          "output_type": "stream",
          "name": "stdout",
          "text": [
            "Train text stats:\n",
            "------------------------------------------\n",
            "Булгаков:    1675925 symbols, 267281 words\n",
            "Клиффорд:    1530003 symbols, 261934 words\n",
            "Фрай:        3548504 symbols, 599084 words\n",
            "Генри:       1010850 symbols, 166214 words\n",
            "Брэдберри:   1318823 symbols, 227317 words\n",
            "Стругацкие:  1953719 symbols, 329971 words\n",
            "------------------------------------------\n",
            "Total symbols: 11037824, Total words: 1851801\n",
            "******************************************\n",
            "\n",
            "Test text stats:\n",
            "------------------------------------------\n",
            "Булгаков:    834143 symbols, 138124 words\n",
            "Клиффорд:    303311 symbols, 54261 words\n",
            "Фрай:        1223005 symbols, 206088 words\n",
            "Генри:       336372 symbols, 55425 words\n",
            "Брэдберри:   825888 symbols, 140374 words\n",
            "Стругацкие:  674172 symbols, 113322 words\n",
            "------------------------------------------\n",
            "Total symbols: 4196891, Total words: 707594\n"
          ]
        }
      ]
    },
    {
      "cell_type": "code",
      "source": [
        "total_count = (words_train_count, words_test_count)\n",
        "dividers = []\n",
        "for i in total_count:\n",
        "  divider = []\n",
        "  for j in range(1, 10000):\n",
        "    if i % j == 0:\n",
        "      divider.append(j)\n",
        "  dividers.append(divider)\n",
        "  \n",
        "print(set(dividers[0]) & set(dividers[1]))\n",
        "\n",
        "for i in range(70, 400):\n",
        "  if X_train_bow.shape[0] % i == 0:\n",
        "    print(i)"
      ],
      "metadata": {
        "colab": {
          "base_uri": "https://localhost:8080/"
        },
        "id": "Pi6SGvsgwd6M",
        "outputId": "93cc45fa-f6bb-4711-d14d-02980d151a3d"
      },
      "execution_count": null,
      "outputs": [
        {
          "output_type": "stream",
          "name": "stdout",
          "text": [
            "{1}\n",
            "133\n",
            "137\n"
          ]
        }
      ]
    },
    {
      "cell_type": "code",
      "source": [
        "model = Sequential()\n",
        "\n",
        "model.add(Dense(100, input_dim=max_words_count, activation=\"elu\"))\n",
        "model.add(BatchNormalization())\n",
        "model.add(Dropout(0.5))\n",
        "\n",
        "model.add(Dense(50, activation=\"elu\"))\n",
        "model.add(BatchNormalization())\n",
        "model.add(Dropout(0.5))\n",
        "\n",
        "model.add(Dense(6, activation=\"softmax\"))\n",
        "model.compile(optimizer=Adam(0.001), loss=\"categorical_crossentropy\", metrics=\"accuracy\")\n",
        "\n",
        "history = model.fit(X_train_bow, y_train, epochs=15, batch_size=133, validation_data=(X_test_bow, y_test))"
      ],
      "metadata": {
        "colab": {
          "base_uri": "https://localhost:8080/"
        },
        "id": "d718LISL6q3K",
        "outputId": "69262206-eaf4-4810-dbe4-6d6526a3b904"
      },
      "execution_count": null,
      "outputs": [
        {
          "output_type": "stream",
          "name": "stdout",
          "text": [
            "Epoch 1/15\n",
            "137/137 [==============================] - 4s 16ms/step - loss: 0.1006 - accuracy: 0.9788 - val_loss: 0.1992 - val_accuracy: 0.9400\n",
            "Epoch 2/15\n",
            "137/137 [==============================] - 2s 13ms/step - loss: 0.0113 - accuracy: 0.9997 - val_loss: 0.1494 - val_accuracy: 0.9720\n",
            "Epoch 3/15\n",
            "137/137 [==============================] - 2s 13ms/step - loss: 0.0059 - accuracy: 0.9999 - val_loss: 0.1500 - val_accuracy: 0.9696\n",
            "Epoch 4/15\n",
            "137/137 [==============================] - 2s 15ms/step - loss: 0.0037 - accuracy: 1.0000 - val_loss: 0.1497 - val_accuracy: 0.9665\n",
            "Epoch 5/15\n",
            "137/137 [==============================] - 2s 13ms/step - loss: 0.0026 - accuracy: 1.0000 - val_loss: 0.1615 - val_accuracy: 0.9615\n",
            "Epoch 6/15\n",
            "137/137 [==============================] - 2s 13ms/step - loss: 0.0020 - accuracy: 0.9999 - val_loss: 0.1406 - val_accuracy: 0.9661\n",
            "Epoch 7/15\n",
            "137/137 [==============================] - 2s 13ms/step - loss: 0.0015 - accuracy: 1.0000 - val_loss: 0.1315 - val_accuracy: 0.9680\n",
            "Epoch 8/15\n",
            "137/137 [==============================] - 2s 13ms/step - loss: 0.0011 - accuracy: 1.0000 - val_loss: 0.1221 - val_accuracy: 0.9698\n",
            "Epoch 9/15\n",
            "137/137 [==============================] - 2s 12ms/step - loss: 9.6978e-04 - accuracy: 1.0000 - val_loss: 0.1227 - val_accuracy: 0.9689\n",
            "Epoch 10/15\n",
            "137/137 [==============================] - 2s 12ms/step - loss: 8.4700e-04 - accuracy: 1.0000 - val_loss: 0.1310 - val_accuracy: 0.9644\n",
            "Epoch 11/15\n",
            "137/137 [==============================] - 2s 12ms/step - loss: 8.0994e-04 - accuracy: 0.9999 - val_loss: 0.1232 - val_accuracy: 0.9656\n",
            "Epoch 12/15\n",
            "137/137 [==============================] - 2s 14ms/step - loss: 5.4300e-04 - accuracy: 1.0000 - val_loss: 0.1093 - val_accuracy: 0.9715\n",
            "Epoch 13/15\n",
            "137/137 [==============================] - 2s 12ms/step - loss: 4.8111e-04 - accuracy: 1.0000 - val_loss: 0.1090 - val_accuracy: 0.9715\n",
            "Epoch 14/15\n",
            "137/137 [==============================] - 2s 14ms/step - loss: 4.4626e-04 - accuracy: 1.0000 - val_loss: 0.1083 - val_accuracy: 0.9708\n",
            "Epoch 15/15\n",
            "137/137 [==============================] - 2s 14ms/step - loss: 3.6583e-04 - accuracy: 1.0000 - val_loss: 0.1018 - val_accuracy: 0.9724\n"
          ]
        }
      ]
    },
    {
      "cell_type": "code",
      "source": [
        "gc.collect()"
      ],
      "metadata": {
        "colab": {
          "base_uri": "https://localhost:8080/"
        },
        "id": "Ha12bHq0AvJy",
        "outputId": "0ca9a396-b76f-4cfe-b3eb-1b01d7dd1fc1"
      },
      "execution_count": null,
      "outputs": [
        {
          "output_type": "execute_result",
          "data": {
            "text/plain": [
              "884"
            ]
          },
          "metadata": {},
          "execution_count": 35
        }
      ]
    },
    {
      "cell_type": "code",
      "source": [
        "get_history_plot(history)"
      ],
      "metadata": {
        "colab": {
          "base_uri": "https://localhost:8080/",
          "height": 279
        },
        "id": "snBJM5Bk8MUE",
        "outputId": "df049e4b-2159-4f83-9e09-03e33fd3cd7f"
      },
      "execution_count": null,
      "outputs": [
        {
          "output_type": "display_data",
          "data": {
            "image/png": "[encoded data removed]",
            "text/plain": [
              "<Figure size 432x288 with 1 Axes>"
            ]
          },
          "metadata": {
            "needs_background": "light"
          }
        }
      ]
    },
    {
      "cell_type": "code",
      "source": [
        "_, x_test_bow = create_test_multi_classes(test_word_indexes, x_len, step)"
      ],
      "metadata": {
        "id": "P8PnVKBeAMWH"
      },
      "execution_count": null,
      "outputs": []
    },
    {
      "cell_type": "code",
      "source": [
        "recognize_multi_class(model, x_test_bow)"
      ],
      "metadata": {
        "colab": {
          "base_uri": "https://localhost:8080/"
        },
        "id": "2_stUD8d2m3i",
        "outputId": "f9e6ea04-60ba-40b6-a9ca-60c070621f63"
      },
      "execution_count": null,
      "outputs": [
        {
          "output_type": "stream",
          "name": "stdout",
          "text": [
            "Right class - Булгаков, model prediction for this class 98.0%, model prediction Булгаков 98.0% - Right predict\n",
            "------------------------------------------------------------------------------------------------------------------------------------------------------\n",
            "Right class - Клиффорд, model prediction for this class 100.0%, model prediction Клиффорд 100.0% - Right predict\n",
            "------------------------------------------------------------------------------------------------------------------------------------------------------\n",
            "Right class - Фрай, model prediction for this class 92.0%, model prediction Фрай 92.0% - Right predict\n",
            "------------------------------------------------------------------------------------------------------------------------------------------------------\n",
            "Right class - Генри, model prediction for this class 100.0%, model prediction Генри 100.0% - Right predict\n",
            "------------------------------------------------------------------------------------------------------------------------------------------------------\n",
            "Right class - Брэдберри, model prediction for this class 100.0%, model prediction Брэдберри 100.0% - Right predict\n",
            "------------------------------------------------------------------------------------------------------------------------------------------------------\n",
            "Right class - Стругацкие, model prediction for this class 100.0%, model prediction Стругацкие 100.0% - Right predict\n",
            "------------------------------------------------------------------------------------------------------------------------------------------------------\n",
            "Total predict - 0.9724148104440183\n"
          ]
        }
      ]
    },
    {
      "cell_type": "code",
      "source": [
        ""
      ],
      "metadata": {
        "id": "T8a7utsAKwQg"
      },
      "execution_count": null,
      "outputs": []
    }
  ]
}