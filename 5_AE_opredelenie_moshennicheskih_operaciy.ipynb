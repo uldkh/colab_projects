{
  "nbformat": 4,
  "nbformat_minor": 0,
  "metadata": {
    "colab": {
      "name": "5 AE - opredelenie moshennicheskih operaciy",
      "provenance": [],
      "collapsed_sections": [],
      "authorship_tag": "ABX9TyNnUzJfCm5ztRivmigAXPtJ",
      "include_colab_link": true
    },
    "kernelspec": {
      "name": "python3",
      "display_name": "Python 3"
    },
    "language_info": {
      "name": "python"
    }
  },
  "cells": [
    {
      "cell_type": "markdown",
      "metadata": {
        "id": "view-in-github",
        "colab_type": "text"
      },
      "source": [
        "<a href=\"https://colab.research.google.com/github/uldkh/colab_projects/blob/main/5_AE_opredelenie_moshennicheskih_operaciy.ipynb\" target=\"_parent\"><img src=\"https://colab.research.google.com/assets/colab-badge.svg\" alt=\"Open In Colab\"/></a>"
      ]
    },
    {
      "cell_type": "code",
      "source": [
        "import numpy as np\n",
        "import pandas as pd\n",
        "import matplotlib.pyplot as plt\n",
        "\n",
        "from tensorflow.keras.models import Model, Sequential\n",
        "from tensorflow.keras.layers import Dense, Flatten, Reshape, Input, Conv2DTranspose, concatenate, Activation, MaxPooling2D, Conv2D, BatchNormalization\n",
        "from tensorflow.keras import backend as K\n",
        "from tensorflow.keras.optimizers import Adam\n",
        "from tensorflow.keras import utils\n",
        "from tensorflow.keras.preprocessing import image\n",
        "\n",
        "from sklearn.model_selection import train_test_split\n",
        "from sklearn.preprocessing import StandardScaler\n",
        "\n",
        "import os\n",
        "import time\n",
        "from PIL import Image"
      ],
      "metadata": {
        "id": "ww7GrKIDOysR"
      },
      "execution_count": null,
      "outputs": []
    },
    {
      "cell_type": "code",
      "source": [
        "def set_plt_params(fontsize=11, linewidth=2.3):\n",
        "\n",
        "  plt.rcParams['axes.prop_cycle'] = plt.cycler(color=['#0072B2', '#009E73', '#D55E00', '#CC79A7', '#F0E442', '#56B4E9'])\n",
        "  plt.rcParams['lines.linewidth'] = linewidth\n",
        "  plt.rc(\"axes\", facecolor=\"#181c27\", edgecolor=\"#2a2e39\", grid=True)\n",
        "  plt.rc(\"figure\", figsize=(17.87, 10.45), facecolor=\"#181c27\", edgecolor=\"#2a2e39\")\n",
        "  plt.rc(\"grid\", color=\"#2a2e39\", linestyle=\"dashed\")\n",
        "  plt.rc(\"xtick\", labelsize=fontsize, color=\"#b2b5be\", bottom=False)\n",
        "  plt.rc(\"ytick\", labelsize=fontsize, color=\"#b2b5be\", left=False)\n",
        "  plt.rc(\"legend\", handleheight=1, handlelength=2)\n",
        "  plt.rc(\"text\", color=\"#b2b5be\")\n",
        "\n",
        "set_plt_params()"
      ],
      "metadata": {
        "id": "vpC4SF5WQAZp"
      },
      "execution_count": null,
      "outputs": []
    },
    {
      "cell_type": "code",
      "metadata": {
        "id": "89p7GynPQM4F"
      },
      "source": [
        "df = pd.read_csv(\"/content/creditcard.csv\")"
      ],
      "execution_count": null,
      "outputs": []
    },
    {
      "cell_type": "code",
      "metadata": {
        "id": "wZ6_P099QNn9",
        "colab": {
          "base_uri": "https://localhost:8080/",
          "height": 226
        },
        "outputId": "42605a7b-7f80-4b92-a20c-457fbaa31a45"
      },
      "source": [
        "df.head()"
      ],
      "execution_count": null,
      "outputs": [
        {
          "output_type": "execute_result",
          "data": {
            "text/html": [
              "<div>\n",
              "<style scoped>\n",
              "    .dataframe tbody tr th:only-of-type {\n",
              "        vertical-align: middle;\n",
              "    }\n",
              "\n",
              "    .dataframe tbody tr th {\n",
              "        vertical-align: top;\n",
              "    }\n",
              "\n",
              "    .dataframe thead th {\n",
              "        text-align: right;\n",
              "    }\n",
              "</style>\n",
              "<table border=\"1\" class=\"dataframe\">\n",
              "  <thead>\n",
              "    <tr style=\"text-align: right;\">\n",
              "      <th></th>\n",
              "      <th>Time</th>\n",
              "      <th>V1</th>\n",
              "      <th>V2</th>\n",
              "      <th>V3</th>\n",
              "      <th>V4</th>\n",
              "      <th>V5</th>\n",
              "      <th>V6</th>\n",
              "      <th>V7</th>\n",
              "      <th>V8</th>\n",
              "      <th>V9</th>\n",
              "      <th>V10</th>\n",
              "      <th>V11</th>\n",
              "      <th>V12</th>\n",
              "      <th>V13</th>\n",
              "      <th>V14</th>\n",
              "      <th>V15</th>\n",
              "      <th>V16</th>\n",
              "      <th>V17</th>\n",
              "      <th>V18</th>\n",
              "      <th>V19</th>\n",
              "      <th>V20</th>\n",
              "      <th>V21</th>\n",
              "      <th>V22</th>\n",
              "      <th>V23</th>\n",
              "      <th>V24</th>\n",
              "      <th>V25</th>\n",
              "      <th>V26</th>\n",
              "      <th>V27</th>\n",
              "      <th>V28</th>\n",
              "      <th>Amount</th>\n",
              "      <th>Class</th>\n",
              "    </tr>\n",
              "  </thead>\n",
              "  <tbody>\n",
              "    <tr>\n",
              "      <th>0</th>\n",
              "      <td>0.0</td>\n",
              "      <td>-1.359807</td>\n",
              "      <td>-0.072781</td>\n",
              "      <td>2.536347</td>\n",
              "      <td>1.378155</td>\n",
              "      <td>-0.338321</td>\n",
              "      <td>0.462388</td>\n",
              "      <td>0.239599</td>\n",
              "      <td>0.098698</td>\n",
              "      <td>0.363787</td>\n",
              "      <td>0.090794</td>\n",
              "      <td>-0.551600</td>\n",
              "      <td>-0.617801</td>\n",
              "      <td>-0.991390</td>\n",
              "      <td>-0.311169</td>\n",
              "      <td>1.468177</td>\n",
              "      <td>-0.470401</td>\n",
              "      <td>0.207971</td>\n",
              "      <td>0.025791</td>\n",
              "      <td>0.403993</td>\n",
              "      <td>0.251412</td>\n",
              "      <td>-0.018307</td>\n",
              "      <td>0.277838</td>\n",
              "      <td>-0.110474</td>\n",
              "      <td>0.066928</td>\n",
              "      <td>0.128539</td>\n",
              "      <td>-0.189115</td>\n",
              "      <td>0.133558</td>\n",
              "      <td>-0.021053</td>\n",
              "      <td>149.62</td>\n",
              "      <td>0</td>\n",
              "    </tr>\n",
              "    <tr>\n",
              "      <th>1</th>\n",
              "      <td>0.0</td>\n",
              "      <td>1.191857</td>\n",
              "      <td>0.266151</td>\n",
              "      <td>0.166480</td>\n",
              "      <td>0.448154</td>\n",
              "      <td>0.060018</td>\n",
              "      <td>-0.082361</td>\n",
              "      <td>-0.078803</td>\n",
              "      <td>0.085102</td>\n",
              "      <td>-0.255425</td>\n",
              "      <td>-0.166974</td>\n",
              "      <td>1.612727</td>\n",
              "      <td>1.065235</td>\n",
              "      <td>0.489095</td>\n",
              "      <td>-0.143772</td>\n",
              "      <td>0.635558</td>\n",
              "      <td>0.463917</td>\n",
              "      <td>-0.114805</td>\n",
              "      <td>-0.183361</td>\n",
              "      <td>-0.145783</td>\n",
              "      <td>-0.069083</td>\n",
              "      <td>-0.225775</td>\n",
              "      <td>-0.638672</td>\n",
              "      <td>0.101288</td>\n",
              "      <td>-0.339846</td>\n",
              "      <td>0.167170</td>\n",
              "      <td>0.125895</td>\n",
              "      <td>-0.008983</td>\n",
              "      <td>0.014724</td>\n",
              "      <td>2.69</td>\n",
              "      <td>0</td>\n",
              "    </tr>\n",
              "    <tr>\n",
              "      <th>2</th>\n",
              "      <td>1.0</td>\n",
              "      <td>-1.358354</td>\n",
              "      <td>-1.340163</td>\n",
              "      <td>1.773209</td>\n",
              "      <td>0.379780</td>\n",
              "      <td>-0.503198</td>\n",
              "      <td>1.800499</td>\n",
              "      <td>0.791461</td>\n",
              "      <td>0.247676</td>\n",
              "      <td>-1.514654</td>\n",
              "      <td>0.207643</td>\n",
              "      <td>0.624501</td>\n",
              "      <td>0.066084</td>\n",
              "      <td>0.717293</td>\n",
              "      <td>-0.165946</td>\n",
              "      <td>2.345865</td>\n",
              "      <td>-2.890083</td>\n",
              "      <td>1.109969</td>\n",
              "      <td>-0.121359</td>\n",
              "      <td>-2.261857</td>\n",
              "      <td>0.524980</td>\n",
              "      <td>0.247998</td>\n",
              "      <td>0.771679</td>\n",
              "      <td>0.909412</td>\n",
              "      <td>-0.689281</td>\n",
              "      <td>-0.327642</td>\n",
              "      <td>-0.139097</td>\n",
              "      <td>-0.055353</td>\n",
              "      <td>-0.059752</td>\n",
              "      <td>378.66</td>\n",
              "      <td>0</td>\n",
              "    </tr>\n",
              "    <tr>\n",
              "      <th>3</th>\n",
              "      <td>1.0</td>\n",
              "      <td>-0.966272</td>\n",
              "      <td>-0.185226</td>\n",
              "      <td>1.792993</td>\n",
              "      <td>-0.863291</td>\n",
              "      <td>-0.010309</td>\n",
              "      <td>1.247203</td>\n",
              "      <td>0.237609</td>\n",
              "      <td>0.377436</td>\n",
              "      <td>-1.387024</td>\n",
              "      <td>-0.054952</td>\n",
              "      <td>-0.226487</td>\n",
              "      <td>0.178228</td>\n",
              "      <td>0.507757</td>\n",
              "      <td>-0.287924</td>\n",
              "      <td>-0.631418</td>\n",
              "      <td>-1.059647</td>\n",
              "      <td>-0.684093</td>\n",
              "      <td>1.965775</td>\n",
              "      <td>-1.232622</td>\n",
              "      <td>-0.208038</td>\n",
              "      <td>-0.108300</td>\n",
              "      <td>0.005274</td>\n",
              "      <td>-0.190321</td>\n",
              "      <td>-1.175575</td>\n",
              "      <td>0.647376</td>\n",
              "      <td>-0.221929</td>\n",
              "      <td>0.062723</td>\n",
              "      <td>0.061458</td>\n",
              "      <td>123.50</td>\n",
              "      <td>0</td>\n",
              "    </tr>\n",
              "    <tr>\n",
              "      <th>4</th>\n",
              "      <td>2.0</td>\n",
              "      <td>-1.158233</td>\n",
              "      <td>0.877737</td>\n",
              "      <td>1.548718</td>\n",
              "      <td>0.403034</td>\n",
              "      <td>-0.407193</td>\n",
              "      <td>0.095921</td>\n",
              "      <td>0.592941</td>\n",
              "      <td>-0.270533</td>\n",
              "      <td>0.817739</td>\n",
              "      <td>0.753074</td>\n",
              "      <td>-0.822843</td>\n",
              "      <td>0.538196</td>\n",
              "      <td>1.345852</td>\n",
              "      <td>-1.119670</td>\n",
              "      <td>0.175121</td>\n",
              "      <td>-0.451449</td>\n",
              "      <td>-0.237033</td>\n",
              "      <td>-0.038195</td>\n",
              "      <td>0.803487</td>\n",
              "      <td>0.408542</td>\n",
              "      <td>-0.009431</td>\n",
              "      <td>0.798278</td>\n",
              "      <td>-0.137458</td>\n",
              "      <td>0.141267</td>\n",
              "      <td>-0.206010</td>\n",
              "      <td>0.502292</td>\n",
              "      <td>0.219422</td>\n",
              "      <td>0.215153</td>\n",
              "      <td>69.99</td>\n",
              "      <td>0</td>\n",
              "    </tr>\n",
              "  </tbody>\n",
              "</table>\n",
              "</div>"
            ],
            "text/plain": [
              "   Time        V1        V2        V3  ...       V27       V28  Amount  Class\n",
              "0   0.0 -1.359807 -0.072781  2.536347  ...  0.133558 -0.021053  149.62      0\n",
              "1   0.0  1.191857  0.266151  0.166480  ... -0.008983  0.014724    2.69      0\n",
              "2   1.0 -1.358354 -1.340163  1.773209  ... -0.055353 -0.059752  378.66      0\n",
              "3   1.0 -0.966272 -0.185226  1.792993  ...  0.062723  0.061458  123.50      0\n",
              "4   2.0 -1.158233  0.877737  1.548718  ...  0.219422  0.215153   69.99      0\n",
              "\n",
              "[5 rows x 31 columns]"
            ]
          },
          "metadata": {},
          "execution_count": 4
        }
      ]
    },
    {
      "cell_type": "code",
      "metadata": {
        "id": "lA__wmw-SIBP"
      },
      "source": [
        "df.drop([\"Time\"], axis=1, inplace=True)\n",
        "df[\"Amount\"] = StandardScaler().fit_transform(df[\"Amount\"].to_numpy().reshape(-1, 1))"
      ],
      "execution_count": null,
      "outputs": []
    },
    {
      "cell_type": "code",
      "source": [
        "frauds = df[df.Class == 1]\n",
        "normal = df[df.Class == 0]\n",
        "frauds.shape, normal.shape"
      ],
      "metadata": {
        "colab": {
          "base_uri": "https://localhost:8080/"
        },
        "id": "FddNjZ6JTwcI",
        "outputId": "a996c233-b13e-4f0a-8f98-ce7dde2bdacc"
      },
      "execution_count": null,
      "outputs": [
        {
          "output_type": "execute_result",
          "data": {
            "text/plain": [
              "((492, 30), (284315, 30))"
            ]
          },
          "metadata": {},
          "execution_count": 10
        }
      ]
    },
    {
      "cell_type": "code",
      "metadata": {
        "id": "8zFrSDquSTFq",
        "colab": {
          "base_uri": "https://localhost:8080/"
        },
        "outputId": "acb21956-7444-4b05-859a-5f55f68a3ef3"
      },
      "source": [
        "X_train, X_test = train_test_split(normal, test_size=0.2, random_state=77)\n",
        "X_train.shape, X_test.shape"
      ],
      "execution_count": null,
      "outputs": [
        {
          "output_type": "execute_result",
          "data": {
            "text/plain": [
              "((227452, 30), (56863, 30))"
            ]
          },
          "metadata": {},
          "execution_count": 13
        }
      ]
    },
    {
      "cell_type": "code",
      "metadata": {
        "id": "GvRIAqvDSUon"
      },
      "source": [
        "X_train.drop([\"Class\"], axis=1, inplace=True)\n",
        "X_test = pd.concat([X_test, frauds])\n",
        "y_test = X_test[\"Class\"]\n",
        "X_test = X_test.drop([\"Class\"], axis=1)"
      ],
      "execution_count": null,
      "outputs": []
    },
    {
      "cell_type": "code",
      "source": [
        "X_train = X_train.to_numpy()\n",
        "X_test = X_test.to_numpy()"
      ],
      "metadata": {
        "id": "YglYc2zxT-e6"
      },
      "execution_count": null,
      "outputs": []
    },
    {
      "cell_type": "code",
      "metadata": {
        "id": "WqflqXicbX7b",
        "colab": {
          "base_uri": "https://localhost:8080/"
        },
        "outputId": "ee94e96d-450c-4975-a3db-8159b531d9e8"
      },
      "source": [
        "X_train.shape, X_test.shape"
      ],
      "execution_count": null,
      "outputs": [
        {
          "output_type": "execute_result",
          "data": {
            "text/plain": [
              "((227452, 29), (57355, 29))"
            ]
          },
          "metadata": {},
          "execution_count": 19
        }
      ]
    },
    {
      "cell_type": "code",
      "metadata": {
        "id": "6pdKLikabrGS"
      },
      "source": [
        "def credit_card_autoencoder():\n",
        "  \n",
        "  data_size = X_train.shape[1]\n",
        "  data_input = Input(shape=(data_size))\n",
        "  \n",
        "  x = Dense(10, activation=\"relu\")(data_input)\n",
        "  x = Dense(data_size, activation=\"linear\")(x)\n",
        "  \n",
        "  autoencoder = Model(inputs=data_input, outputs=x)\n",
        "  autoencoder.compile(optimizer=\"Adam\", loss=\"mse\")\n",
        "  \n",
        "  return autoencoder "
      ],
      "execution_count": null,
      "outputs": []
    },
    {
      "cell_type": "code",
      "source": [
        "def get_batch_size(shape):\n",
        "\n",
        "  batches = []\n",
        "\n",
        "  for i in range(2, 1000):\n",
        "    if shape % i == 0:\n",
        "      batches.append(i)\n",
        "  \n",
        "  if batches:\n",
        "    return batches\n",
        "  else:\n",
        "    print(\"Didn't find integer divisors\")"
      ],
      "metadata": {
        "id": "5PaOvSObSV_j"
      },
      "execution_count": null,
      "outputs": []
    },
    {
      "cell_type": "code",
      "source": [
        "get_batch_size(X_train.shape[0])"
      ],
      "metadata": {
        "colab": {
          "base_uri": "https://localhost:8080/"
        },
        "id": "PBTp-BcqSb-W",
        "outputId": "143498b1-643e-4255-9804-12d387ff2730"
      },
      "execution_count": null,
      "outputs": [
        {
          "output_type": "execute_result",
          "data": {
            "text/plain": [
              "[2, 4, 101, 202, 404, 563]"
            ]
          },
          "metadata": {},
          "execution_count": 24
        }
      ]
    },
    {
      "cell_type": "code",
      "metadata": {
        "id": "N2LjGoPncgRS",
        "colab": {
          "base_uri": "https://localhost:8080/"
        },
        "outputId": "75903693-b60e-4a3a-c81a-515c6cfb20e1"
      },
      "source": [
        "model = credit_card_autoencoder()\n",
        "history = model.fit(X_train, X_train, epochs=5, batch_size=101)"
      ],
      "execution_count": null,
      "outputs": [
        {
          "output_type": "stream",
          "name": "stdout",
          "text": [
            "Epoch 1/5\n",
            "2252/2252 [==============================] - 8s 3ms/step - loss: 0.5400\n",
            "Epoch 2/5\n",
            "2252/2252 [==============================] - 6s 3ms/step - loss: 0.3668\n",
            "Epoch 3/5\n",
            "2252/2252 [==============================] - 6s 2ms/step - loss: 0.3574\n",
            "Epoch 4/5\n",
            "2252/2252 [==============================] - 6s 3ms/step - loss: 0.3556\n",
            "Epoch 5/5\n",
            "2252/2252 [==============================] - 8s 3ms/step - loss: 0.3555\n"
          ]
        }
      ]
    },
    {
      "cell_type": "code",
      "metadata": {
        "id": "g_a2nEGcdSLg"
      },
      "source": [
        "predictions = model.predict(X_test)"
      ],
      "execution_count": null,
      "outputs": []
    },
    {
      "cell_type": "code",
      "metadata": {
        "id": "hjMqaIY8dVKX"
      },
      "source": [
        "mse = np.mean(np.power(X_test - predictions, 2), axis=1)"
      ],
      "execution_count": null,
      "outputs": []
    },
    {
      "cell_type": "code",
      "source": [
        "mse"
      ],
      "metadata": {
        "colab": {
          "base_uri": "https://localhost:8080/"
        },
        "id": "CVodlxJ3UUem",
        "outputId": "839e355a-9310-43e5-bac8-7e6ba40fff57"
      },
      "execution_count": null,
      "outputs": [
        {
          "output_type": "execute_result",
          "data": {
            "text/plain": [
              "array([0.15625789, 0.20670171, 0.38737713, ..., 2.85662503, 5.70907313,\n",
              "       0.31624663])"
            ]
          },
          "metadata": {},
          "execution_count": 78
        }
      ]
    },
    {
      "cell_type": "code",
      "metadata": {
        "id": "t9L_kEtfeel2"
      },
      "source": [
        "mse_normal = mse[y_test.values == 0]\n",
        "mse_frauds = mse[y_test.values == 1]"
      ],
      "execution_count": null,
      "outputs": []
    },
    {
      "cell_type": "code",
      "metadata": {
        "id": "OzI7K95qeux7",
        "colab": {
          "base_uri": "https://localhost:8080/"
        },
        "outputId": "0de1e01b-a99a-4338-9c22-b8b773b3348f"
      },
      "source": [
        "print(\"Минимальная ошибка нормальных транзакций:\", round(min(mse_normal), 3))\n",
        "print(\"Максимальная ошибка нормальных транзакций:\", round(max(mse_normal), 3))\n",
        "print(\"Средняя ошибка нормальных транзакций:\", round(sum(mse_normal) / len(mse_normal), 3))"
      ],
      "execution_count": null,
      "outputs": [
        {
          "output_type": "stream",
          "name": "stdout",
          "text": [
            "Минимальная ошибка нормальных транзакций: 0.042\n",
            "Максимальная ошибка нормальных транзакций: 74.061\n",
            "Средняя ошибка нормальных транзакций: 0.35\n"
          ]
        }
      ]
    },
    {
      "cell_type": "code",
      "metadata": {
        "id": "eDcJ_CX7e4SN",
        "colab": {
          "base_uri": "https://localhost:8080/"
        },
        "outputId": "5a8ef072-c784-4292-ee6c-b9668dff089f"
      },
      "source": [
        "print(\"Минимальная ошибка мошеннических транзакций:\", round(min(mse_frauds), 3))\n",
        "print(\"Максимальная ошибка мошеннических транзакций:\", round(max(mse_frauds), 3))\n",
        "print(\"Средняя ошибка мошеннических транзакций:\", round(sum(mse_frauds) / len(mse_frauds), 3))"
      ],
      "execution_count": null,
      "outputs": [
        {
          "output_type": "stream",
          "name": "stdout",
          "text": [
            "Минимальная ошибка мошеннических транзакций: 0.161\n",
            "Максимальная ошибка мошеннических транзакций: 95.752\n",
            "Средняя ошибка мошеннических транзакций: 19.023\n"
          ]
        }
      ]
    },
    {
      "cell_type": "code",
      "metadata": {
        "id": "NOwSVExle9Bm"
      },
      "source": [
        "def get_acc_by_bias(bias):\n",
        "  \n",
        "  is_normal = mse_normal < bias\n",
        "  is_frauds = mse_frauds > bias\n",
        "\n",
        "  acc_normal = sum(is_normal) / len(is_normal)\n",
        "  acc_faruds = sum(is_frauds) / len(is_frauds)\n",
        "\n",
        "  print(\"Распознано нормальных транзакций: \", round(100 * acc_normal), \"%\", sep=\"\")\n",
        "  print(\"Распознано мошеннических транзакций: \", round(100 * acc_faruds), \"%\", sep=\"\")\n",
        "  print(\"Средняя точность распознавания: \", round(50 * (acc_normal + acc_faruds)), \"%\", sep=\"\")"
      ],
      "execution_count": null,
      "outputs": []
    },
    {
      "cell_type": "code",
      "metadata": {
        "id": "iRCIhNkafrhf",
        "colab": {
          "base_uri": "https://localhost:8080/"
        },
        "outputId": "c9375aa1-34d5-4618-b6bd-52a59ff3455f"
      },
      "source": [
        "get_acc_by_bias(0.62)"
      ],
      "execution_count": null,
      "outputs": [
        {
          "output_type": "stream",
          "name": "stdout",
          "text": [
            "Распознано нормальных транзакций: 92%\n",
            "Распознано мошеннических транзакций: 90%\n",
            "Средняя точность распознавания: 91%\n"
          ]
        }
      ]
    }
  ]
}